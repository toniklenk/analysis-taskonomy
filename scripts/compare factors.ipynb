{
 "cells": [
  {
   "cell_type": "code",
   "execution_count": 1,
   "metadata": {},
   "outputs": [],
   "source": [
    "# python\n",
    "import os, sys, pickle\n",
    "from itertools import combinations_with_replacement, combinations, product\n",
    "from collections import OrderedDict\n",
    "from typing import List\n",
    "\n",
    "# stats\n",
    "import numpy as np\n",
    "import pandas as pd\n",
    "from scipy.stats import pearsonr, spearmanr\n",
    "import statsmodels.api as sm\n",
    "from statsmodels.formula.api import ols\n",
    "from statsmodels.api import OLS\n",
    "from pandas.api.types import CategoricalDtype\n",
    "\n",
    "# plot\n",
    "import matplotlib.pyplot as plt\n",
    "from matplotlib.backends.backend_pdf import PdfPages\n",
    "import seaborn as sns\n",
    "from matplotlib_venn import venn3\n",
    "\n",
    "# analysis code\n",
    "from lib.functions_scripting import *\n",
    "from lib.functions_second_analysis import *\n",
    "\n",
    "beauty_ratings = load_ratings(PATH_RATINGS)"
   ]
  },
  {
   "cell_type": "code",
   "execution_count": 2,
   "metadata": {},
   "outputs": [],
   "source": [
    "_models = MODEL_NAMES\n",
    "_studies = STUDY_NAMES\n",
    "_datasets = DATASET_NAMES\n",
    "_scales = SCALE_NAMES"
   ]
  },
  {
   "cell_type": "code",
   "execution_count": null,
   "metadata": {},
   "outputs": [],
   "source": [
    "_models = MODEL_NAMES\n",
    "_studies = \"short presentation\"\n",
    "_datasets = \"places1\"\n",
    "_scales = \"scale4\""
   ]
  },
  {
   "cell_type": "code",
   "execution_count": 2,
   "metadata": {},
   "outputs": [],
   "source": [
    "_models = NETS_ALL\n",
    "_studies = STUDY_NAMES\n",
    "_datasets = DATASET_NAMES\n",
    "_scales = SCALE_NAMES"
   ]
  },
  {
   "cell_type": "code",
   "execution_count": null,
   "metadata": {},
   "outputs": [],
   "source": [
    "# subselect models that have significant predictions at scale4\n",
    "models_to_remove = set(\n",
    "    [\"edge_occlusion\", \"inpainting\", \"keypoints\", \"normal\", \"jigsaw\"]\n",
    ")\n",
    "_models = list(set(MODEL_NAMES).difference(models_to_remove))"
   ]
  },
  {
   "cell_type": "code",
   "execution_count": 3,
   "metadata": {},
   "outputs": [],
   "source": [
    "# unblocked data\n",
    "_blocking = \"unblocked\"\n",
    "_layers = slice(None)\n",
    "\n",
    "dfi = load_integration(PATH_INTEGRATION)\n",
    "dfibc = load_ibcorr(PATH_IBCORR)\n",
    "\n",
    "dfi = dfi.sort_index().loc[(_models, _datasets, _scales, slice(None), _layers)]\n",
    "dfibc = dfibc.sort_index().loc[(_models, _studies, _scales, _layers)]"
   ]
  },
  {
   "cell_type": "code",
   "execution_count": 3,
   "metadata": {},
   "outputs": [],
   "source": [
    "# averaged data\n",
    "_blocking = \"average\"\n",
    "_layers = slice(None)\n",
    "\n",
    "dfi = load_integration(PATH_INTEGRATION_AVERAGE)\n",
    "dfibc = load_ibcorr(PATH_IBCORR_AVERAGE)\n",
    "\n",
    "dfi = dfi.sort_index().loc[(_models, _datasets, _scales, slice(None), _layers)]\n",
    "dfibc = dfibc.sort_index().loc[(_models, _studies, _scales, _layers)]"
   ]
  },
  {
   "cell_type": "code",
   "execution_count": 68,
   "metadata": {},
   "outputs": [],
   "source": [
    "# maxpooled data\n",
    "_blocking = \"maxpool\"\n",
    "_layers = slice(None)\n",
    "\n",
    "dfi = load_integration(PATH_INTEGRATION_MAXPOOL)\n",
    "dfibc = load_ibcorr(PATH_IBCORR_MAXPOOL)\n",
    "\n",
    "dfi = dfi.sort_index().loc[(_models, _datasets, _scales, slice(None), _layers)]\n",
    "dfibc = dfibc.sort_index().loc[(_models, _studies, _scales, _layers)]"
   ]
  },
  {
   "cell_type": "markdown",
   "metadata": {},
   "source": [
    "# Target: differences in ib-corr\n",
    "\n",
    "absoloute difference in correlation in each layer, summed up. <br>\n",
    "Optional: Normalized with 2 (spearman correlation range) * num_layers "
   ]
  },
  {
   "cell_type": "code",
   "execution_count": 4,
   "metadata": {},
   "outputs": [],
   "source": [
    "# ABSOLOUTE DIFFERENCES\n",
    "target_rdm_absdiff = (\n",
    "    (\n",
    "        dfibc.unstack(\"model\")\n",
    "        .groupby([\"study\", \"scale\"])\n",
    "        .apply(calculate_rdm, ctype=\"absdiff\")\n",
    "    )\n",
    "    .droplevel(None)\n",
    "    .droplevel(None, axis=1)\n",
    ")"
   ]
  },
  {
   "cell_type": "code",
   "execution_count": 20,
   "metadata": {},
   "outputs": [],
   "source": [
    "# target_rdm_absdiff.to_hdf(os.path.join(PATH_RESULTS, \"compare predictions\", \"absoloute differences.h5\"), key=\"target_rdm\")\n",
    "target_rdm_absdiff = pd.read_hdf(\n",
    "    os.path.join(PATH_RESULTS, \"compare predictions\", \"absoloute differences.h5\"),\n",
    "    key=\"target_rdm\",\n",
    ")"
   ]
  },
  {
   "cell_type": "code",
   "execution_count": null,
   "metadata": {},
   "outputs": [],
   "source": [
    "# df = dfibc.unstack(\"layer\")\n",
    "# rdm_target_absdiff = pd.DataFrame(0, index=_models, columns=_models)\n",
    "\n",
    "# for c1, c2 in combinations(_models, 2):\n",
    "#     # sum of absoloute differences (easier, no correlation of correlated correlation coefficients)\n",
    "#     rdm_target_absdiff.loc[c1, c2] = (df.loc[c1] - df.loc[c2]).abs().sum()\n",
    "#     rdm_target_absdiff.loc[c2, c1] = (df.loc[c1] - df.loc[c2]).abs().sum()\n",
    "\n",
    "# # norming dissimilarity: sum_abs_diff / (num_layers * 2)\n",
    "# sns.heatmap(\n",
    "#     rdm_target_absdiff,\n",
    "#     xticklabels=rdm_target_absdiff.columns,\n",
    "#     yticklabels=rdm_target_absdiff.index,\n",
    "# )\n",
    "# target_rdm = rdm_target_absdiff"
   ]
  },
  {
   "cell_type": "code",
   "execution_count": null,
   "metadata": {},
   "outputs": [],
   "source": [
    "# CORRELATIONS\n",
    "# # TODO: add correlate correlations\n",
    "# # TODO check correct oder of models for this\n",
    "# df = dfibc.unstack(\"layer\")\n",
    "# rdm_target_corrwise = pd.DataFrame(0, index=_models, columns=_models)\n",
    "\n",
    "# for c1, c2 in combinations(_models, 2):\n",
    "#     rdm_target_corrwise.loc[c1, c2] = pearsonr(df.loc[c1], df.loc[c2])[0]\n",
    "#     rdm_target_corrwise.loc[c2, c1] = pearsonr(df.loc[c1], df.loc[c2])[0]\n",
    "\n",
    "# # norming dissimilarity: sum_abs_diff / (num_layers * 2)\n",
    "# sns.heatmap(\n",
    "#     rdm_target_corrwise,\n",
    "#     xticklabels=rdm_target_corrwise.columns,\n",
    "#     yticklabels=rdm_target_corrwise.index,\n",
    "# )\n",
    "# target_rdm = rdm_target_corrwise"
   ]
  },
  {
   "cell_type": "markdown",
   "metadata": {},
   "source": [
    "# load predictors"
   ]
  },
  {
   "cell_type": "code",
   "execution_count": 7,
   "metadata": {},
   "outputs": [],
   "source": [
    "predictor_rdm_1 = pd.read_hdf(os.path.join(PATH_RESULTS, \"sem_2d_3d\", \"predictor1 allnets.hd5\"), key=\"predictor_rdm1\")"
   ]
  },
  {
   "cell_type": "code",
   "execution_count": 8,
   "metadata": {},
   "outputs": [],
   "source": [
    "predictor_rdm_2 = pd.read_hdf(os.path.join(PATH_RESULTS, \"layer profile\", \"predictor2 maxpool.hd5\"), key=\"predictor_rdm_2\")"
   ]
  },
  {
   "cell_type": "code",
   "execution_count": 9,
   "metadata": {},
   "outputs": [],
   "source": [
    "predictor_rdm_3 = pd.read_hdf(\n",
    "    os.path.join(PATH_RESULTS, \"spatial integration\", \"predictor3 bestpredlayer.hd5\"),\n",
    "    key=\"predictor_rdm_3\",\n",
    ")"
   ]
  },
  {
   "cell_type": "markdown",
   "metadata": {},
   "source": [
    "# Predictors-Target analysis\n",
    "do for each study and each scale, to check if there is some consistency in which factors always comes out on top\n",
    "\n"
   ]
  },
  {
   "cell_type": "code",
   "execution_count": 16,
   "metadata": {},
   "outputs": [],
   "source": [
    "_blocking"
   ]
  },
  {
   "cell_type": "code",
   "execution_count": 13,
   "metadata": {},
   "outputs": [],
   "source": [
    "predictor1 = predictor_rdm_1\n",
    "predictor2 = predictor_rdm_2.loc[(\"places1\", \"scale4\"),(\"places1\", \"scale4\")]\n",
    "predictor3 = predictor_rdm_3.loc[(\"short presentation\",\"scale4\")]\n",
    "target = target_rdm_absdiff.loc[(\"short presentation\", \"scale4\")]"
   ]
  },
  {
   "cell_type": "code",
   "execution_count": 65,
   "metadata": {},
   "outputs": [],
   "source": [
    "predictor1 = predictor1.loc[NETS_ALL, NETS_ALL]\n",
    "predictor2 = predictor2.loc[NETS_ALL, NETS_ALL]\n",
    "predictor3 = predictor3.loc[NETS_ALL, NETS_ALL]\n",
    "target = target.loc[NETS_ALL, NETS_ALL]"
   ]
  },
  {
   "cell_type": "markdown",
   "metadata": {},
   "source": [
    "## predictor 1 - target"
   ]
  },
  {
   "cell_type": "code",
   "execution_count": null,
   "metadata": {},
   "outputs": [],
   "source": [
    "# places1 scale4"
   ]
  },
  {
   "cell_type": "code",
   "execution_count": 15,
   "metadata": {},
   "outputs": [
    {
     "data": {
      "text/plain": [
       "(-0.1051837654276796, 0.09503828862852931)"
      ]
     },
     "execution_count": 15,
     "metadata": {},
     "output_type": "execute_result"
    }
   ],
   "source": [
    "correlate_rdms(predictor1, target)"
   ]
  },
  {
   "cell_type": "code",
   "execution_count": 14,
   "metadata": {},
   "outputs": [
    {
     "data": {
      "text/plain": [
       "(-0.29001848514913353, 0.002690861862071442)"
      ]
     },
     "execution_count": 14,
     "metadata": {},
     "output_type": "execute_result"
    }
   ],
   "source": [
    "correlate_rdms(predictor1.loc[NETS_ALL, NETS_ALL], target.loc[NETS_ALL, NETS_ALL])"
   ]
  },
  {
   "cell_type": "code",
   "execution_count": 68,
   "metadata": {},
   "outputs": [
    {
     "data": {
      "text/plain": [
       "0.08411072172819833"
      ]
     },
     "execution_count": 68,
     "metadata": {},
     "output_type": "execute_result"
    }
   ],
   "source": [
    "predictors_r2([predictor1],target)"
   ]
  },
  {
   "cell_type": "code",
   "execution_count": 17,
   "metadata": {},
   "outputs": [
    {
     "data": {
      "text/plain": [
       "0.08411072172819833"
      ]
     },
     "execution_count": 17,
     "metadata": {},
     "output_type": "execute_result"
    }
   ],
   "source": [
    "predictors_r2(\n",
    "    [predictor1.loc[NETS_ALL, NETS_ALL]],\n",
    "    target.loc[NETS_ALL, NETS_ALL],\n",
    ")"
   ]
  },
  {
   "cell_type": "markdown",
   "metadata": {},
   "source": [
    "## predictor2 - target"
   ]
  },
  {
   "cell_type": "code",
   "execution_count": null,
   "metadata": {},
   "outputs": [],
   "source": [
    "# places1 scale4 maxpool"
   ]
  },
  {
   "cell_type": "code",
   "execution_count": 19,
   "metadata": {},
   "outputs": [
    {
     "data": {
      "text/plain": [
       "(-0.6677444638211117, 4.977027167376115e-34)"
      ]
     },
     "execution_count": 19,
     "metadata": {},
     "output_type": "execute_result"
    }
   ],
   "source": [
    "correlate_rdms(predictor2, target)"
   ]
  },
  {
   "cell_type": "code",
   "execution_count": null,
   "metadata": {},
   "outputs": [
    {
     "data": {
      "text/plain": [
       "0.44588266896374373"
      ]
     },
     "metadata": {},
     "output_type": "display_data"
    }
   ],
   "source": [
    "predictors_r2([predictor2], target)"
   ]
  },
  {
   "cell_type": "code",
   "execution_count": 214,
   "metadata": {},
   "outputs": [],
   "source": [
    "f2 = factor2_rdm_bestlayer.loc[(\"short presentation\", \"scale4\")]"
   ]
  },
  {
   "cell_type": "code",
   "execution_count": 228,
   "metadata": {},
   "outputs": [
    {
     "data": {
      "text/plain": [
       "(-0.5236855635420519, 3.2151495763391566e-19)"
      ]
     },
     "execution_count": 228,
     "metadata": {},
     "output_type": "execute_result"
    }
   ],
   "source": [
    "correlate_rdms(t, f2)"
   ]
  },
  {
   "cell_type": "code",
   "execution_count": null,
   "metadata": {},
   "outputs": [],
   "source": [
    "for (name1, group1), (name2, group2) in zip(\n",
    "    factor2_rdm_bestlayer.groupby([\"study\", \"scale\"]),\n",
    "    target_rdm_absdiff.groupby([\"study\", \"scale\"]),\n",
    "):\n",
    "    print(name1 == name2)"
   ]
  },
  {
   "cell_type": "code",
   "execution_count": 237,
   "metadata": {},
   "outputs": [
    {
     "data": {
      "text/plain": [
       "0.3648911015205908"
      ]
     },
     "execution_count": 237,
     "metadata": {},
     "output_type": "execute_result"
    }
   ],
   "source": [
    "predictors_r2(rdm2vec(f2), rdm2vec(t))"
   ]
  },
  {
   "cell_type": "markdown",
   "metadata": {},
   "source": [
    "## predictor 3 - target"
   ]
  },
  {
   "cell_type": "code",
   "execution_count": null,
   "metadata": {},
   "outputs": [],
   "source": [
    "# places1 scale4"
   ]
  },
  {
   "cell_type": "code",
   "execution_count": 31,
   "metadata": {},
   "outputs": [
    {
     "data": {
      "text/plain": [
       "(-0.37464126075879833, 7.500535101774924e-10)"
      ]
     },
     "execution_count": 31,
     "metadata": {},
     "output_type": "execute_result"
    }
   ],
   "source": [
    "correlate_rdms(predictor3, target)"
   ]
  },
  {
   "cell_type": "code",
   "execution_count": 28,
   "metadata": {},
   "outputs": [
    {
     "data": {
      "text/plain": [
       "0.14035607426294194"
      ]
     },
     "execution_count": 28,
     "metadata": {},
     "output_type": "execute_result"
    }
   ],
   "source": [
    "predictors_r2([predictor3], target)"
   ]
  },
  {
   "cell_type": "code",
   "execution_count": null,
   "metadata": {},
   "outputs": [],
   "source": [
    "plt.scatter(t, p3, s=10, color=\"magenta\")"
   ]
  },
  {
   "cell_type": "code",
   "execution_count": null,
   "metadata": {},
   "outputs": [],
   "source": [
    "sns.kdeplot(pd.DataFrame((t, p3)).T, x=0, y=1, fill=True, levels=100)\n",
    "plt.scatter(t, p3, s=10, color=\"magenta\")\n",
    "plt.xlim(0, t.max())\n",
    "plt.ylim(0, p1.max())"
   ]
  },
  {
   "cell_type": "code",
   "execution_count": null,
   "metadata": {},
   "outputs": [],
   "source": [
    "plt.scatter(t.argsort(), p3.argsort(), s=10, color=\"magenta\")"
   ]
  },
  {
   "cell_type": "code",
   "execution_count": null,
   "metadata": {},
   "outputs": [],
   "source": [
    "sns.kdeplot(pd.DataFrame((t.argsort(), p3.argsort())).T, x=0, y=1, fill=True, levels=3)\n",
    "plt.scatter(t.argsort(), p3.argsort(), s=10, color=\"magenta\")\n",
    "plt.xlim(0, t.size)\n",
    "plt.ylim(0, t.size)"
   ]
  },
  {
   "cell_type": "markdown",
   "metadata": {},
   "source": [
    "## variance partitioning"
   ]
  },
  {
   "cell_type": "code",
   "execution_count": 75,
   "metadata": {},
   "outputs": [
    {
     "data": {
      "text/plain": [
       "(0.0011797605593583116, 0.17348498319922756, 0.07125079172527427)"
      ]
     },
     "execution_count": 75,
     "metadata": {},
     "output_type": "execute_result"
    }
   ],
   "source": [
    "# unique variances\n",
    "all = predictors_r2([predictor1, predictor2, predictor3], target)\n",
    "r2p1 = all - predictors_r2([predictor2, predictor3], target)\n",
    "r2p2 = all - predictors_r2([predictor1, predictor3], target)\n",
    "r2p3 = all - predictors_r2([predictor1, predictor2], target)\n",
    "\n",
    "r2p1, r2p2, r2p3"
   ]
  },
  {
   "cell_type": "code",
   "execution_count": 82,
   "metadata": {},
   "outputs": [
    {
     "data": {
      "text/plain": [
       "(0.03890997686763786,\n",
       " 0.001885480354232305,\n",
       " 0.28758901418415594,\n",
       " 0.04213550394696974)"
      ]
     },
     "execution_count": 82,
     "metadata": {},
     "output_type": "execute_result"
    }
   ],
   "source": [
    "# shared variances\n",
    "r2p1p2p3 = (\n",
    "    predictors_r2([predictor1], target)\n",
    "    + predictors_r2([predictor2], target)\n",
    "    + predictors_r2([predictor3], target)\n",
    "    - 2 * predictors_r2([predictor1, predictor2, predictor3], target)\n",
    "    + r2p1\n",
    "    + r2p2\n",
    "    + r2p3\n",
    ")\n",
    "r2p1p2 = (\n",
    "    predictors_r2([predictor1], target)\n",
    "    + predictors_r2([predictor2], target)\n",
    "    - predictors_r2([predictor1, predictor2], target)\n",
    "    - r2p1p2p3\n",
    ")\n",
    "r2p2p3 = (\n",
    "    predictors_r2([predictor2], target)\n",
    "    + predictors_r2([predictor3], target)\n",
    "    - predictors_r2([predictor2, predictor3], target)\n",
    "    - r2p1p2p3\n",
    ")\n",
    "r2p1p3 = (\n",
    "    predictors_r2([predictor1], target)\n",
    "    + predictors_r2([predictor3], target)\n",
    "    - predictors_r2([predictor1, predictor3], target)\n",
    "    - r2p1p2p3\n",
    ")\n",
    "r2p1p2p3, r2p1p2, r2p2p3, r2p1p3"
   ]
  },
  {
   "cell_type": "code",
   "execution_count": 93,
   "metadata": {},
   "outputs": [
    {
     "data": {
      "text/plain": [
       "(0.0, 0.17, 0.0, 0.07, 0.04, 0.29, 0.04)"
      ]
     },
     "execution_count": 93,
     "metadata": {},
     "output_type": "execute_result"
    }
   ],
   "source": [
    "r2_tuple = tuple(round(r2, 2) for r2 in (r2p1, r2p2, r2p1p2, r2p3, r2p1p3, r2p2p3, r2p1p2p3))\n",
    "r2_tuple"
   ]
  },
  {
   "cell_type": "code",
   "execution_count": 95,
   "metadata": {},
   "outputs": [
    {
     "data": {
      "image/png": "[encoded data removed]",
      "text/plain": [
       "<Figure size 432x288 with 1 Axes>"
      ]
     },
     "metadata": {},
     "output_type": "display_data"
    }
   ],
   "source": [
    "\n",
    "venn3(subsets=r2_tuple)\n",
    "plt.gca().set_facecolor('white')"
   ]
  },
  {
   "cell_type": "code",
   "execution_count": 84,
   "metadata": {},
   "outputs": [],
   "source": [
    "# plot full venn diagram (with 2 or 3 predictors)"
   ]
  }
 ],
 "metadata": {
  "kernelspec": {
   "display_name": "PytorchEnv",
   "language": "python",
   "name": "python3"
  },
  "language_info": {
   "codemirror_mode": {
    "name": "ipython",
    "version": 3
   },
   "file_extension": ".py",
   "mimetype": "text/x-python",
   "name": "python",
   "nbconvert_exporter": "python",
   "pygments_lexer": "ipython3",
   "version": "3.8.19"
  }
 },
 "nbformat": 4,
 "nbformat_minor": 2
}
