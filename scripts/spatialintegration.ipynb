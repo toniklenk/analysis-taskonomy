{
 "cells": [
  {
   "cell_type": "code",
   "execution_count": 1,
   "metadata": {},
   "outputs": [],
   "source": [
    "# python\n",
    "import os\n",
    "from pathlib import Path\n",
    "\n",
    "import numpy as np\n",
    "import pandas as pd\n",
    "from scipy.stats import pearsonr\n",
    "from scipy.ndimage import label\n",
    "from tqdm import tqdm\n",
    "\n",
    "# plot\n",
    "import seaborn as sns\n",
    "import matplotlib.pyplot as plt\n",
    "from matplotlib.backends.backend_pdf import PdfPages\n",
    "\n",
    "# neural networks\n",
    "import torch, torch.utils.model_zoo  # required to load nets\n",
    "from torchvision.models.feature_extraction import (\n",
    "    get_graph_node_names,\n",
    "    create_feature_extractor,\n",
    ")\n",
    "\n",
    "# thesis library\n",
    "from lib.functions_scripting import *\n",
    "from lib.functions_base_analysis import *\n",
    "from lib.functions_second_analysis import *\n",
    "\n",
    "from lib.ImageDataset import ImageDataset\n",
    "from lib.NetworkScorer import NetworkScorer\n",
    "from lib.PatternGenerator import Pattern_Generator\n",
    "from lib.ActivationPattern import Activation_Pattern\n",
    "from lib.transforms import VisualPriorRepresentation\n",
    "from lib.PatternGeneratorSearchlight import PatternGeneratorSearchlight\n",
    "\n",
    "\n",
    "PATH_SSINT = os.path.join(PATH_RESULTS, \"spatial integration\", \"subset integration\")\n",
    "PATH_SSIBC = os.path.join(PATH_RESULTS, \"spatial integration\", \"subset ibcorr\")\n",
    "PATH_3DPVAL = os.path.join(PATH_RESULTS, \"spatial integration\", \"subset 3d pvalues\")\n",
    "PATH_3DCORR = os.path.join(PATH_RESULTS, \"spatial integration\", \"subset 3d correlation\")\n",
    "PATH_PERMDISTR_TOPVOXELS_CLUSTERSIZE = os.path.join(\n",
    "    PATH_RESULTS, \"spatial integration\", \"permutation distributions\", \"topvoxels clustersize\"\n",
    ")\n",
    "PATH_SIGNICLUST = os.path.join(PATH_RESULTS, \"spatial integration\", \"significant clusters\")\n",
    "\n",
    "beauty_ratings = load_ratings(PATH_RATINGS)\n",
    "modelorder = pd.read_pickle(os.path.join(PATH_RESULTS, \"model order.pkl\"))\n",
    "BLOCKING_GROUPS = np.insert(np.repeat(range(1, 16 + 1), 3), 0, 0)"
   ]
  },
  {
   "cell_type": "code",
   "execution_count": 2,
   "metadata": {},
   "outputs": [],
   "source": [
    "_models = modelorder[10:].index.to_list()\n",
    "_studies = STUDY_NAMES\n",
    "_datasets = DATASET_NAMES\n",
    "_scales = SCALE_NAMES[:4]"
   ]
  },
  {
   "cell_type": "code",
   "execution_count": 3,
   "metadata": {},
   "outputs": [],
   "source": [
    "# unblocked data\n",
    "_blocking = \"unblocked\"\n",
    "_layers = slice(None)\n",
    "\n",
    "dfi = load_integration(PATH_INTEGRATION)\n",
    "dfibc = load_ibcorr(PATH_IBCORR)\n",
    "\n",
    "dfi = dfi.sort_index().loc[(_models, _datasets, _scales, slice(None), _layers)]\n",
    "dfibc = dfibc.sort_index().loc[(_models, _studies, _scales, _layers)]"
   ]
  },
  {
   "cell_type": "markdown",
   "metadata": {},
   "source": [
    "# best predicting models & layers"
   ]
  },
  {
   "cell_type": "code",
   "execution_count": 140,
   "metadata": {},
   "outputs": [
    {
     "data": {
      "text/html": [
       "<div>\n",
       "<style scoped>\n",
       "    .dataframe tbody tr th:only-of-type {\n",
       "        vertical-align: middle;\n",
       "    }\n",
       "\n",
       "    .dataframe tbody tr th {\n",
       "        vertical-align: top;\n",
       "    }\n",
       "\n",
       "    .dataframe thead th {\n",
       "        text-align: right;\n",
       "    }\n",
       "</style>\n",
       "<table border=\"1\" class=\"dataframe\">\n",
       "  <thead>\n",
       "    <tr style=\"text-align: right;\">\n",
       "      <th></th>\n",
       "      <th></th>\n",
       "      <th></th>\n",
       "      <th>corr</th>\n",
       "      <th>layer</th>\n",
       "      <th>laysize</th>\n",
       "    </tr>\n",
       "    <tr>\n",
       "      <th>scale</th>\n",
       "      <th>study</th>\n",
       "      <th>model</th>\n",
       "      <th></th>\n",
       "      <th></th>\n",
       "      <th></th>\n",
       "    </tr>\n",
       "  </thead>\n",
       "  <tbody>\n",
       "    <tr>\n",
       "      <th rowspan=\"5\" valign=\"top\">scale2</th>\n",
       "      <th rowspan=\"5\" valign=\"top\">short presentation</th>\n",
       "      <th>class_scene</th>\n",
       "      <td>0.374823</td>\n",
       "      <td>17</td>\n",
       "      <td>65536</td>\n",
       "    </tr>\n",
       "    <tr>\n",
       "      <th>egomotion</th>\n",
       "      <td>0.205430</td>\n",
       "      <td>6</td>\n",
       "      <td>16384</td>\n",
       "    </tr>\n",
       "    <tr>\n",
       "      <th>autoencoding</th>\n",
       "      <td>0.045450</td>\n",
       "      <td>40</td>\n",
       "      <td>262144</td>\n",
       "    </tr>\n",
       "    <tr>\n",
       "      <th>reshading</th>\n",
       "      <td>0.405152</td>\n",
       "      <td>20</td>\n",
       "      <td>65536</td>\n",
       "    </tr>\n",
       "    <tr>\n",
       "      <th>edge_occlusion</th>\n",
       "      <td>0.321020</td>\n",
       "      <td>32</td>\n",
       "      <td>262144</td>\n",
       "    </tr>\n",
       "    <tr>\n",
       "      <th>...</th>\n",
       "      <th>...</th>\n",
       "      <th>...</th>\n",
       "      <td>...</td>\n",
       "      <td>...</td>\n",
       "      <td>...</td>\n",
       "    </tr>\n",
       "    <tr>\n",
       "      <th rowspan=\"5\" valign=\"top\">scale16</th>\n",
       "      <th rowspan=\"5\" valign=\"top\">oasis</th>\n",
       "      <th>jigsaw</th>\n",
       "      <td>0.166900</td>\n",
       "      <td>3</td>\n",
       "      <td>16384</td>\n",
       "    </tr>\n",
       "    <tr>\n",
       "      <th>segment_unsup25d</th>\n",
       "      <td>0.186501</td>\n",
       "      <td>26</td>\n",
       "      <td>262144</td>\n",
       "    </tr>\n",
       "    <tr>\n",
       "      <th>point_matching</th>\n",
       "      <td>0.088931</td>\n",
       "      <td>1</td>\n",
       "      <td>9408</td>\n",
       "    </tr>\n",
       "    <tr>\n",
       "      <th>keypoints2d</th>\n",
       "      <td>0.153323</td>\n",
       "      <td>15</td>\n",
       "      <td>65536</td>\n",
       "    </tr>\n",
       "    <tr>\n",
       "      <th>vanishing_point</th>\n",
       "      <td>0.176404</td>\n",
       "      <td>3</td>\n",
       "      <td>16384</td>\n",
       "    </tr>\n",
       "  </tbody>\n",
       "</table>\n",
       "<p>208 rows × 3 columns</p>\n",
       "</div>"
      ],
      "text/plain": [
       "                                                 corr  layer  laysize\n",
       "scale   study              model                                     \n",
       "scale2  short presentation class_scene       0.374823     17    65536\n",
       "                           egomotion         0.205430      6    16384\n",
       "                           autoencoding      0.045450     40   262144\n",
       "                           reshading         0.405152     20    65536\n",
       "                           edge_occlusion    0.321020     32   262144\n",
       "...                                               ...    ...      ...\n",
       "scale16 oasis              jigsaw            0.166900      3    16384\n",
       "                           segment_unsup25d  0.186501     26   262144\n",
       "                           point_matching    0.088931      1     9408\n",
       "                           keypoints2d       0.153323     15    65536\n",
       "                           vanishing_point   0.176404      3    16384\n",
       "\n",
       "[208 rows x 3 columns]"
      ]
     },
     "execution_count": 140,
     "metadata": {},
     "output_type": "execute_result"
    }
   ],
   "source": [
    "bestlayers = (\n",
    "    dfibc.groupby([\"model\", \"study\", \"scale\"])\n",
    "    .agg(corr=(\"ibcorr\", max), layer=(\"ibcorr\", lambda x: x.idxmax()[-1]))\n",
    "    .reorder_levels([\"scale\", \"study\", \"model\"])\n",
    "    .sort_index()\n",
    ").loc[(_scales, _studies, _models)]\n",
    "\n",
    "\n",
    "laysize_table = pd.DataFrame(np.nan, index=range(48 + 1), columns=[\"layersize\"])\n",
    "for i in np.diff(BLOCKING_GROUPS).nonzero()[0]:\n",
    "    laysize_table.loc[i:] = get_layer_size(i)\n",
    "\n",
    "bestlayers = bestlayers.assign(\n",
    "    laysize=bestlayers.layer.transform(\n",
    "        lambda x: laysize_table.loc[x].values[0].astype(int)\n",
    "    )\n",
    ")\n",
    "bestlayers"
   ]
  },
  {
   "cell_type": "markdown",
   "metadata": {},
   "source": [
    "### scale 2: reshading(20) "
   ]
  },
  {
   "cell_type": "code",
   "execution_count": 204,
   "metadata": {},
   "outputs": [
    {
     "data": {
      "text/html": [
       "<div>\n",
       "<style scoped>\n",
       "    .dataframe tbody tr th:only-of-type {\n",
       "        vertical-align: middle;\n",
       "    }\n",
       "\n",
       "    .dataframe tbody tr th {\n",
       "        vertical-align: top;\n",
       "    }\n",
       "\n",
       "    .dataframe thead th {\n",
       "        text-align: right;\n",
       "    }\n",
       "</style>\n",
       "<table border=\"1\" class=\"dataframe\">\n",
       "  <thead>\n",
       "    <tr style=\"text-align: right;\">\n",
       "      <th></th>\n",
       "      <th></th>\n",
       "      <th>corr</th>\n",
       "      <th>layer</th>\n",
       "      <th>laysize</th>\n",
       "    </tr>\n",
       "    <tr>\n",
       "      <th>study</th>\n",
       "      <th>model</th>\n",
       "      <th></th>\n",
       "      <th></th>\n",
       "      <th></th>\n",
       "    </tr>\n",
       "  </thead>\n",
       "  <tbody>\n",
       "    <tr>\n",
       "      <th rowspan=\"3\" valign=\"top\">short presentation</th>\n",
       "      <th>vanishing_point</th>\n",
       "      <td>0.347481</td>\n",
       "      <td>28</td>\n",
       "      <td>262144</td>\n",
       "    </tr>\n",
       "    <tr>\n",
       "      <th>class_scene</th>\n",
       "      <td>0.374823</td>\n",
       "      <td>17</td>\n",
       "      <td>65536</td>\n",
       "    </tr>\n",
       "    <tr>\n",
       "      <th>reshading</th>\n",
       "      <td>0.405152</td>\n",
       "      <td>20</td>\n",
       "      <td>65536</td>\n",
       "    </tr>\n",
       "    <tr>\n",
       "      <th rowspan=\"3\" valign=\"top\">long presentation</th>\n",
       "      <th>vanishing_point</th>\n",
       "      <td>0.302165</td>\n",
       "      <td>28</td>\n",
       "      <td>262144</td>\n",
       "    </tr>\n",
       "    <tr>\n",
       "      <th>class_scene</th>\n",
       "      <td>0.335656</td>\n",
       "      <td>17</td>\n",
       "      <td>65536</td>\n",
       "    </tr>\n",
       "    <tr>\n",
       "      <th>reshading</th>\n",
       "      <td>0.377791</td>\n",
       "      <td>20</td>\n",
       "      <td>65536</td>\n",
       "    </tr>\n",
       "    <tr>\n",
       "      <th rowspan=\"3\" valign=\"top\">complexity order</th>\n",
       "      <th>vanishing_point</th>\n",
       "      <td>0.353357</td>\n",
       "      <td>18</td>\n",
       "      <td>65536</td>\n",
       "    </tr>\n",
       "    <tr>\n",
       "      <th>reshading</th>\n",
       "      <td>0.366724</td>\n",
       "      <td>20</td>\n",
       "      <td>65536</td>\n",
       "    </tr>\n",
       "    <tr>\n",
       "      <th>class_scene</th>\n",
       "      <td>0.386800</td>\n",
       "      <td>17</td>\n",
       "      <td>65536</td>\n",
       "    </tr>\n",
       "    <tr>\n",
       "      <th rowspan=\"3\" valign=\"top\">oasis</th>\n",
       "      <th>reshading</th>\n",
       "      <td>0.160978</td>\n",
       "      <td>20</td>\n",
       "      <td>65536</td>\n",
       "    </tr>\n",
       "    <tr>\n",
       "      <th>vanishing_point</th>\n",
       "      <td>0.187504</td>\n",
       "      <td>6</td>\n",
       "      <td>16384</td>\n",
       "    </tr>\n",
       "    <tr>\n",
       "      <th>segment_unsup2d</th>\n",
       "      <td>0.188171</td>\n",
       "      <td>9</td>\n",
       "      <td>16384</td>\n",
       "    </tr>\n",
       "  </tbody>\n",
       "</table>\n",
       "</div>"
      ],
      "text/plain": [
       "                                        corr  layer  laysize\n",
       "study              model                                    \n",
       "short presentation vanishing_point  0.347481     28   262144\n",
       "                   class_scene      0.374823     17    65536\n",
       "                   reshading        0.405152     20    65536\n",
       "long presentation  vanishing_point  0.302165     28   262144\n",
       "                   class_scene      0.335656     17    65536\n",
       "                   reshading        0.377791     20    65536\n",
       "complexity order   vanishing_point  0.353357     18    65536\n",
       "                   reshading        0.366724     20    65536\n",
       "                   class_scene      0.386800     17    65536\n",
       "oasis              reshading        0.160978     20    65536\n",
       "                   vanishing_point  0.187504      6    16384\n",
       "                   segment_unsup2d  0.188171      9    16384"
      ]
     },
     "execution_count": 204,
     "metadata": {},
     "output_type": "execute_result"
    }
   ],
   "source": [
    "bestlayers.loc[(\"scale2\", slice(None), slice(None))].groupby(\"study\").apply(\n",
    "    lambda df: df.sort_values(\"corr\")\n",
    ").droplevel(0).loc[list(_studies)].groupby(\"study\").tail(3)"
   ]
  },
  {
   "cell_type": "markdown",
   "metadata": {},
   "source": [
    "### scale 4: segment_unsup2d(41)"
   ]
  },
  {
   "cell_type": "code",
   "execution_count": 10,
   "metadata": {},
   "outputs": [
    {
     "data": {
      "text/html": [
       "<div>\n",
       "<style scoped>\n",
       "    .dataframe tbody tr th:only-of-type {\n",
       "        vertical-align: middle;\n",
       "    }\n",
       "\n",
       "    .dataframe tbody tr th {\n",
       "        vertical-align: top;\n",
       "    }\n",
       "\n",
       "    .dataframe thead th {\n",
       "        text-align: right;\n",
       "    }\n",
       "</style>\n",
       "<table border=\"1\" class=\"dataframe\">\n",
       "  <thead>\n",
       "    <tr style=\"text-align: right;\">\n",
       "      <th></th>\n",
       "      <th></th>\n",
       "      <th>corr</th>\n",
       "      <th>layer</th>\n",
       "      <th>laysize</th>\n",
       "    </tr>\n",
       "    <tr>\n",
       "      <th>study</th>\n",
       "      <th>model</th>\n",
       "      <th></th>\n",
       "      <th></th>\n",
       "      <th></th>\n",
       "    </tr>\n",
       "  </thead>\n",
       "  <tbody>\n",
       "    <tr>\n",
       "      <th rowspan=\"5\" valign=\"top\">short presentation</th>\n",
       "      <th>segment_unsup25d</th>\n",
       "      <td>0.413453</td>\n",
       "      <td>36</td>\n",
       "      <td>262144</td>\n",
       "    </tr>\n",
       "    <tr>\n",
       "      <th>vanishing_point</th>\n",
       "      <td>0.422424</td>\n",
       "      <td>28</td>\n",
       "      <td>262144</td>\n",
       "    </tr>\n",
       "    <tr>\n",
       "      <th>keypoints3d</th>\n",
       "      <td>0.422735</td>\n",
       "      <td>41</td>\n",
       "      <td>262144</td>\n",
       "    </tr>\n",
       "    <tr>\n",
       "      <th>edge_occlusion</th>\n",
       "      <td>0.428372</td>\n",
       "      <td>32</td>\n",
       "      <td>262144</td>\n",
       "    </tr>\n",
       "    <tr>\n",
       "      <th>segment_unsup2d</th>\n",
       "      <td>0.464074</td>\n",
       "      <td>41</td>\n",
       "      <td>262144</td>\n",
       "    </tr>\n",
       "    <tr>\n",
       "      <th rowspan=\"5\" valign=\"top\">long presentation</th>\n",
       "      <th>keypoints3d</th>\n",
       "      <td>0.391302</td>\n",
       "      <td>41</td>\n",
       "      <td>262144</td>\n",
       "    </tr>\n",
       "    <tr>\n",
       "      <th>vanishing_point</th>\n",
       "      <td>0.392898</td>\n",
       "      <td>28</td>\n",
       "      <td>262144</td>\n",
       "    </tr>\n",
       "    <tr>\n",
       "      <th>edge_occlusion</th>\n",
       "      <td>0.399783</td>\n",
       "      <td>32</td>\n",
       "      <td>262144</td>\n",
       "    </tr>\n",
       "    <tr>\n",
       "      <th>reshading</th>\n",
       "      <td>0.411068</td>\n",
       "      <td>38</td>\n",
       "      <td>262144</td>\n",
       "    </tr>\n",
       "    <tr>\n",
       "      <th>segment_unsup2d</th>\n",
       "      <td>0.441788</td>\n",
       "      <td>41</td>\n",
       "      <td>262144</td>\n",
       "    </tr>\n",
       "    <tr>\n",
       "      <th rowspan=\"5\" valign=\"top\">complexity order</th>\n",
       "      <th>segment_unsup2d</th>\n",
       "      <td>0.403273</td>\n",
       "      <td>35</td>\n",
       "      <td>262144</td>\n",
       "    </tr>\n",
       "    <tr>\n",
       "      <th>edge_occlusion</th>\n",
       "      <td>0.407059</td>\n",
       "      <td>32</td>\n",
       "      <td>262144</td>\n",
       "    </tr>\n",
       "    <tr>\n",
       "      <th>segment_unsup25d</th>\n",
       "      <td>0.429413</td>\n",
       "      <td>35</td>\n",
       "      <td>262144</td>\n",
       "    </tr>\n",
       "    <tr>\n",
       "      <th>keypoints3d</th>\n",
       "      <td>0.441996</td>\n",
       "      <td>41</td>\n",
       "      <td>262144</td>\n",
       "    </tr>\n",
       "    <tr>\n",
       "      <th>reshading</th>\n",
       "      <td>0.454562</td>\n",
       "      <td>46</td>\n",
       "      <td>1048576</td>\n",
       "    </tr>\n",
       "    <tr>\n",
       "      <th rowspan=\"5\" valign=\"top\">oasis</th>\n",
       "      <th>reshading</th>\n",
       "      <td>0.173703</td>\n",
       "      <td>26</td>\n",
       "      <td>262144</td>\n",
       "    </tr>\n",
       "    <tr>\n",
       "      <th>jigsaw</th>\n",
       "      <td>0.184901</td>\n",
       "      <td>9</td>\n",
       "      <td>16384</td>\n",
       "    </tr>\n",
       "    <tr>\n",
       "      <th>vanishing_point</th>\n",
       "      <td>0.192614</td>\n",
       "      <td>6</td>\n",
       "      <td>16384</td>\n",
       "    </tr>\n",
       "    <tr>\n",
       "      <th>segment_unsup25d</th>\n",
       "      <td>0.214946</td>\n",
       "      <td>20</td>\n",
       "      <td>65536</td>\n",
       "    </tr>\n",
       "    <tr>\n",
       "      <th>segment_unsup2d</th>\n",
       "      <td>0.217433</td>\n",
       "      <td>16</td>\n",
       "      <td>65536</td>\n",
       "    </tr>\n",
       "  </tbody>\n",
       "</table>\n",
       "</div>"
      ],
      "text/plain": [
       "                                         corr  layer  laysize\n",
       "study              model                                     \n",
       "short presentation segment_unsup25d  0.413453     36   262144\n",
       "                   vanishing_point   0.422424     28   262144\n",
       "                   keypoints3d       0.422735     41   262144\n",
       "                   edge_occlusion    0.428372     32   262144\n",
       "                   segment_unsup2d   0.464074     41   262144\n",
       "long presentation  keypoints3d       0.391302     41   262144\n",
       "                   vanishing_point   0.392898     28   262144\n",
       "                   edge_occlusion    0.399783     32   262144\n",
       "                   reshading         0.411068     38   262144\n",
       "                   segment_unsup2d   0.441788     41   262144\n",
       "complexity order   segment_unsup2d   0.403273     35   262144\n",
       "                   edge_occlusion    0.407059     32   262144\n",
       "                   segment_unsup25d  0.429413     35   262144\n",
       "                   keypoints3d       0.441996     41   262144\n",
       "                   reshading         0.454562     46  1048576\n",
       "oasis              reshading         0.173703     26   262144\n",
       "                   jigsaw            0.184901      9    16384\n",
       "                   vanishing_point   0.192614      6    16384\n",
       "                   segment_unsup25d  0.214946     20    65536\n",
       "                   segment_unsup2d   0.217433     16    65536"
      ]
     },
     "execution_count": 10,
     "metadata": {},
     "output_type": "execute_result"
    }
   ],
   "source": [
    "bestlayers.loc[(\"scale4\", slice(None), slice(None))].groupby(\"study\").apply(\n",
    "    lambda df: df.sort_values(\"corr\")\n",
    ").droplevel(0).loc[list(_studies)].groupby(\"study\").tail(5)"
   ]
  },
  {
   "cell_type": "markdown",
   "metadata": {},
   "source": [
    "### scale 8: vanishing point(18) "
   ]
  },
  {
   "cell_type": "code",
   "execution_count": 12,
   "metadata": {},
   "outputs": [
    {
     "data": {
      "text/html": [
       "<div>\n",
       "<style scoped>\n",
       "    .dataframe tbody tr th:only-of-type {\n",
       "        vertical-align: middle;\n",
       "    }\n",
       "\n",
       "    .dataframe tbody tr th {\n",
       "        vertical-align: top;\n",
       "    }\n",
       "\n",
       "    .dataframe thead th {\n",
       "        text-align: right;\n",
       "    }\n",
       "</style>\n",
       "<table border=\"1\" class=\"dataframe\">\n",
       "  <thead>\n",
       "    <tr style=\"text-align: right;\">\n",
       "      <th></th>\n",
       "      <th></th>\n",
       "      <th>corr</th>\n",
       "      <th>layer</th>\n",
       "      <th>laysize</th>\n",
       "    </tr>\n",
       "    <tr>\n",
       "      <th>study</th>\n",
       "      <th>model</th>\n",
       "      <th></th>\n",
       "      <th></th>\n",
       "      <th></th>\n",
       "    </tr>\n",
       "  </thead>\n",
       "  <tbody>\n",
       "    <tr>\n",
       "      <th rowspan=\"5\" valign=\"top\">short presentation</th>\n",
       "      <th>reshading</th>\n",
       "      <td>0.367198</td>\n",
       "      <td>38</td>\n",
       "      <td>262144</td>\n",
       "    </tr>\n",
       "    <tr>\n",
       "      <th>edge_occlusion</th>\n",
       "      <td>0.411349</td>\n",
       "      <td>32</td>\n",
       "      <td>262144</td>\n",
       "    </tr>\n",
       "    <tr>\n",
       "      <th>keypoints3d</th>\n",
       "      <td>0.422174</td>\n",
       "      <td>31</td>\n",
       "      <td>262144</td>\n",
       "    </tr>\n",
       "    <tr>\n",
       "      <th>segment_unsup25d</th>\n",
       "      <td>0.439146</td>\n",
       "      <td>32</td>\n",
       "      <td>262144</td>\n",
       "    </tr>\n",
       "    <tr>\n",
       "      <th>vanishing_point</th>\n",
       "      <td>0.440726</td>\n",
       "      <td>18</td>\n",
       "      <td>65536</td>\n",
       "    </tr>\n",
       "    <tr>\n",
       "      <th rowspan=\"5\" valign=\"top\">long presentation</th>\n",
       "      <th>edge_occlusion</th>\n",
       "      <td>0.393943</td>\n",
       "      <td>32</td>\n",
       "      <td>262144</td>\n",
       "    </tr>\n",
       "    <tr>\n",
       "      <th>segment_unsup25d</th>\n",
       "      <td>0.394273</td>\n",
       "      <td>32</td>\n",
       "      <td>262144</td>\n",
       "    </tr>\n",
       "    <tr>\n",
       "      <th>keypoints3d</th>\n",
       "      <td>0.395719</td>\n",
       "      <td>32</td>\n",
       "      <td>262144</td>\n",
       "    </tr>\n",
       "    <tr>\n",
       "      <th>reshading</th>\n",
       "      <td>0.403122</td>\n",
       "      <td>38</td>\n",
       "      <td>262144</td>\n",
       "    </tr>\n",
       "    <tr>\n",
       "      <th>vanishing_point</th>\n",
       "      <td>0.409139</td>\n",
       "      <td>28</td>\n",
       "      <td>262144</td>\n",
       "    </tr>\n",
       "    <tr>\n",
       "      <th rowspan=\"5\" valign=\"top\">complexity order</th>\n",
       "      <th>keypoints3d</th>\n",
       "      <td>0.379807</td>\n",
       "      <td>41</td>\n",
       "      <td>262144</td>\n",
       "    </tr>\n",
       "    <tr>\n",
       "      <th>vanishing_point</th>\n",
       "      <td>0.397447</td>\n",
       "      <td>18</td>\n",
       "      <td>65536</td>\n",
       "    </tr>\n",
       "    <tr>\n",
       "      <th>reshading</th>\n",
       "      <td>0.421284</td>\n",
       "      <td>46</td>\n",
       "      <td>1048576</td>\n",
       "    </tr>\n",
       "    <tr>\n",
       "      <th>edge_occlusion</th>\n",
       "      <td>0.423733</td>\n",
       "      <td>32</td>\n",
       "      <td>262144</td>\n",
       "    </tr>\n",
       "    <tr>\n",
       "      <th>segment_unsup25d</th>\n",
       "      <td>0.489717</td>\n",
       "      <td>32</td>\n",
       "      <td>262144</td>\n",
       "    </tr>\n",
       "    <tr>\n",
       "      <th rowspan=\"5\" valign=\"top\">oasis</th>\n",
       "      <th>segment_unsup25d</th>\n",
       "      <td>0.175590</td>\n",
       "      <td>20</td>\n",
       "      <td>65536</td>\n",
       "    </tr>\n",
       "    <tr>\n",
       "      <th>jigsaw</th>\n",
       "      <td>0.181786</td>\n",
       "      <td>3</td>\n",
       "      <td>16384</td>\n",
       "    </tr>\n",
       "    <tr>\n",
       "      <th>vanishing_point</th>\n",
       "      <td>0.186468</td>\n",
       "      <td>3</td>\n",
       "      <td>16384</td>\n",
       "    </tr>\n",
       "    <tr>\n",
       "      <th>reshading</th>\n",
       "      <td>0.187156</td>\n",
       "      <td>47</td>\n",
       "      <td>1048576</td>\n",
       "    </tr>\n",
       "    <tr>\n",
       "      <th>segment_unsup2d</th>\n",
       "      <td>0.215349</td>\n",
       "      <td>16</td>\n",
       "      <td>65536</td>\n",
       "    </tr>\n",
       "  </tbody>\n",
       "</table>\n",
       "</div>"
      ],
      "text/plain": [
       "                                         corr  layer  laysize\n",
       "study              model                                     \n",
       "short presentation reshading         0.367198     38   262144\n",
       "                   edge_occlusion    0.411349     32   262144\n",
       "                   keypoints3d       0.422174     31   262144\n",
       "                   segment_unsup25d  0.439146     32   262144\n",
       "                   vanishing_point   0.440726     18    65536\n",
       "long presentation  edge_occlusion    0.393943     32   262144\n",
       "                   segment_unsup25d  0.394273     32   262144\n",
       "                   keypoints3d       0.395719     32   262144\n",
       "                   reshading         0.403122     38   262144\n",
       "                   vanishing_point   0.409139     28   262144\n",
       "complexity order   keypoints3d       0.379807     41   262144\n",
       "                   vanishing_point   0.397447     18    65536\n",
       "                   reshading         0.421284     46  1048576\n",
       "                   edge_occlusion    0.423733     32   262144\n",
       "                   segment_unsup25d  0.489717     32   262144\n",
       "oasis              segment_unsup25d  0.175590     20    65536\n",
       "                   jigsaw            0.181786      3    16384\n",
       "                   vanishing_point   0.186468      3    16384\n",
       "                   reshading         0.187156     47  1048576\n",
       "                   segment_unsup2d   0.215349     16    65536"
      ]
     },
     "execution_count": 12,
     "metadata": {},
     "output_type": "execute_result"
    }
   ],
   "source": [
    "bestlayers.loc[(\"scale8\", slice(None), slice(None))].groupby(\"study\").apply(\n",
    "    lambda df: df.sort_values(\"corr\")\n",
    ").droplevel(0).loc[list(_studies)].groupby(\"study\").tail(5)"
   ]
  },
  {
   "cell_type": "markdown",
   "metadata": {},
   "source": [
    "### scale 16: segment_unsup25d (32) "
   ]
  },
  {
   "cell_type": "code",
   "execution_count": 13,
   "metadata": {},
   "outputs": [
    {
     "data": {
      "text/html": [
       "<div>\n",
       "<style scoped>\n",
       "    .dataframe tbody tr th:only-of-type {\n",
       "        vertical-align: middle;\n",
       "    }\n",
       "\n",
       "    .dataframe tbody tr th {\n",
       "        vertical-align: top;\n",
       "    }\n",
       "\n",
       "    .dataframe thead th {\n",
       "        text-align: right;\n",
       "    }\n",
       "</style>\n",
       "<table border=\"1\" class=\"dataframe\">\n",
       "  <thead>\n",
       "    <tr style=\"text-align: right;\">\n",
       "      <th></th>\n",
       "      <th></th>\n",
       "      <th>corr</th>\n",
       "      <th>layer</th>\n",
       "      <th>laysize</th>\n",
       "    </tr>\n",
       "    <tr>\n",
       "      <th>study</th>\n",
       "      <th>model</th>\n",
       "      <th></th>\n",
       "      <th></th>\n",
       "      <th></th>\n",
       "    </tr>\n",
       "  </thead>\n",
       "  <tbody>\n",
       "    <tr>\n",
       "      <th rowspan=\"5\" valign=\"top\">short presentation</th>\n",
       "      <th>class_scene</th>\n",
       "      <td>0.300790</td>\n",
       "      <td>18</td>\n",
       "      <td>65536</td>\n",
       "    </tr>\n",
       "    <tr>\n",
       "      <th>edge_occlusion</th>\n",
       "      <td>0.318674</td>\n",
       "      <td>32</td>\n",
       "      <td>262144</td>\n",
       "    </tr>\n",
       "    <tr>\n",
       "      <th>keypoints3d</th>\n",
       "      <td>0.339122</td>\n",
       "      <td>25</td>\n",
       "      <td>262144</td>\n",
       "    </tr>\n",
       "    <tr>\n",
       "      <th>segment_unsup25d</th>\n",
       "      <td>0.363642</td>\n",
       "      <td>32</td>\n",
       "      <td>262144</td>\n",
       "    </tr>\n",
       "    <tr>\n",
       "      <th>vanishing_point</th>\n",
       "      <td>0.386038</td>\n",
       "      <td>28</td>\n",
       "      <td>262144</td>\n",
       "    </tr>\n",
       "    <tr>\n",
       "      <th rowspan=\"5\" valign=\"top\">long presentation</th>\n",
       "      <th>class_scene</th>\n",
       "      <td>0.306167</td>\n",
       "      <td>18</td>\n",
       "      <td>65536</td>\n",
       "    </tr>\n",
       "    <tr>\n",
       "      <th>keypoints3d</th>\n",
       "      <td>0.308224</td>\n",
       "      <td>25</td>\n",
       "      <td>262144</td>\n",
       "    </tr>\n",
       "    <tr>\n",
       "      <th>edge_occlusion</th>\n",
       "      <td>0.310564</td>\n",
       "      <td>32</td>\n",
       "      <td>262144</td>\n",
       "    </tr>\n",
       "    <tr>\n",
       "      <th>vanishing_point</th>\n",
       "      <td>0.338643</td>\n",
       "      <td>28</td>\n",
       "      <td>262144</td>\n",
       "    </tr>\n",
       "    <tr>\n",
       "      <th>segment_unsup25d</th>\n",
       "      <td>0.342855</td>\n",
       "      <td>32</td>\n",
       "      <td>262144</td>\n",
       "    </tr>\n",
       "    <tr>\n",
       "      <th rowspan=\"5\" valign=\"top\">complexity order</th>\n",
       "      <th>autoencoding</th>\n",
       "      <td>0.289202</td>\n",
       "      <td>25</td>\n",
       "      <td>262144</td>\n",
       "    </tr>\n",
       "    <tr>\n",
       "      <th>edge_occlusion</th>\n",
       "      <td>0.297022</td>\n",
       "      <td>32</td>\n",
       "      <td>262144</td>\n",
       "    </tr>\n",
       "    <tr>\n",
       "      <th>keypoints3d</th>\n",
       "      <td>0.353593</td>\n",
       "      <td>25</td>\n",
       "      <td>262144</td>\n",
       "    </tr>\n",
       "    <tr>\n",
       "      <th>segment_unsup25d</th>\n",
       "      <td>0.376884</td>\n",
       "      <td>32</td>\n",
       "      <td>262144</td>\n",
       "    </tr>\n",
       "    <tr>\n",
       "      <th>vanishing_point</th>\n",
       "      <td>0.388826</td>\n",
       "      <td>28</td>\n",
       "      <td>262144</td>\n",
       "    </tr>\n",
       "    <tr>\n",
       "      <th rowspan=\"5\" valign=\"top\">oasis</th>\n",
       "      <th>jigsaw</th>\n",
       "      <td>0.166900</td>\n",
       "      <td>3</td>\n",
       "      <td>16384</td>\n",
       "    </tr>\n",
       "    <tr>\n",
       "      <th>reshading</th>\n",
       "      <td>0.176367</td>\n",
       "      <td>47</td>\n",
       "      <td>1048576</td>\n",
       "    </tr>\n",
       "    <tr>\n",
       "      <th>vanishing_point</th>\n",
       "      <td>0.176404</td>\n",
       "      <td>3</td>\n",
       "      <td>16384</td>\n",
       "    </tr>\n",
       "    <tr>\n",
       "      <th>segment_unsup25d</th>\n",
       "      <td>0.186501</td>\n",
       "      <td>26</td>\n",
       "      <td>262144</td>\n",
       "    </tr>\n",
       "    <tr>\n",
       "      <th>segment_unsup2d</th>\n",
       "      <td>0.189372</td>\n",
       "      <td>16</td>\n",
       "      <td>65536</td>\n",
       "    </tr>\n",
       "  </tbody>\n",
       "</table>\n",
       "</div>"
      ],
      "text/plain": [
       "                                         corr  layer  laysize\n",
       "study              model                                     \n",
       "short presentation class_scene       0.300790     18    65536\n",
       "                   edge_occlusion    0.318674     32   262144\n",
       "                   keypoints3d       0.339122     25   262144\n",
       "                   segment_unsup25d  0.363642     32   262144\n",
       "                   vanishing_point   0.386038     28   262144\n",
       "long presentation  class_scene       0.306167     18    65536\n",
       "                   keypoints3d       0.308224     25   262144\n",
       "                   edge_occlusion    0.310564     32   262144\n",
       "                   vanishing_point   0.338643     28   262144\n",
       "                   segment_unsup25d  0.342855     32   262144\n",
       "complexity order   autoencoding      0.289202     25   262144\n",
       "                   edge_occlusion    0.297022     32   262144\n",
       "                   keypoints3d       0.353593     25   262144\n",
       "                   segment_unsup25d  0.376884     32   262144\n",
       "                   vanishing_point   0.388826     28   262144\n",
       "oasis              jigsaw            0.166900      3    16384\n",
       "                   reshading         0.176367     47  1048576\n",
       "                   vanishing_point   0.176404      3    16384\n",
       "                   segment_unsup25d  0.186501     26   262144\n",
       "                   segment_unsup2d   0.189372     16    65536"
      ]
     },
     "execution_count": 13,
     "metadata": {},
     "output_type": "execute_result"
    }
   ],
   "source": [
    "bestlayers.loc[(\"scale16\", slice(None), slice(None))].groupby(\"study\").apply(\n",
    "    lambda df: df.sort_values(\"corr\")\n",
    ").droplevel(0).loc[list(_studies)].groupby(\"study\").tail(5)"
   ]
  },
  {
   "cell_type": "markdown",
   "metadata": {},
   "source": [
    "# localized integration"
   ]
  },
  {
   "cell_type": "markdown",
   "metadata": {},
   "source": [
    "## testing"
   ]
  },
  {
   "cell_type": "code",
   "execution_count": 165,
   "metadata": {},
   "outputs": [],
   "source": [
    "# example study, scale\n",
    "st = \"short presentation\"\n",
    "sc = \"scale4\""
   ]
  },
  {
   "cell_type": "code",
   "execution_count": 166,
   "metadata": {},
   "outputs": [],
   "source": [
    "activation_extractor, layername = setup_singlelayer(\"vanishing_point\", 28)\n",
    "\n",
    "dataset = ImageDataset(os.path.join(PATH_IMAGES, study2dataset(st), sc))\n",
    "\n",
    "# init PatternGenerator with activation shape of example image\n",
    "activation_shape = (\n",
    "    list(activation_extractor(next(iter(dataset))[0]).values())[0].squeeze().shape\n",
    ")"
   ]
  },
  {
   "cell_type": "code",
   "execution_count": null,
   "metadata": {},
   "outputs": [],
   "source": [
    "pat = PatternGeneratorSearchlight(\n",
    "    activation_shape,\n",
    "    layername,\n",
    ")\n",
    "\n",
    "num_layers, num_images, num_subsets = 1, dataset.img_count, pat.num_subsets\n",
    "integration = np.full([num_layers, num_images, num_subsets], np.nan, dtype=np.float64)\n",
    "\n",
    "for img_id, (img_full, img_v1, img_v2) in enumerate(iter(dataset)):\n",
    "    # activations as tensors\n",
    "    act_full = activation_extractor(img_full)[layername].squeeze()\n",
    "    act_v1 = activation_extractor(img_v1)[layername].squeeze()\n",
    "    act_v2 = activation_extractor(img_v2)[layername].squeeze()\n",
    "    act_avg = (act_v1 + act_v2) / 2.0\n",
    "\n",
    "    # iterate 3D positions\n",
    "    pat_it = iter(pat)\n",
    "    for subset_num, roi_mask in pat_it:\n",
    "        subset_act_full = act_full[roi_mask]\n",
    "        subset_act_avg = act_avg[roi_mask]\n",
    "        # calculate integration and store it\n",
    "        subset_integration = pearsonr(\n",
    "            subset_act_full.flatten(), subset_act_avg.flatten()\n",
    "        )[0]\n",
    "        integration[:, img_id, subset_num] = subset_integration"
   ]
  },
  {
   "cell_type": "code",
   "execution_count": null,
   "metadata": {},
   "outputs": [],
   "source": [
    "df_integration = pd.DataFrame(integration.squeeze().T)\n",
    "\n",
    "df_integration.to_hdf(\n",
    "    os.path.join(\n",
    "        PATH_RESULTS,\n",
    "        \"spatial integration\",\n",
    "        st,\n",
    "        sc + \" subsetdata\",\n",
    "        mo + \".hd5\",\n",
    "    ),\n",
    "    key=\"integration\",\n",
    ")"
   ]
  },
  {
   "cell_type": "code",
   "execution_count": null,
   "metadata": {},
   "outputs": [],
   "source": [
    "# map to 3d\n",
    "# load beauty ratings\n",
    "beauty_ratings = pd.read_csv(\n",
    "    os.path.join(PATH_RATINGS, study2behaviour(st)), header=None\n",
    ").mean(axis=1)\n",
    "\n",
    "# correlate integration with beauty\n",
    "scores = correlate_integration_beauty(integration, beauty_ratings)\n",
    "\n",
    "# convert integration back to 3D layer space\n",
    "ns = NetworkScorer({layername: activation_shape})\n",
    "ns.map_back_scores(scores, pat)"
   ]
  },
  {
   "cell_type": "code",
   "execution_count": 254,
   "metadata": {},
   "outputs": [],
   "source": [
    "tmp = pd.read_hdf(os.path.join(PATH_SUBSETDATA, \"scale4 study1 18nets.h5\"))"
   ]
  },
  {
   "cell_type": "code",
   "execution_count": null,
   "metadata": {},
   "outputs": [],
   "source": [
    "tmp.index.get_level_values(\"model\").unique()"
   ]
  },
  {
   "cell_type": "code",
   "execution_count": 260,
   "metadata": {},
   "outputs": [],
   "source": [
    "tmp2 = pd.read_hdf(os.path.join(PATH_SUBSETDATA, \"scale4 study3 allnets.h5\"))"
   ]
  },
  {
   "cell_type": "code",
   "execution_count": null,
   "metadata": {},
   "outputs": [],
   "source": [
    "tmp.loc[_models]"
   ]
  },
  {
   "cell_type": "markdown",
   "metadata": {},
   "source": [
    "## functions"
   ]
  },
  {
   "cell_type": "markdown",
   "metadata": {},
   "source": [
    "### ImageDataset class for subsampling"
   ]
  },
  {
   "cell_type": "code",
   "execution_count": 164,
   "metadata": {},
   "outputs": [],
   "source": [
    "from scipy.io import loadmat\n",
    "import random\n",
    "\n",
    "\n",
    "class ImageDataset(object):\n",
    "    \"\"\"\n",
    "    Handles preparing images for input into activation extractors:\n",
    "\n",
    "        - Load images (matlab arrays) from subfolder,\n",
    "            in alphanumerical order (corresponding to beauty ratings in file).\n",
    "\n",
    "        - Transform into PyTorch format\n",
    "\n",
    "    This class provides a iterator to do so.\n",
    "    \"\"\"\n",
    "\n",
    "    def __init__(self, img_dir, beauty_ratings_path=None, subsample=None):\n",
    "\n",
    "        self.img_dir = img_dir\n",
    "        self.img_list = sorted(\n",
    "            list(f for f in os.listdir(os.path.join(img_dir, \"full\")))\n",
    "        )\n",
    "        self.img_count = len(self.img_list)\n",
    "\n",
    "        if beauty_ratings_path is not None:\n",
    "            self.beauty_ratings = pd.read_csv(beauty_ratings_path, header=None).mean(\n",
    "                axis=1\n",
    "            )\n",
    "\n",
    "        if subsample != None and beauty_ratings == None:\n",
    "            raise ValueError(\"Need to pass beauty_ratings_path when using subsampling!\")\n",
    "\n",
    "        if subsample != None:\n",
    "            idx = sorted(random.sample(range(len(self.img_list)), subsample))\n",
    "            self.img_list = [self.img_list[i] for i in idx]\n",
    "            self.img_count = len(self.img_list)\n",
    "            self.beauty_ratings = self.beauty_ratings[idx]\n",
    "\n",
    "    def __iter__(self, transform=lambda x: x):\n",
    "        self.img_pos = 0\n",
    "        return self\n",
    "\n",
    "    def __next__(self):\n",
    "        if self.img_pos < self.img_count:\n",
    "            # load arrays (transformed in matlab)\n",
    "            img_full = loadmat(\n",
    "                os.path.join(self.img_dir, \"full\", self.img_list[self.img_pos])\n",
    "            )[\"im\"]\n",
    "            img_v1 = loadmat(\n",
    "                os.path.join(self.img_dir, \"version1\", self.img_list[self.img_pos])\n",
    "            )[\"imv1\"]\n",
    "            img_v2 = loadmat(\n",
    "                os.path.join(self.img_dir, \"version2\", self.img_list[self.img_pos])\n",
    "            )[\"imv2\"]\n",
    "\n",
    "            # convert to input format of Taskonomy models\n",
    "            img_full = torch.tensor(img_full).permute([2, 0, 1]).unsqueeze(0)\n",
    "            img_v1 = torch.tensor(img_v1).permute([2, 0, 1]).unsqueeze(0)\n",
    "            img_v2 = torch.tensor(img_v2).permute([2, 0, 1]).unsqueeze(0)\n",
    "            self.img_pos += 1\n",
    "            return img_full, img_v1, img_v2\n",
    "        else:  # prepare for a possible next iteration\n",
    "            self.img_pos = 0\n",
    "            raise StopIteration"
   ]
  },
  {
   "cell_type": "code",
   "execution_count": null,
   "metadata": {},
   "outputs": [],
   "source": [
    "ImageDataset(os.path.join(PATH_IMAGES, \"oasis\", \"scale2\")).beauty_ratings"
   ]
  },
  {
   "cell_type": "markdown",
   "metadata": {},
   "source": [
    "### run spatialintegration analysis bestlayer"
   ]
  },
  {
   "cell_type": "code",
   "execution_count": 13,
   "metadata": {},
   "outputs": [],
   "source": [
    "def run_spatialintegration_analysis_bestlayer(mo, da, sc, layer_idx):\n",
    "    # setup best-layer activation extractor\n",
    "    activation_extractor, layername = setup_singlelayer(mo, layer_idx)\n",
    "\n",
    "    dataset = ImageDataset(os.path.join(PATH_IMAGES, da, sc))\n",
    "\n",
    "    # init PatternGenerator with activation shape of example image\n",
    "    pat = PatternGeneratorSearchlight(\n",
    "        list(activation_extractor(next(iter(dataset))[0]).values())[0].squeeze().shape,\n",
    "        layername,\n",
    "    )\n",
    "\n",
    "    num_layers, num_images, num_subsets = 1, dataset.img_count, pat.num_subsets\n",
    "    integration = np.full(\n",
    "        [num_layers, num_images, num_subsets], np.nan, dtype=np.float64\n",
    "    )\n",
    "\n",
    "    for img_id, (img_full, img_v1, img_v2) in tqdm(enumerate(iter(dataset))):\n",
    "        # activations as tensors\n",
    "        act_full = activation_extractor(img_full)[layername].squeeze()\n",
    "        act_v1 = activation_extractor(img_v1)[layername].squeeze()\n",
    "        act_v2 = activation_extractor(img_v2)[layername].squeeze()\n",
    "        act_avg = (act_v1 + act_v2) / 2.0\n",
    "\n",
    "        # iterate 3D positions\n",
    "        pat_it = iter(pat)\n",
    "        for subset_num, roi_mask in pat_it:\n",
    "            subset_act_full = act_full[roi_mask]\n",
    "            subset_act_avg = act_avg[roi_mask]\n",
    "            # calculate integration and store it\n",
    "            subset_integration = pearsonr(\n",
    "                subset_act_full.flatten(), subset_act_avg.flatten()\n",
    "            )[0]\n",
    "            integration[:, img_id, subset_num] = subset_integration\n",
    "\n",
    "    return pd.DataFrame(integration.squeeze().T)"
   ]
  },
  {
   "cell_type": "markdown",
   "metadata": {},
   "source": [
    "## scale2 reshading(20)"
   ]
  },
  {
   "cell_type": "code",
   "execution_count": null,
   "metadata": {},
   "outputs": [],
   "source": [
    "scale = \"scale2\"\n",
    "model = \"reshading\"\n",
    "layer = 20"
   ]
  },
  {
   "cell_type": "code",
   "execution_count": null,
   "metadata": {},
   "outputs": [],
   "source": [
    "dataset = \"places1\"\n",
    "\n",
    "run_spatialintegration_analysis_bestlayer(model, dataset, scale, layer).to_hdf(\n",
    "    os.path.join(PATH_SSINT, scale, dataset + \" \" + model + \" \" + str(layer) + \".h5\"),\n",
    "    key=\"subset integration\",\n",
    ")"
   ]
  },
  {
   "cell_type": "code",
   "execution_count": null,
   "metadata": {},
   "outputs": [],
   "source": [
    "dataset = \"places2\"\n",
    "\n",
    "run_spatialintegration_analysis_bestlayer(model, dataset, scale, layer).to_hdf(\n",
    "    os.path.join(PATH_SSINT, scale, dataset + \" \" + model + \" \" + str(layer) + \".h5\"),\n",
    "    key=\"subset integration\",\n",
    ")"
   ]
  },
  {
   "cell_type": "code",
   "execution_count": null,
   "metadata": {},
   "outputs": [],
   "source": [
    "dataset = \"oasis\"\n",
    "\n",
    "run_spatialintegration_analysis_bestlayer(model, dataset, scale, layer).to_hdf(\n",
    "    os.path.join(PATH_SSINT, scale, dataset + \" \" + model + \" \" + str(layer) + \".h5\"),\n",
    "    key=\"subset integration\",\n",
    ")"
   ]
  },
  {
   "cell_type": "markdown",
   "metadata": {},
   "source": [
    "## scale 4: segment_unsup2d(41)"
   ]
  },
  {
   "cell_type": "code",
   "execution_count": 56,
   "metadata": {},
   "outputs": [],
   "source": [
    "scale = \"scale4\"\n",
    "model = \"segment_unsup2d\"\n",
    "layer = 41"
   ]
  },
  {
   "cell_type": "code",
   "execution_count": null,
   "metadata": {},
   "outputs": [],
   "source": [
    "dataset = \"places1\"\n",
    "\n",
    "run_spatialintegration_analysis_bestlayer(model, dataset, scale, layer).to_hdf(\n",
    "    os.path.join(PATH_SSINT, scale, dataset + \" \" + model + \" \" + str(layer) + \".h5\"),\n",
    "    key=\"subset integration\",\n",
    ")"
   ]
  },
  {
   "cell_type": "code",
   "execution_count": null,
   "metadata": {},
   "outputs": [],
   "source": [
    "dataset = \"places2\"\n",
    "\n",
    "run_spatialintegration_analysis_bestlayer(model, dataset, scale, layer).to_hdf(\n",
    "    os.path.join(PATH_SSINT, scale, dataset + \" \" + model + \" \" + str(layer) + \".h5\"),\n",
    "    key=\"subset integration\",\n",
    ")"
   ]
  },
  {
   "cell_type": "code",
   "execution_count": null,
   "metadata": {},
   "outputs": [],
   "source": [
    "dataset = \"oasis\"\n",
    "\n",
    "run_spatialintegration_analysis_bestlayer(model, dataset, scale, layer).to_hdf(\n",
    "    os.path.join(PATH_SSINT, scale, dataset + \" \" + model + \" \" + str(layer) + \".h5\"),\n",
    "    key=\"subset integration\",\n",
    ")"
   ]
  },
  {
   "cell_type": "markdown",
   "metadata": {},
   "source": [
    "## scale 8: vanishing point(18) "
   ]
  },
  {
   "cell_type": "code",
   "execution_count": 60,
   "metadata": {},
   "outputs": [],
   "source": [
    "scale = \"scale8\"\n",
    "model = \"vanishing_point\"\n",
    "layer = 18"
   ]
  },
  {
   "cell_type": "code",
   "execution_count": null,
   "metadata": {},
   "outputs": [],
   "source": [
    "dataset = \"places1\"\n",
    "\n",
    "run_spatialintegration_analysis_bestlayer(model, dataset, scale, layer).to_hdf(\n",
    "    os.path.join(PATH_SSINT, scale, dataset + \" \" + model + \" \" + str(layer) + \".h5\"),\n",
    "    key=\"subset integration\",\n",
    ")"
   ]
  },
  {
   "cell_type": "code",
   "execution_count": null,
   "metadata": {},
   "outputs": [],
   "source": [
    "dataset = \"places2\"\n",
    "\n",
    "run_spatialintegration_analysis_bestlayer(model, dataset, scale, layer).to_hdf(\n",
    "    os.path.join(PATH_SSINT, scale, dataset + \" \" + model + \" \" + str(layer) + \".h5\"),\n",
    "    key=\"subset integration\",\n",
    ")"
   ]
  },
  {
   "cell_type": "code",
   "execution_count": null,
   "metadata": {},
   "outputs": [],
   "source": [
    "dataset = \"oasis\"\n",
    "\n",
    "run_spatialintegration_analysis_bestlayer(model, dataset, scale, layer).to_hdf(\n",
    "    os.path.join(PATH_SSINT, scale, dataset + \" \" + model + \" \" + str(layer) + \".h5\"),\n",
    "    key=\"subset integration\",\n",
    ")"
   ]
  },
  {
   "cell_type": "markdown",
   "metadata": {},
   "source": [
    "## scale 16: segment_unsup25d (32) "
   ]
  },
  {
   "cell_type": "code",
   "execution_count": null,
   "metadata": {},
   "outputs": [],
   "source": [
    "scale = \"scale16\"\n",
    "model = \"segment_unsup25d\"\n",
    "layer = 32"
   ]
  },
  {
   "cell_type": "code",
   "execution_count": null,
   "metadata": {},
   "outputs": [],
   "source": [
    "dataset = \"places1\"\n",
    "\n",
    "run_spatialintegration_analysis_bestlayer(model, dataset, scale, layer).to_hdf(\n",
    "    os.path.join(PATH_SSINT, scale, dataset + \" \" + model + \" \" + str(layer) + \".h5\"),\n",
    "    key=\"subset integration\",\n",
    ")"
   ]
  },
  {
   "cell_type": "code",
   "execution_count": null,
   "metadata": {},
   "outputs": [],
   "source": [
    "dataset = \"places2\"\n",
    "\n",
    "run_spatialintegration_analysis_bestlayer(model, dataset, scale, layer).to_hdf(\n",
    "    os.path.join(PATH_SSINT, scale, dataset + \" \" + model + \" \" + str(layer) + \".h5\"),\n",
    "    key=\"subset integration\",\n",
    ")"
   ]
  },
  {
   "cell_type": "code",
   "execution_count": null,
   "metadata": {},
   "outputs": [],
   "source": [
    "dataset = \"oasis\"\n",
    "\n",
    "run_spatialintegration_analysis_bestlayer(model, dataset, scale, layer).to_hdf(\n",
    "    os.path.join(PATH_SSINT, scale, dataset + \" \" + model + \" \" + str(layer) + \".h5\"),\n",
    "    key=\"subset integration\",\n",
    ")"
   ]
  },
  {
   "cell_type": "markdown",
   "metadata": {},
   "source": [
    "## randnet\n",
    "on places1"
   ]
  },
  {
   "cell_type": "code",
   "execution_count": null,
   "metadata": {},
   "outputs": [],
   "source": [
    "dataset = \"places1\"\n",
    "model = \"randnet\""
   ]
  },
  {
   "cell_type": "markdown",
   "metadata": {},
   "source": [
    "#### functions"
   ]
  },
  {
   "cell_type": "code",
   "execution_count": 4,
   "metadata": {},
   "outputs": [],
   "source": [
    "# setup nets for extracting activations from best layer\n",
    "def setup_singlelayer_randnet(layer_idx: int):\n",
    "    \"\"\"Setup activation extractor for a single layer of a random net with\n",
    "    taskonomy encoder architecture\n",
    "\n",
    "    \"\"\"\n",
    "    randnet = TaskonomyEncoder()\n",
    "    _, eval_nodes = get_graph_node_names(randnet)\n",
    "    return_nodes = {node: node for node in eval_nodes if \"conv\" in node or \"fc\" in node}\n",
    "\n",
    "    layer_name = list(return_nodes.keys())[layer_idx]\n",
    "\n",
    "    return (\n",
    "        create_feature_extractor(randnet, return_nodes={layer_name: layer_name}),\n",
    "        layer_name,\n",
    "    )"
   ]
  },
  {
   "cell_type": "code",
   "execution_count": null,
   "metadata": {},
   "outputs": [],
   "source": [
    "def run_spatialintegration_analysis_singlelayer_randnet(layer):\n",
    "    activation_extractor, layername = setup_singlelayer_randnet(layer)\n",
    "    dataset = ImageDataset(os.path.join(PATH_IMAGES, da, sc))\n",
    "\n",
    "    # init PatternGenerator with activation shape of example image\n",
    "    pat = PatternGeneratorSearchlight(\n",
    "        list(activation_extractor(next(iter(dataset))[0]).values())[0].squeeze().shape,\n",
    "        layername,\n",
    "    )\n",
    "\n",
    "    # layer x image x subset\n",
    "    num_layers, num_images, num_subsets = 1, dataset.img_count, pat.num_subsets\n",
    "    integration = np.full(\n",
    "        [num_layers, num_images, num_subsets], np.nan, dtype=np.float64\n",
    "    )\n",
    "\n",
    "    for img_id, (img_full, img_v1, img_v2) in enumerate(iter(dataset)):\n",
    "        # activations as tensors\n",
    "        act_full = activation_extractor(img_full)[layername].squeeze()\n",
    "        act_v1 = activation_extractor(img_v1)[layername].squeeze()\n",
    "        act_v2 = activation_extractor(img_v2)[layername].squeeze()\n",
    "        act_avg = (act_v1 + act_v2) / 2.0\n",
    "\n",
    "        # iterate 3D positions\n",
    "        pat_it = iter(pat)\n",
    "        for subset_num, roi_mask in pat_it:\n",
    "            subset_act_full = act_full[roi_mask]\n",
    "            subset_act_avg = act_avg[roi_mask]\n",
    "            # calculate integration and store it\n",
    "            subset_integration = pearsonr(\n",
    "                subset_act_full.flatten(), subset_act_avg.flatten()\n",
    "            )[0]\n",
    "            integration[:, img_id, subset_num] = subset_integration\n",
    "\n",
    "    return integration"
   ]
  },
  {
   "cell_type": "markdown",
   "metadata": {},
   "source": [
    "#### scale 2 (20)"
   ]
  },
  {
   "cell_type": "code",
   "execution_count": null,
   "metadata": {},
   "outputs": [],
   "source": [
    "scale = \"scale2\"\n",
    "layer = 20\n",
    "\n",
    "run_spatialintegration_analysis_singlelayer_randnet(layer).to_hdf(\n",
    "    os.path.join(PATH_SSINT, scale, dataset + \" \" + model + \" \" + str(layer) + \".h5\"),\n",
    "    key=\"subset integration\",\n",
    ")"
   ]
  },
  {
   "cell_type": "markdown",
   "metadata": {},
   "source": [
    "#### scale 4 (41)"
   ]
  },
  {
   "cell_type": "code",
   "execution_count": null,
   "metadata": {},
   "outputs": [],
   "source": [
    "scale = \"scale4\"\n",
    "layer = 41\n",
    "\n",
    "run_spatialintegration_analysis_singlelayer_randnet(layer).to_hdf(\n",
    "    os.path.join(PATH_SSINT, scale, dataset + \" \" + model + \" \" + str(layer) + \".h5\"),\n",
    "    key=\"subset integration\",\n",
    ")"
   ]
  },
  {
   "cell_type": "markdown",
   "metadata": {},
   "source": [
    "#### scale 8 (18)"
   ]
  },
  {
   "cell_type": "code",
   "execution_count": null,
   "metadata": {},
   "outputs": [],
   "source": [
    "scale = \"scale8\"\n",
    "\n",
    "layer = 18\n",
    "run_spatialintegration_analysis_singlelayer_randnet(layer).to_hdf(\n",
    "    os.path.join(PATH_SSINT, scale, dataset + \" \" + model + \" \" + str(layer) + \".h5\"),\n",
    "    key=\"subset integration\",\n",
    ")"
   ]
  },
  {
   "cell_type": "markdown",
   "metadata": {},
   "source": [
    "#### scale16 (32)"
   ]
  },
  {
   "cell_type": "code",
   "execution_count": null,
   "metadata": {},
   "outputs": [],
   "source": [
    "scale = \"scale16\"\n",
    "layer = 32\n",
    "\n",
    "run_spatialintegration_analysis_singlelayer_randnet(layer).to_hdf(\n",
    "    os.path.join(PATH_SSINT, scale, dataset + \" \" + model + \" \" + str(layer) + \".h5\"),\n",
    "    key=\"subset integration\",\n",
    ")"
   ]
  },
  {
   "cell_type": "code",
   "execution_count": null,
   "metadata": {},
   "outputs": [],
   "source": [
    "# MAP IBCORR TO 3D SPACE\n",
    "\n",
    "# load beauty ratings\n",
    "beauty_ratings = pd.read_csv(\n",
    "    os.path.join(PATH_RATINGS, study2behaviour(st)), header=None\n",
    ").mean(axis=1)\n",
    "\n",
    "# correlate integration with beauty\n",
    "scores = correlate_integration_beauty(integration, beauty_ratings)\n",
    "\n",
    "# convert integration back to 3D layer space\n",
    "ns = NetworkScorer({layername: activation_shape})\n",
    "ns.map_back_scores(scores, pat)"
   ]
  },
  {
   "cell_type": "markdown",
   "metadata": {},
   "source": [
    "## reshading(20) across scales\n",
    "for a comparison of clusters between scales"
   ]
  },
  {
   "cell_type": "code",
   "execution_count": null,
   "metadata": {},
   "outputs": [],
   "source": [
    "dataset = \"places1\"\n",
    "model = \"reshading\"\n",
    "layer = 20"
   ]
  },
  {
   "cell_type": "code",
   "execution_count": 17,
   "metadata": {},
   "outputs": [
    {
     "name": "stderr",
     "output_type": "stream",
     "text": [
      "250it [17:28,  4.19s/it]\n",
      "/home/max/miniconda3/envs/PytorchEnv/lib/python3.8/site-packages/tables/path.py:137: NaturalNameWarning: object name is not a valid Python identifier: 'subset integration'; it does not match the pattern ``^[a-zA-Z_][a-zA-Z0-9_]*$``; you will not be able to use natural naming to access this object; using ``getattr()`` will still work, though\n",
      "  check_attribute_name(name)\n"
     ]
    }
   ],
   "source": [
    "scale = \"scale4\"\n",
    "\n",
    "run_spatialintegration_analysis_bestlayer(model, dataset, scale, layer).to_hdf(\n",
    "    os.path.join(PATH_SSINT, scale, dataset + \" \" + model + \" \" + str(layer) + \".h5\"),\n",
    "    key=\"subset integration\",\n",
    ")"
   ]
  },
  {
   "cell_type": "code",
   "execution_count": 16,
   "metadata": {},
   "outputs": [
    {
     "name": "stderr",
     "output_type": "stream",
     "text": [
      "250it [17:30,  4.20s/it]\n",
      "/home/max/miniconda3/envs/PytorchEnv/lib/python3.8/site-packages/tables/path.py:137: NaturalNameWarning: object name is not a valid Python identifier: 'subset integration'; it does not match the pattern ``^[a-zA-Z_][a-zA-Z0-9_]*$``; you will not be able to use natural naming to access this object; using ``getattr()`` will still work, though\n",
      "  check_attribute_name(name)\n"
     ]
    }
   ],
   "source": [
    "scale = \"scale8\"\n",
    "\n",
    "run_spatialintegration_analysis_bestlayer(model, dataset, scale, layer).to_hdf(\n",
    "    os.path.join(PATH_SSINT, scale, dataset + \" \" + model + \" \" + str(layer) + \".h5\"),\n",
    "    key=\"subset integration\",\n",
    ")"
   ]
  },
  {
   "cell_type": "code",
   "execution_count": 15,
   "metadata": {},
   "outputs": [
    {
     "name": "stderr",
     "output_type": "stream",
     "text": [
      "250it [17:16,  4.15s/it]\n",
      "/home/max/miniconda3/envs/PytorchEnv/lib/python3.8/site-packages/tables/path.py:137: NaturalNameWarning: object name is not a valid Python identifier: 'subset integration'; it does not match the pattern ``^[a-zA-Z_][a-zA-Z0-9_]*$``; you will not be able to use natural naming to access this object; using ``getattr()`` will still work, though\n",
      "  check_attribute_name(name)\n"
     ]
    }
   ],
   "source": [
    "scale = \"scale16\"\n",
    "\n",
    "run_spatialintegration_analysis_bestlayer(model, dataset, scale, layer).to_hdf(\n",
    "    os.path.join(PATH_SSINT, scale, dataset + \" \" + model + \" \" + str(layer) + \".h5\"),\n",
    "    key=\"subset integration\",\n",
    ")"
   ]
  },
  {
   "cell_type": "markdown",
   "metadata": {},
   "source": [
    "## segment_unsup25d (32) across scales"
   ]
  },
  {
   "cell_type": "code",
   "execution_count": 18,
   "metadata": {},
   "outputs": [],
   "source": [
    "dataset = \"places1\"\n",
    "model = \"segment_unsup25d\"\n",
    "layer = 32"
   ]
  },
  {
   "cell_type": "code",
   "execution_count": 19,
   "metadata": {},
   "outputs": [
    {
     "name": "stderr",
     "output_type": "stream",
     "text": [
      "250it [39:20,  9.44s/it]\n",
      "/home/max/miniconda3/envs/PytorchEnv/lib/python3.8/site-packages/tables/path.py:137: NaturalNameWarning: object name is not a valid Python identifier: 'subset integration'; it does not match the pattern ``^[a-zA-Z_][a-zA-Z0-9_]*$``; you will not be able to use natural naming to access this object; using ``getattr()`` will still work, though\n",
      "  check_attribute_name(name)\n"
     ]
    }
   ],
   "source": [
    "scale = \"scale2\"\n",
    "run_spatialintegration_analysis_bestlayer(model, dataset, scale, layer).to_hdf(\n",
    "    os.path.join(PATH_SSINT, scale, dataset + \" \" + model + \" \" + str(layer) + \".h5\"),\n",
    "    key=\"subset integration\",\n",
    ")"
   ]
  },
  {
   "cell_type": "code",
   "execution_count": 20,
   "metadata": {},
   "outputs": [
    {
     "name": "stderr",
     "output_type": "stream",
     "text": [
      "250it [38:02,  9.13s/it]\n",
      "/home/max/miniconda3/envs/PytorchEnv/lib/python3.8/site-packages/tables/path.py:137: NaturalNameWarning: object name is not a valid Python identifier: 'subset integration'; it does not match the pattern ``^[a-zA-Z_][a-zA-Z0-9_]*$``; you will not be able to use natural naming to access this object; using ``getattr()`` will still work, though\n",
      "  check_attribute_name(name)\n"
     ]
    }
   ],
   "source": [
    "scale = \"scale4\"\n",
    "run_spatialintegration_analysis_bestlayer(model, dataset, scale, layer).to_hdf(\n",
    "    os.path.join(PATH_SSINT, scale, dataset + \" \" + model + \" \" + str(layer) + \".h5\"),\n",
    "    key=\"subset integration\",\n",
    ")"
   ]
  },
  {
   "cell_type": "code",
   "execution_count": 21,
   "metadata": {},
   "outputs": [
    {
     "name": "stderr",
     "output_type": "stream",
     "text": [
      "250it [38:02,  9.13s/it]\n",
      "/home/max/miniconda3/envs/PytorchEnv/lib/python3.8/site-packages/tables/path.py:137: NaturalNameWarning: object name is not a valid Python identifier: 'subset integration'; it does not match the pattern ``^[a-zA-Z_][a-zA-Z0-9_]*$``; you will not be able to use natural naming to access this object; using ``getattr()`` will still work, though\n",
      "  check_attribute_name(name)\n"
     ]
    }
   ],
   "source": [
    "scale = \"scale8\"\n",
    "run_spatialintegration_analysis_bestlayer(model, dataset, scale, layer).to_hdf(\n",
    "    os.path.join(PATH_SSINT, scale, dataset + \" \" + model + \" \" + str(layer) + \".h5\"),\n",
    "    key=\"subset integration\",\n",
    ")"
   ]
  },
  {
   "cell_type": "markdown",
   "metadata": {},
   "source": [
    "## (old) all models"
   ]
  },
  {
   "cell_type": "code",
   "execution_count": null,
   "metadata": {},
   "outputs": [],
   "source": [
    "# # run analysis\n",
    "# for mo in MODEL_NAMES:\n",
    "#     print(mo)\n",
    "#     integration_subsets = run_spatialintegration_analysis_bestlayer(mo, _study, _scale)\n",
    "#     integration = pd.DataFrame(integration_subsets.squeeze().T)\n",
    "#     integration.to_hdf(\n",
    "#         os.path.join(\n",
    "#             PATH_RESULTS,\n",
    "#             \"spatial integration\",\n",
    "#             _scale,\n",
    "#             _study + \" subsetdata\",\n",
    "#             mo + \".hd5\",\n",
    "#         ),\n",
    "#         key=\"integration\",\n",
    "#     )"
   ]
  },
  {
   "cell_type": "code",
   "execution_count": null,
   "metadata": {},
   "outputs": [],
   "source": [
    "# old loading code\n",
    "# with open(os.path.join(PATH_RESULTS, RESULTS_SEMANTIC_PLACES1, \"semantic_integration.npy\"), 'rb') as f:\n",
    "#     integration = np.load(f)"
   ]
  },
  {
   "cell_type": "markdown",
   "metadata": {},
   "source": [
    "## (old) vanishing_points(28) across scales and studies"
   ]
  },
  {
   "cell_type": "code",
   "execution_count": null,
   "metadata": {},
   "outputs": [
    {
     "data": {
      "text/html": [
       "<div>\n",
       "<style scoped>\n",
       "    .dataframe tbody tr th:only-of-type {\n",
       "        vertical-align: middle;\n",
       "    }\n",
       "\n",
       "    .dataframe tbody tr th {\n",
       "        vertical-align: top;\n",
       "    }\n",
       "\n",
       "    .dataframe thead th {\n",
       "        text-align: right;\n",
       "    }\n",
       "</style>\n",
       "<table border=\"1\" class=\"dataframe\">\n",
       "  <thead>\n",
       "    <tr style=\"text-align: right;\">\n",
       "      <th></th>\n",
       "      <th></th>\n",
       "      <th>ibcorr</th>\n",
       "    </tr>\n",
       "    <tr>\n",
       "      <th>study</th>\n",
       "      <th>scale</th>\n",
       "      <th></th>\n",
       "    </tr>\n",
       "  </thead>\n",
       "  <tbody>\n",
       "    <tr>\n",
       "      <th rowspan=\"5\" valign=\"top\">complexity order</th>\n",
       "      <th>scale16</th>\n",
       "      <td>(complexity order, scale16, 28)</td>\n",
       "    </tr>\n",
       "    <tr>\n",
       "      <th>scale2</th>\n",
       "      <td>(complexity order, scale2, 18)</td>\n",
       "    </tr>\n",
       "    <tr>\n",
       "      <th>scale32</th>\n",
       "      <td>(complexity order, scale32, 29)</td>\n",
       "    </tr>\n",
       "    <tr>\n",
       "      <th>scale4</th>\n",
       "      <td>(complexity order, scale4, 18)</td>\n",
       "    </tr>\n",
       "    <tr>\n",
       "      <th>scale8</th>\n",
       "      <td>(complexity order, scale8, 18)</td>\n",
       "    </tr>\n",
       "    <tr>\n",
       "      <th rowspan=\"5\" valign=\"top\">long presentation</th>\n",
       "      <th>scale16</th>\n",
       "      <td>(long presentation, scale16, 28)</td>\n",
       "    </tr>\n",
       "    <tr>\n",
       "      <th>scale2</th>\n",
       "      <td>(long presentation, scale2, 28)</td>\n",
       "    </tr>\n",
       "    <tr>\n",
       "      <th>scale32</th>\n",
       "      <td>(long presentation, scale32, 33)</td>\n",
       "    </tr>\n",
       "    <tr>\n",
       "      <th>scale4</th>\n",
       "      <td>(long presentation, scale4, 28)</td>\n",
       "    </tr>\n",
       "    <tr>\n",
       "      <th>scale8</th>\n",
       "      <td>(long presentation, scale8, 28)</td>\n",
       "    </tr>\n",
       "    <tr>\n",
       "      <th rowspan=\"5\" valign=\"top\">oasis</th>\n",
       "      <th>scale16</th>\n",
       "      <td>(oasis, scale16, 3)</td>\n",
       "    </tr>\n",
       "    <tr>\n",
       "      <th>scale2</th>\n",
       "      <td>(oasis, scale2, 6)</td>\n",
       "    </tr>\n",
       "    <tr>\n",
       "      <th>scale32</th>\n",
       "      <td>(oasis, scale32, 25)</td>\n",
       "    </tr>\n",
       "    <tr>\n",
       "      <th>scale4</th>\n",
       "      <td>(oasis, scale4, 6)</td>\n",
       "    </tr>\n",
       "    <tr>\n",
       "      <th>scale8</th>\n",
       "      <td>(oasis, scale8, 3)</td>\n",
       "    </tr>\n",
       "    <tr>\n",
       "      <th rowspan=\"5\" valign=\"top\">short presentation</th>\n",
       "      <th>scale16</th>\n",
       "      <td>(short presentation, scale16, 28)</td>\n",
       "    </tr>\n",
       "    <tr>\n",
       "      <th>scale2</th>\n",
       "      <td>(short presentation, scale2, 28)</td>\n",
       "    </tr>\n",
       "    <tr>\n",
       "      <th>scale32</th>\n",
       "      <td>(short presentation, scale32, 29)</td>\n",
       "    </tr>\n",
       "    <tr>\n",
       "      <th>scale4</th>\n",
       "      <td>(short presentation, scale4, 28)</td>\n",
       "    </tr>\n",
       "    <tr>\n",
       "      <th>scale8</th>\n",
       "      <td>(short presentation, scale8, 18)</td>\n",
       "    </tr>\n",
       "  </tbody>\n",
       "</table>\n",
       "</div>"
      ],
      "text/plain": [
       "                                                       ibcorr\n",
       "study              scale                                     \n",
       "complexity order   scale16    (complexity order, scale16, 28)\n",
       "                   scale2      (complexity order, scale2, 18)\n",
       "                   scale32    (complexity order, scale32, 29)\n",
       "                   scale4      (complexity order, scale4, 18)\n",
       "                   scale8      (complexity order, scale8, 18)\n",
       "long presentation  scale16   (long presentation, scale16, 28)\n",
       "                   scale2     (long presentation, scale2, 28)\n",
       "                   scale32   (long presentation, scale32, 33)\n",
       "                   scale4     (long presentation, scale4, 28)\n",
       "                   scale8     (long presentation, scale8, 28)\n",
       "oasis              scale16                (oasis, scale16, 3)\n",
       "                   scale2                  (oasis, scale2, 6)\n",
       "                   scale32               (oasis, scale32, 25)\n",
       "                   scale4                  (oasis, scale4, 6)\n",
       "                   scale8                  (oasis, scale8, 3)\n",
       "short presentation scale16  (short presentation, scale16, 28)\n",
       "                   scale2    (short presentation, scale2, 28)\n",
       "                   scale32  (short presentation, scale32, 29)\n",
       "                   scale4    (short presentation, scale4, 28)\n",
       "                   scale8    (short presentation, scale8, 18)"
      ]
     },
     "metadata": {},
     "output_type": "display_data"
    }
   ],
   "source": [
    "dfibcorr.loc[\"vanishing_point\"].groupby([\"study\", \"scale\"]).idxmax()"
   ]
  },
  {
   "cell_type": "code",
   "execution_count": null,
   "metadata": {},
   "outputs": [],
   "source": [
    "st = \"short presentation\"\n",
    "sc = \"scale2\"\n",
    "mo = \"vanishing_point\"\n",
    "integration = run_spatialintegration_analysis_bestlayer(mo, st, sc, 28)\n",
    "\n",
    "df_integration = pd.DataFrame(integration.squeeze().T)\n",
    "\n",
    "df_integration.to_hdf(\n",
    "    os.path.join(\n",
    "        PATH_SUBSETDATA,\n",
    "        \"vanishing_points\",\n",
    "        st + sc + \"layer28\" + \".hd5\",\n",
    "    ),\n",
    "    key=\"integration\",\n",
    ")"
   ]
  },
  {
   "cell_type": "code",
   "execution_count": null,
   "metadata": {},
   "outputs": [],
   "source": [
    "st = \"complexity order\"\n",
    "sc = \"scale2\"\n",
    "mo = \"vanishing_point\"\n",
    "integration = run_spatialintegration_analysis_bestlayer(mo, st, sc, 28)\n",
    "df_integration = pd.DataFrame(integration.squeeze().T)\n",
    "\n",
    "df_integration.to_hdf(\n",
    "    os.path.join(\n",
    "        PATH_SUBSETDATA,\n",
    "        st + sc + mo + \"layer28\" + \".hd5\",\n",
    "    ),\n",
    "    key=\"integration\",\n",
    ")"
   ]
  },
  {
   "cell_type": "code",
   "execution_count": null,
   "metadata": {},
   "outputs": [],
   "source": [
    "st = \"oasis\"\n",
    "sc = \"scale2\"\n",
    "mo = \"vanishing_point\"\n",
    "integration = run_spatialintegration_analysis_bestlayer(mo, st, sc, 28)\n",
    "df_integration = pd.DataFrame(integration.squeeze().T)\n",
    "\n",
    "df_integration.to_hdf(\n",
    "    os.path.join(\n",
    "        PATH_SUBSETDATA,\n",
    "        st + sc + mo + \"layer28\" + \".hd5\",\n",
    "    ),\n",
    "    key=\"integration\",\n",
    ")"
   ]
  },
  {
   "cell_type": "code",
   "execution_count": null,
   "metadata": {},
   "outputs": [],
   "source": [
    "st = \"short presentation\"\n",
    "sc = \"scale8\"\n",
    "mo = \"vanishing_point\"\n",
    "integration = run_spatialintegration_analysis_bestlayer(mo, st, sc, 28)\n",
    "df_integration = pd.DataFrame(integration.squeeze().T)\n",
    "\n",
    "df_integration.to_hdf(\n",
    "    os.path.join(\n",
    "        PATH_SUBSETDATA,\n",
    "        st + sc + mo + \"layer28\" + \".hd5\",\n",
    "    ),\n",
    "    key=\"integration\",\n",
    ")"
   ]
  },
  {
   "cell_type": "code",
   "execution_count": null,
   "metadata": {},
   "outputs": [],
   "source": [
    "st = \"complexity order\"\n",
    "sc = \"scale8\"\n",
    "mo = \"vanishing_point\"\n",
    "integration = run_spatialintegration_analysis_bestlayer(mo, st, sc, 28)\n",
    "df_integration = pd.DataFrame(integration.squeeze().T)\n",
    "\n",
    "df_integration.to_hdf(\n",
    "    os.path.join(\n",
    "        PATH_SUBSETDATA,\n",
    "        st + sc + mo + \"layer28\" + \".hd5\",\n",
    "    ),\n",
    "    key=\"integration\",\n",
    ")"
   ]
  },
  {
   "cell_type": "code",
   "execution_count": null,
   "metadata": {},
   "outputs": [],
   "source": [
    "st = \"oasis\"\n",
    "sc = \"scale8\"\n",
    "mo = \"vanishing_point\"\n",
    "integration = run_spatialintegration_analysis_bestlayer(mo, st, sc, 28)\n",
    "df_integration = pd.DataFrame(integration.squeeze().T)\n",
    "\n",
    "df_integration.to_hdf(\n",
    "    os.path.join(\n",
    "        PATH_SUBSETDATA,\n",
    "        st + sc + mo + \"layer28\" + \".hd5\",\n",
    "    ),\n",
    "    key=\"integration\",\n",
    ")"
   ]
  },
  {
   "cell_type": "markdown",
   "metadata": {},
   "source": [
    "# localized ibcorr\n",
    "take arrays of subset integrations from analysis and correlate with ratings"
   ]
  },
  {
   "cell_type": "markdown",
   "metadata": {},
   "source": [
    "## testing"
   ]
  },
  {
   "cell_type": "code",
   "execution_count": null,
   "metadata": {},
   "outputs": [],
   "source": [
    "subset_correlations = (\n",
    "    dfsubsets.loc[_models]\n",
    "    .apply(\n",
    "        lambda r: pd.Series(spearmanr(r, beauty_ratings[\"study3_places2.csv\"])), axis=1\n",
    "    )\n",
    "    .rename({0: \"correlation\", 1: \"pvalue\"}, axis=1)\n",
    ")"
   ]
  },
  {
   "cell_type": "code",
   "execution_count": null,
   "metadata": {},
   "outputs": [],
   "source": [
    "# in the previous analysis, there conversion from correlation to integration is missing\n",
    "subset_correlations[\"correlation\"] = -subset_correlations[\"correlation\"]"
   ]
  },
  {
   "cell_type": "code",
   "execution_count": null,
   "metadata": {},
   "outputs": [],
   "source": [
    "# save\n",
    "subset_correlations.to_hdf(\n",
    "    os.path.join(\n",
    "        PATH_RESULTS,\n",
    "        \"spatial integration\",\n",
    "        \"subset correlations\",\n",
    "        \"study3 scale4 topnets.h5\",\n",
    "    ),\n",
    "    key=\"subset correlations\",\n",
    ")"
   ]
  },
  {
   "cell_type": "code",
   "execution_count": 77,
   "metadata": {},
   "outputs": [],
   "source": [
    "# load\n",
    "subset_correlations = pd.read_hdf(\n",
    "    os.path.join(\n",
    "        PATH_RESULTS,\n",
    "        \"spatial integration\",\n",
    "        \"subset correlations\",\n",
    "        \"study3 scale4 topnets.h5\",\n",
    "    ),\n",
    "    key=\"subset correlations\",\n",
    ")\n",
    "subset_correlations = subset_correlations.rename({\"corr\": \"correlation\"}, axis=1)"
   ]
  },
  {
   "cell_type": "code",
   "execution_count": 329,
   "metadata": {},
   "outputs": [],
   "source": [
    "# get mask for significant subsets\n",
    "subset_significance = subset_correlations.pvalue.groupby(\"model\").apply(\n",
    "    lambda g: g < 0.05 / len(g)\n",
    ")"
   ]
  },
  {
   "cell_type": "markdown",
   "metadata": {},
   "source": [
    "## function"
   ]
  },
  {
   "cell_type": "code",
   "execution_count": 79,
   "metadata": {},
   "outputs": [],
   "source": [
    "def correlate_localized_integration(integration: pd.DataFrame, study):\n",
    "\n",
    "    return integration.apply(\n",
    "        lambda r: pd.Series(spearmanr(r, studyratings(study))), axis=1\n",
    "    ).rename({0: \"correlation\", 1: \"pvalue\"}, axis=1)"
   ]
  },
  {
   "cell_type": "markdown",
   "metadata": {},
   "source": [
    "## scale2"
   ]
  },
  {
   "cell_type": "code",
   "execution_count": 19,
   "metadata": {},
   "outputs": [],
   "source": [
    "scale = \"scale2\"\n",
    "model = \"reshading\"\n",
    "layer = 20"
   ]
  },
  {
   "cell_type": "code",
   "execution_count": 91,
   "metadata": {},
   "outputs": [],
   "source": [
    "study = \"study1\"\n",
    "\n",
    "correlate_localized_integration(\n",
    "    pd.read_hdf(\n",
    "        os.path.join(\n",
    "            PATH_SSINT,\n",
    "            scale,\n",
    "            study2dataset(study) + \" \" + model + \" \" + str(layer) + \".h5\",\n",
    "        ),\n",
    "        key=\"subset_integration\",\n",
    "    ),\n",
    "    study,\n",
    ").to_hdf(\n",
    "    os.path.join(PATH_SSIBC, scale, study + \" \" + model + \" \" + str(layer) + \".h5\"),\n",
    "    key=\"subset_ibcorr\",\n",
    ")"
   ]
  },
  {
   "cell_type": "code",
   "execution_count": 92,
   "metadata": {},
   "outputs": [],
   "source": [
    "study = \"study2\"\n",
    "\n",
    "correlate_localized_integration(\n",
    "    pd.read_hdf(\n",
    "        os.path.join(\n",
    "            PATH_SSINT,\n",
    "            scale,\n",
    "            study2dataset(study) + \" \" + model + \" \" + str(layer) + \".h5\",\n",
    "        ),\n",
    "        key=\"subset_integration\",\n",
    "    ),\n",
    "    study,\n",
    ").to_hdf(\n",
    "    os.path.join(PATH_SSIBC, scale, study + \" \" + model + \" \" + str(layer) + \".h5\"),\n",
    "    key=\"subset_ibcorr\",\n",
    ")"
   ]
  },
  {
   "cell_type": "code",
   "execution_count": 93,
   "metadata": {},
   "outputs": [],
   "source": [
    "study = \"study3\"\n",
    "\n",
    "correlate_localized_integration(\n",
    "    pd.read_hdf(\n",
    "        os.path.join(\n",
    "            PATH_SSINT,\n",
    "            scale,\n",
    "            study2dataset(study) + \" \" + model + \" \" + str(layer) + \".h5\",\n",
    "        ),\n",
    "        key=\"subset_integration\",\n",
    "    ),\n",
    "    study,\n",
    ").to_hdf(\n",
    "    os.path.join(PATH_SSIBC, scale, study + \" \" + model + \" \" + str(layer) + \".h5\"),\n",
    "    key=\"subset_ibcorr\",\n",
    ")"
   ]
  },
  {
   "cell_type": "code",
   "execution_count": null,
   "metadata": {},
   "outputs": [],
   "source": [
    "study = \"study4\"\n",
    "\n",
    "correlate_localized_integration(\n",
    "    pd.read_hdf(\n",
    "        os.path.join(\n",
    "            PATH_SSINT,\n",
    "            scale,\n",
    "            study2dataset(study) + \" \" + model + \" \" + str(layer) + \".h5\",\n",
    "        ),\n",
    "        key=\"subset_integration\",\n",
    "    ),\n",
    "    study,\n",
    ").to_hdf(\n",
    "    os.path.join(PATH_SSIBC, scale, study + \" \" + model + \" \" + str(layer) + \".h5\"),\n",
    "    key=\"subset_ibcorr\",\n",
    ")"
   ]
  },
  {
   "cell_type": "markdown",
   "metadata": {},
   "source": [
    "## scale4"
   ]
  },
  {
   "cell_type": "code",
   "execution_count": 95,
   "metadata": {},
   "outputs": [],
   "source": [
    "scale = \"scale4\"\n",
    "model = \"segment_unsup2d\"\n",
    "layer = 41"
   ]
  },
  {
   "cell_type": "code",
   "execution_count": 96,
   "metadata": {},
   "outputs": [],
   "source": [
    "study = \"study1\"\n",
    "\n",
    "correlate_localized_integration(\n",
    "    pd.read_hdf(\n",
    "        os.path.join(\n",
    "            PATH_SSINT,\n",
    "            scale,\n",
    "            study2dataset(study) + \" \" + model + \" \" + str(layer) + \".h5\",\n",
    "        ),\n",
    "        key=\"subset integration\",\n",
    "    ),\n",
    "    study,\n",
    ").to_hdf(\n",
    "    os.path.join(PATH_SSIBC, scale, study + \" \" + model + \" \" + str(layer) + \".h5\"),\n",
    "    key=\"subset_ibcorr\",\n",
    ")"
   ]
  },
  {
   "cell_type": "code",
   "execution_count": 98,
   "metadata": {},
   "outputs": [],
   "source": [
    "study = \"study2\"\n",
    "\n",
    "correlate_localized_integration(\n",
    "    pd.read_hdf(\n",
    "        os.path.join(\n",
    "            PATH_SSINT,\n",
    "            scale,\n",
    "            study2dataset(study) + \" \" + model + \" \" + str(layer) + \".h5\",\n",
    "        ),\n",
    "        key=\"subset integration\",\n",
    "    ),\n",
    "    study,\n",
    ").to_hdf(\n",
    "    os.path.join(PATH_SSIBC, scale, study + \" \" + model + \" \" + str(layer) + \".h5\"),\n",
    "    key=\"subset_ibcorr\",\n",
    ")"
   ]
  },
  {
   "cell_type": "code",
   "execution_count": 99,
   "metadata": {},
   "outputs": [],
   "source": [
    "study = \"study3\"\n",
    "\n",
    "correlate_localized_integration(\n",
    "    pd.read_hdf(\n",
    "        os.path.join(\n",
    "            PATH_SSINT,\n",
    "            scale,\n",
    "            study2dataset(study) + \" \" + model + \" \" + str(layer) + \".h5\",\n",
    "        ),\n",
    "        key=\"subset integration\",\n",
    "    ),\n",
    "    study,\n",
    ").to_hdf(\n",
    "    os.path.join(PATH_SSIBC, scale, study + \" \" + model + \" \" + str(layer) + \".h5\"),\n",
    "    key=\"subset_ibcorr\",\n",
    ")"
   ]
  },
  {
   "cell_type": "code",
   "execution_count": 100,
   "metadata": {},
   "outputs": [],
   "source": [
    "study = \"study4\"\n",
    "\n",
    "correlate_localized_integration(\n",
    "    pd.read_hdf(\n",
    "        os.path.join(\n",
    "            PATH_SSINT,\n",
    "            scale,\n",
    "            study2dataset(study) + \" \" + model + \" \" + str(layer) + \".h5\",\n",
    "        ),\n",
    "        key=\"subset integration\",\n",
    "    ),\n",
    "    study,\n",
    ").to_hdf(\n",
    "    os.path.join(PATH_SSIBC, scale, study + \" \" + model + \" \" + str(layer) + \".h5\"),\n",
    "    key=\"subset_ibcorr\",\n",
    ")"
   ]
  },
  {
   "cell_type": "markdown",
   "metadata": {},
   "source": [
    "## scale8"
   ]
  },
  {
   "cell_type": "code",
   "execution_count": 192,
   "metadata": {},
   "outputs": [],
   "source": [
    "scale = \"scale8\"\n",
    "model = \"vanishing_point\"\n",
    "layer = 18"
   ]
  },
  {
   "cell_type": "code",
   "execution_count": 102,
   "metadata": {},
   "outputs": [],
   "source": [
    "study = \"study1\"\n",
    "\n",
    "correlate_localized_integration(\n",
    "    pd.read_hdf(\n",
    "        os.path.join(\n",
    "            PATH_SSINT,\n",
    "            scale,\n",
    "            study2dataset(study) + \" \" + model + \" \" + str(layer) + \".h5\",\n",
    "        ),\n",
    "        key=\"subset integration\",\n",
    "    ),\n",
    "    study,\n",
    ").to_hdf(\n",
    "    os.path.join(PATH_SSIBC, scale, study + \" \" + model + \" \" + str(layer) + \".h5\"),\n",
    "    key=\"subset_ibcorr\",\n",
    ")"
   ]
  },
  {
   "cell_type": "code",
   "execution_count": 103,
   "metadata": {},
   "outputs": [],
   "source": [
    "study = \"study2\"\n",
    "\n",
    "correlate_localized_integration(\n",
    "    pd.read_hdf(\n",
    "        os.path.join(\n",
    "            PATH_SSINT,\n",
    "            scale,\n",
    "            study2dataset(study) + \" \" + model + \" \" + str(layer) + \".h5\",\n",
    "        ),\n",
    "        key=\"subset integration\",\n",
    "    ),\n",
    "    study,\n",
    ").to_hdf(\n",
    "    os.path.join(PATH_SSIBC, scale, study + \" \" + model + \" \" + str(layer) + \".h5\"),\n",
    "    key=\"subset_ibcorr\",\n",
    ")"
   ]
  },
  {
   "cell_type": "code",
   "execution_count": 104,
   "metadata": {},
   "outputs": [],
   "source": [
    "study = \"study3\"\n",
    "\n",
    "correlate_localized_integration(\n",
    "    pd.read_hdf(\n",
    "        os.path.join(\n",
    "            PATH_SSINT,\n",
    "            scale,\n",
    "            study2dataset(study) + \" \" + model + \" \" + str(layer) + \".h5\",\n",
    "        ),\n",
    "        key=\"subset integration\",\n",
    "    ),\n",
    "    study,\n",
    ").to_hdf(\n",
    "    os.path.join(PATH_SSIBC, scale, study + \" \" + model + \" \" + str(layer) + \".h5\"),\n",
    "    key=\"subset_ibcorr\",\n",
    ")"
   ]
  },
  {
   "cell_type": "markdown",
   "metadata": {},
   "source": [
    "# correlation histograms\n",
    "topmodels for scale4"
   ]
  },
  {
   "cell_type": "code",
   "execution_count": 841,
   "metadata": {},
   "outputs": [],
   "source": [
    "plt.rcParams[\"xtick.labelsize\"] = 17\n",
    "plt.rcParams[\"ytick.labelsize\"] = 12\n",
    "plt.rcParams[\"axes.titlesize\"] = 17\n",
    "plt.rcParams[\"axes.labelsize\"] = 17  # Axis labels"
   ]
  },
  {
   "cell_type": "code",
   "execution_count": 859,
   "metadata": {},
   "outputs": [],
   "source": [
    "subset_correlations[\"correlation_fisher\"] = subset_correlations.correlation.transform(\n",
    "    np.arctanh\n",
    ")"
   ]
  },
  {
   "cell_type": "code",
   "execution_count": 876,
   "metadata": {},
   "outputs": [
    {
     "data": {
      "image/png": "[encoded data removed]",
      "text/plain": [
       "<Figure size 1080x648 with 12 Axes>"
      ]
     },
     "metadata": {
      "needs_background": "light"
     },
     "output_type": "display_data"
    }
   ],
   "source": [
    "fig, axes = plt.subplots(4, 3, figsize=(15, 9), sharex=True, sharey=False)\n",
    "\n",
    "for idx, mo, ax in zip(range(12), _models_ordered[::-1], axes.flat):\n",
    "    if idx in (0, 3, 6, 9):\n",
    "        ax.set_ylabel(\"voxel count\")\n",
    "    if idx in (9, 10, 11):\n",
    "        ax.set_xlabel(\"integration-beauty correlation\")\n",
    "\n",
    "    subset_correlations.loc[mo].correlation.hist(bins=50, ax=ax, color=\"blue\")\n",
    "    ax.set_title(mo)\n",
    "    ax.grid(visible=False)\n",
    "    ax.axvline(color=\"magenta\")\n",
    "    ax.set_xlim(-0.4, 0.4)\n",
    "fig.tight_layout()"
   ]
  },
  {
   "cell_type": "markdown",
   "metadata": {},
   "source": [
    "## ammount of highly predictive subsets"
   ]
  },
  {
   "cell_type": "code",
   "execution_count": 349,
   "metadata": {},
   "outputs": [],
   "source": [
    "subset_significance_ratio = (\n",
    "    subset_significance.groupby(\"model\").sum()\n",
    "    / subset_significance.groupby(\"model\").count()\n",
    ")"
   ]
  },
  {
   "cell_type": "code",
   "execution_count": 875,
   "metadata": {},
   "outputs": [
    {
     "data": {
      "text/plain": [
       "Text(0.5, 0, 'ratio of significant voxels after MCC')"
      ]
     },
     "execution_count": 875,
     "metadata": {},
     "output_type": "execute_result"
    },
    {
     "data": {
      "image/png": "[encoded data removed]",
      "text/plain": [
       "<Figure size 931.968x576 with 1 Axes>"
      ]
     },
     "metadata": {
      "needs_background": "light"
     },
     "output_type": "display_data"
    }
   ],
   "source": [
    "ax = subset_significance_ratio[_models_ordered[::-1]].plot.barh(\n",
    "    color=\"blue\", ec=\"magenta\", linewidth=0.7, figsize=(8 * 1.618, 8)\n",
    ")\n",
    "ax.set_xlabel(\"ratio of significant voxels after MCC\")"
   ]
  },
  {
   "cell_type": "code",
   "execution_count": 877,
   "metadata": {},
   "outputs": [],
   "source": [
    "# compare localized integration and full integration"
   ]
  },
  {
   "cell_type": "markdown",
   "metadata": {},
   "source": [
    "# map to 3D space"
   ]
  },
  {
   "cell_type": "code",
   "execution_count": 4,
   "metadata": {},
   "outputs": [],
   "source": [
    "def run_mapsinglevoxelto3d(study, scale, model, layer, value):\n",
    "    \"\"\"Wrappern for map_singlevoxel_to_3d that handles saving and loading data\n",
    "    Choose between mapping correlation or pvalue.\n",
    "\n",
    "    \"\"\"\n",
    "    if value == \"correlation\":\n",
    "        path = PATH_3DCORR\n",
    "\n",
    "    if value == \"pvalue\":\n",
    "        path = PATH_3DPVAL\n",
    "\n",
    "    with open(\n",
    "        os.path.join(path, scale, study + \" \" + model + \" \" + str(layer) + \".npy\"),\n",
    "        \"wb\",\n",
    "    ) as file:\n",
    "        np.save(\n",
    "            file,\n",
    "            map_singlevoxel_to_3d_(\n",
    "                pd.read_hdf(\n",
    "                    os.path.join(\n",
    "                        PATH_SSIBC,\n",
    "                        scale,\n",
    "                        study + \" \" + model + \" \" + str(layer) + \".h5\",\n",
    "                    ),\n",
    "                    key=\"subset_ibcorr\",\n",
    "                )[value],\n",
    "                layer,\n",
    "            ),\n",
    "        )"
   ]
  },
  {
   "cell_type": "markdown",
   "metadata": {},
   "source": [
    "## single voxel pvalues"
   ]
  },
  {
   "cell_type": "markdown",
   "metadata": {},
   "source": [
    "all single models for cluster analysis <br> for p values, this is only feasible way since adding pvalues in cummolative way (as in mapping version below) makes no sense"
   ]
  },
  {
   "cell_type": "markdown",
   "metadata": {},
   "source": [
    "### testing"
   ]
  },
  {
   "cell_type": "code",
   "execution_count": 5,
   "metadata": {},
   "outputs": [],
   "source": [
    "scale = \"scale2\"\n",
    "model = \"reshading\"\n",
    "layer = 20\n",
    "study = \"study1\""
   ]
  },
  {
   "cell_type": "code",
   "execution_count": 15,
   "metadata": {},
   "outputs": [
    {
     "data": {
      "text/html": [
       "<div>\n",
       "<style scoped>\n",
       "    .dataframe tbody tr th:only-of-type {\n",
       "        vertical-align: middle;\n",
       "    }\n",
       "\n",
       "    .dataframe tbody tr th {\n",
       "        vertical-align: top;\n",
       "    }\n",
       "\n",
       "    .dataframe thead th {\n",
       "        text-align: right;\n",
       "    }\n",
       "</style>\n",
       "<table border=\"1\" class=\"dataframe\">\n",
       "  <thead>\n",
       "    <tr style=\"text-align: right;\">\n",
       "      <th></th>\n",
       "      <th>correlation</th>\n",
       "      <th>pvalue</th>\n",
       "    </tr>\n",
       "  </thead>\n",
       "  <tbody>\n",
       "    <tr>\n",
       "      <th>0</th>\n",
       "      <td>-0.089326</td>\n",
       "      <td>0.159101</td>\n",
       "    </tr>\n",
       "    <tr>\n",
       "      <th>1</th>\n",
       "      <td>-0.117885</td>\n",
       "      <td>0.062733</td>\n",
       "    </tr>\n",
       "    <tr>\n",
       "      <th>2</th>\n",
       "      <td>-0.154499</td>\n",
       "      <td>0.014473</td>\n",
       "    </tr>\n",
       "    <tr>\n",
       "      <th>3</th>\n",
       "      <td>-0.214258</td>\n",
       "      <td>0.000649</td>\n",
       "    </tr>\n",
       "    <tr>\n",
       "      <th>4</th>\n",
       "      <td>-0.219570</td>\n",
       "      <td>0.000470</td>\n",
       "    </tr>\n",
       "    <tr>\n",
       "      <th>...</th>\n",
       "      <td>...</td>\n",
       "      <td>...</td>\n",
       "    </tr>\n",
       "    <tr>\n",
       "      <th>24691</th>\n",
       "      <td>-0.107042</td>\n",
       "      <td>0.091246</td>\n",
       "    </tr>\n",
       "    <tr>\n",
       "      <th>24692</th>\n",
       "      <td>-0.127143</td>\n",
       "      <td>0.044601</td>\n",
       "    </tr>\n",
       "    <tr>\n",
       "      <th>24693</th>\n",
       "      <td>-0.143033</td>\n",
       "      <td>0.023706</td>\n",
       "    </tr>\n",
       "    <tr>\n",
       "      <th>24694</th>\n",
       "      <td>-0.120673</td>\n",
       "      <td>0.056727</td>\n",
       "    </tr>\n",
       "    <tr>\n",
       "      <th>24695</th>\n",
       "      <td>-0.055387</td>\n",
       "      <td>0.383194</td>\n",
       "    </tr>\n",
       "  </tbody>\n",
       "</table>\n",
       "<p>24696 rows × 2 columns</p>\n",
       "</div>"
      ],
      "text/plain": [
       "       correlation    pvalue\n",
       "0        -0.089326  0.159101\n",
       "1        -0.117885  0.062733\n",
       "2        -0.154499  0.014473\n",
       "3        -0.214258  0.000649\n",
       "4        -0.219570  0.000470\n",
       "...            ...       ...\n",
       "24691    -0.107042  0.091246\n",
       "24692    -0.127143  0.044601\n",
       "24693    -0.143033  0.023706\n",
       "24694    -0.120673  0.056727\n",
       "24695    -0.055387  0.383194\n",
       "\n",
       "[24696 rows x 2 columns]"
      ]
     },
     "execution_count": 15,
     "metadata": {},
     "output_type": "execute_result"
    }
   ],
   "source": [
    "df_subsetibc = pd.read_hdf(\n",
    "    os.path.join(PATH_SSIBC, scale, study + \" \" + model + \" \" + str(layer) + \".h5\"),\n",
    "    key=\"subset_ibcorr\",\n",
    ")\n",
    "df_subsetibc"
   ]
  },
  {
   "cell_type": "code",
   "execution_count": 17,
   "metadata": {},
   "outputs": [
    {
     "data": {
      "text/plain": [
       "24696"
      ]
     },
     "execution_count": 17,
     "metadata": {},
     "output_type": "execute_result"
    }
   ],
   "source": [
    "df_subsetibc.shape[0]"
   ]
  },
  {
   "cell_type": "code",
   "execution_count": 7,
   "metadata": {},
   "outputs": [],
   "source": [
    "activation_extractor, layername = setup_singlelayer(model, layer)\n",
    "dataset = ImageDataset(os.path.join(PATH_IMAGES, study2dataset(study), scale))\n",
    "activation_shape = (\n",
    "    list(activation_extractor(next(iter(dataset))[0]).values())[0].squeeze().shape\n",
    ")\n",
    "pat = PatternGeneratorSearchlight(\n",
    "    activation_shape,\n",
    "    layername,\n",
    ")\n",
    "ns = NetworkScorer({layername: activation_shape})"
   ]
  },
  {
   "cell_type": "code",
   "execution_count": null,
   "metadata": {},
   "outputs": [],
   "source": [
    "singlescores3d = np.zeros(activation_shape)\n",
    "\n",
    "for idx, score in enumerate(scores):\n",
    "    singlescores3d[\n",
    "        PatternGeneratorSearchlight._posnum_to_3Dindex(idx, activation_shape)\n",
    "    ] = score"
   ]
  },
  {
   "cell_type": "markdown",
   "metadata": {},
   "source": [
    "### scale2"
   ]
  },
  {
   "cell_type": "code",
   "execution_count": 43,
   "metadata": {},
   "outputs": [],
   "source": [
    "scale = \"scale2\"\n",
    "model = \"reshading\"\n",
    "layer = 20"
   ]
  },
  {
   "cell_type": "code",
   "execution_count": 45,
   "metadata": {},
   "outputs": [],
   "source": [
    "study = \"study1\"\n",
    "\n",
    "with open(\n",
    "    os.path.join(PATH_3DPVAL, scale, study + \" \" + model + \" \" + str(layer) + \".npy\"),\n",
    "    \"wb\",\n",
    ") as file:\n",
    "    np.save(\n",
    "        file,\n",
    "        map_singlevoxel_to_3d_(\n",
    "            pd.read_hdf(\n",
    "                os.path.join(\n",
    "                    PATH_SSIBC, scale, study + \" \" + model + \" \" + str(layer) + \".h5\"\n",
    "                ),\n",
    "                key=\"subset_ibcorr\",\n",
    "            ).pvalue,\n",
    "            layer,\n",
    "        ),\n",
    "    )"
   ]
  },
  {
   "cell_type": "code",
   "execution_count": 46,
   "metadata": {},
   "outputs": [],
   "source": [
    "study = \"study2\"\n",
    "\n",
    "with open(\n",
    "    os.path.join(PATH_3DPVAL, scale, study + \" \" + model + \" \" + str(layer) + \".npy\"),\n",
    "    \"wb\",\n",
    ") as file:\n",
    "    np.save(\n",
    "        file,\n",
    "        map_singlevoxel_to_3d_(\n",
    "            pd.read_hdf(\n",
    "                os.path.join(\n",
    "                    PATH_SSIBC, scale, study + \" \" + model + \" \" + str(layer) + \".h5\"\n",
    "                ),\n",
    "                key=\"subset_ibcorr\",\n",
    "            ).pvalue,\n",
    "            layer,\n",
    "        ),\n",
    "    )"
   ]
  },
  {
   "cell_type": "code",
   "execution_count": 47,
   "metadata": {},
   "outputs": [],
   "source": [
    "study = \"study3\"\n",
    "\n",
    "with open(\n",
    "    os.path.join(PATH_3DPVAL, scale, study + \" \" + model + \" \" + str(layer) + \".npy\"),\n",
    "    \"wb\",\n",
    ") as file:\n",
    "    np.save(\n",
    "        file,\n",
    "        map_singlevoxel_to_3d_(\n",
    "            pd.read_hdf(\n",
    "                os.path.join(\n",
    "                    PATH_SSIBC, scale, study + \" \" + model + \" \" + str(layer) + \".h5\"\n",
    "                ),\n",
    "                key=\"subset_ibcorr\",\n",
    "            ).pvalue,\n",
    "            layer,\n",
    "        ),\n",
    "    )"
   ]
  },
  {
   "cell_type": "code",
   "execution_count": null,
   "metadata": {},
   "outputs": [],
   "source": [
    "study = \"study4\"\n",
    "\n",
    "with open(\n",
    "    os.path.join(PATH_3DPVAL, scale, study + \" \" + model + \" \" + str(layer) + \".npy\"),\n",
    "    \"wb\",\n",
    ") as file:\n",
    "    np.save(\n",
    "        file,\n",
    "        map_singlevoxel_to_3d_(\n",
    "            pd.read_hdf(\n",
    "                os.path.join(\n",
    "                    PATH_SSIBC, scale, study + \" \" + model + \" \" + str(layer) + \".h5\"\n",
    "                ),\n",
    "                key=\"subset_ibcorr\",\n",
    "            ).pvalue,\n",
    "            layer,\n",
    "        ),\n",
    "    )"
   ]
  },
  {
   "cell_type": "markdown",
   "metadata": {},
   "source": [
    "### scale4"
   ]
  },
  {
   "cell_type": "code",
   "execution_count": 178,
   "metadata": {},
   "outputs": [],
   "source": [
    "scale = \"scale4\"\n",
    "model = \"segment_unsup2d\"\n",
    "layer = 41"
   ]
  },
  {
   "cell_type": "code",
   "execution_count": 179,
   "metadata": {},
   "outputs": [],
   "source": [
    "study = \"study1\"\n",
    "\n",
    "with open(\n",
    "    os.path.join(PATH_3DPVAL, scale, study + \" \" + model + \" \" + str(layer) + \".npy\"),\n",
    "    \"wb\",\n",
    ") as file:\n",
    "    np.save(\n",
    "        file,\n",
    "        map_singlevoxel_to_3d_(\n",
    "            pd.read_hdf(\n",
    "                os.path.join(\n",
    "                    PATH_SSIBC, scale, study + \" \" + model + \" \" + str(layer) + \".h5\"\n",
    "                ),\n",
    "                key=\"subset_ibcorr\",\n",
    "            ).pvalue,\n",
    "            layer,\n",
    "        ),\n",
    "    )"
   ]
  },
  {
   "cell_type": "code",
   "execution_count": 180,
   "metadata": {},
   "outputs": [],
   "source": [
    "study = \"study2\"\n",
    "\n",
    "with open(\n",
    "    os.path.join(PATH_3DPVAL, scale, study + \" \" + model + \" \" + str(layer) + \".npy\"),\n",
    "    \"wb\",\n",
    ") as file:\n",
    "    np.save(\n",
    "        file,\n",
    "        map_singlevoxel_to_3d_(\n",
    "            pd.read_hdf(\n",
    "                os.path.join(\n",
    "                    PATH_SSIBC, scale, study + \" \" + model + \" \" + str(layer) + \".h5\"\n",
    "                ),\n",
    "                key=\"subset_ibcorr\",\n",
    "            ).pvalue,\n",
    "            layer,\n",
    "        ),\n",
    "    )"
   ]
  },
  {
   "cell_type": "code",
   "execution_count": 181,
   "metadata": {},
   "outputs": [],
   "source": [
    "study = \"study3\"\n",
    "\n",
    "with open(\n",
    "    os.path.join(PATH_3DPVAL, scale, study + \" \" + model + \" \" + str(layer) + \".npy\"),\n",
    "    \"wb\",\n",
    ") as file:\n",
    "    np.save(\n",
    "        file,\n",
    "        map_singlevoxel_to_3d_(\n",
    "            pd.read_hdf(\n",
    "                os.path.join(\n",
    "                    PATH_SSIBC, scale, study + \" \" + model + \" \" + str(layer) + \".h5\"\n",
    "                ),\n",
    "                key=\"subset_ibcorr\",\n",
    "            ).pvalue,\n",
    "            layer,\n",
    "        ),\n",
    "    )"
   ]
  },
  {
   "cell_type": "code",
   "execution_count": 182,
   "metadata": {},
   "outputs": [],
   "source": [
    "study = \"study4\"\n",
    "\n",
    "with open(\n",
    "    os.path.join(PATH_3DPVAL, scale, study + \" \" + model + \" \" + str(layer) + \".npy\"),\n",
    "    \"wb\",\n",
    ") as file:\n",
    "    np.save(\n",
    "        file,\n",
    "        map_singlevoxel_to_3d_(\n",
    "            pd.read_hdf(\n",
    "                os.path.join(\n",
    "                    PATH_SSIBC, scale, study + \" \" + model + \" \" + str(layer) + \".h5\"\n",
    "                ),\n",
    "                key=\"subset_ibcorr\",\n",
    "            ).pvalue,\n",
    "            layer,\n",
    "        ),\n",
    "    )"
   ]
  },
  {
   "cell_type": "markdown",
   "metadata": {},
   "source": [
    "### scale 8"
   ]
  },
  {
   "cell_type": "code",
   "execution_count": 196,
   "metadata": {},
   "outputs": [],
   "source": [
    "scale = \"scale8\"\n",
    "model = \"vanishing_point\"\n",
    "layer = 18"
   ]
  },
  {
   "cell_type": "code",
   "execution_count": 197,
   "metadata": {},
   "outputs": [],
   "source": [
    "study = \"study1\"\n",
    "\n",
    "with open(\n",
    "    os.path.join(PATH_3DPVAL, scale, study + \" \" + model + \" \" + str(layer) + \".npy\"),\n",
    "    \"wb\",\n",
    ") as file:\n",
    "    np.save(\n",
    "        file,\n",
    "        map_singlevoxel_to_3d_(\n",
    "            pd.read_hdf(\n",
    "                os.path.join(\n",
    "                    PATH_SSIBC, scale, study + \" \" + model + \" \" + str(layer) + \".h5\"\n",
    "                ),\n",
    "                key=\"subset_ibcorr\",\n",
    "            ).pvalue,\n",
    "            layer,\n",
    "        ),\n",
    "    )"
   ]
  },
  {
   "cell_type": "code",
   "execution_count": 198,
   "metadata": {},
   "outputs": [],
   "source": [
    "study = \"study2\"\n",
    "\n",
    "with open(\n",
    "    os.path.join(PATH_3DPVAL, scale, study + \" \" + model + \" \" + str(layer) + \".npy\"),\n",
    "    \"wb\",\n",
    ") as file:\n",
    "    np.save(\n",
    "        file,\n",
    "        map_singlevoxel_to_3d_(\n",
    "            pd.read_hdf(\n",
    "                os.path.join(\n",
    "                    PATH_SSIBC, scale, study + \" \" + model + \" \" + str(layer) + \".h5\"\n",
    "                ),\n",
    "                key=\"subset_ibcorr\",\n",
    "            ).pvalue,\n",
    "            layer,\n",
    "        ),\n",
    "    )"
   ]
  },
  {
   "cell_type": "code",
   "execution_count": 199,
   "metadata": {},
   "outputs": [],
   "source": [
    "study = \"study3\"\n",
    "\n",
    "with open(\n",
    "    os.path.join(PATH_3DPVAL, scale, study + \" \" + model + \" \" + str(layer) + \".npy\"),\n",
    "    \"wb\",\n",
    ") as file:\n",
    "    np.save(\n",
    "        file,\n",
    "        map_singlevoxel_to_3d_(\n",
    "            pd.read_hdf(\n",
    "                os.path.join(\n",
    "                    PATH_SSIBC, scale, study + \" \" + model + \" \" + str(layer) + \".h5\"\n",
    "                ),\n",
    "                key=\"subset_ibcorr\",\n",
    "            ).pvalue,\n",
    "            layer,\n",
    "        ),\n",
    "    )"
   ]
  },
  {
   "cell_type": "code",
   "execution_count": null,
   "metadata": {},
   "outputs": [],
   "source": [
    "study = \"study4\"\n",
    "\n",
    "with open(\n",
    "    os.path.join(PATH_3DPVAL, scale, study + \" \" + model + \" \" + str(layer) + \".npy\"),\n",
    "    \"wb\",\n",
    ") as file:\n",
    "    np.save(\n",
    "        file,\n",
    "        map_singlevoxel_to_3d_(\n",
    "            pd.read_hdf(\n",
    "                os.path.join(\n",
    "                    PATH_SSIBC, scale, study + \" \" + model + \" \" + str(layer) + \".h5\"\n",
    "                ),\n",
    "                key=\"subset_ibcorr\",\n",
    "            ).pvalue,\n",
    "            layer,\n",
    "        ),\n",
    "    )"
   ]
  },
  {
   "cell_type": "markdown",
   "metadata": {},
   "source": [
    "### scale16"
   ]
  },
  {
   "cell_type": "code",
   "execution_count": 194,
   "metadata": {},
   "outputs": [],
   "source": [
    "scale = \"scale16\"\n",
    "model = \"segment_unsup25d\"\n",
    "layer = 32"
   ]
  },
  {
   "cell_type": "code",
   "execution_count": null,
   "metadata": {},
   "outputs": [],
   "source": [
    "study = \"study1\"\n",
    "\n",
    "with open(\n",
    "    os.path.join(PATH_3DPVAL, scale, study + \" \" + model + \" \" + str(layer) + \".npy\"),\n",
    "    \"wb\",\n",
    ") as file:\n",
    "    np.save(\n",
    "        file,\n",
    "        map_singlevoxel_to_3d_(\n",
    "            pd.read_hdf(\n",
    "                os.path.join(\n",
    "                    PATH_SSIBC, scale, study + \" \" + model + \" \" + str(layer) + \".h5\"\n",
    "                ),\n",
    "                key=\"subset_ibcorr\",\n",
    "            ).pvalue,\n",
    "            layer,\n",
    "        ),\n",
    "    )"
   ]
  },
  {
   "cell_type": "code",
   "execution_count": null,
   "metadata": {},
   "outputs": [],
   "source": [
    "study = \"study2\"\n",
    "\n",
    "with open(\n",
    "    os.path.join(PATH_3DPVAL, scale, study + \" \" + model + \" \" + str(layer) + \".npy\"),\n",
    "    \"wb\",\n",
    ") as file:\n",
    "    np.save(\n",
    "        file,\n",
    "        map_singlevoxel_to_3d_(\n",
    "            pd.read_hdf(\n",
    "                os.path.join(\n",
    "                    PATH_SSIBC, scale, study + \" \" + model + \" \" + str(layer) + \".h5\"\n",
    "                ),\n",
    "                key=\"subset_ibcorr\",\n",
    "            ).pvalue,\n",
    "            layer,\n",
    "        ),\n",
    "    )"
   ]
  },
  {
   "cell_type": "code",
   "execution_count": null,
   "metadata": {},
   "outputs": [],
   "source": [
    "study = \"study3\"\n",
    "\n",
    "with open(\n",
    "    os.path.join(PATH_3DPVAL, scale, study + \" \" + model + \" \" + str(layer) + \".npy\"),\n",
    "    \"wb\",\n",
    ") as file:\n",
    "    np.save(\n",
    "        file,\n",
    "        map_singlevoxel_to_3d_(\n",
    "            pd.read_hdf(\n",
    "                os.path.join(\n",
    "                    PATH_SSIBC, scale, study + \" \" + model + \" \" + str(layer) + \".h5\"\n",
    "                ),\n",
    "                key=\"subset_ibcorr\",\n",
    "            ).pvalue,\n",
    "            layer,\n",
    "        ),\n",
    "    )"
   ]
  },
  {
   "cell_type": "code",
   "execution_count": null,
   "metadata": {},
   "outputs": [],
   "source": [
    "study = \"study4\"\n",
    "\n",
    "with open(\n",
    "    os.path.join(PATH_3DPVAL, scale, study + \" \" + model + \" \" + str(layer) + \".npy\"),\n",
    "    \"wb\",\n",
    ") as file:\n",
    "    np.save(\n",
    "        file,\n",
    "        map_singlevoxel_to_3d_(\n",
    "            pd.read_hdf(\n",
    "                os.path.join(\n",
    "                    PATH_SSIBC, scale, study + \" \" + model + \" \" + str(layer) + \".h5\"\n",
    "                ),\n",
    "                key=\"subset_ibcorr\",\n",
    "            ).pvalue,\n",
    "            layer,\n",
    "        ),\n",
    "    )"
   ]
  },
  {
   "cell_type": "markdown",
   "metadata": {},
   "source": [
    "## single voxel ibcorr"
   ]
  },
  {
   "cell_type": "markdown",
   "metadata": {},
   "source": [
    "### scale2"
   ]
  },
  {
   "cell_type": "code",
   "execution_count": null,
   "metadata": {},
   "outputs": [],
   "source": [
    "scale = \"scale2\"\n",
    "model = \"reshading\"\n",
    "layer = 20"
   ]
  },
  {
   "cell_type": "code",
   "execution_count": 136,
   "metadata": {},
   "outputs": [],
   "source": [
    "run_mapsinglevoxelto3d(\"study1\", scale, model, layer, \"correlation\")"
   ]
  },
  {
   "cell_type": "code",
   "execution_count": 137,
   "metadata": {},
   "outputs": [],
   "source": [
    "run_mapsinglevoxelto3d(\"study2\", scale, model, layer, \"correlation\")"
   ]
  },
  {
   "cell_type": "code",
   "execution_count": 184,
   "metadata": {},
   "outputs": [],
   "source": [
    "run_mapsinglevoxelto3d(\"study3\", scale, model, layer, \"correlation\")"
   ]
  },
  {
   "cell_type": "code",
   "execution_count": null,
   "metadata": {},
   "outputs": [],
   "source": [
    "run_mapsinglevoxelto3d(\"study4\", scale, model, layer, \"correlation\")"
   ]
  },
  {
   "cell_type": "markdown",
   "metadata": {},
   "source": [
    "### scale4"
   ]
  },
  {
   "cell_type": "code",
   "execution_count": 10,
   "metadata": {},
   "outputs": [],
   "source": [
    "scale = \"scale4\"\n",
    "model = \"segment_unsup2d\"\n",
    "layer = 41"
   ]
  },
  {
   "cell_type": "code",
   "execution_count": 11,
   "metadata": {},
   "outputs": [],
   "source": [
    "run_mapsinglevoxelto3d(\"study1\", scale, model, layer, \"correlation\")"
   ]
  },
  {
   "cell_type": "code",
   "execution_count": 12,
   "metadata": {},
   "outputs": [],
   "source": [
    "run_mapsinglevoxelto3d(\"study2\", scale, model, layer, \"correlation\")"
   ]
  },
  {
   "cell_type": "code",
   "execution_count": 13,
   "metadata": {},
   "outputs": [],
   "source": [
    "run_mapsinglevoxelto3d(\"study3\", scale, model, layer, \"correlation\")"
   ]
  },
  {
   "cell_type": "code",
   "execution_count": 14,
   "metadata": {},
   "outputs": [],
   "source": [
    "run_mapsinglevoxelto3d(\"study4\", scale, model, layer, \"correlation\")"
   ]
  },
  {
   "cell_type": "markdown",
   "metadata": {},
   "source": [
    "### scale8"
   ]
  },
  {
   "cell_type": "code",
   "execution_count": 17,
   "metadata": {},
   "outputs": [],
   "source": [
    "scale = \"scale8\"\n",
    "model = \"vanishing_point\"\n",
    "layer = 18"
   ]
  },
  {
   "cell_type": "code",
   "execution_count": 18,
   "metadata": {},
   "outputs": [],
   "source": [
    "run_mapsinglevoxelto3d(\"study1\", scale, model, layer, \"correlation\")"
   ]
  },
  {
   "cell_type": "code",
   "execution_count": 19,
   "metadata": {},
   "outputs": [],
   "source": [
    "run_mapsinglevoxelto3d(\"study2\", scale, model, layer, \"correlation\")"
   ]
  },
  {
   "cell_type": "code",
   "execution_count": 20,
   "metadata": {},
   "outputs": [],
   "source": [
    "run_mapsinglevoxelto3d(\"study3\", scale, model, layer, \"correlation\")"
   ]
  },
  {
   "cell_type": "code",
   "execution_count": null,
   "metadata": {},
   "outputs": [],
   "source": [
    "run_mapsinglevoxelto3d(\"study4\", scale, model, layer, \"correlation\")"
   ]
  },
  {
   "cell_type": "markdown",
   "metadata": {},
   "source": [
    "# (old) overlap of top 10% of (unclustered) predictive voxels\n",
    "quick test if top10% cluster at all"
   ]
  },
  {
   "cell_type": "code",
   "execution_count": null,
   "metadata": {},
   "outputs": [],
   "source": [
    "scale = \"scale2\"\n",
    "model = \"reshading\"\n",
    "layer = 20"
   ]
  },
  {
   "cell_type": "code",
   "execution_count": null,
   "metadata": {},
   "outputs": [],
   "source": [
    "study = \"study1\"\n",
    "\n",
    "with open(\n",
    "    os.path.join(PATH_3DCORR, scale, study + \" \" + model + \" \" + str(layer) + \".npy\"),\n",
    "    \"rb\",\n",
    ") as file:\n",
    "    # flipping of sign is currently missing in calculation of integration\n",
    "    corr3d_st1 = -np.load(file)"
   ]
  },
  {
   "cell_type": "code",
   "execution_count": null,
   "metadata": {},
   "outputs": [],
   "source": [
    "study = \"study2\"\n",
    "\n",
    "with open(\n",
    "    os.path.join(PATH_3DCORR, scale, study + \" \" + model + \" \" + str(layer) + \".npy\"),\n",
    "    \"rb\",\n",
    ") as file:\n",
    "    # flipping of sign is currently missing in calculation of integration\n",
    "    corr3d_st2 = -np.load(file)"
   ]
  },
  {
   "cell_type": "code",
   "execution_count": null,
   "metadata": {},
   "outputs": [],
   "source": [
    "study = \"study3\"\n",
    "\n",
    "with open(\n",
    "    os.path.join(PATH_3DCORR, scale, study + \" \" + model + \" \" + str(layer) + \".npy\"),\n",
    "    \"rb\",\n",
    ") as file:\n",
    "    # flipping of sign is currently missing in calculation of integration\n",
    "    corr3d_st3 = -np.load(file)"
   ]
  },
  {
   "cell_type": "code",
   "execution_count": null,
   "metadata": {},
   "outputs": [
    {
     "data": {
      "text/plain": [
       "0.2331098471729129"
      ]
     },
     "metadata": {},
     "output_type": "display_data"
    }
   ],
   "source": [
    "q90_st1 = np.quantile(corr3d_st1.flatten(), 0.9)\n",
    "q90_st1"
   ]
  },
  {
   "cell_type": "code",
   "execution_count": null,
   "metadata": {},
   "outputs": [
    {
     "data": {
      "text/plain": [
       "0.21450488659343914"
      ]
     },
     "metadata": {},
     "output_type": "display_data"
    }
   ],
   "source": [
    "q90_st2 = np.quantile(corr3d_st2.flatten(), 0.9)\n",
    "q90_st2"
   ]
  },
  {
   "cell_type": "code",
   "execution_count": null,
   "metadata": {},
   "outputs": [
    {
     "data": {
      "text/plain": [
       "0.23174331077878463"
      ]
     },
     "metadata": {},
     "output_type": "display_data"
    }
   ],
   "source": [
    "q90_st3 = np.quantile(corr3d_st3.flatten(), 0.9)\n",
    "q90_st3"
   ]
  },
  {
   "cell_type": "code",
   "execution_count": null,
   "metadata": {},
   "outputs": [
    {
     "data": {
      "image/png": "[encoded data removed]",
      "text/plain": [
       "<Figure size 432x288 with 1 Axes>"
      ]
     },
     "metadata": {},
     "output_type": "display_data"
    }
   ],
   "source": [
    "plt.hist(corr3d_st1.flatten(), bins=50)"
   ]
  },
  {
   "cell_type": "code",
   "execution_count": null,
   "metadata": {},
   "outputs": [
    {
     "data": {
      "image/png": "[encoded data removed]",
      "text/plain": [
       "<Figure size 432x288 with 1 Axes>"
      ]
     },
     "metadata": {},
     "output_type": "display_data"
    }
   ],
   "source": [
    "plt.hist(corr3d_st2.flatten(), bins=50)"
   ]
  },
  {
   "cell_type": "code",
   "execution_count": null,
   "metadata": {},
   "outputs": [
    {
     "data": {
      "image/png": "[encoded data removed]",
      "text/plain": [
       "<Figure size 432x288 with 1 Axes>"
      ]
     },
     "metadata": {},
     "output_type": "display_data"
    }
   ],
   "source": [
    "plt.hist(corr3d_st3.flatten(), bins=50)"
   ]
  },
  {
   "cell_type": "code",
   "execution_count": null,
   "metadata": {},
   "outputs": [],
   "source": [
    "m1 = corr3d_st1 > q90_st1"
   ]
  },
  {
   "cell_type": "code",
   "execution_count": null,
   "metadata": {},
   "outputs": [],
   "source": [
    "m2 = corr3d_st2 > q90_st2"
   ]
  },
  {
   "cell_type": "code",
   "execution_count": null,
   "metadata": {},
   "outputs": [],
   "source": [
    "m3 = corr3d_st3 > q90_st3"
   ]
  },
  {
   "cell_type": "code",
   "execution_count": null,
   "metadata": {},
   "outputs": [
    {
     "data": {
      "text/plain": [
       "((126, 14, 14), 24696)"
      ]
     },
     "metadata": {},
     "output_type": "display_data"
    }
   ],
   "source": [
    "m1.shape, 126 * 14 * 14"
   ]
  },
  {
   "cell_type": "code",
   "execution_count": null,
   "metadata": {},
   "outputs": [
    {
     "data": {
      "text/plain": [
       "2500"
      ]
     },
     "metadata": {},
     "output_type": "display_data"
    }
   ],
   "source": [
    "# this may be rougly the shape of a large cluster of highly predictive voxels\n",
    "100 * 5 * 5"
   ]
  },
  {
   "cell_type": "code",
   "execution_count": null,
   "metadata": {},
   "outputs": [
    {
     "data": {
      "text/plain": [
       "2470"
      ]
     },
     "metadata": {},
     "output_type": "display_data"
    }
   ],
   "source": [
    "m1.sum()"
   ]
  },
  {
   "cell_type": "code",
   "execution_count": null,
   "metadata": {},
   "outputs": [
    {
     "data": {
      "text/plain": [
       "2470"
      ]
     },
     "metadata": {},
     "output_type": "display_data"
    }
   ],
   "source": [
    "m2.sum()"
   ]
  },
  {
   "cell_type": "code",
   "execution_count": null,
   "metadata": {},
   "outputs": [
    {
     "data": {
      "text/plain": [
       "2470"
      ]
     },
     "metadata": {},
     "output_type": "display_data"
    }
   ],
   "source": [
    "m3.sum()"
   ]
  },
  {
   "cell_type": "code",
   "execution_count": null,
   "metadata": {},
   "outputs": [
    {
     "data": {
      "text/plain": [
       "1608"
      ]
     },
     "metadata": {},
     "output_type": "display_data"
    }
   ],
   "source": [
    "(m1 & m2).sum()"
   ]
  },
  {
   "cell_type": "code",
   "execution_count": null,
   "metadata": {},
   "outputs": [
    {
     "data": {
      "text/plain": [
       "910"
      ]
     },
     "metadata": {},
     "output_type": "display_data"
    }
   ],
   "source": [
    "(m1 & m3).sum()"
   ]
  },
  {
   "cell_type": "code",
   "execution_count": null,
   "metadata": {},
   "outputs": [
    {
     "data": {
      "text/plain": [
       "764"
      ]
     },
     "metadata": {},
     "output_type": "display_data"
    }
   ],
   "source": [
    "(m2 & m3).sum()"
   ]
  },
  {
   "cell_type": "code",
   "execution_count": null,
   "metadata": {},
   "outputs": [],
   "source": [
    "# significant overlap: permutation testing\n",
    "# permutation: how much do cluters from randomized scores overlap ?"
   ]
  },
  {
   "cell_type": "code",
   "execution_count": null,
   "metadata": {},
   "outputs": [
    {
     "data": {
      "text/plain": [
       "(126, 14, 14)"
      ]
     },
     "metadata": {},
     "output_type": "display_data"
    }
   ],
   "source": [
    "m1.shape"
   ]
  },
  {
   "cell_type": "markdown",
   "metadata": {},
   "source": [
    "# filter clusters\n",
    "of top10% correlation <br>\n",
    "\n",
    "input: 3D data <br>\n",
    "\n",
    "calculate significant clusters in data by cluster based permutation testing <br>"
   ]
  },
  {
   "cell_type": "markdown",
   "metadata": {},
   "source": [
    "### testing"
   ]
  },
  {
   "cell_type": "code",
   "execution_count": 29,
   "metadata": {},
   "outputs": [],
   "source": [
    "scale = \"scale2\"\n",
    "model = \"reshading\"\n",
    "layer = 20\n",
    "study = \"study1\""
   ]
  },
  {
   "cell_type": "code",
   "execution_count": 43,
   "metadata": {},
   "outputs": [
    {
     "data": {
      "text/plain": [
       "(126, 14, 14)"
      ]
     },
     "execution_count": 43,
     "metadata": {},
     "output_type": "execute_result"
    }
   ],
   "source": [
    "with open(\n",
    "    os.path.join(PATH_3DCORR, scale, study + \" \" + model + \" \" + str(layer) + \".npy\"),\n",
    "    \"rb\",\n",
    ") as file:\n",
    "    subset_ibcorr_3d = -np.load(file)\n",
    "\n",
    "subset_ibcorr_3d.shape"
   ]
  },
  {
   "cell_type": "code",
   "execution_count": 118,
   "metadata": {},
   "outputs": [],
   "source": [
    "with open(\n",
    "    os.path.join(\n",
    "        PATH_PERMDISTR_TOPVOXELS_CLUSTERSIZE,\n",
    "        scale,\n",
    "        \"permdistr \" + study + \" \" + model + \" \" + str(layer) + \".npy\",\n",
    "    ),\n",
    "    \"rb\",\n",
    ") as file:\n",
    "    permdistr = np.load(file)"
   ]
  },
  {
   "cell_type": "code",
   "execution_count": 119,
   "metadata": {},
   "outputs": [
    {
     "data": {
      "text/plain": [
       "array([185, 241])"
      ]
     },
     "execution_count": 119,
     "metadata": {},
     "output_type": "execute_result"
    }
   ],
   "source": [
    "permdistr"
   ]
  },
  {
   "cell_type": "code",
   "execution_count": 125,
   "metadata": {},
   "outputs": [],
   "source": [
    "threshold = np.quantile(permdistr, .95)"
   ]
  },
  {
   "cell_type": "code",
   "execution_count": 44,
   "metadata": {},
   "outputs": [],
   "source": [
    "threshold = 100"
   ]
  },
  {
   "cell_type": "code",
   "execution_count": 45,
   "metadata": {},
   "outputs": [],
   "source": [
    "subset_ibcorr_3d = subset_ibcorr_3d > np.quantile(subset_ibcorr_3d.flat, 0.9)"
   ]
  },
  {
   "cell_type": "code",
   "execution_count": 46,
   "metadata": {},
   "outputs": [],
   "source": [
    "cluster_list = find_clusters(subset_ibcorr_3d)"
   ]
  },
  {
   "cell_type": "code",
   "execution_count": 47,
   "metadata": {},
   "outputs": [],
   "source": [
    "cluster_sizes = np.array([np.sum(cluster) for cluster in cluster_list])"
   ]
  },
  {
   "cell_type": "code",
   "execution_count": 48,
   "metadata": {},
   "outputs": [],
   "source": [
    "significant_clusters = [cluster_list[idx] for idx in np.where(cluster_sizes > threshold)[0]]"
   ]
  },
  {
   "cell_type": "code",
   "execution_count": 49,
   "metadata": {},
   "outputs": [],
   "source": [
    "all_clustered_topvoxels = np.logical_or.reduce(significant_clusters)"
   ]
  },
  {
   "cell_type": "code",
   "execution_count": null,
   "metadata": {},
   "outputs": [],
   "source": []
  },
  {
   "cell_type": "code",
   "execution_count": null,
   "metadata": {},
   "outputs": [],
   "source": [
    "with open(\n",
    "    os.path.join(\n",
    "        PATH_SIGNICLUST,\n",
    "        scale,\n",
    "        \"signiclusteredcorr \" + study + \" \" + model + \" \" + str(layer) + \".npy\",\n",
    "    ),\n",
    "    \"wb\",\n",
    ") as file:\n",
    "    np.save(file, )"
   ]
  },
  {
   "cell_type": "markdown",
   "metadata": {},
   "source": [
    "## permutation tests"
   ]
  },
  {
   "cell_type": "markdown",
   "metadata": {},
   "source": [
    "### functions"
   ]
  },
  {
   "cell_type": "markdown",
   "metadata": {},
   "source": [
    "#### cluster-size permutation-distribution"
   ]
  },
  {
   "cell_type": "code",
   "execution_count": null,
   "metadata": {},
   "outputs": [],
   "source": [
    "def permutation_distribtion_top10(\n",
    "    df_subset_integration,\n",
    "    beauty_ratings,\n",
    "    layer_idx,\n",
    "    n_permutations=1000,\n",
    "    quant=0.9,\n",
    "):\n",
    "    \"\"\"\n",
    "    Generate permutation distribution for cluster size.\n",
    "    Either for clusters of any significant voxels\n",
    "\n",
    "    Parameters\n",
    "    ----------\n",
    "\n",
    "    df_subset_integration: pd.DataFrame\n",
    "        subsets in rows, images in columns\n",
    "\n",
    "    beauty_ratings: pd.DataFrame\n",
    "        image beauty ratings\n",
    "\n",
    "    layer_idx: int\n",
    "\n",
    "    n_permutations: int\n",
    "        Higher values for a more exact permutation distribution, typically 1000 or 10 000.\n",
    "\n",
    "    alpha: float\n",
    "        Significance level (no MCC of individual voxels in permutation testing)\n",
    "\n",
    "    Returns\n",
    "    -------\n",
    "\n",
    "    maxclustersized: np.array\n",
    "        Permutation distribution: n_permutations-sized array of the maximum cluster size of each permutation\n",
    "    \"\"\"\n",
    "    maxclustersizes = []\n",
    "\n",
    "    for i in tqdm(range(n_permutations)):\n",
    "        # randomized ibcorr\n",
    "        df_subset_ibcorr = df_subset_integration.apply(\n",
    "            lambda r: pd.Series(spearmanr(r, beauty_ratings.sample(frac=1))),\n",
    "            axis=1,\n",
    "        ).rename({0: \"correlation\", 1: \"pvalue\"}, axis=1)\n",
    "\n",
    "        # mask voxels above 90th correlation quantile\n",
    "        subset_ibcorr_3d = map_singlevoxel_to_3d_(\n",
    "            df_subset_ibcorr.correlation, layer_idx\n",
    "        )\n",
    "        subset_ibcorr_3d = subset_ibcorr_3d > np.quantile(\n",
    "            df_subset_ibcorr.correlation, quant\n",
    "        )\n",
    "\n",
    "        # clusters\n",
    "        cluster_list = find_clusters(subset_ibcorr_3d)\n",
    "\n",
    "        # largest cluster\n",
    "        cluster_sizes = [np.sum(cluster) for cluster in cluster_list]\n",
    "\n",
    "        # save\n",
    "        if len(cluster_sizes) > 0:\n",
    "            maxclustersizes.append(max(cluster_sizes))\n",
    "        else:\n",
    "            maxclustersizes.append(0)  # no cluster\n",
    "\n",
    "    return np.array(maxclustersizes)"
   ]
  },
  {
   "cell_type": "markdown",
   "metadata": {},
   "source": [
    "#### run cluster-size permutation-distribution top10"
   ]
  },
  {
   "cell_type": "code",
   "execution_count": null,
   "metadata": {},
   "outputs": [],
   "source": [
    "# permutation test size for all tets\n",
    "n_permutations = 1000\n",
    "\n",
    "\n",
    "def run_permutationdistributiontop10(scale, model, layer, study, n_permutations):\n",
    "    \"\"\"\n",
    "    Wrapper around permutation_distribution() that handles\n",
    "    loading input and saving output for the given data.\n",
    "\n",
    "    Calculates permutation distribution of cluster sizes by shuffling image ratings.\n",
    "\n",
    "    \"\"\"\n",
    "    with open(\n",
    "        os.path.join(\n",
    "            PATH_PERMDISTR_TOPVOXELS_CLUSTERSIZE,\n",
    "            scale,\n",
    "            \"permdistr \" + study + \" \" + model + \" \" + str(layer) + \".npy\",\n",
    "        ),\n",
    "        \"wb\",\n",
    "    ) as file:\n",
    "        np.save(\n",
    "            file,\n",
    "            permutation_distribtion_top10(\n",
    "                pd.read_hdf(\n",
    "                    os.path.join(\n",
    "                        PATH_SSINT,\n",
    "                        scale,\n",
    "                        study2dataset(study) + \" \" + model + \" \" + str(layer) + \".h5\",\n",
    "                    ),\n",
    "                    key=\"subset integration\",\n",
    "                ),\n",
    "                studyratings(study),\n",
    "                layer,\n",
    "                n_permutations,\n",
    "            ),\n",
    "        )"
   ]
  },
  {
   "cell_type": "markdown",
   "metadata": {},
   "source": [
    "### scale2"
   ]
  },
  {
   "cell_type": "code",
   "execution_count": 116,
   "metadata": {},
   "outputs": [],
   "source": [
    "scale = \"scale2\"\n",
    "model = \"reshading\"\n",
    "layer = 20"
   ]
  },
  {
   "cell_type": "code",
   "execution_count": 117,
   "metadata": {},
   "outputs": [],
   "source": [
    "study = \"study1\"\n",
    "run_permutationdistributiontop10(scale, model, layer, study, n_permutations)"
   ]
  },
  {
   "cell_type": "code",
   "execution_count": null,
   "metadata": {},
   "outputs": [],
   "source": [
    "study = \"study2\"\n",
    "run_permutationdistributiontop10(scale, model, layer, study, n_permutations)"
   ]
  },
  {
   "cell_type": "code",
   "execution_count": null,
   "metadata": {},
   "outputs": [],
   "source": [
    "study = \"study3\"\n",
    "run_permutationdistributiontop10(scale, model, layer, study, n_permutations)"
   ]
  },
  {
   "cell_type": "markdown",
   "metadata": {},
   "source": [
    "### scale4"
   ]
  },
  {
   "cell_type": "code",
   "execution_count": 70,
   "metadata": {},
   "outputs": [],
   "source": [
    "scale = \"scale4\"\n",
    "model = \"segment_unsup2d\"\n",
    "layer = 41"
   ]
  },
  {
   "cell_type": "code",
   "execution_count": null,
   "metadata": {},
   "outputs": [],
   "source": [
    "study = \"study1\"\n",
    "# ran 777min\n",
    "run_permutationdistributiontop10(scale, model, layer, study, 1000)"
   ]
  },
  {
   "cell_type": "code",
   "execution_count": null,
   "metadata": {},
   "outputs": [],
   "source": [
    "scale = \"scale8\"\n",
    "model = \"vanishing_point\"\n",
    "layer = 18"
   ]
  },
  {
   "cell_type": "code",
   "execution_count": null,
   "metadata": {},
   "outputs": [],
   "source": [
    "study = \"study1\"\n",
    "run_permutationdistributiontop10(scale, model, layer, study, 1000)"
   ]
  },
  {
   "cell_type": "markdown",
   "metadata": {},
   "source": [
    "## filter clustered values\n",
    "calculate threshold from permutation distributions"
   ]
  },
  {
   "cell_type": "markdown",
   "metadata": {},
   "source": [
    "### functions"
   ]
  },
  {
   "cell_type": "markdown",
   "metadata": {},
   "source": [
    "#### filter clustered values"
   ]
  },
  {
   "cell_type": "code",
   "execution_count": null,
   "metadata": {},
   "outputs": [],
   "source": [
    "def filter_clusters(data3d, min_cs: int):\n",
    "    \"\"\"\n",
    "    Filter input 3d-data to retain only data that is in clusters of at least size min_cs.\n",
    "\n",
    "    \n",
    "    Parameters\n",
    "    ----------\n",
    "    data_3d: np.ndarray\n",
    "        boolean array\n",
    "\n",
    "    min_cs: int\n",
    "        cluster size to threshold. Most likely 95th quantile of cluster size permutation distribution.\n",
    "    \n",
    "    Returns\n",
    "    -------\n",
    "    3d-array: np.ndarray\n",
    "        Same data as input, but with unclustered and clusters below threshold data removed. (removed: bool set to false)\n",
    "\n",
    "\n",
    "    \"\"\"\n",
    "    cl = find_clusters(data3d)\n",
    "    cl_sizes = np.array([np.sum(c) for c in cl])\n",
    "    cl_signi = [cl[idx] for idx in np.where(cl_sizes > min_cs)[0]]\n",
    "    return np.logical_or.reduce(cl_signi)"
   ]
  },
  {
   "cell_type": "markdown",
   "metadata": {},
   "source": [
    "#### run filter clustered values"
   ]
  },
  {
   "cell_type": "code",
   "execution_count": null,
   "metadata": {},
   "outputs": [],
   "source": [
    "def run_filterclusters(\n",
    "    scale, study, model, layer, cluster_size_threshold, topquantile=0.9\n",
    "):\n",
    "    with open(\n",
    "        os.path.join(\n",
    "            PATH_3DCORR, scale, study + \" \" + model + \" \" + str(layer) + \".npy\"\n",
    "        ),\n",
    "        \"rb\",\n",
    "    ) as file:\n",
    "        subset_ibcorr_3d = -np.load(file)\n",
    "\n",
    "    subset_ibcorr_3d = subset_ibcorr_3d > np.quantile(subset_ibcorr_3d.flat, 0.9)\n",
    "\n",
    "    with open(\n",
    "        os.path.join(\n",
    "            PATH_SIGNICLUST,\n",
    "            scale,\n",
    "            \"signiclusteredcorr \" + study + \" \" + model + \" \" + str(layer) + \".npy\",\n",
    "        ),\n",
    "        \"wb\",\n",
    "    ) as file:\n",
    "        np.save(file, filter_clusters(subset_ibcorr_3d, cluster_size_threshold))"
   ]
  },
  {
   "cell_type": "code",
   "execution_count": 24,
   "metadata": {},
   "outputs": [],
   "source": [
    "threshold=100"
   ]
  },
  {
   "cell_type": "markdown",
   "metadata": {},
   "source": [
    "### scale2"
   ]
  },
  {
   "cell_type": "code",
   "execution_count": null,
   "metadata": {},
   "outputs": [],
   "source": [
    "# need to run these again with threshold from permutation distribution"
   ]
  },
  {
   "cell_type": "code",
   "execution_count": 51,
   "metadata": {},
   "outputs": [],
   "source": [
    "scale = \"scale2\"\n",
    "model = \"reshading\"\n",
    "layer = 20"
   ]
  },
  {
   "cell_type": "code",
   "execution_count": 52,
   "metadata": {},
   "outputs": [],
   "source": [
    "study = \"study1\"\n",
    "run_filterclusters(scale, study, model, layer, threshold)"
   ]
  },
  {
   "cell_type": "code",
   "execution_count": 53,
   "metadata": {},
   "outputs": [],
   "source": [
    "study = \"study2\"\n",
    "run_filterclusters(scale, study, model, layer, threshold)"
   ]
  },
  {
   "cell_type": "code",
   "execution_count": 54,
   "metadata": {},
   "outputs": [],
   "source": [
    "study = \"study3\"\n",
    "run_filterclusters(scale, study, model, layer, threshold)"
   ]
  },
  {
   "cell_type": "markdown",
   "metadata": {},
   "source": [
    "### scale4"
   ]
  },
  {
   "cell_type": "code",
   "execution_count": 55,
   "metadata": {},
   "outputs": [],
   "source": [
    "scale = \"scale4\"\n",
    "model = \"segment_unsup2d\"\n",
    "layer = 41"
   ]
  },
  {
   "cell_type": "code",
   "execution_count": 56,
   "metadata": {},
   "outputs": [],
   "source": [
    "study = \"study1\"\n",
    "run_filterclusters(scale, study, model, layer, threshold)"
   ]
  },
  {
   "cell_type": "code",
   "execution_count": 57,
   "metadata": {},
   "outputs": [],
   "source": [
    "study = \"study2\"\n",
    "run_filterclusters(scale, study, model, layer, threshold)"
   ]
  },
  {
   "cell_type": "code",
   "execution_count": 58,
   "metadata": {},
   "outputs": [],
   "source": [
    "study = \"study3\"\n",
    "run_filterclusters(scale, study, model, layer, threshold)"
   ]
  },
  {
   "cell_type": "markdown",
   "metadata": {},
   "source": [
    "### scale8"
   ]
  },
  {
   "cell_type": "code",
   "execution_count": 59,
   "metadata": {},
   "outputs": [],
   "source": [
    "scale = \"scale8\"\n",
    "model = \"vanishing_point\"\n",
    "layer = 18"
   ]
  },
  {
   "cell_type": "code",
   "execution_count": 60,
   "metadata": {},
   "outputs": [],
   "source": [
    "study = \"study1\"\n",
    "run_filterclusters(scale, study, model, layer, threshold)"
   ]
  },
  {
   "cell_type": "code",
   "execution_count": 61,
   "metadata": {},
   "outputs": [],
   "source": [
    "study = \"study2\"\n",
    "run_filterclusters(scale, study, model, layer, threshold)"
   ]
  },
  {
   "cell_type": "code",
   "execution_count": 62,
   "metadata": {},
   "outputs": [],
   "source": [
    "study = \"study3\"\n",
    "run_filterclusters(scale, study, model, layer, threshold)"
   ]
  },
  {
   "cell_type": "code",
   "execution_count": null,
   "metadata": {},
   "outputs": [],
   "source": []
  },
  {
   "cell_type": "markdown",
   "metadata": {},
   "source": [
    "### scale16"
   ]
  },
  {
   "cell_type": "code",
   "execution_count": null,
   "metadata": {},
   "outputs": [],
   "source": [
    "scale = \"scale16\"\n",
    "model = \"segment_unsup25d\"\n",
    "layer = 32"
   ]
  },
  {
   "cell_type": "code",
   "execution_count": null,
   "metadata": {},
   "outputs": [],
   "source": []
  },
  {
   "cell_type": "markdown",
   "metadata": {},
   "source": [
    "# 3D-plot clusters\n",
    "\"highly predictive voxels are clustered\"\n",
    "\n",
    "of single net <br>\n"
   ]
  },
  {
   "cell_type": "markdown",
   "metadata": {},
   "source": [
    "## functions"
   ]
  },
  {
   "cell_type": "code",
   "execution_count": 63,
   "metadata": {},
   "outputs": [],
   "source": [
    "def plot_3dvoxels_singlearray(arr, study1, scale, model, layer, alpha=1.0):\n",
    "    with PdfPages(\n",
    "        os.path.join(\n",
    "            PATH_RESULTS,\n",
    "            \"spatial integration\",\n",
    "            \"3D plots\",\n",
    "            scale,\n",
    "            model + \" \" + study1 + \" \" + str(layer) + \".pdf\",\n",
    "        )\n",
    "    ) as pdf:\n",
    "        fontsize_axislabel = 20\n",
    "\n",
    "        for fn in range(0, arr.shape[0], 25):\n",
    "            ax = plt.figure(figsize=(16, 10)).add_subplot(projection=\"3d\")\n",
    "            ax.voxels(\n",
    "                all_clustered_topvoxels[fn : fn + 25 + 1].astype(bool),\n",
    "                facecolors=\"magenta\",\n",
    "            )\n",
    "            ax.set_xlabel(\"convolutional filter\", fontsize=fontsize_axislabel)\n",
    "            ax.set_ylabel(\"conv-layer x-axis\", fontsize=fontsize_axislabel)\n",
    "            ax.set_zlabel(\"conv-layer y-axis\", fontsize=fontsize_axislabel)\n",
    "            ax.set_title(\n",
    "                \"inside best predicting convolutional layer (scale2, study1)\",\n",
    "                fontsize=fontsize_axislabel,\n",
    "            )\n",
    "            # ax.set_xticks()\n",
    "            ax.set_xlim(0, 25)\n",
    "            ax.set_xticklabels(range(fn, fn + 25 + 1, 5))\n",
    "\n",
    "            pdf.savefig()\n",
    "            plt.close()"
   ]
  },
  {
   "cell_type": "markdown",
   "metadata": {},
   "source": [
    "## testing"
   ]
  },
  {
   "cell_type": "code",
   "execution_count": 172,
   "metadata": {},
   "outputs": [
    {
     "data": {
      "text/plain": [
       "[Text(0, 0, '50'),\n",
       " Text(0, 0, '55'),\n",
       " Text(0, 0, '60'),\n",
       " Text(0, 0, '65'),\n",
       " Text(0, 0, '70'),\n",
       " Text(0, 0, '75')]"
      ]
     },
     "execution_count": 172,
     "metadata": {},
     "output_type": "execute_result"
    },
    {
     "data": {
      "image/png": "[encoded data removed]",
      "text/plain": [
       "<Figure size 1152x720 with 1 Axes>"
      ]
     },
     "metadata": {
      "needs_background": "light"
     },
     "output_type": "display_data"
    }
   ],
   "source": [
    "fontsize_axislabel = 20\n",
    "start_filternum = 50\n",
    "fn = start_filternum\n",
    "ax = plt.figure(figsize=(16, 10)).add_subplot(projection=\"3d\")\n",
    "ax.voxels(all_clustered_topvoxels[fn : fn + 25 + 1].astype(bool), facecolors=\"magenta\")\n",
    "ax.set_xlabel(\"convolutional filter\", fontsize=fontsize_axislabel)\n",
    "ax.set_ylabel(\"conv-layer x-axis\", fontsize=fontsize_axislabel)\n",
    "ax.set_zlabel(\"conv-layer y-axis\", fontsize=fontsize_axislabel)\n",
    "ax.set_title(\n",
    "    \"inside best predicting convolutional layer (scale2, study1)\",\n",
    "    fontsize=fontsize_axislabel,\n",
    ")\n",
    "# ax.set_xticks()\n",
    "ax.set_xlim(0, 25)\n",
    "ax.set_xticklabels(range(fn, fn + 25 + 1, 5))"
   ]
  },
  {
   "cell_type": "markdown",
   "metadata": {},
   "source": [
    "## plot"
   ]
  },
  {
   "cell_type": "code",
   "execution_count": 175,
   "metadata": {},
   "outputs": [],
   "source": [
    "plot_3dvoxels_singlearray(all_clustered_topvoxels, study, scale, model, layer)"
   ]
  },
  {
   "cell_type": "code",
   "execution_count": null,
   "metadata": {},
   "outputs": [],
   "source": [
    "# spatial correlation per image per net, correlate these netXnet\n",
    "# test if integration scores are still correlating to beauty"
   ]
  },
  {
   "cell_type": "markdown",
   "metadata": {},
   "source": [
    "# cluster overlap\n",
    "\"clusters of highly predictive voxels are partially robust for a network\"\n",
    "\n",
    "calculate cluster overlap <br>\n"
   ]
  },
  {
   "cell_type": "markdown",
   "metadata": {},
   "source": [
    "### functions"
   ]
  },
  {
   "cell_type": "code",
   "execution_count": 7,
   "metadata": {},
   "outputs": [],
   "source": [
    "def plot_3dvoxels_twoarrays(arr1, arr2, study1, study2, scale, model, layer, alpha=1.0):\n",
    "    with PdfPages(\n",
    "        os.path.join(\n",
    "            PATH_RESULTS,\n",
    "            \"spatial integration\",\n",
    "            \"3D plots\",\n",
    "            scale,\n",
    "            model + \" \" + study1 + \" vs \" + study2 + \" | layer \" + str(layer) + \".pdf\",\n",
    "        )\n",
    "    ) as pdf:\n",
    "\n",
    "        for fn in range(0, arr1.shape[0], 25):\n",
    "            ax = plt.figure(figsize=(16, 10)).add_subplot(projection=\"3d\")\n",
    "            ax.voxels(arr1[fn : fn + 25].astype(bool), facecolors=\"magenta\", alpha=alpha, label=study1)\n",
    "            ax.voxels(arr2[fn : fn + 25].astype(bool), facecolors=\"blue\", alpha=alpha, label=study2)\n",
    "            ax.set_xlabel(\"convolutional filter\", fontsize=fontsize_axislabel)\n",
    "            ax.set_ylabel(\"conv-layer x-axis\", fontsize=fontsize_axislabel)\n",
    "            ax.set_zlabel(\"conv-layer y-axis\", fontsize=fontsize_axislabel)\n",
    "            ax.set_title(\n",
    "                \"inside best predicting convolutional layer (scale2, pink: study1 (places1), blue: study3 (places2))\",\n",
    "                fontsize=fontsize_axislabel,\n",
    "            )\n",
    "            #plt.legend()\n",
    "            # ax.set_xticks()\n",
    "            ax.set_xlim(0, 25)\n",
    "            ax.set_xticklabels(range(fn, fn + 25 + 1, 5))\n",
    "\n",
    "            pdf.savefig()\n",
    "            plt.close()"
   ]
  },
  {
   "cell_type": "markdown",
   "metadata": {},
   "source": [
    "## between studies"
   ]
  },
  {
   "cell_type": "markdown",
   "metadata": {},
   "source": [
    "### overlapping degree (coeffiecient)\n",
    "ratio of overlapping clustered voxels"
   ]
  },
  {
   "cell_type": "markdown",
   "metadata": {},
   "source": [
    "### plot clusters from combinations of two studies"
   ]
  },
  {
   "cell_type": "code",
   "execution_count": null,
   "metadata": {},
   "outputs": [],
   "source": [
    "scale = \"scale2\"\n",
    "model = \"reshading\"\n",
    "layer = 20"
   ]
  },
  {
   "cell_type": "code",
   "execution_count": 178,
   "metadata": {},
   "outputs": [],
   "source": [
    "m1 = all_clustered_topvoxels"
   ]
  },
  {
   "cell_type": "code",
   "execution_count": 191,
   "metadata": {},
   "outputs": [],
   "source": [
    "m2 = all_clustered_topvoxels"
   ]
  },
  {
   "cell_type": "code",
   "execution_count": 200,
   "metadata": {},
   "outputs": [],
   "source": [
    "plot_3dvoxels_twoarrays(m1, m2, \"study1\", \"study3\", scale, model, layer, alpha=0.385)"
   ]
  },
  {
   "cell_type": "markdown",
   "metadata": {},
   "source": [
    "## between scales"
   ]
  },
  {
   "cell_type": "markdown",
   "metadata": {},
   "source": [
    "### scale2 vs scale8 (study1)"
   ]
  },
  {
   "cell_type": "code",
   "execution_count": 4,
   "metadata": {},
   "outputs": [],
   "source": [
    "scale = \"scale2\"\n",
    "model = \"reshading\"\n",
    "layer = 20"
   ]
  },
  {
   "cell_type": "code",
   "execution_count": 5,
   "metadata": {},
   "outputs": [],
   "source": [
    "study = \"study1\""
   ]
  },
  {
   "cell_type": "code",
   "execution_count": 8,
   "metadata": {},
   "outputs": [],
   "source": [
    "with open(\n",
    "    os.path.join(\n",
    "        PATH_SIGNICLUST,\n",
    "        scale,\n",
    "        \"signiclusteredcorr \" + study + \" \" + model + \" \" + str(layer) + \".npy\",\n",
    "    ),\n",
    "    \"rb\",\n",
    ") as file:\n",
    "    data1 = np.load(file)"
   ]
  },
  {
   "cell_type": "code",
   "execution_count": null,
   "metadata": {},
   "outputs": [],
   "source": [
    "scale = \"scale8\"\n",
    "model = \"vanishing_point\"\n",
    "layer = 18"
   ]
  },
  {
   "cell_type": "code",
   "execution_count": 9,
   "metadata": {},
   "outputs": [],
   "source": [
    "with open(\n",
    "    os.path.join(\n",
    "        PATH_SIGNICLUST,\n",
    "        scale,\n",
    "        \"signiclusteredcorr \" + study + \" \" + model + \" \" + str(layer) + \".npy\",\n",
    "    ),\n",
    "    \"rb\",\n",
    ") as file:\n",
    "    data2 = np.load(file)"
   ]
  },
  {
   "cell_type": "code",
   "execution_count": null,
   "metadata": {},
   "outputs": [],
   "source": [
    "plot_3dvoxels_twoarrays(data1, data2, \"study1\", \"study3\", scale, model, layer, alpha=0.385)"
   ]
  }
 ],
 "metadata": {
  "kernelspec": {
   "display_name": "PytorchEnv",
   "language": "python",
   "name": "python3"
  },
  "language_info": {
   "codemirror_mode": {
    "name": "ipython",
    "version": 3
   },
   "file_extension": ".py",
   "mimetype": "text/x-python",
   "name": "python",
   "nbconvert_exporter": "python",
   "pygments_lexer": "ipython3",
   "version": "3.8.19"
  }
 },
 "nbformat": 4,
 "nbformat_minor": 2
}
