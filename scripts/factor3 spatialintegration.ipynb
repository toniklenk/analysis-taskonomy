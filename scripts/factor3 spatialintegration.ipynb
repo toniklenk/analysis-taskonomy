{
 "cells": [
  {
   "cell_type": "code",
   "execution_count": 29,
   "metadata": {},
   "outputs": [],
   "source": [
    "# python\n",
    "import os, pickle\n",
    "from collections import OrderedDict\n",
    "from pathlib import Path\n",
    "\n",
    "# stats\n",
    "import numpy as np\n",
    "import pandas as pd\n",
    "from scipy.stats import pearsonr\n",
    "\n",
    "\n",
    "# plot\n",
    "import seaborn as sns\n",
    "import matplotlib.pyplot as plt\n",
    "from matplotlib.backends.backend_pdf import PdfPages\n",
    "\n",
    "# neural networks\n",
    "import torch, torch.utils.model_zoo  # required to load nets\n",
    "from torchvision.models.feature_extraction import (\n",
    "    get_graph_node_names,\n",
    "    create_feature_extractor,\n",
    ")\n",
    "\n",
    "# thesis library\n",
    "from lib.functions_scripting import *\n",
    "from lib.functions_base_analysis import *\n",
    "from lib.functions_second_analysis import *\n",
    "from lib.ImageDataset import ImageDataset\n",
    "from lib.NetworkScorer import NetworkScorer\n",
    "from lib.PatternGenerator import Pattern_Generator\n",
    "from lib.ActivationPattern import Activation_Pattern\n",
    "from lib.transforms import VisualPriorRepresentation\n",
    "from lib.PatternGeneratorSearchlight import PatternGeneratorSearchlight\n",
    "\n",
    "\n",
    "def study2behaviour(st):\n",
    "    return BEHAVIOUR_NAMES[STUDY_NAMES.index(st)]\n",
    "\n",
    "\n",
    "def study2dataset(st):\n",
    "    if st in STUDY_NAMES[:2]:\n",
    "        return DATASET_NAMES[0]\n",
    "    if st == STUDY_NAMES[2]:\n",
    "        return DATASET_NAMES[1]\n",
    "    if st == STUDY_NAMES[3]:\n",
    "        return DATASET_NAMES[2]\n",
    "\n",
    "\n",
    "# storing a NetworkScorer object for saving backprojected scores\n",
    "# TODO needs to be adapted when analysing multiple nets\n",
    "BACKPROJECTED_SCORES_FOLDER = \"./backprojected_scores\"\n",
    "\n",
    "PATH_SING_NET_RDMS = os.path.join(PATH_RESULTS, \"spatial integration\", \"single network rdms\")\n",
    "PATH_SUBSETDATA = os.path.join(PATH_RESULTS, \"spatial integration\", \"subsetdata\")"
   ]
  },
  {
   "cell_type": "code",
   "execution_count": 3,
   "metadata": {},
   "outputs": [],
   "source": [
    "_models = MODEL_NAMES\n",
    "_studies = STUDY_NAMES\n",
    "_datasets = DATASET_NAMES\n",
    "_scales = SCALE_NAMES"
   ]
  },
  {
   "cell_type": "markdown",
   "metadata": {},
   "source": [
    "Do for each studys:\n",
    "\n",
    "1. For every network: RDM (imageXimage) of searchlight integration scoring. Best ibcorr-performing layer in study.\n",
    "\n",
    "3. netXnet RDM of RDMs from (1)"
   ]
  },
  {
   "cell_type": "markdown",
   "metadata": {},
   "source": [
    "# analysis"
   ]
  },
  {
   "cell_type": "markdown",
   "metadata": {},
   "source": [
    "## functions"
   ]
  },
  {
   "cell_type": "code",
   "execution_count": null,
   "metadata": {},
   "outputs": [],
   "source": [
    "def load_ibcorr_for_spatialanalysis(mo, sc):\n",
    "    \"\"\" load ibcorr for one net\"\"\"\n",
    "    l = []\n",
    "    for st in STUDY_NAMES:\n",
    "        d = pd.read_csv(os.path.join(PATH_IB_CORRELATIONS, mo, st, sc, 'ib_correlations.csv'), header=None)\n",
    "        d.insert(0, 'study', st)\n",
    "        d = d.reset_index().rename(columns={\"index\":\"layer\", 0:\"ibcorr\"})\n",
    "        l.append(d)\n",
    "    return pd.concat(l).reset_index(drop=True)\n",
    "\n",
    "#setup nets for extracting activations from best layer\n",
    "def setup_singlelayer(model_name: str, layer_idx: int):\n",
    "    \"\"\" Setup activation extractor for a single layer of a tasnomomy network\n",
    "    \"\"\"\n",
    "    VisualPriorRepresentation._load_unloaded_nets([model_name])\n",
    "    net = VisualPriorRepresentation.feature_task_to_net[model_name]\n",
    "\n",
    "    _, eval_nodes = get_graph_node_names(net)\n",
    "    return_nodes = {node:node for node in eval_nodes if \"conv\" in node or 'fc' in node}\n",
    "    \n",
    "    layer_name = list(return_nodes.keys())[layer_idx]\n",
    "    return create_feature_extractor(net, return_nodes={layer_name:layer_name}), layer_name"
   ]
  },
  {
   "cell_type": "code",
   "execution_count": null,
   "metadata": {},
   "outputs": [],
   "source": [
    "def run_spatialintegration_analysis_bestlayer(mo, st, sc):\n",
    "    # setup best-layer activation extractor\n",
    "    df_ibcorr = load_ibcorr_for_spatialanalysis(mo, sc)\n",
    "    best_ibcorr = (df_ibcorr\n",
    "                   .iloc[df_ibcorr.groupby('study').ibcorr.idxmax(),:]\n",
    "                   .set_index('study'))\n",
    "    idx = best_ibcorr.loc[st].layer.astype(int)\n",
    "    activation_extractor, layername = setup_singlelayer(mo, idx)\n",
    "\n",
    "    # setup Pattern Generator\n",
    "    dataset = ImageDataset(os.path.join(PATH_IMAGES, study2dataset(st), sc))\n",
    "    dummy_image = next(iter(dataset))\n",
    "    net_activation = activation_extractor(dummy_image[0])\n",
    "    activation_shape = taskonomy_activation_layer_shapes(net_activation)\n",
    "    activation_shape = torch.Size(d for d in activation_shape[layername] if d != 1)\n",
    "    pat = PatternGeneratorSearchlight(activation_shape, layername)\n",
    "    \n",
    "    # setup storing results\n",
    "    # layer x image x subset\n",
    "    num_layers = 1\n",
    "    num_images = dataset.img_count\n",
    "    num_subsets = pat.num_subsets\n",
    "    integration = np.full([num_layers,num_images,num_subsets], np.nan, dtype=np.float64)\n",
    "\n",
    "    # run analysis\n",
    "    #cnt = 0\n",
    "    for img_id, (img_full, img_v1, img_v2) in enumerate(iter(dataset)):\n",
    "        #if cnt % 30 == 0: print(cnt, end= ' ')\n",
    "        #cnt=cnt+1\n",
    "        \n",
    "        # activations as tensors\n",
    "        act_full = activation_extractor(img_full)[layername].squeeze()\n",
    "        act_v1 = activation_extractor(img_v1)[layername].squeeze()\n",
    "        act_v2 = activation_extractor(img_v2)[layername].squeeze()\n",
    "        act_avg = (act_v1 + act_v2) / 2.\n",
    "\n",
    "        # iterate 3D positions\n",
    "        pat_it = iter(pat)\n",
    "        for subset_num, roi_mask in pat_it:\n",
    "            \n",
    "            subset_act_full = act_full[roi_mask]\n",
    "            subset_act_avg = act_avg[roi_mask]\n",
    "\n",
    "            # calculate integration and store it\n",
    "            subset_integration = pearsonr(subset_act_full.flatten(), subset_act_avg.flatten())[0]\n",
    "            integration[:,img_id, subset_num] = subset_integration\n",
    "\n",
    "    return integration"
   ]
  },
  {
   "cell_type": "markdown",
   "metadata": {},
   "source": [
    "### functions testing"
   ]
  },
  {
   "cell_type": "code",
   "execution_count": null,
   "metadata": {},
   "outputs": [],
   "source": [
    "mo = 'depth_euclidean'\n",
    "st = STUDY_NAMES[0]"
   ]
  },
  {
   "cell_type": "code",
   "execution_count": null,
   "metadata": {},
   "outputs": [],
   "source": [
    "# load data\n",
    "def load_ibcorr(mo, sc = SCALE_NAME):\n",
    "    \"\"\" load ibcorr for one net\"\"\"\n",
    "    l = []\n",
    "    for st in STUDY_NAMES:\n",
    "        d = pd.read_csv(os.path.join(PATH_IB_CORRELATIONS, mo, st, sc, 'ib_correlations.csv'), header=None)\n",
    "        d.insert(0, 'study', st)\n",
    "        d = d.reset_index().rename(columns={\"index\":\"layer\", 0:\"ibcorr\"})\n",
    "        l.append(d)\n",
    "    return pd.concat(l).reset_index(drop=True)\n",
    "\n",
    "df_ibcorr = load_ibcorr(mo)\n",
    "df_ibcorr\n",
    "\n",
    "# visualize this: add lineplot for ibcorr of 4 studies for per net\n",
    "best_ibcorr = df_ibcorr.iloc[df_ibcorr.groupby('study').ibcorr.idxmax(),:].set_index('study')\n",
    "best_ibcorr"
   ]
  },
  {
   "cell_type": "code",
   "execution_count": null,
   "metadata": {},
   "outputs": [],
   "source": [
    "#setup nets for extracting activations from best layer\n",
    "def setup_singlelayer(model_name: str, layer_idx: int):\n",
    "    \"\"\" Setup activation extractor for a single layer of a tasnomomy network\n",
    "    \"\"\"\n",
    "    VisualPriorRepresentation._load_unloaded_nets([model_name])\n",
    "    net = VisualPriorRepresentation.feature_task_to_net[model_name]\n",
    "\n",
    "    _, eval_nodes = get_graph_node_names(net)\n",
    "    return_nodes = {node:node for node in eval_nodes if \"conv\" in node or 'fc' in node}\n",
    "    \n",
    "    layer_name = list(return_nodes.keys())[layer_idx]\n",
    "    return create_feature_extractor(net, return_nodes={layer_name:layer_name}), layer_name\n",
    "\n",
    "idx = best_ibcorr.loc[st].layer.astype(int)\n",
    "activation_extractor, layername = setup_singlelayer(mo, idx)\n",
    "layername"
   ]
  },
  {
   "cell_type": "code",
   "execution_count": null,
   "metadata": {},
   "outputs": [],
   "source": [
    "# load net and activation shape (of best layer)\n",
    "dataset = ImageDataset(os.path.join(PATH_IMAGES, study2dataset(st), SCALE_NAME))\n",
    "dummy_image = next(iter(dataset))\n",
    "net_activation = activation_extractor(dummy_image[0])\n",
    "activation_shape = taskonomy_activation_layer_shapes(net_activation)\n",
    "activation_shape = torch.Size(d for d in activation_shape[layername] if d != 1)\n",
    "\n",
    "pat = PatternGeneratorSearchlight(activation_shape, layername)"
   ]
  },
  {
   "cell_type": "code",
   "execution_count": null,
   "metadata": {},
   "outputs": [],
   "source": [
    "# layer x image x subset\n",
    "num_layers = 1\n",
    "num_images = dataset.img_count\n",
    "num_subsets = pat.num_subsets\n",
    "integration = np.full([num_layers,num_images,num_subsets], np.nan, dtype=np.float64)\n",
    "\n",
    "# run analysis\n",
    "cnt = 0\n",
    "\n",
    "for img_id, (img_full, img_v1, img_v2) in enumerate(iter(dataset)):\n",
    "    if cnt % 30 == 0: print(cnt, end= ' ')\n",
    "    cnt=cnt+1\n",
    "    \n",
    "    # activations as tensors\n",
    "    act_full = activation_extractor(img_full)[layername].squeeze()\n",
    "    act_v1 = activation_extractor(img_v1)[layername].squeeze()\n",
    "    act_v2 = activation_extractor(img_v2)[layername].squeeze()\n",
    "    act_avg = (act_v1 + act_v2) / 2.\n",
    "\n",
    "    # iterate 3D positions in layer\n",
    "    pat_it = iter(pat)\n",
    "    for subset_num, roi_mask in pat_it:\n",
    "        \n",
    "        subset_act_full = act_full[roi_mask]\n",
    "        subset_act_avg = act_avg[roi_mask]\n",
    "\n",
    "        # calculate integration and store it\n",
    "        subset_integration = pearsonr(subset_act_full.flatten(), subset_act_avg.flatten())[0]\n",
    "        integration[:,img_id, subset_num] = subset_integration"
   ]
  },
  {
   "cell_type": "code",
   "execution_count": null,
   "metadata": {},
   "outputs": [],
   "source": [
    "with open(os.path.join(PATH_RESULTS, RESULTS_SEMANTIC_PLACES1, \"semantic_integration.npy\"), 'rb') as f:\n",
    "    integration = np.load(f)"
   ]
  },
  {
   "cell_type": "code",
   "execution_count": null,
   "metadata": {},
   "outputs": [],
   "source": [
    "# load beauty ratings\n",
    "beauty_ratings = pd.read_csv(os.path.join(PATH_RATINGS, study2behaviour(st)), header=None).mean(axis=1)\n",
    "\n",
    "# correlate integration with beauty\n",
    "scores = correlate_integration_beauty(integration, beauty_ratings)\n",
    "\n",
    "# convert integration back to 3D layer space\n",
    "ns = NetworkScorer({layername:activation_shape})\n",
    "ns.map_back_scores(scores, pat)"
   ]
  },
  {
   "cell_type": "markdown",
   "metadata": {},
   "source": [
    "## execution"
   ]
  },
  {
   "cell_type": "code",
   "execution_count": null,
   "metadata": {},
   "outputs": [],
   "source": [
    "# run analysis\n",
    "# TODO: change to save as hdf5\n",
    "_study = \"complexity order\"\n",
    "_scale = \"scale4\"\n",
    "\n",
    "\n",
    "for mo in MODEL_NAMES:\n",
    "    print(mo)\n",
    "    integration_subsets = run_spatialintegration_analysis_bestlayer(mo, _study, _scale)\n",
    "    integration = pd.DataFrame(integration_subsets.squeeze().T)\n",
    "    integration.to_csv(\n",
    "        os.path.join(\n",
    "            PATH_RESULTS,\n",
    "            \"spatial integration\",\n",
    "            _scale,\n",
    "            _study + \" subsetdata\",\n",
    "            mo + \".csv\",\n",
    "        )\n",
    "    )"
   ]
  },
  {
   "cell_type": "code",
   "execution_count": null,
   "metadata": {},
   "outputs": [],
   "source": [
    "# multiprocessing code"
   ]
  },
  {
   "cell_type": "code",
   "execution_count": null,
   "metadata": {},
   "outputs": [],
   "source": [
    "# from multiprocessing import Pool\n",
    "# with Pool() as pool:\n",
    "#     l1 = pool.starmap(run_spatialintegration_analysis_bestlayer, zip(MODEL_NAMES[5:], [\"short presentation\"] * len(MODEL_NAMES[5:]), [\"scale4\"] * len(MODEL_NAMES[5:]))   )\n",
    "\n",
    "#d1 = {k: d1[k] for k in _models}\n",
    "\n",
    "# for mo, data in l1:\n",
    "#     df = pd.DataFrame(data.squeeze().T)\n",
    "#     calculate_rdm(df)\n",
    "#     df.to_csv(os.path.join(PATH_RESULTS, \"spatial integration\", \"scale4\", \"study1\", mo + \".csv\"))\n"
   ]
  },
  {
   "cell_type": "markdown",
   "metadata": {},
   "source": [
    "# network imageXimage RDMs\n",
    "representing spatial structure in common space across networks"
   ]
  },
  {
   "cell_type": "code",
   "execution_count": null,
   "metadata": {},
   "outputs": [],
   "source": [
    "# calculate network RDMs from subsetdata"
   ]
  },
  {
   "cell_type": "code",
   "execution_count": 73,
   "metadata": {},
   "outputs": [],
   "source": [
    "dfspi_rdms = dfspi.groupby(\"model\").corr().groupby(\"model\").apply(set_diagonal_to_zero)"
   ]
  },
  {
   "cell_type": "code",
   "execution_count": 6,
   "metadata": {},
   "outputs": [],
   "source": [
    "# save network RDMs as hdf"
   ]
  },
  {
   "cell_type": "code",
   "execution_count": null,
   "metadata": {},
   "outputs": [],
   "source": []
  },
  {
   "cell_type": "code",
   "execution_count": null,
   "metadata": {},
   "outputs": [],
   "source": [
    "# load network RDMs from hdf"
   ]
  },
  {
   "cell_type": "code",
   "execution_count": null,
   "metadata": {},
   "outputs": [],
   "source": [
    "dfspi_rdms = pd.read_hdf(\n",
    "    os.path.join(\n",
    "        PATH_RESULTS,\n",
    "        \"spatial integration\",\n",
    "        \"single network rdms\",\n",
    "        \"scale4 study1 allnets.h5\",\n",
    "    ),\n",
    "    key=\"dfspi_rdms\",\n",
    ")"
   ]
  },
  {
   "cell_type": "code",
   "execution_count": 101,
   "metadata": {},
   "outputs": [],
   "source": [
    "# dfspi_rdms.to_hdf(\n",
    "#     os.path.join(\n",
    "#         PATH_RESULTS,\n",
    "#         \"spatial integration\",\n",
    "#         _scale,\n",
    "#         \"rdms \" + _study + \" allnets.h5\",\n",
    "#     ),\n",
    "#     key=\"dfspi_rdms\",\n",
    "# )"
   ]
  },
  {
   "cell_type": "markdown",
   "metadata": {},
   "source": [
    "# predictorRDM\n",
    "\n",
    "\"how\"\n",
    "\"where\" or alternatively \"what\",  which is the same because its spatial integration. Check for correlation between the what (represented by the integration ratings)."
   ]
  },
  {
   "cell_type": "code",
   "execution_count": 93,
   "metadata": {},
   "outputs": [],
   "source": [
    "dl = []\n",
    "for filename in os.listdir(PATH_SING_NET_RDMS):\n",
    "    scale, study, _ = Path(filename).stem.split()\n",
    "    study = studyname(study)\n",
    "    data = (\n",
    "        pd.read_hdf(os.path.join(PATH_SING_NET_RDMS, filename))\n",
    "        .assign(study=study, scale=scale)\n",
    "        .set_index([\"study\", \"scale\"], append=True)\n",
    "        .reorder_levels([\"study\", \"scale\", \"model\", \"img\"])\n",
    "    )\n",
    "    dl.append(data)\n",
    "\n",
    "dfspi_rdms = pd.concat(dl)"
   ]
  },
  {
   "cell_type": "code",
   "execution_count": 94,
   "metadata": {},
   "outputs": [
    {
     "data": {
      "text/html": [
       "<div>\n",
       "<style scoped>\n",
       "    .dataframe tbody tr th:only-of-type {\n",
       "        vertical-align: middle;\n",
       "    }\n",
       "\n",
       "    .dataframe tbody tr th {\n",
       "        vertical-align: top;\n",
       "    }\n",
       "\n",
       "    .dataframe thead th {\n",
       "        text-align: right;\n",
       "    }\n",
       "</style>\n",
       "<table border=\"1\" class=\"dataframe\">\n",
       "  <thead>\n",
       "    <tr style=\"text-align: right;\">\n",
       "      <th></th>\n",
       "      <th></th>\n",
       "      <th></th>\n",
       "      <th>img</th>\n",
       "      <th>0</th>\n",
       "      <th>1</th>\n",
       "      <th>2</th>\n",
       "      <th>3</th>\n",
       "      <th>4</th>\n",
       "      <th>5</th>\n",
       "      <th>6</th>\n",
       "      <th>7</th>\n",
       "      <th>8</th>\n",
       "      <th>9</th>\n",
       "      <th>...</th>\n",
       "      <th>240</th>\n",
       "      <th>241</th>\n",
       "      <th>242</th>\n",
       "      <th>243</th>\n",
       "      <th>244</th>\n",
       "      <th>245</th>\n",
       "      <th>246</th>\n",
       "      <th>247</th>\n",
       "      <th>248</th>\n",
       "      <th>249</th>\n",
       "    </tr>\n",
       "    <tr>\n",
       "      <th>study</th>\n",
       "      <th>scale</th>\n",
       "      <th>model</th>\n",
       "      <th>img</th>\n",
       "      <th></th>\n",
       "      <th></th>\n",
       "      <th></th>\n",
       "      <th></th>\n",
       "      <th></th>\n",
       "      <th></th>\n",
       "      <th></th>\n",
       "      <th></th>\n",
       "      <th></th>\n",
       "      <th></th>\n",
       "      <th></th>\n",
       "      <th></th>\n",
       "      <th></th>\n",
       "      <th></th>\n",
       "      <th></th>\n",
       "      <th></th>\n",
       "      <th></th>\n",
       "      <th></th>\n",
       "      <th></th>\n",
       "      <th></th>\n",
       "      <th></th>\n",
       "    </tr>\n",
       "  </thead>\n",
       "  <tbody>\n",
       "    <tr>\n",
       "      <th rowspan=\"11\" valign=\"top\">complexity order</th>\n",
       "      <th rowspan=\"5\" valign=\"top\">scale8</th>\n",
       "      <th rowspan=\"5\" valign=\"top\">autoencoding</th>\n",
       "      <th>0</th>\n",
       "      <td>0.000000</td>\n",
       "      <td>0.065853</td>\n",
       "      <td>0.268209</td>\n",
       "      <td>0.052688</td>\n",
       "      <td>0.319964</td>\n",
       "      <td>0.298544</td>\n",
       "      <td>0.303844</td>\n",
       "      <td>0.338253</td>\n",
       "      <td>0.080624</td>\n",
       "      <td>0.168532</td>\n",
       "      <td>...</td>\n",
       "      <td>0.162140</td>\n",
       "      <td>0.097780</td>\n",
       "      <td>0.153127</td>\n",
       "      <td>0.393909</td>\n",
       "      <td>0.127255</td>\n",
       "      <td>0.232155</td>\n",
       "      <td>0.314069</td>\n",
       "      <td>0.187343</td>\n",
       "      <td>0.051893</td>\n",
       "      <td>0.086527</td>\n",
       "    </tr>\n",
       "    <tr>\n",
       "      <th>1</th>\n",
       "      <td>0.065853</td>\n",
       "      <td>0.000000</td>\n",
       "      <td>0.196143</td>\n",
       "      <td>0.468951</td>\n",
       "      <td>0.187701</td>\n",
       "      <td>0.216722</td>\n",
       "      <td>0.145107</td>\n",
       "      <td>0.207201</td>\n",
       "      <td>0.228692</td>\n",
       "      <td>-0.083858</td>\n",
       "      <td>...</td>\n",
       "      <td>-0.056059</td>\n",
       "      <td>0.169147</td>\n",
       "      <td>0.402768</td>\n",
       "      <td>0.184773</td>\n",
       "      <td>0.244234</td>\n",
       "      <td>0.104279</td>\n",
       "      <td>0.136835</td>\n",
       "      <td>0.330112</td>\n",
       "      <td>0.238128</td>\n",
       "      <td>0.300729</td>\n",
       "    </tr>\n",
       "    <tr>\n",
       "      <th>2</th>\n",
       "      <td>0.268209</td>\n",
       "      <td>0.196143</td>\n",
       "      <td>0.000000</td>\n",
       "      <td>0.151871</td>\n",
       "      <td>0.152050</td>\n",
       "      <td>0.241353</td>\n",
       "      <td>0.492494</td>\n",
       "      <td>0.292385</td>\n",
       "      <td>0.019761</td>\n",
       "      <td>0.030654</td>\n",
       "      <td>...</td>\n",
       "      <td>0.027897</td>\n",
       "      <td>0.333322</td>\n",
       "      <td>0.130600</td>\n",
       "      <td>0.398088</td>\n",
       "      <td>0.181160</td>\n",
       "      <td>0.190212</td>\n",
       "      <td>0.236984</td>\n",
       "      <td>0.044125</td>\n",
       "      <td>0.157946</td>\n",
       "      <td>0.424532</td>\n",
       "    </tr>\n",
       "    <tr>\n",
       "      <th>3</th>\n",
       "      <td>0.052688</td>\n",
       "      <td>0.468951</td>\n",
       "      <td>0.151871</td>\n",
       "      <td>0.000000</td>\n",
       "      <td>0.105986</td>\n",
       "      <td>0.093960</td>\n",
       "      <td>0.156893</td>\n",
       "      <td>0.078106</td>\n",
       "      <td>0.049101</td>\n",
       "      <td>-0.082435</td>\n",
       "      <td>...</td>\n",
       "      <td>-0.082211</td>\n",
       "      <td>0.062361</td>\n",
       "      <td>0.211939</td>\n",
       "      <td>0.095926</td>\n",
       "      <td>0.086769</td>\n",
       "      <td>0.001098</td>\n",
       "      <td>0.096970</td>\n",
       "      <td>0.123118</td>\n",
       "      <td>0.122725</td>\n",
       "      <td>0.310733</td>\n",
       "    </tr>\n",
       "    <tr>\n",
       "      <th>4</th>\n",
       "      <td>0.319964</td>\n",
       "      <td>0.187701</td>\n",
       "      <td>0.152050</td>\n",
       "      <td>0.105986</td>\n",
       "      <td>0.000000</td>\n",
       "      <td>0.286814</td>\n",
       "      <td>0.125763</td>\n",
       "      <td>0.374823</td>\n",
       "      <td>0.168674</td>\n",
       "      <td>0.219726</td>\n",
       "      <td>...</td>\n",
       "      <td>0.261819</td>\n",
       "      <td>0.250971</td>\n",
       "      <td>0.151870</td>\n",
       "      <td>0.355595</td>\n",
       "      <td>0.306186</td>\n",
       "      <td>0.352248</td>\n",
       "      <td>0.306206</td>\n",
       "      <td>0.264092</td>\n",
       "      <td>0.253476</td>\n",
       "      <td>0.162528</td>\n",
       "    </tr>\n",
       "    <tr>\n",
       "      <th>...</th>\n",
       "      <th>...</th>\n",
       "      <th>...</th>\n",
       "      <td>...</td>\n",
       "      <td>...</td>\n",
       "      <td>...</td>\n",
       "      <td>...</td>\n",
       "      <td>...</td>\n",
       "      <td>...</td>\n",
       "      <td>...</td>\n",
       "      <td>...</td>\n",
       "      <td>...</td>\n",
       "      <td>...</td>\n",
       "      <td>...</td>\n",
       "      <td>...</td>\n",
       "      <td>...</td>\n",
       "      <td>...</td>\n",
       "      <td>...</td>\n",
       "      <td>...</td>\n",
       "      <td>...</td>\n",
       "      <td>...</td>\n",
       "      <td>...</td>\n",
       "      <td>...</td>\n",
       "      <td>...</td>\n",
       "    </tr>\n",
       "    <tr>\n",
       "      <th rowspan=\"5\" valign=\"top\">scale4</th>\n",
       "      <th rowspan=\"5\" valign=\"top\">vanishing_point</th>\n",
       "      <th>245</th>\n",
       "      <td>0.224843</td>\n",
       "      <td>0.246369</td>\n",
       "      <td>0.338090</td>\n",
       "      <td>0.294132</td>\n",
       "      <td>0.254244</td>\n",
       "      <td>0.304206</td>\n",
       "      <td>0.335670</td>\n",
       "      <td>0.348492</td>\n",
       "      <td>0.196506</td>\n",
       "      <td>0.236015</td>\n",
       "      <td>...</td>\n",
       "      <td>0.273163</td>\n",
       "      <td>0.145133</td>\n",
       "      <td>0.277158</td>\n",
       "      <td>0.290480</td>\n",
       "      <td>0.362110</td>\n",
       "      <td>0.000000</td>\n",
       "      <td>0.215253</td>\n",
       "      <td>0.104051</td>\n",
       "      <td>0.375142</td>\n",
       "      <td>0.153802</td>\n",
       "    </tr>\n",
       "    <tr>\n",
       "      <th>246</th>\n",
       "      <td>0.555061</td>\n",
       "      <td>0.380135</td>\n",
       "      <td>0.495111</td>\n",
       "      <td>0.533161</td>\n",
       "      <td>0.543601</td>\n",
       "      <td>0.464897</td>\n",
       "      <td>0.531352</td>\n",
       "      <td>0.332438</td>\n",
       "      <td>0.455332</td>\n",
       "      <td>0.461132</td>\n",
       "      <td>...</td>\n",
       "      <td>0.428144</td>\n",
       "      <td>0.196375</td>\n",
       "      <td>0.329311</td>\n",
       "      <td>0.339270</td>\n",
       "      <td>0.391882</td>\n",
       "      <td>0.215253</td>\n",
       "      <td>0.000000</td>\n",
       "      <td>0.366192</td>\n",
       "      <td>0.376202</td>\n",
       "      <td>0.551576</td>\n",
       "    </tr>\n",
       "    <tr>\n",
       "      <th>247</th>\n",
       "      <td>0.428160</td>\n",
       "      <td>0.259019</td>\n",
       "      <td>0.286163</td>\n",
       "      <td>0.458115</td>\n",
       "      <td>0.398085</td>\n",
       "      <td>0.287108</td>\n",
       "      <td>0.404336</td>\n",
       "      <td>0.491371</td>\n",
       "      <td>0.364493</td>\n",
       "      <td>0.249846</td>\n",
       "      <td>...</td>\n",
       "      <td>0.500920</td>\n",
       "      <td>0.132337</td>\n",
       "      <td>0.480770</td>\n",
       "      <td>0.217922</td>\n",
       "      <td>0.357634</td>\n",
       "      <td>0.104051</td>\n",
       "      <td>0.366192</td>\n",
       "      <td>0.000000</td>\n",
       "      <td>0.474106</td>\n",
       "      <td>0.458446</td>\n",
       "    </tr>\n",
       "    <tr>\n",
       "      <th>248</th>\n",
       "      <td>0.346852</td>\n",
       "      <td>0.265879</td>\n",
       "      <td>0.371492</td>\n",
       "      <td>0.433612</td>\n",
       "      <td>0.491487</td>\n",
       "      <td>0.402992</td>\n",
       "      <td>0.457202</td>\n",
       "      <td>0.438148</td>\n",
       "      <td>0.237683</td>\n",
       "      <td>0.304326</td>\n",
       "      <td>...</td>\n",
       "      <td>0.581422</td>\n",
       "      <td>0.132081</td>\n",
       "      <td>0.352693</td>\n",
       "      <td>0.303551</td>\n",
       "      <td>0.435573</td>\n",
       "      <td>0.375142</td>\n",
       "      <td>0.376202</td>\n",
       "      <td>0.474106</td>\n",
       "      <td>0.000000</td>\n",
       "      <td>0.315646</td>\n",
       "    </tr>\n",
       "    <tr>\n",
       "      <th>249</th>\n",
       "      <td>0.643557</td>\n",
       "      <td>0.458602</td>\n",
       "      <td>0.512385</td>\n",
       "      <td>0.522883</td>\n",
       "      <td>0.496421</td>\n",
       "      <td>0.488303</td>\n",
       "      <td>0.459728</td>\n",
       "      <td>0.366798</td>\n",
       "      <td>0.493343</td>\n",
       "      <td>0.419848</td>\n",
       "      <td>...</td>\n",
       "      <td>0.476658</td>\n",
       "      <td>0.372813</td>\n",
       "      <td>0.233809</td>\n",
       "      <td>0.350863</td>\n",
       "      <td>0.414878</td>\n",
       "      <td>0.153802</td>\n",
       "      <td>0.551576</td>\n",
       "      <td>0.458446</td>\n",
       "      <td>0.315646</td>\n",
       "      <td>0.000000</td>\n",
       "    </tr>\n",
       "  </tbody>\n",
       "</table>\n",
       "<p>28750 rows × 250 columns</p>\n",
       "</div>"
      ],
      "text/plain": [
       "img                                                 0         1         2  \\\n",
       "study            scale  model           img                                 \n",
       "complexity order scale8 autoencoding    0    0.000000  0.065853  0.268209   \n",
       "                                        1    0.065853  0.000000  0.196143   \n",
       "                                        2    0.268209  0.196143  0.000000   \n",
       "                                        3    0.052688  0.468951  0.151871   \n",
       "                                        4    0.319964  0.187701  0.152050   \n",
       "...                                               ...       ...       ...   \n",
       "                 scale4 vanishing_point 245  0.224843  0.246369  0.338090   \n",
       "                                        246  0.555061  0.380135  0.495111   \n",
       "                                        247  0.428160  0.259019  0.286163   \n",
       "                                        248  0.346852  0.265879  0.371492   \n",
       "                                        249  0.643557  0.458602  0.512385   \n",
       "\n",
       "img                                                 3         4         5  \\\n",
       "study            scale  model           img                                 \n",
       "complexity order scale8 autoencoding    0    0.052688  0.319964  0.298544   \n",
       "                                        1    0.468951  0.187701  0.216722   \n",
       "                                        2    0.151871  0.152050  0.241353   \n",
       "                                        3    0.000000  0.105986  0.093960   \n",
       "                                        4    0.105986  0.000000  0.286814   \n",
       "...                                               ...       ...       ...   \n",
       "                 scale4 vanishing_point 245  0.294132  0.254244  0.304206   \n",
       "                                        246  0.533161  0.543601  0.464897   \n",
       "                                        247  0.458115  0.398085  0.287108   \n",
       "                                        248  0.433612  0.491487  0.402992   \n",
       "                                        249  0.522883  0.496421  0.488303   \n",
       "\n",
       "img                                                 6         7         8  \\\n",
       "study            scale  model           img                                 \n",
       "complexity order scale8 autoencoding    0    0.303844  0.338253  0.080624   \n",
       "                                        1    0.145107  0.207201  0.228692   \n",
       "                                        2    0.492494  0.292385  0.019761   \n",
       "                                        3    0.156893  0.078106  0.049101   \n",
       "                                        4    0.125763  0.374823  0.168674   \n",
       "...                                               ...       ...       ...   \n",
       "                 scale4 vanishing_point 245  0.335670  0.348492  0.196506   \n",
       "                                        246  0.531352  0.332438  0.455332   \n",
       "                                        247  0.404336  0.491371  0.364493   \n",
       "                                        248  0.457202  0.438148  0.237683   \n",
       "                                        249  0.459728  0.366798  0.493343   \n",
       "\n",
       "img                                                 9  ...       240  \\\n",
       "study            scale  model           img            ...             \n",
       "complexity order scale8 autoencoding    0    0.168532  ...  0.162140   \n",
       "                                        1   -0.083858  ... -0.056059   \n",
       "                                        2    0.030654  ...  0.027897   \n",
       "                                        3   -0.082435  ... -0.082211   \n",
       "                                        4    0.219726  ...  0.261819   \n",
       "...                                               ...  ...       ...   \n",
       "                 scale4 vanishing_point 245  0.236015  ...  0.273163   \n",
       "                                        246  0.461132  ...  0.428144   \n",
       "                                        247  0.249846  ...  0.500920   \n",
       "                                        248  0.304326  ...  0.581422   \n",
       "                                        249  0.419848  ...  0.476658   \n",
       "\n",
       "img                                               241       242       243  \\\n",
       "study            scale  model           img                                 \n",
       "complexity order scale8 autoencoding    0    0.097780  0.153127  0.393909   \n",
       "                                        1    0.169147  0.402768  0.184773   \n",
       "                                        2    0.333322  0.130600  0.398088   \n",
       "                                        3    0.062361  0.211939  0.095926   \n",
       "                                        4    0.250971  0.151870  0.355595   \n",
       "...                                               ...       ...       ...   \n",
       "                 scale4 vanishing_point 245  0.145133  0.277158  0.290480   \n",
       "                                        246  0.196375  0.329311  0.339270   \n",
       "                                        247  0.132337  0.480770  0.217922   \n",
       "                                        248  0.132081  0.352693  0.303551   \n",
       "                                        249  0.372813  0.233809  0.350863   \n",
       "\n",
       "img                                               244       245       246  \\\n",
       "study            scale  model           img                                 \n",
       "complexity order scale8 autoencoding    0    0.127255  0.232155  0.314069   \n",
       "                                        1    0.244234  0.104279  0.136835   \n",
       "                                        2    0.181160  0.190212  0.236984   \n",
       "                                        3    0.086769  0.001098  0.096970   \n",
       "                                        4    0.306186  0.352248  0.306206   \n",
       "...                                               ...       ...       ...   \n",
       "                 scale4 vanishing_point 245  0.362110  0.000000  0.215253   \n",
       "                                        246  0.391882  0.215253  0.000000   \n",
       "                                        247  0.357634  0.104051  0.366192   \n",
       "                                        248  0.435573  0.375142  0.376202   \n",
       "                                        249  0.414878  0.153802  0.551576   \n",
       "\n",
       "img                                               247       248       249  \n",
       "study            scale  model           img                                \n",
       "complexity order scale8 autoencoding    0    0.187343  0.051893  0.086527  \n",
       "                                        1    0.330112  0.238128  0.300729  \n",
       "                                        2    0.044125  0.157946  0.424532  \n",
       "                                        3    0.123118  0.122725  0.310733  \n",
       "                                        4    0.264092  0.253476  0.162528  \n",
       "...                                               ...       ...       ...  \n",
       "                 scale4 vanishing_point 245  0.104051  0.375142  0.153802  \n",
       "                                        246  0.366192  0.376202  0.551576  \n",
       "                                        247  0.000000  0.474106  0.458446  \n",
       "                                        248  0.474106  0.000000  0.315646  \n",
       "                                        249  0.458446  0.315646  0.000000  \n",
       "\n",
       "[28750 rows x 250 columns]"
      ]
     },
     "execution_count": 94,
     "metadata": {},
     "output_type": "execute_result"
    }
   ],
   "source": [
    "dfspi_rdms"
   ]
  },
  {
   "cell_type": "code",
   "execution_count": 149,
   "metadata": {},
   "outputs": [
    {
     "data": {
      "text/plain": [
       "<matplotlib.axes._subplots.AxesSubplot at 0x77a98d736ca0>"
      ]
     },
     "execution_count": 149,
     "metadata": {},
     "output_type": "execute_result"
    },
    {
     "data": {
      "image/png": "[encoded data removed]",
      "text/plain": [
       "<Figure size 432x288 with 2 Axes>"
      ]
     },
     "metadata": {
      "needs_background": "light"
     },
     "output_type": "display_data"
    }
   ],
   "source": [
    "g_studyscale = dfspi_rdms.groupby([\"study\", \"scale\"])\n",
    "l = []\n",
    "for gk in g_studyscale.groups.keys():\n",
    "    gss = g_studyscale.get_group(gk).groupby(\"model\")\n",
    "\n",
    "    rdm = pd.DataFrame(0, index=_models, columns=_models)\n",
    "    for mo1, mo2 in combinations(gss.groups.keys(), 2):\n",
    "        c = correlate_rdms(gss.get_group(mo1), gss.get_group(mo2))[0]\n",
    "        rdm.loc[mo1, mo2], rdm.loc[mo2, mo1] = c, c\n",
    "    rdm = rdm.assign(study=gk[0], scale=gk[1]).set_index([\"study\",\"scale\"], append=True).reorder_levels([\"study\",\"scale\",None])\n",
    "    l.append(rdm)\n",
    "\n",
    "predictor_rdm_3 = pd.concat(l)\n",
    "sns.heatmap(predictor_rdm_3.loc[(\"short presentation\",\"scale4\")])"
   ]
  },
  {
   "cell_type": "code",
   "execution_count": 153,
   "metadata": {},
   "outputs": [],
   "source": [
    "predictor_rdm_3.to_hdf(\n",
    "    os.path.join(PATH_RESULTS, \"spatial integration\", \"predictor3 bestpredlayer.hd5\"),\n",
    "    key=\"predictor_rdm_3\",\n",
    ")"
   ]
  },
  {
   "cell_type": "code",
   "execution_count": null,
   "metadata": {},
   "outputs": [],
   "source": [
    "# predictor_rdm_3 = pd.DataFrame(0, index=_models, columns=_models)\n",
    "# g = dfspi_rdms.groupby(\"model\")\n",
    "\n",
    "# for gk1, gk2 in combinations(g.groups.keys(), 2):\n",
    "#     c = correlate_rdms(g.get_group(gk1), g.get_group(gk2))[0]\n",
    "#     predictor_rdm_3.loc[gk1, gk2], predictor_rdm_3.loc[gk2, gk1] = c, c"
   ]
  },
  {
   "cell_type": "markdown",
   "metadata": {},
   "source": [
    "# integration is localized"
   ]
  },
  {
   "cell_type": "code",
   "execution_count": null,
   "metadata": {},
   "outputs": [],
   "source": [
    "# visualize node score distribution"
   ]
  },
  {
   "cell_type": "code",
   "execution_count": null,
   "metadata": {},
   "outputs": [],
   "source": [
    "# visualize within layer heatmaps\n",
    "\n",
    "# exemplars"
   ]
  },
  {
   "cell_type": "code",
   "execution_count": null,
   "metadata": {},
   "outputs": [],
   "source": [
    "# spatial correlation per image per net, correlate these netXnet\n",
    "# test if integration scores are still correlating to beauty"
   ]
  },
  {
   "cell_type": "markdown",
   "metadata": {},
   "source": [
    "# old version: searchlight scoring best predicting nets\n",
    "\n",
    "Representative net from each category:\n",
    "\n",
    "semantic:   segment semantic \\\n",
    "2D:         segment unsup 2d \\\n",
    "3D:         depth euclidean\n",
    "\n",
    "> from each class of networks take the one layer with highest integration beauty score across networks\n"
   ]
  },
  {
   "cell_type": "code",
   "execution_count": null,
   "metadata": {},
   "outputs": [],
   "source": [
    "# load integration-beauty correlation for 3 nets\n",
    "SCALE_NAME = \"scale4\"\n",
    "MODEL_SEMANTIC = \"segment_semantic\"\n",
    "MODEL_2D = \"segment_unsup2d\"\n",
    "MODEL_3D = \"depth_euclidean\"\n",
    "\n",
    "\n",
    "def load_ibcorr(m):\n",
    "    l = []\n",
    "    for s in STUDY_NAMES:\n",
    "        d = pd.read_csv(os.path.join(PATH_IB_CORRELATIONS, m, s, SCALE_NAME, 'ib_correlations.csv'), header=None)\n",
    "        d.insert(0, 'study', s)\n",
    "        d = d.reset_index().rename(columns={\"index\":\"layer\", 0:\"ibcorr\"})\n",
    "        l.append(d)\n",
    "    \n",
    "    return pd.concat(l).reset_index(drop=True)\n",
    "\n",
    "df_segment_semantic = load_ibcorr(MODEL_SEMANTIC)\n",
    "df_segment_unsup2d = load_ibcorr(MODEL_2D)\n",
    "df_depth_euclidean = load_ibcorr(MODEL_3D)"
   ]
  },
  {
   "cell_type": "code",
   "execution_count": null,
   "metadata": {},
   "outputs": [],
   "source": [
    "# find layers with highest integration-beauty correlation\n",
    "# get scale and layer num of layer with highest correlation\n",
    "best_semantic = df_segment_semantic.iloc[df_segment_semantic.ibcorr.idxmax(),:]\n",
    "best_2d = df_segment_unsup2d.iloc[df_segment_unsup2d.ibcorr.idxmax(),:]\n",
    "best_3d = df_depth_euclidean.iloc[df_depth_euclidean.ibcorr.idxmax(),:]\n",
    "print(best_semantic)\n",
    "print(best_2d)\n",
    "print(best_3d)"
   ]
  },
  {
   "cell_type": "code",
   "execution_count": null,
   "metadata": {},
   "outputs": [],
   "source": [
    "#setup nets for extracting activations from best layer\n",
    "def setup_singlelayer(model_name: str, layer_idx: int):\n",
    "    \"\"\" Setup activation extractor for a single layer of a tasnomomy network\n",
    "    \"\"\"\n",
    "    VisualPriorRepresentation._load_unloaded_nets([model_name])\n",
    "    net = VisualPriorRepresentation.feature_task_to_net[model_name]\n",
    "\n",
    "    _, eval_nodes = get_graph_node_names(net)\n",
    "    return_nodes = {node:node for node in eval_nodes if \"conv\" in node or 'fc' in node}\n",
    "    \n",
    "    layer_name = list(return_nodes.keys())[layer_idx]\n",
    "    return create_feature_extractor(net, return_nodes={layer_name:layer_name}), layer_name\n",
    "\n",
    "activation_extractor_semantic, layername_best_semantic = setup_singlelayer(MODEL_SEMANTIC, best_semantic.layer)\n",
    "activation_extractor_2d, layername_best_2d = setup_singlelayer(MODEL_2D, best_2d.layer)\n",
    "activation_extractor_3d, layername_best_3d = setup_singlelayer(MODEL_3D, best_3d.layer)"
   ]
  },
  {
   "cell_type": "markdown",
   "metadata": {},
   "source": [
    "Do integration beauty scoring with node pools sweeping along 3D axis\n",
    "- full width 2D layer pools along all three axis\n",
    "- 3D cubic pool along all three axis (vary in size)\n",
    "\n",
    "Effectively just need to change the PatternGenerator, and switch from iterating subset num to iterating the pattern generator"
   ]
  },
  {
   "cell_type": "code",
   "execution_count": null,
   "metadata": {},
   "outputs": [],
   "source": [
    "RESULTS_SEMANTIC_PLACES1 = './searchlight/singlelayer'"
   ]
  },
  {
   "cell_type": "markdown",
   "metadata": {},
   "source": [
    "### semantic net\n",
    "\n",
    "semantic, places1, best layer"
   ]
  },
  {
   "cell_type": "markdown",
   "metadata": {},
   "source": [
    "### load images & activation shape (semantic) "
   ]
  },
  {
   "cell_type": "code",
   "execution_count": null,
   "metadata": {},
   "outputs": [],
   "source": [
    "dataset = ImageDataset(os.path.join(PATH_IMAGES, \"places1\", best_semantic.scale))\n",
    "\n",
    "num_images = dataset.img_count\n",
    "\n",
    "# activation shape as Dict\n",
    "dummy_image = next(iter(dataset))\n",
    "net_activation = activation_extractor_semantic(dummy_image[0])\n",
    "net_activation = OrderedDict(net_activation)\n",
    "activation_shapes = taskonomy_activation_layer_shapes(net_activation)\n",
    "\n",
    "# activation shape as Tensor\n",
    "activation_shape_semantic = list(activation_shapes.values())[0][1:]"
   ]
  },
  {
   "cell_type": "markdown",
   "metadata": {},
   "source": [
    "### single image(s)\n",
    "\n",
    "can only map back integration-beauty score for whole dataset, however, its possible, that in every image something different gets integrated, therefore it wouldn't make sense to map back a score for the whole dataset to individual nodes.\n",
    "\n",
    "Since we know that (at least some) integration, and subsets integration, is meaningfull, we map back integration of individual images onto individual nodes, without correlating this integration with beauty."
   ]
  },
  {
   "cell_type": "code",
   "execution_count": null,
   "metadata": {},
   "outputs": [],
   "source": [
    "# --- SETUP VARIABLES ---\n",
    "pat_s = PatternGeneratorSearchlight(\n",
    "    activation_shape_semantic,\n",
    "    layername_best_semantic\n",
    "    )\n",
    "\n",
    "num_layers = 1 # only take activations of best performing layer from each net\n",
    "num_images = 1\n",
    "num_subsets = pat_s.num_subsets\n",
    "\n",
    "# layer x image x subset\n",
    "integration = np.full([num_layers, num_images, num_subsets], np.nan, dtype=np.float64)\n",
    "cnt = 0\n",
    "\n",
    "    \n",
    "# load single image\n",
    "img_id = 0\n",
    "img_full, img_v1, img_v2 = next(iter(dataset))\n",
    "\n",
    "# --- ANALYSIS ---\n",
    "\n",
    "act_full = activation_extractor_semantic(img_full)[layername_best_semantic].squeeze()\n",
    "act_v1 = activation_extractor_semantic(img_v1)[layername_best_semantic].squeeze()\n",
    "act_v2 = activation_extractor_semantic(img_v2)[layername_best_semantic].squeeze()\n",
    "act_avg = (act_v1 + act_v2) / 2.\n",
    "\n",
    "# iterate 3D positions\n",
    "pat_it = iter(pat_s)\n",
    "for subset_num, roi_mask in pat_it:\n",
    "    \n",
    "    subset_act_full = act_full[roi_mask]\n",
    "    subset_act_avg = act_avg[roi_mask]\n",
    "\n",
    "    # calculate integration and store it\n",
    "    subset_integration = -pearsonr(subset_act_full.flatten(), subset_act_avg.flatten())[0]\n",
    "    integration[:,img_id, subset_num] = subset_integration"
   ]
  },
  {
   "cell_type": "code",
   "execution_count": null,
   "metadata": {},
   "outputs": [],
   "source": [
    "integration = integration.squeeze(0)\n",
    "integration.shape"
   ]
  },
  {
   "cell_type": "code",
   "execution_count": null,
   "metadata": {},
   "outputs": [],
   "source": [
    "activation_shapes['layer3.4.conv2'] = activation_shape_semantic\n",
    "ns = NetworkScorer(activation_shapes)\n",
    "ns.map_back_scores(integration, pat_s)\n"
   ]
  },
  {
   "cell_type": "markdown",
   "metadata": {},
   "source": [
    "### score all images"
   ]
  },
  {
   "cell_type": "code",
   "execution_count": null,
   "metadata": {},
   "outputs": [],
   "source": [
    "# layer x image x subset\n",
    "integration = np.full([num_layers,num_images,num_subsets], np.nan, dtype=np.float64)\n",
    "cnt = 0\n",
    "\n",
    "# iterate image set\n",
    "for img_id, (img_full, img_v1, img_v2) in enumerate(iter(dataset)):\n",
    "    if cnt % 30 == 0: print(cnt, end= ' ')\n",
    "    cnt=cnt+1\n",
    "    \n",
    "    # activations as tensors\n",
    "    act_full = activation_extractor_semantic(img_full)[layername_best_semantic].squeeze()\n",
    "    act_v1 = activation_extractor_semantic(img_v1)[layername_best_semantic].squeeze()\n",
    "    act_v2 = activation_extractor_semantic(img_v2)[layername_best_semantic].squeeze()\n",
    "    act_avg = (act_v1 + act_v2) / 2.\n",
    "\n",
    "    # iterate 3D positions in layer\n",
    "    pat_it = iter(pat_s)\n",
    "\n",
    "    for subset_num, roi_mask in pat_it:\n",
    "        \n",
    "        subset_act_full = act_full[roi_mask]\n",
    "        subset_act_avg = act_avg[roi_mask]\n",
    "\n",
    "        # calculate integration and store it\n",
    "        subset_integration = pearsonr(subset_act_full.flatten(), subset_act_avg.flatten())[0]\n",
    "        integration[:,img_id, subset_num] = subset_integration"
   ]
  },
  {
   "cell_type": "code",
   "execution_count": null,
   "metadata": {},
   "outputs": [],
   "source": [
    "with open(os.path.join(PATH_RESULTS, RESULTS_SEMANTIC_PLACES1, \"semantic_integration.npy\"), \"wb\") as f:\n",
    "    np.save(f, integration)"
   ]
  },
  {
   "cell_type": "code",
   "execution_count": null,
   "metadata": {},
   "outputs": [],
   "source": [
    "with open(os.path.join(PATH_RESULTS, RESULTS_SEMANTIC_PLACES1, \"semantic_integration.npy\"), 'rb') as f:\n",
    "    integration = np.load(f)"
   ]
  },
  {
   "cell_type": "code",
   "execution_count": null,
   "metadata": {},
   "outputs": [],
   "source": [
    "integration.shape"
   ]
  },
  {
   "cell_type": "code",
   "execution_count": null,
   "metadata": {},
   "outputs": [],
   "source": [
    "# load beauty ratings\n",
    "beauty_ratings = ImageDataset(\n",
    "    os.path.join(DATA_PATH, DATASET_NAMES[0], SCALE_NAMES[0]),\n",
    "    beauty_ratings_path='behavior/ratings_study1.csv').beauty_ratings\n",
    "\n",
    "# correlate integration with beauty\n",
    "scores = correlate_integration_beauty(integration, beauty_ratings)"
   ]
  },
  {
   "cell_type": "code",
   "execution_count": null,
   "metadata": {},
   "outputs": [],
   "source": [
    "# convert integration back to 3D layer space\n",
    "activation_shapes['layer3.4.conv2'] = activation_shape_semantic\n",
    "ns = NetworkScorer(activation_shapes)\n",
    "ns.map_back_scores(scores, pat_s)"
   ]
  },
  {
   "cell_type": "markdown",
   "metadata": {},
   "source": [
    "## Visualize spatial integration"
   ]
  },
  {
   "cell_type": "markdown",
   "metadata": {},
   "source": [
    "## score distribution"
   ]
  },
  {
   "cell_type": "code",
   "execution_count": null,
   "metadata": {},
   "outputs": [],
   "source": [
    "# TODO plot all heatmaps with the same absoloute color scale\n",
    "with PdfPages('integration heatmap semantic img0.pdf') as pdf:\n",
    "    for vertical_slice in ns.scores[layername_best_semantic].squeeze():\n",
    "        sns.heatmap(vertical_slice)\n",
    "        pdf.savefig()\n",
    "        plt.close() "
   ]
  },
  {
   "cell_type": "code",
   "execution_count": null,
   "metadata": {},
   "outputs": [],
   "source": [
    "t = ns.scores[layername_best_semantic]\n",
    "t.min(), t.max()"
   ]
  },
  {
   "cell_type": "code",
   "execution_count": null,
   "metadata": {},
   "outputs": [],
   "source": [
    "t = t.flatten()\n",
    "num_bins = 30\n",
    "hist = torch.histc(t, bins=num_bins, min=torch.min(t).item(), max=torch.max(t).item())\n",
    "\n",
    "# Define the edges of the bins\n",
    "bin_edges = torch.linspace(torch.min(t).item(), torch.max(t).item(), steps=num_bins + 1)\n",
    "\n",
    "# Plot the histogram using Matplotlib\n",
    "plt.figure(figsize=(8, 6))\n",
    "plt.hist(t.numpy(), bins=bin_edges.numpy(), edgecolor='black')\n",
    "plt.title('Histogram of Tensor Values')\n",
    "plt.xlabel('Value')\n",
    "plt.ylabel('Frequency')\n",
    "plt.show()\n"
   ]
  },
  {
   "cell_type": "markdown",
   "metadata": {},
   "source": [
    "## Integration heatmap"
   ]
  },
  {
   "cell_type": "code",
   "execution_count": null,
   "metadata": {},
   "outputs": [],
   "source": [
    "inte = ns.scores[layername_best_semantic].squeeze()\n",
    "\n",
    "# plot only highest integrating nodes\n",
    "with PdfPages('integration heatmap semantic img0 best.pdf') as pdf:\n",
    "    for vertical_slice in inte:\n",
    "        sns.heatmap(vertical_slice)\n",
    "        pdf.savefig()\n",
    "        plt.close() "
   ]
  },
  {
   "cell_type": "markdown",
   "metadata": {},
   "source": [
    "## Permutation testing\n",
    "\n",
    "Repeat analysis for randomly shuffeled integration values"
   ]
  },
  {
   "cell_type": "code",
   "execution_count": null,
   "metadata": {},
   "outputs": [],
   "source": [
    "\n",
    "integration = integration.squeeze(0)\n",
    "integration.shape"
   ]
  },
  {
   "cell_type": "code",
   "execution_count": null,
   "metadata": {},
   "outputs": [],
   "source": [
    "integration_pt = torch.tensor(integration)"
   ]
  },
  {
   "cell_type": "code",
   "execution_count": null,
   "metadata": {},
   "outputs": [],
   "source": [
    "integration_pt.nelement()"
   ]
  },
  {
   "cell_type": "code",
   "execution_count": null,
   "metadata": {},
   "outputs": [],
   "source": [
    "integration_randomized = integration_pt[torch.randperm(integration_pt.nelement())]"
   ]
  },
  {
   "cell_type": "code",
   "execution_count": null,
   "metadata": {},
   "outputs": [],
   "source": [
    "integration.shape"
   ]
  },
  {
   "cell_type": "code",
   "execution_count": null,
   "metadata": {},
   "outputs": [],
   "source": [
    "integration_randomized.shape"
   ]
  },
  {
   "cell_type": "code",
   "execution_count": null,
   "metadata": {},
   "outputs": [],
   "source": [
    "ns = NetworkScorer(activation_shapes)\n",
    "ns.map_back_scores(integration_randomized.unsqueeze(0), pat_s)\n"
   ]
  },
  {
   "cell_type": "code",
   "execution_count": null,
   "metadata": {},
   "outputs": [],
   "source": [
    "# plot random pattern heatmaps for visual comparison\n",
    "# TODO generate permutation distribution\n",
    "with PdfPages('integration heatmap random scores.pdf') as pdf:\n",
    "    for vertical_slice in ns.scores[layername_best_semantic]:\n",
    "        sns.heatmap(vertical_slice)\n",
    "        pdf.savefig()\n",
    "        plt.close() "
   ]
  },
  {
   "cell_type": "code",
   "execution_count": null,
   "metadata": {},
   "outputs": [],
   "source": [
    "activation_shapes[\"layer2.3.conv1\"]"
   ]
  },
  {
   "cell_type": "markdown",
   "metadata": {},
   "source": [
    "# Are integration beauty scores meaningfull ?"
   ]
  },
  {
   "cell_type": "markdown",
   "metadata": {},
   "source": [
    "- Do the top nodes integration predict beauty better than the bottom nodes (or any other random 10%) ? \\\n",
    "- Use spatially coherent subsets to calculate scores."
   ]
  },
  {
   "cell_type": "markdown",
   "metadata": {},
   "source": [
    "# random pattern scoring"
   ]
  },
  {
   "cell_type": "code",
   "execution_count": null,
   "metadata": {},
   "outputs": [],
   "source": [
    "def run_singlelayer_analysis(dataset, activation_extractor, num_subsets, frac):\n",
    "    num_layers = 1 # only take activations of best performing layer from each net\n",
    "    num_images = dataset.img_count\n",
    "\n",
    "    # get shapes of activation\n",
    "    dummy_image = next(iter(dataset))\n",
    "    net_activation = activation_extractor(dummy_image[0])\n",
    "    net_activation = OrderedDict(net_activation)\n",
    "    activation_shapes = taskonomy_activation_layer_shapes(net_activation)\n",
    "    \n",
    "    pat = Pattern_Generator(\n",
    "        num_subsets,\n",
    "        activation_shapes,\n",
    "        frac=frac\n",
    "        )\n",
    "\n",
    "    # layer x image x subset\n",
    "    integration = np.full([num_layers,num_images,num_subsets], np.nan, dtype=np.float64)\n",
    "    cnt = 0\n",
    "\n",
    "    # iterate image set\n",
    "    for img_id, (img_full, img_v1, img_v2) in enumerate(iter(dataset)):\n",
    "        if cnt % 30 == 0: print(cnt, end= ' ')\n",
    "        cnt=cnt+1\n",
    "        \n",
    "        act_full = Activation_Pattern(activation_extractor(img_full))\n",
    "        act_v1 = Activation_Pattern(activation_extractor(img_v1))\n",
    "        act_v2 = Activation_Pattern(activation_extractor(img_v2))\n",
    "        act_avg = Activation_Pattern.average(act_v1, act_v2)\n",
    "\n",
    "        # iterate node subsets\n",
    "        for subset_num in range(num_subsets):\n",
    "            subset_mask = pat.get_subset_pattern(subset_num)\n",
    "            \n",
    "            subset_act_full = act_full[subset_mask]\n",
    "            subset_act_avg = act_avg[subset_mask]\n",
    "\n",
    "            # calculate integration and store it\n",
    "            subset_integration = Activation_Pattern.calculate_integration_coeff(subset_act_full, subset_act_avg)\n",
    "            integration[:,img_id, subset_num] = subset_integration\n",
    "    \n",
    "    ns = NetworkScorer(activation_shapes)\n",
    "    ns.map_back_scores(integration, pat)\n",
    "\n",
    "    return integration, ns"
   ]
  },
  {
   "cell_type": "code",
   "execution_count": null,
   "metadata": {},
   "outputs": [],
   "source": [
    "num_subsets = 10000\n",
    "# run analysis for semantic\n",
    "dataset = ImageDataset(os.path.join(DATA_PATH, \"places1\", best_semantic.scale))\n",
    "\n",
    "integration_semantic_frac01, ns_semantic_frac01 = run_singlelayer_analysis(\n",
    "    dataset,\n",
    "    activation_extractor_semantic,\n",
    "    num_subsets,\n",
    "    frac=0.01\n",
    "    )\n",
    "\n",
    "integration_semantic_frac10, ns_semantic_frac10 = run_singlelayer_analysis(\n",
    "    dataset,\n",
    "    activation_extractor_semantic,\n",
    "    num_subsets,\n",
    "    frac=0.10\n",
    "    )\n",
    "\n",
    "integration_semantic_frac90, ns_semantic_frac90= run_singlelayer_analysis(\n",
    "    dataset,\n",
    "    activation_extractor_semantic,\n",
    "    num_subsets,\n",
    "    frac=0.90\n",
    "    )"
   ]
  },
  {
   "cell_type": "code",
   "execution_count": null,
   "metadata": {},
   "outputs": [],
   "source": [
    "integration_semantic_frac01.shape, ns_semantic_frac01.scores['layer3.4.conv2'].shape"
   ]
  },
  {
   "cell_type": "code",
   "execution_count": null,
   "metadata": {},
   "outputs": [],
   "source": [
    "type(integration_semantic_frac01), type(ns_semantic_frac01.scores['layer3.4.conv2'])"
   ]
  },
  {
   "cell_type": "code",
   "execution_count": null,
   "metadata": {},
   "outputs": [],
   "source": [
    "num_subsets = 10000\n",
    "\n",
    "# run analysis for semantic\n",
    "dataset = ImageDataset(os.path.join(DATA_PATH, \"places1\", best_semantic.scale))\n",
    "\n",
    "integration_semantic_frac01, ns_semantic_frac01 = run_singlelayer_analysis(\n",
    "    dataset,\n",
    "    activation_extractor_semantic,\n",
    "    num_subsets,\n",
    "    frac=0.01\n",
    "    )\n",
    "\n",
    "integration_semantic_frac10, ns_semantic_frac10 = run_singlelayer_analysis(\n",
    "    dataset,\n",
    "    activation_extractor_semantic,\n",
    "    num_subsets,\n",
    "    frac=0.10\n",
    "    )\n",
    "\n",
    "integration_semantic_frac90, ns_semantic_frac90= run_singlelayer_analysis(\n",
    "    dataset,\n",
    "    activation_extractor_semantic,\n",
    "    num_subsets,\n",
    "    frac=0.90\n",
    "    )\n",
    "\n",
    "# run analysis for 2d\n",
    "dataset = ImageDataset(os.path.join(DATA_PATH, \"places1\", best_2d.scale))\n",
    "\n",
    "integration_2d_frac01, ns_2d_frac01 = run_singlelayer_analysis(\n",
    "    dataset,\n",
    "    activation_extractor_2d,\n",
    "    num_subsets,\n",
    "    frac=0.01\n",
    "    )\n",
    "\n",
    "integration_2d_frac10, ns_2d_frac10 = run_singlelayer_analysis(\n",
    "    dataset,\n",
    "    activation_extractor_2d,\n",
    "    num_subsets,\n",
    "    frac=0.10\n",
    "    )\n",
    "\n",
    "integration_2d_frac90, ns_2d_frac90= run_singlelayer_analysis(\n",
    "    dataset,\n",
    "    activation_extractor_2d,\n",
    "    num_subsets,\n",
    "    frac=0.90\n",
    "    )\n",
    "\n",
    "# run analysis for 3d\n",
    "dataset = ImageDataset(os.path.join(DATA_PATH, \"places1\", best_3d.scale))\n",
    "\n",
    "integration_3d_frac01, ns_3d_frac01 = run_singlelayer_analysis(\n",
    "    dataset,\n",
    "    activation_extractor_3d,\n",
    "    num_subsets,\n",
    "    frac=0.01\n",
    "    )\n",
    "\n",
    "integration_3d_frac10, ns_3d_frac10 = run_singlelayer_analysis(\n",
    "    dataset,\n",
    "    activation_extractor_3d,\n",
    "    num_subsets,\n",
    "    frac=0.10\n",
    "    )\n",
    "\n",
    "integration_3d_frac90, ns_3d_frac90= run_singlelayer_analysis(\n",
    "    dataset,\n",
    "    activation_extractor_3d,\n",
    "    num_subsets,\n",
    "    frac=0.90\n",
    "    )"
   ]
  },
  {
   "cell_type": "markdown",
   "metadata": {},
   "source": [
    "### save results"
   ]
  },
  {
   "cell_type": "code",
   "execution_count": null,
   "metadata": {},
   "outputs": [],
   "source": [
    "FOLDER_SINGLELAYER_ANALYSIS = './analysis results singlelayer'"
   ]
  },
  {
   "cell_type": "code",
   "execution_count": null,
   "metadata": {},
   "outputs": [],
   "source": [
    "from itertools import product\n",
    "files_i = [\"integration\"+netclass+fracsize+\".npy\"\n",
    "           for netclass, fracsize\n",
    "           in product([\"_semantic\",\"_2d\",\"_3d\"], [\"_frac01\",\"_frac10\",\"_frac90\"])]\n",
    "files_i"
   ]
  },
  {
   "cell_type": "code",
   "execution_count": null,
   "metadata": {},
   "outputs": [],
   "source": [
    "files_n = [\"integration\"+netclass+fracsize+\".pkl\"\n",
    "           for netclass, fracsize\n",
    "           in product([\"_semantic\",\"_2d\",\"_3d\"], [\"_frac01\",\"_frac10\",\"_frac90\"])]\n",
    "files_n"
   ]
  },
  {
   "cell_type": "code",
   "execution_count": null,
   "metadata": {},
   "outputs": [],
   "source": [
    "arrays_integration = [integration_semantic_frac01, integration_semantic_frac10, integration_semantic_frac90,\n",
    "                      integration_2d_frac01, integration_2d_frac10, integration_2d_frac90,\n",
    "                      integration_3d_frac01, integration_3d_frac10, integration_3d_frac90]\n",
    "\n",
    "objects_nodescoring = [ns_semantic_frac01, ns_semantic_frac10, ns_semantic_frac90,\n",
    "                       ns_2d_frac01, ns_2d_frac10, ns_2d_frac90,\n",
    "                       ns_3d_frac01, ns_3d_frac10, ns_3d_frac90]"
   ]
  },
  {
   "cell_type": "code",
   "execution_count": null,
   "metadata": {},
   "outputs": [],
   "source": [
    "for file_i, file_n, array_i, array_n in zip(files_i, files_n, arrays_integration, objects_nodescoring):\n",
    "    with open(os.path.join(FOLDER_SINGLELAYER_ANALYSIS, file_i), \"wb\") as f1:\n",
    "        np.save(f1, array_i)\n",
    "    \n",
    "    with open(os.path.join(FOLDER_SINGLELAYER_ANALYSIS, file_n), \"wb\") as f2:\n",
    "        pickle.dump(array_n, f2)\n"
   ]
  },
  {
   "cell_type": "markdown",
   "metadata": {},
   "source": [
    "### load results"
   ]
  },
  {
   "cell_type": "markdown",
   "metadata": {},
   "source": [
    "# manipulating integratability and watch response of network\n"
   ]
  },
  {
   "cell_type": "markdown",
   "metadata": {},
   "source": [
    "\n",
    "gradually perform image transformations shown to break integration to:\n",
    "- test where in the network integration takes place\n",
    "- test whether different manipulations break different clusters first\n",
    "\n",
    "\n",
    "\n",
    "Do integration beauty scoring with node pools sweeping along 3D axis\n",
    "- full width 2D layer pools along all three axis\n",
    "- 3D cubic pool along all three axis (vary in size)"
   ]
  },
  {
   "cell_type": "markdown",
   "metadata": {},
   "source": [
    "permutation test for integration: generate permutation distribution by calculating integration at each location in the layer to random input. input real image, calculate clusters of significant integration."
   ]
  },
  {
   "cell_type": "markdown",
   "metadata": {},
   "source": [
    "Do semantic / 2d / 3d nets integrate different features (semantic vs structural) or are they essentially integrating the same features but in a different way ?"
   ]
  },
  {
   "cell_type": "markdown",
   "metadata": {},
   "source": [
    "Do different manipulations break integration in different ways ?\n",
    "Look at:\n",
    "    a) How much manipulation does is need to break integration ?\n",
    "    b) In which networks / layers / scales / datasets is integration broken in which order ?\n",
    "    c) Which image's integration is broken first ?\n",
    "\n",
    "\n",
    "Collect different ways of manipulating images to break integration.\n",
    "    - Do these\n",
    "    a) all break integration the same way\n",
    "    b) cluster into groups in the way in which they break integration\n"
   ]
  },
  {
   "cell_type": "markdown",
   "metadata": {},
   "source": [
    "### pixelated images"
   ]
  },
  {
   "cell_type": "code",
   "execution_count": null,
   "metadata": {},
   "outputs": [],
   "source": [
    "dataset = ImageDataset(os.path.join(DATA_PATH, \"places1\", best_semantic.scale))\n",
    "it_dataset = iter(dataset)\n",
    "\n",
    "im = next(it_dataset)[0].squeeze()\n",
    "im2 = next(it_dataset)[2].squeeze()"
   ]
  },
  {
   "cell_type": "code",
   "execution_count": null,
   "metadata": {},
   "outputs": [],
   "source": [
    "im.min(), im.max(), im2.min(), im2.max()"
   ]
  },
  {
   "cell_type": "code",
   "execution_count": null,
   "metadata": {},
   "outputs": [],
   "source": [
    "im = im + im.min().abs()\n",
    "im = im / im.max()\n",
    "#d2 = 1-d2\n",
    "im.min(), im.max()"
   ]
  },
  {
   "cell_type": "code",
   "execution_count": null,
   "metadata": {},
   "outputs": [],
   "source": [
    "plt.imshow(im.permute(1,2,0))"
   ]
  },
  {
   "cell_type": "code",
   "execution_count": null,
   "metadata": {},
   "outputs": [],
   "source": [
    "# take a fraction of the pixels on the 256x256 grid and permute them\n",
    "pix_degree = 0.5"
   ]
  },
  {
   "cell_type": "code",
   "execution_count": null,
   "metadata": {},
   "outputs": [],
   "source": [
    "mask_pix = torch.rand((256,256)) < pix_degree\n",
    "mask_original = ~mask_pix\n",
    "\n",
    "# number of pixels that are pixeled, this is not exactly the pix degree due to randomness\n",
    "n_pix = im[:,mask_pix].shape[1] \n"
   ]
  },
  {
   "cell_type": "code",
   "execution_count": null,
   "metadata": {},
   "outputs": [],
   "source": [
    "pix_im = torch.full_like(im, np.nan)\n",
    "\n",
    "# non-pixeled part\n",
    "pix_im[:,mask_original] = im[:,mask_original]\n",
    "\n",
    "# pixeled part\n",
    "pix_im[:,mask_pix] = im[:,mask_pix][:,torch.randperm(n_pix)]"
   ]
  },
  {
   "cell_type": "code",
   "execution_count": null,
   "metadata": {},
   "outputs": [],
   "source": [
    "def pixelate_image(im, pix_degree: float):\n",
    "    \"\"\" Pixelate a 256x256 image\"\"\"\n",
    "    mask_pix = torch.rand((256,256)) < pix_degree\n",
    "    mask_original = ~mask_pix\n",
    "\n",
    "    # number of pixels that are pixeled, this is not exactly the pix degree due to randomness\n",
    "    n_pix = im[:,mask_pix].shape[1] \n",
    "\n",
    "    pix_im = torch.full_like(im, np.nan)\n",
    "\n",
    "    # non-pixeled part\n",
    "    pix_im[:,mask_original] = im[:,mask_original]\n",
    "\n",
    "    # pixeled part\n",
    "    pix_im[:,mask_pix] = im[:,mask_pix][:,torch.randperm(n_pix)]\n",
    "\n",
    "    return pix_im\n"
   ]
  },
  {
   "cell_type": "code",
   "execution_count": null,
   "metadata": {},
   "outputs": [],
   "source": [
    "def img_print(im):\n",
    "    im = im + im.min().abs()\n",
    "    im = im / im.max()\n",
    "    plt.imshow(im.permute(1,2,0))"
   ]
  },
  {
   "cell_type": "code",
   "execution_count": null,
   "metadata": {},
   "outputs": [],
   "source": [
    "img_print(pixelate_image(im, 0.01))"
   ]
  },
  {
   "cell_type": "code",
   "execution_count": null,
   "metadata": {},
   "outputs": [],
   "source": [
    "# TODO: since at 0.25 theres already a strong (subjective) visual disturbance,\n",
    "# maybe apply a logarithmic scale with image pixelation"
   ]
  },
  {
   "cell_type": "code",
   "execution_count": null,
   "metadata": {},
   "outputs": [],
   "source": [
    "# TODO: as annother gradual transformation, implement a gradual low-pass filter"
   ]
  },
  {
   "cell_type": "markdown",
   "metadata": {},
   "source": [
    "### imageversions"
   ]
  },
  {
   "cell_type": "code",
   "execution_count": null,
   "metadata": {},
   "outputs": [],
   "source": [
    "torch.tensor(127/127.5-1, dtype=torch.float32)"
   ]
  },
  {
   "cell_type": "code",
   "execution_count": null,
   "metadata": {},
   "outputs": [],
   "source": [
    "torch.tensor([[1,0],[0,1]]).repeat_interleave(2,dim=0).repeat_interleave(2,dim=1)"
   ]
  },
  {
   "cell_type": "code",
   "execution_count": null,
   "metadata": {},
   "outputs": [],
   "source": [
    "def create_checkerboard(scale, size=256):\n",
    "    msc = torch.tensor([[1, 0] * (scale//2), [0, 1] * (scale//2)] * (scale//2))\n",
    "    return msc.repeat_interleave(size//scale, dim=0).repeat_interleave(size//scale, dim=1)"
   ]
  },
  {
   "cell_type": "code",
   "execution_count": null,
   "metadata": {},
   "outputs": [],
   "source": [
    "create_checkerboard(64).shape"
   ]
  },
  {
   "cell_type": "markdown",
   "metadata": {},
   "source": [
    "### get activations for pixelated images"
   ]
  },
  {
   "cell_type": "code",
   "execution_count": null,
   "metadata": {},
   "outputs": [],
   "source": [
    "act_full "
   ]
  },
  {
   "cell_type": "code",
   "execution_count": null,
   "metadata": {},
   "outputs": [],
   "source": [
    "activation_extractor_semantic().keys()"
   ]
  },
  {
   "cell_type": "code",
   "execution_count": null,
   "metadata": {},
   "outputs": [],
   "source": [
    "activation_extractor_semantic(torch.rand_like(dummy_image[0]))['layer3.4.conv2'].shape"
   ]
  },
  {
   "cell_type": "markdown",
   "metadata": {},
   "source": [
    "###  get distribution of integration / ib-correlation of random images"
   ]
  },
  {
   "cell_type": "code",
   "execution_count": null,
   "metadata": {},
   "outputs": [],
   "source": [
    "dummy_image[1]"
   ]
  },
  {
   "cell_type": "code",
   "execution_count": null,
   "metadata": {},
   "outputs": [],
   "source": [
    "# for each image\n",
    "ac = activation_extractor_semantic(torch.rand_like(dummy_image[0]))['layer3.4.conv2']\n",
    "ac = ac.squeeze()\n",
    "ac.shape"
   ]
  },
  {
   "cell_type": "markdown",
   "metadata": {},
   "source": [
    "### get previous one at each location"
   ]
  },
  {
   "cell_type": "code",
   "execution_count": null,
   "metadata": {},
   "outputs": [],
   "source": [
    "for l1, l2 in zip(ac_full, ac_avg):\n",
    "    pass"
   ]
  },
  {
   "cell_type": "code",
   "execution_count": null,
   "metadata": {},
   "outputs": [],
   "source": [
    "l1.shape"
   ]
  },
  {
   "cell_type": "markdown",
   "metadata": {},
   "source": [
    "### visual inspection\n",
    "are there maybe any clusters of integration to random images, already revealing a integration structure in the network"
   ]
  },
  {
   "cell_type": "markdown",
   "metadata": {},
   "source": [
    "### get activation of actual image"
   ]
  },
  {
   "cell_type": "markdown",
   "metadata": {},
   "source": [
    "### test where there are significant clusters of integration"
   ]
  }
 ],
 "metadata": {
  "kernelspec": {
   "display_name": "PytorchEnv",
   "language": "python",
   "name": "python3"
  },
  "language_info": {
   "codemirror_mode": {
    "name": "ipython",
    "version": 3
   },
   "file_extension": ".py",
   "mimetype": "text/x-python",
   "name": "python",
   "nbconvert_exporter": "python",
   "pygments_lexer": "ipython3",
   "version": "3.8.19"
  }
 },
 "nbformat": 4,
 "nbformat_minor": 2
}
