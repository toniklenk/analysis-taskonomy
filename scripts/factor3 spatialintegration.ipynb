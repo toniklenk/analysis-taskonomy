{
 "cells": [
  {
   "cell_type": "code",
   "execution_count": 1,
   "metadata": {},
   "outputs": [],
   "source": [
    "# python\n",
    "import os, pickle\n",
    "from collections import OrderedDict\n",
    "\n",
    "# stats\n",
    "import numpy as np\n",
    "import pandas as pd\n",
    "from scipy.stats import pearsonr\n",
    "\n",
    "\n",
    "# plot\n",
    "import seaborn as sns\n",
    "import matplotlib.pyplot as plt\n",
    "from matplotlib.backends.backend_pdf import PdfPages\n",
    "\n",
    "# neural networks\n",
    "import torch, torch.utils.model_zoo # required to load nets\n",
    "from torchvision.models.feature_extraction import get_graph_node_names, create_feature_extractor\n",
    "\n",
    "# thesis library\n",
    "from lib.functions_scripting            import *\n",
    "from lib.functions_base_analysis        import *\n",
    "from lib.functions_second_analysis      import *\n",
    "from lib.ImageDataset                   import ImageDataset\n",
    "from lib.NetworkScorer                  import NetworkScorer\n",
    "from lib.PatternGenerator               import Pattern_Generator\n",
    "from lib.ActivationPattern              import Activation_Pattern\n",
    "from lib.transforms                     import VisualPriorRepresentation\n",
    "from lib.PatternGeneratorSearchlight    import PatternGeneratorSearchlight\n",
    "\n",
    "\n",
    "\n",
    "\n",
    "def study2behaviour(st):\n",
    "    return BEHAVIOUR_NAMES[STUDY_NAMES.index(st)]\n",
    "\n",
    "def study2dataset(st):\n",
    "    if st in STUDY_NAMES[:2]:\n",
    "        return DATASET_NAMES[0]\n",
    "    if st == STUDY_NAMES[2]:\n",
    "        return DATASET_NAMES[1]\n",
    "    if st == STUDY_NAMES[3]:\n",
    "        return DATASET_NAMES[2]\n",
    "\n",
    "\n",
    "# storing a NetworkScorer object for saving backprojected scores\n",
    "# TODO needs to be adapted when analysing multiple nets\n",
    "BACKPROJECTED_SCORES_FOLDER = './backprojected_scores'\n"
   ]
  },
  {
   "cell_type": "markdown",
   "metadata": {},
   "source": [
    "Do for each studys:\n",
    "\n",
    "1. For every network: RDM (imageXimage) of searchlight integration scoring. Best ibcorr-performing layer in study.\n",
    "\n",
    "3. netXnet RDM of RDMs from (1)"
   ]
  },
  {
   "cell_type": "markdown",
   "metadata": {},
   "source": [
    "# analysis"
   ]
  },
  {
   "cell_type": "markdown",
   "metadata": {},
   "source": [
    "## functions"
   ]
  },
  {
   "cell_type": "code",
   "execution_count": null,
   "metadata": {},
   "outputs": [],
   "source": [
    "def load_ibcorr_for_spatialanalysis(mo, sc):\n",
    "    \"\"\" load ibcorr for one net\"\"\"\n",
    "    l = []\n",
    "    for st in STUDY_NAMES:\n",
    "        d = pd.read_csv(os.path.join(PATH_IB_CORRELATIONS, mo, st, sc, 'ib_correlations.csv'), header=None)\n",
    "        d.insert(0, 'study', st)\n",
    "        d = d.reset_index().rename(columns={\"index\":\"layer\", 0:\"ibcorr\"})\n",
    "        l.append(d)\n",
    "    return pd.concat(l).reset_index(drop=True)\n",
    "\n",
    "#setup nets for extracting activations from best layer\n",
    "def setup_singlelayer(model_name: str, layer_idx: int):\n",
    "    \"\"\" Setup activation extractor for a single layer of a tasnomomy network\n",
    "    \"\"\"\n",
    "    VisualPriorRepresentation._load_unloaded_nets([model_name])\n",
    "    net = VisualPriorRepresentation.feature_task_to_net[model_name]\n",
    "\n",
    "    _, eval_nodes = get_graph_node_names(net)\n",
    "    return_nodes = {node:node for node in eval_nodes if \"conv\" in node or 'fc' in node}\n",
    "    \n",
    "    layer_name = list(return_nodes.keys())[layer_idx]\n",
    "    return create_feature_extractor(net, return_nodes={layer_name:layer_name}), layer_name"
   ]
  },
  {
   "cell_type": "code",
   "execution_count": null,
   "metadata": {},
   "outputs": [],
   "source": [
    "def run_spatialintegration_analysis_bestlayer(mo, st, sc):\n",
    "    # setup best-layer activation extractor\n",
    "    df_ibcorr = load_ibcorr_for_spatialanalysis(mo, sc)\n",
    "    best_ibcorr = (df_ibcorr\n",
    "                   .iloc[df_ibcorr.groupby('study').ibcorr.idxmax(),:]\n",
    "                   .set_index('study'))\n",
    "    idx = best_ibcorr.loc[st].layer.astype(int)\n",
    "    activation_extractor, layername = setup_singlelayer(mo, idx)\n",
    "\n",
    "    # setup Pattern Generator\n",
    "    dataset = ImageDataset(os.path.join(PATH_IMAGES, study2dataset(st), sc))\n",
    "    dummy_image = next(iter(dataset))\n",
    "    net_activation = activation_extractor(dummy_image[0])\n",
    "    activation_shape = taskonomy_activation_layer_shapes(net_activation)\n",
    "    activation_shape = torch.Size(d for d in activation_shape[layername] if d != 1)\n",
    "    pat = PatternGeneratorSearchlight(activation_shape, layername)\n",
    "    \n",
    "    # setup storing results\n",
    "    # layer x image x subset\n",
    "    num_layers = 1\n",
    "    num_images = dataset.img_count\n",
    "    num_subsets = pat.num_subsets\n",
    "    integration = np.full([num_layers,num_images,num_subsets], np.nan, dtype=np.float64)\n",
    "\n",
    "    # run analysis\n",
    "    #cnt = 0\n",
    "    for img_id, (img_full, img_v1, img_v2) in enumerate(iter(dataset)):\n",
    "        #if cnt % 30 == 0: print(cnt, end= ' ')\n",
    "        #cnt=cnt+1\n",
    "        \n",
    "        # activations as tensors\n",
    "        act_full = activation_extractor(img_full)[layername].squeeze()\n",
    "        act_v1 = activation_extractor(img_v1)[layername].squeeze()\n",
    "        act_v2 = activation_extractor(img_v2)[layername].squeeze()\n",
    "        act_avg = (act_v1 + act_v2) / 2.\n",
    "\n",
    "        # iterate 3D positions\n",
    "        pat_it = iter(pat)\n",
    "        for subset_num, roi_mask in pat_it:\n",
    "            \n",
    "            subset_act_full = act_full[roi_mask]\n",
    "            subset_act_avg = act_avg[roi_mask]\n",
    "\n",
    "            # calculate integration and store it\n",
    "            subset_integration = pearsonr(subset_act_full.flatten(), subset_act_avg.flatten())[0]\n",
    "            integration[:,img_id, subset_num] = subset_integration\n",
    "\n",
    "    return integration"
   ]
  },
  {
   "cell_type": "markdown",
   "metadata": {},
   "source": [
    "### functions testing"
   ]
  },
  {
   "cell_type": "code",
   "execution_count": null,
   "metadata": {},
   "outputs": [],
   "source": [
    "mo = 'depth_euclidean'\n",
    "st = STUDY_NAMES[0]"
   ]
  },
  {
   "cell_type": "code",
   "execution_count": null,
   "metadata": {},
   "outputs": [],
   "source": [
    "# load data\n",
    "def load_ibcorr(mo, sc = SCALE_NAME):\n",
    "    \"\"\" load ibcorr for one net\"\"\"\n",
    "    l = []\n",
    "    for st in STUDY_NAMES:\n",
    "        d = pd.read_csv(os.path.join(PATH_IB_CORRELATIONS, mo, st, sc, 'ib_correlations.csv'), header=None)\n",
    "        d.insert(0, 'study', st)\n",
    "        d = d.reset_index().rename(columns={\"index\":\"layer\", 0:\"ibcorr\"})\n",
    "        l.append(d)\n",
    "    return pd.concat(l).reset_index(drop=True)\n",
    "\n",
    "df_ibcorr = load_ibcorr(mo)\n",
    "df_ibcorr\n",
    "\n",
    "# visualize this: add lineplot for ibcorr of 4 studies for per net\n",
    "best_ibcorr = df_ibcorr.iloc[df_ibcorr.groupby('study').ibcorr.idxmax(),:].set_index('study')\n",
    "best_ibcorr"
   ]
  },
  {
   "cell_type": "code",
   "execution_count": null,
   "metadata": {},
   "outputs": [],
   "source": [
    "#setup nets for extracting activations from best layer\n",
    "def setup_singlelayer(model_name: str, layer_idx: int):\n",
    "    \"\"\" Setup activation extractor for a single layer of a tasnomomy network\n",
    "    \"\"\"\n",
    "    VisualPriorRepresentation._load_unloaded_nets([model_name])\n",
    "    net = VisualPriorRepresentation.feature_task_to_net[model_name]\n",
    "\n",
    "    _, eval_nodes = get_graph_node_names(net)\n",
    "    return_nodes = {node:node for node in eval_nodes if \"conv\" in node or 'fc' in node}\n",
    "    \n",
    "    layer_name = list(return_nodes.keys())[layer_idx]\n",
    "    return create_feature_extractor(net, return_nodes={layer_name:layer_name}), layer_name\n",
    "\n",
    "idx = best_ibcorr.loc[st].layer.astype(int)\n",
    "activation_extractor, layername = setup_singlelayer(mo, idx)\n",
    "layername"
   ]
  },
  {
   "cell_type": "code",
   "execution_count": null,
   "metadata": {},
   "outputs": [],
   "source": [
    "# load net and activation shape (of best layer)\n",
    "dataset = ImageDataset(os.path.join(PATH_IMAGES, study2dataset(st), SCALE_NAME))\n",
    "dummy_image = next(iter(dataset))\n",
    "net_activation = activation_extractor(dummy_image[0])\n",
    "activation_shape = taskonomy_activation_layer_shapes(net_activation)\n",
    "activation_shape = torch.Size(d for d in activation_shape[layername] if d != 1)\n",
    "\n",
    "pat = PatternGeneratorSearchlight(activation_shape, layername)"
   ]
  },
  {
   "cell_type": "code",
   "execution_count": null,
   "metadata": {},
   "outputs": [],
   "source": [
    "# layer x image x subset\n",
    "num_layers = 1\n",
    "num_images = dataset.img_count\n",
    "num_subsets = pat.num_subsets\n",
    "integration = np.full([num_layers,num_images,num_subsets], np.nan, dtype=np.float64)\n",
    "\n",
    "# run analysis\n",
    "cnt = 0\n",
    "\n",
    "for img_id, (img_full, img_v1, img_v2) in enumerate(iter(dataset)):\n",
    "    if cnt % 30 == 0: print(cnt, end= ' ')\n",
    "    cnt=cnt+1\n",
    "    \n",
    "    # activations as tensors\n",
    "    act_full = activation_extractor(img_full)[layername].squeeze()\n",
    "    act_v1 = activation_extractor(img_v1)[layername].squeeze()\n",
    "    act_v2 = activation_extractor(img_v2)[layername].squeeze()\n",
    "    act_avg = (act_v1 + act_v2) / 2.\n",
    "\n",
    "    # iterate 3D positions in layer\n",
    "    pat_it = iter(pat)\n",
    "    for subset_num, roi_mask in pat_it:\n",
    "        \n",
    "        subset_act_full = act_full[roi_mask]\n",
    "        subset_act_avg = act_avg[roi_mask]\n",
    "\n",
    "        # calculate integration and store it\n",
    "        subset_integration = pearsonr(subset_act_full.flatten(), subset_act_avg.flatten())[0]\n",
    "        integration[:,img_id, subset_num] = subset_integration"
   ]
  },
  {
   "cell_type": "code",
   "execution_count": null,
   "metadata": {},
   "outputs": [],
   "source": [
    "with open(os.path.join(PATH_RESULTS, RESULTS_SEMANTIC_PLACES1, \"semantic_integration.npy\"), 'rb') as f:\n",
    "    integration = np.load(f)"
   ]
  },
  {
   "cell_type": "code",
   "execution_count": null,
   "metadata": {},
   "outputs": [],
   "source": [
    "# load beauty ratings\n",
    "beauty_ratings = pd.read_csv(os.path.join(PATH_RATINGS, study2behaviour(st)), header=None).mean(axis=1)\n",
    "\n",
    "# correlate integration with beauty\n",
    "scores = correlate_integration_beauty(integration, beauty_ratings)\n",
    "\n",
    "# convert integration back to 3D layer space\n",
    "ns = NetworkScorer({layername:activation_shape})\n",
    "ns.map_back_scores(scores, pat)"
   ]
  },
  {
   "cell_type": "markdown",
   "metadata": {},
   "source": [
    "## execution"
   ]
  },
  {
   "cell_type": "code",
   "execution_count": null,
   "metadata": {},
   "outputs": [],
   "source": [
    "_study = \"complexity order\"\n",
    "_scale = \"scale4\"\n",
    "\n",
    "\n",
    "for mo in MODEL_NAMES:\n",
    "    print(mo)\n",
    "    integration_subsets = run_spatialintegration_analysis_bestlayer(mo, _study, _scale)\n",
    "    integration = pd.DataFrame(integration_subsets.squeeze().T)\n",
    "    integration.to_csv(\n",
    "        os.path.join(\n",
    "            PATH_RESULTS,\n",
    "            \"spatial integration\",\n",
    "            _scale,\n",
    "            _study + \" subsetdata\",\n",
    "            mo + \".csv\",\n",
    "        )\n",
    "    )"
   ]
  },
  {
   "cell_type": "code",
   "execution_count": 100,
   "metadata": {},
   "outputs": [],
   "source": [
    "_study = \"short presentation\"\n",
    "_scale = \"scale4\""
   ]
  },
  {
   "cell_type": "code",
   "execution_count": null,
   "metadata": {},
   "outputs": [],
   "source": [
    "dfspi = pd.concat(\n",
    "    pd.read_csv(\n",
    "        os.path.join(\n",
    "            PATH_RESULTS,\n",
    "            \"spatial integration\",\n",
    "            _scale,\n",
    "            _study + \" subsetdata\",\n",
    "            mo + \".csv\",\n",
    "        ),\n",
    "        usecols=lambda col: col != \"Unnamed: 0\",\n",
    "    )\n",
    "    .rename_axis(\"subset\", axis=0)\n",
    "    .rename_axis(\"img\", axis=1)\n",
    "    .assign(model=mo)\n",
    "    .set_index(\"model\", append=True)\n",
    "    .swaplevel()\n",
    "    for mo in MODEL_NAMES\n",
    ")"
   ]
  },
  {
   "cell_type": "code",
   "execution_count": 44,
   "metadata": {},
   "outputs": [],
   "source": [
    "_study = \"complexity order\"\n",
    "_scale = \"scale4\"\n",
    "\n",
    "dfspi.to_hdf(\n",
    "    os.path.join(\n",
    "        PATH_RESULTS,\n",
    "        \"spatial integration\",\n",
    "        _scale,\n",
    "        \"subsetdata \" + _study + \" allnets.h5\",\n",
    "    ),\n",
    "    key=\"dfspi\",\n",
    ")"
   ]
  },
  {
   "cell_type": "code",
   "execution_count": 73,
   "metadata": {},
   "outputs": [],
   "source": [
    "dfspi_rdms = dfspi.groupby(\"model\").corr().groupby(\"model\").apply(set_diagonal_to_zero)"
   ]
  },
  {
   "cell_type": "code",
   "execution_count": 83,
   "metadata": {},
   "outputs": [],
   "source": [
    "dfspi_rdms.to_hdf(\n",
    "    os.path.join(\n",
    "        PATH_RESULTS,\n",
    "        \"spatial integration\",\n",
    "        _scale,\n",
    "        \"rdms \" + _study + \" allnets.h5\",\n",
    "    ),\n",
    "    key=\"dfspi_rdms\",\n",
    ")"
   ]
  },
  {
   "cell_type": "code",
   "execution_count": null,
   "metadata": {},
   "outputs": [],
   "source": [
    "# multiprocessing code\n",
    "\n",
    "# from multiprocessing import Pool\n",
    "# with Pool() as pool:\n",
    "#     l1 = pool.starmap(run_spatialintegration_analysis_bestlayer, zip(MODEL_NAMES[5:], [\"short presentation\"] * len(MODEL_NAMES[5:]), [\"scale4\"] * len(MODEL_NAMES[5:]))   )\n",
    "\n",
    "#d1 = {k: d1[k] for k in _models}\n",
    "\n",
    "# for mo, data in l1:\n",
    "#     df = pd.DataFrame(data.squeeze().T)\n",
    "#     calculate_rdm(df)\n",
    "#     df.to_csv(os.path.join(PATH_RESULTS, \"spatial integration\", \"scale4\", \"study1\", mo + \".csv\"))\n"
   ]
  },
  {
   "cell_type": "code",
   "execution_count": 97,
   "metadata": {},
   "outputs": [],
   "source": [
    "dfspi_rdms = pd.concat(\n",
    "    pd.read_csv(\n",
    "        os.path.join(\n",
    "            PATH_RESULTS,\n",
    "            \"spatial integration\",\n",
    "            _scale,\n",
    "            _study,\n",
    "            mo + \".csv\",\n",
    "        ),\n",
    "        usecols=lambda col: col != \"Unnamed: 0\",\n",
    "    )\n",
    "    .rename_axis(\"img\", axis=0)\n",
    "    .rename_axis(\"img\", axis=1)\n",
    "    .assign(model=mo)\n",
    "    .set_index(\"model\", append=True)\n",
    "    .swaplevel()\n",
    "    for mo in MODEL_NAMES\n",
    ")"
   ]
  },
  {
   "cell_type": "code",
   "execution_count": 101,
   "metadata": {},
   "outputs": [],
   "source": [
    "dfspi_rdms.to_hdf(\n",
    "    os.path.join(\n",
    "        PATH_RESULTS,\n",
    "        \"spatial integration\",\n",
    "        _scale,\n",
    "        \"rdms \" + _study + \" allnets.h5\",\n",
    "    ),\n",
    "    key=\"dfspi_rdms\",\n",
    ")"
   ]
  },
  {
   "cell_type": "code",
   "execution_count": null,
   "metadata": {},
   "outputs": [],
   "source": [
    "factor3_rdms = pd.read_hdf(\n",
    "    os.path.join(\n",
    "        PATH_RESULTS,\n",
    "        \"spatial integration\",\n",
    "        _scale,\n",
    "        \"rdms \" + _study + \" allnets.h5\",\n",
    "    ),\n",
    "    key=\"dfspi_rdms\",\n",
    ")"
   ]
  },
  {
   "cell_type": "markdown",
   "metadata": {},
   "source": [
    "# predictorRDM\n",
    "\n",
    "\"how\"\n",
    "\"where\" or alternatively \"what\",  which is the same because its spatial integration. Check for correlation between the what (represented by the integration ratings)."
   ]
  },
  {
   "cell_type": "code",
   "execution_count": null,
   "metadata": {},
   "outputs": [],
   "source": [
    "# # import results\n",
    "# with open(os.path.join(PATH_RESULTS, \"spatial integration\", \"study1.pkl\"), \"rb\") as f:\n",
    "#     d1 = pickle.load(f)\n",
    "\n",
    "# with open(os.path.join(PATH_RESULTS, \"spatial integration\", \"study2.pkl\"), \"rb\") as f:\n",
    "#     d2 = pickle.load(f)\n",
    "\n",
    "# with open(os.path.join(PATH_RESULTS, \"spatial integration\", \"study3.pkl\"), \"rb\") as f:\n",
    "#     d3 = pickle.load(f)\n",
    "\n",
    "# with open(os.path.join(PATH_RESULTS, \"spatial integration\", \"study4.pkl\"), \"rb\") as f:\n",
    "#     d4 = pickle.load(f)\n",
    "\n",
    "\n",
    "# rdm_study1 = calculate_rdm(flatten_concat(d1))\n",
    "# rdm_study2 = calculate_rdm(flatten_concat(d2))\n",
    "# rdm_study3 = calculate_rdm(flatten_concat(d3))\n",
    "# rdm_study4 = calculate_rdm(flatten_concat(d4))"
   ]
  },
  {
   "cell_type": "code",
   "execution_count": null,
   "metadata": {},
   "outputs": [],
   "source": [
    "_studies = \"short presentation\"\n",
    "_scales = \"scale4\"\n",
    "\n",
    "\n",
    "rdms = {}\n",
    "\n",
    "for mo in _models:\n",
    "    rdm = pd.read_csv(\n",
    "        os.path.join(\n",
    "            PATH_RESULTS,\n",
    "            \"spatial integration\",\n",
    "            _scales,\n",
    "            _studies,\n",
    "            mo + \".csv\",\n",
    "        ),\n",
    "        header=None,\n",
    "    )\n",
    "    rdm = rdm.iloc[1:, 1:].reset_index(drop=True).T.reset_index(drop=True).T\n",
    "\n",
    "    rdms[mo] = rdm"
   ]
  },
  {
   "cell_type": "code",
   "execution_count": null,
   "metadata": {},
   "outputs": [],
   "source": [
    "factor3_rdms = pd.read_hdf(\n",
    "    os.path.join(\n",
    "        PATH_RESULTS,\n",
    "        \"spatial integration\",\n",
    "        \"scale4\",\n",
    "        \"rdms \" + \"short presentation\" + \" allnets.h5\",\n",
    "    ),\n",
    "    key=\"dfspi_rdms\",\n",
    ")"
   ]
  },
  {
   "cell_type": "code",
   "execution_count": null,
   "metadata": {},
   "outputs": [],
   "source": [
    "predictor_rdm_3 = pd.DataFrame(0, index=MODEL_NAMES, columns=MODEL_NAMES)\n",
    "g = factor3_rdms.groupby(\"model\")\n",
    "\n",
    "for gk1, gk2 in combinations(g.groups.keys(), 2):\n",
    "    c = correlate_rdms(g.get_group(gk1), g.get_group(gk2))[0]\n",
    "    predictor_rdm_3.loc[gk1, gk2], predictor_rdm_3.loc[gk2, gk1] = c, c"
   ]
  },
  {
   "cell_type": "code",
   "execution_count": null,
   "metadata": {},
   "outputs": [],
   "source": [
    "#sns.heatmap(spatial_rdm, xticklabels=spatial_rdm.index, yticklabels=spatial_rdm.columns)"
   ]
  },
  {
   "cell_type": "markdown",
   "metadata": {},
   "source": [
    "## integration is localized"
   ]
  },
  {
   "cell_type": "code",
   "execution_count": null,
   "metadata": {},
   "outputs": [],
   "source": [
    "# visualize node score distribution"
   ]
  },
  {
   "cell_type": "code",
   "execution_count": null,
   "metadata": {},
   "outputs": [],
   "source": [
    "# visualize within layer heatmaps\n",
    "\n",
    "# exemplars"
   ]
  },
  {
   "cell_type": "code",
   "execution_count": null,
   "metadata": {},
   "outputs": [],
   "source": [
    "# spatial correlation per image per net, correlate these netXnet\n",
    "# test if integration scores are still correlating to beauty"
   ]
  },
  {
   "cell_type": "markdown",
   "metadata": {},
   "source": [
    "## predictor RDM"
   ]
  },
  {
   "cell_type": "code",
   "execution_count": null,
   "metadata": {},
   "outputs": [],
   "source": [
    "predictor_rdm_3 = predictor_rdm_3"
   ]
  },
  {
   "cell_type": "markdown",
   "metadata": {},
   "source": [
    "# Further analyses"
   ]
  },
  {
   "cell_type": "markdown",
   "metadata": {},
   "source": [
    "## best predicting nets\n",
    "\n",
    "Representative net from each category:\n",
    "\n",
    "semantic:   segment semantic \\\n",
    "2D:         segment unsup 2d \\\n",
    "3D:         depth euclidean\n",
    "\n",
    "> from each class of networks take the one layer with highest integration beauty score across networks\n"
   ]
  },
  {
   "cell_type": "markdown",
   "metadata": {},
   "source": [
    "### load integration-beauty correlation for 3 nets"
   ]
  },
  {
   "cell_type": "code",
   "execution_count": null,
   "metadata": {},
   "outputs": [],
   "source": [
    "SCALE_NAME = \"scale4\"\n",
    "MODEL_SEMANTIC = \"segment_semantic\"\n",
    "MODEL_2D = \"segment_unsup2d\"\n",
    "MODEL_3D = \"depth_euclidean\"\n",
    "\n",
    "\n",
    "def load_ibcorr(m):\n",
    "    l = []\n",
    "    for s in STUDY_NAMES:\n",
    "        d = pd.read_csv(os.path.join(PATH_IB_CORRELATIONS, m, s, SCALE_NAME, 'ib_correlations.csv'), header=None)\n",
    "        d.insert(0, 'study', s)\n",
    "        d = d.reset_index().rename(columns={\"index\":\"layer\", 0:\"ibcorr\"})\n",
    "        l.append(d)\n",
    "    \n",
    "    return pd.concat(l).reset_index(drop=True)\n",
    "\n",
    "df_segment_semantic = load_ibcorr(MODEL_SEMANTIC)\n",
    "df_segment_unsup2d = load_ibcorr(MODEL_2D)\n",
    "df_depth_euclidean = load_ibcorr(MODEL_3D)"
   ]
  },
  {
   "cell_type": "markdown",
   "metadata": {},
   "source": [
    "### find layers with highest integration-beauty correlation"
   ]
  },
  {
   "cell_type": "code",
   "execution_count": null,
   "metadata": {},
   "outputs": [],
   "source": [
    "# get scale and layer num of layer with highest correlation\n",
    "best_semantic = df_segment_semantic.iloc[df_segment_semantic.ibcorr.idxmax(),:]\n",
    "best_2d = df_segment_unsup2d.iloc[df_segment_unsup2d.ibcorr.idxmax(),:]\n",
    "best_3d = df_depth_euclidean.iloc[df_depth_euclidean.ibcorr.idxmax(),:]\n",
    "print(best_semantic)\n",
    "print(best_2d)\n",
    "print(best_3d)"
   ]
  },
  {
   "cell_type": "code",
   "execution_count": null,
   "metadata": {},
   "outputs": [],
   "source": [
    "#setup nets for extracting activations from best layer\n",
    "def setup_singlelayer(model_name: str, layer_idx: int):\n",
    "    \"\"\" Setup activation extractor for a single layer of a tasnomomy network\n",
    "    \"\"\"\n",
    "    VisualPriorRepresentation._load_unloaded_nets([model_name])\n",
    "    net = VisualPriorRepresentation.feature_task_to_net[model_name]\n",
    "\n",
    "    _, eval_nodes = get_graph_node_names(net)\n",
    "    return_nodes = {node:node for node in eval_nodes if \"conv\" in node or 'fc' in node}\n",
    "    \n",
    "    layer_name = list(return_nodes.keys())[layer_idx]\n",
    "    return create_feature_extractor(net, return_nodes={layer_name:layer_name}), layer_name\n",
    "\n",
    "activation_extractor_semantic, layername_best_semantic = setup_singlelayer(MODEL_SEMANTIC, best_semantic.layer)\n",
    "activation_extractor_2d, layername_best_2d = setup_singlelayer(MODEL_2D, best_2d.layer)\n",
    "activation_extractor_3d, layername_best_3d = setup_singlelayer(MODEL_3D, best_3d.layer)"
   ]
  },
  {
   "cell_type": "markdown",
   "metadata": {},
   "source": [
    "## searchlight scoring\n",
    "\n",
    "Do integration beauty scoring with node pools sweeping along 3D axis\n",
    "- full width 2D layer pools along all three axis\n",
    "- 3D cubic pool along all three axis (vary in size)\n",
    "\n",
    "Effectively just need to change the PatternGenerator, and switch from iterating subset num to iterating the pattern generator"
   ]
  },
  {
   "cell_type": "code",
   "execution_count": null,
   "metadata": {},
   "outputs": [],
   "source": [
    "RESULTS_SEMANTIC_PLACES1 = './searchlight/singlelayer'"
   ]
  },
  {
   "cell_type": "markdown",
   "metadata": {},
   "source": [
    "### semantic net\n",
    "\n",
    "semantic, places1, best layer"
   ]
  },
  {
   "cell_type": "markdown",
   "metadata": {},
   "source": [
    "### load images & activation shape (semantic) "
   ]
  },
  {
   "cell_type": "code",
   "execution_count": null,
   "metadata": {},
   "outputs": [],
   "source": [
    "dataset = ImageDataset(os.path.join(PATH_IMAGES, \"places1\", best_semantic.scale))\n",
    "\n",
    "num_images = dataset.img_count\n",
    "\n",
    "# activation shape as Dict\n",
    "dummy_image = next(iter(dataset))\n",
    "net_activation = activation_extractor_semantic(dummy_image[0])\n",
    "net_activation = OrderedDict(net_activation)\n",
    "activation_shapes = taskonomy_activation_layer_shapes(net_activation)\n",
    "\n",
    "# activation shape as Tensor\n",
    "activation_shape_semantic = list(activation_shapes.values())[0][1:]"
   ]
  },
  {
   "cell_type": "markdown",
   "metadata": {},
   "source": [
    "### single image(s)\n",
    "\n",
    "can only map back integration-beauty score for whole dataset, however, its possible, that in every image something different gets integrated, therefore it wouldn't make sense to map back a score for the whole dataset to individual nodes.\n",
    "\n",
    "Since we know that (at least some) integration, and subsets integration, is meaningfull, we map back integration of individual images onto individual nodes, without correlating this integration with beauty."
   ]
  },
  {
   "cell_type": "code",
   "execution_count": null,
   "metadata": {},
   "outputs": [],
   "source": [
    "# --- SETUP VARIABLES ---\n",
    "pat_s = PatternGeneratorSearchlight(\n",
    "    activation_shape_semantic,\n",
    "    layername_best_semantic\n",
    "    )\n",
    "\n",
    "num_layers = 1 # only take activations of best performing layer from each net\n",
    "num_images = 1\n",
    "num_subsets = pat_s.num_subsets\n",
    "\n",
    "# layer x image x subset\n",
    "integration = np.full([num_layers, num_images, num_subsets], np.nan, dtype=np.float64)\n",
    "cnt = 0\n",
    "\n",
    "    \n",
    "# load single image\n",
    "img_id = 0\n",
    "img_full, img_v1, img_v2 = next(iter(dataset))\n",
    "\n",
    "# --- ANALYSIS ---\n",
    "\n",
    "act_full = activation_extractor_semantic(img_full)[layername_best_semantic].squeeze()\n",
    "act_v1 = activation_extractor_semantic(img_v1)[layername_best_semantic].squeeze()\n",
    "act_v2 = activation_extractor_semantic(img_v2)[layername_best_semantic].squeeze()\n",
    "act_avg = (act_v1 + act_v2) / 2.\n",
    "\n",
    "# iterate 3D positions\n",
    "pat_it = iter(pat_s)\n",
    "for subset_num, roi_mask in pat_it:\n",
    "    \n",
    "    subset_act_full = act_full[roi_mask]\n",
    "    subset_act_avg = act_avg[roi_mask]\n",
    "\n",
    "    # calculate integration and store it\n",
    "    subset_integration = -pearsonr(subset_act_full.flatten(), subset_act_avg.flatten())[0]\n",
    "    integration[:,img_id, subset_num] = subset_integration"
   ]
  },
  {
   "cell_type": "code",
   "execution_count": null,
   "metadata": {},
   "outputs": [],
   "source": [
    "integration = integration.squeeze(0)\n",
    "integration.shape"
   ]
  },
  {
   "cell_type": "code",
   "execution_count": null,
   "metadata": {},
   "outputs": [],
   "source": [
    "activation_shapes['layer3.4.conv2'] = activation_shape_semantic\n",
    "ns = NetworkScorer(activation_shapes)\n",
    "ns.map_back_scores(integration, pat_s)\n"
   ]
  },
  {
   "cell_type": "markdown",
   "metadata": {},
   "source": [
    "### score all images"
   ]
  },
  {
   "cell_type": "code",
   "execution_count": null,
   "metadata": {},
   "outputs": [],
   "source": [
    "# layer x image x subset\n",
    "integration = np.full([num_layers,num_images,num_subsets], np.nan, dtype=np.float64)\n",
    "cnt = 0\n",
    "\n",
    "# iterate image set\n",
    "for img_id, (img_full, img_v1, img_v2) in enumerate(iter(dataset)):\n",
    "    if cnt % 30 == 0: print(cnt, end= ' ')\n",
    "    cnt=cnt+1\n",
    "    \n",
    "    # activations as tensors\n",
    "    act_full = activation_extractor_semantic(img_full)[layername_best_semantic].squeeze()\n",
    "    act_v1 = activation_extractor_semantic(img_v1)[layername_best_semantic].squeeze()\n",
    "    act_v2 = activation_extractor_semantic(img_v2)[layername_best_semantic].squeeze()\n",
    "    act_avg = (act_v1 + act_v2) / 2.\n",
    "\n",
    "    # iterate 3D positions in layer\n",
    "    pat_it = iter(pat_s)\n",
    "\n",
    "    for subset_num, roi_mask in pat_it:\n",
    "        \n",
    "        subset_act_full = act_full[roi_mask]\n",
    "        subset_act_avg = act_avg[roi_mask]\n",
    "\n",
    "        # calculate integration and store it\n",
    "        subset_integration = pearsonr(subset_act_full.flatten(), subset_act_avg.flatten())[0]\n",
    "        integration[:,img_id, subset_num] = subset_integration"
   ]
  },
  {
   "cell_type": "code",
   "execution_count": null,
   "metadata": {},
   "outputs": [],
   "source": [
    "with open(os.path.join(PATH_RESULTS, RESULTS_SEMANTIC_PLACES1, \"semantic_integration.npy\"), \"wb\") as f:\n",
    "    np.save(f, integration)"
   ]
  },
  {
   "cell_type": "code",
   "execution_count": null,
   "metadata": {},
   "outputs": [],
   "source": [
    "with open(os.path.join(PATH_RESULTS, RESULTS_SEMANTIC_PLACES1, \"semantic_integration.npy\"), 'rb') as f:\n",
    "    integration = np.load(f)"
   ]
  },
  {
   "cell_type": "code",
   "execution_count": null,
   "metadata": {},
   "outputs": [],
   "source": [
    "integration.shape"
   ]
  },
  {
   "cell_type": "code",
   "execution_count": null,
   "metadata": {},
   "outputs": [],
   "source": [
    "# load beauty ratings\n",
    "beauty_ratings = ImageDataset(\n",
    "    os.path.join(DATA_PATH, DATASET_NAMES[0], SCALE_NAMES[0]),\n",
    "    beauty_ratings_path='behavior/ratings_study1.csv').beauty_ratings\n",
    "\n",
    "# correlate integration with beauty\n",
    "scores = correlate_integration_beauty(integration, beauty_ratings)"
   ]
  },
  {
   "cell_type": "code",
   "execution_count": null,
   "metadata": {},
   "outputs": [],
   "source": [
    "# convert integration back to 3D layer space\n",
    "activation_shapes['layer3.4.conv2'] = activation_shape_semantic\n",
    "ns = NetworkScorer(activation_shapes)\n",
    "ns.map_back_scores(scores, pat_s)"
   ]
  },
  {
   "cell_type": "markdown",
   "metadata": {},
   "source": [
    "## Visualize spatial integration"
   ]
  },
  {
   "cell_type": "markdown",
   "metadata": {},
   "source": [
    "## score distribution"
   ]
  },
  {
   "cell_type": "code",
   "execution_count": null,
   "metadata": {},
   "outputs": [],
   "source": [
    "# TODO plot all heatmaps with the same absoloute color scale\n",
    "with PdfPages('integration heatmap semantic img0.pdf') as pdf:\n",
    "    for vertical_slice in ns.scores[layername_best_semantic].squeeze():\n",
    "        sns.heatmap(vertical_slice)\n",
    "        pdf.savefig()\n",
    "        plt.close() "
   ]
  },
  {
   "cell_type": "code",
   "execution_count": null,
   "metadata": {},
   "outputs": [],
   "source": [
    "t = ns.scores[layername_best_semantic]\n",
    "t.min(), t.max()"
   ]
  },
  {
   "cell_type": "code",
   "execution_count": null,
   "metadata": {},
   "outputs": [],
   "source": [
    "t = t.flatten()\n",
    "num_bins = 30\n",
    "hist = torch.histc(t, bins=num_bins, min=torch.min(t).item(), max=torch.max(t).item())\n",
    "\n",
    "# Define the edges of the bins\n",
    "bin_edges = torch.linspace(torch.min(t).item(), torch.max(t).item(), steps=num_bins + 1)\n",
    "\n",
    "# Plot the histogram using Matplotlib\n",
    "plt.figure(figsize=(8, 6))\n",
    "plt.hist(t.numpy(), bins=bin_edges.numpy(), edgecolor='black')\n",
    "plt.title('Histogram of Tensor Values')\n",
    "plt.xlabel('Value')\n",
    "plt.ylabel('Frequency')\n",
    "plt.show()\n"
   ]
  },
  {
   "cell_type": "markdown",
   "metadata": {},
   "source": [
    "## Integration heatmap"
   ]
  },
  {
   "cell_type": "code",
   "execution_count": null,
   "metadata": {},
   "outputs": [],
   "source": [
    "inte = ns.scores[layername_best_semantic].squeeze()\n",
    "\n",
    "# plot only highest integrating nodes\n",
    "with PdfPages('integration heatmap semantic img0 best.pdf') as pdf:\n",
    "    for vertical_slice in inte:\n",
    "        sns.heatmap(vertical_slice)\n",
    "        pdf.savefig()\n",
    "        plt.close() "
   ]
  },
  {
   "cell_type": "markdown",
   "metadata": {},
   "source": [
    "## Permutation testing\n",
    "\n",
    "Repeat analysis for randomly shuffeled integration values"
   ]
  },
  {
   "cell_type": "code",
   "execution_count": null,
   "metadata": {},
   "outputs": [],
   "source": [
    "\n",
    "integration = integration.squeeze(0)\n",
    "integration.shape"
   ]
  },
  {
   "cell_type": "code",
   "execution_count": null,
   "metadata": {},
   "outputs": [],
   "source": [
    "integration_pt = torch.tensor(integration)"
   ]
  },
  {
   "cell_type": "code",
   "execution_count": null,
   "metadata": {},
   "outputs": [],
   "source": [
    "integration_pt.nelement()"
   ]
  },
  {
   "cell_type": "code",
   "execution_count": null,
   "metadata": {},
   "outputs": [],
   "source": [
    "integration_randomized = integration_pt[torch.randperm(integration_pt.nelement())]"
   ]
  },
  {
   "cell_type": "code",
   "execution_count": null,
   "metadata": {},
   "outputs": [],
   "source": [
    "integration.shape"
   ]
  },
  {
   "cell_type": "code",
   "execution_count": null,
   "metadata": {},
   "outputs": [],
   "source": [
    "integration_randomized.shape"
   ]
  },
  {
   "cell_type": "code",
   "execution_count": null,
   "metadata": {},
   "outputs": [],
   "source": [
    "ns = NetworkScorer(activation_shapes)\n",
    "ns.map_back_scores(integration_randomized.unsqueeze(0), pat_s)\n"
   ]
  },
  {
   "cell_type": "code",
   "execution_count": null,
   "metadata": {},
   "outputs": [],
   "source": [
    "# plot random pattern heatmaps for visual comparison\n",
    "# TODO generate permutation distribution\n",
    "with PdfPages('integration heatmap random scores.pdf') as pdf:\n",
    "    for vertical_slice in ns.scores[layername_best_semantic]:\n",
    "        sns.heatmap(vertical_slice)\n",
    "        pdf.savefig()\n",
    "        plt.close() "
   ]
  },
  {
   "cell_type": "code",
   "execution_count": null,
   "metadata": {},
   "outputs": [],
   "source": [
    "activation_shapes[\"layer2.3.conv1\"]"
   ]
  },
  {
   "cell_type": "markdown",
   "metadata": {},
   "source": [
    "## Are integration beauty scores meaningfull ?"
   ]
  },
  {
   "cell_type": "markdown",
   "metadata": {},
   "source": [
    "- Do the top nodes integration predict beauty better than the bottom nodes (or any other random 10%) ? \\\n",
    "- Use spatially coherent subsets to calculate scores."
   ]
  },
  {
   "cell_type": "markdown",
   "metadata": {},
   "source": [
    "---"
   ]
  },
  {
   "cell_type": "markdown",
   "metadata": {},
   "source": [
    "## (old) random pattern scoring"
   ]
  },
  {
   "cell_type": "code",
   "execution_count": null,
   "metadata": {},
   "outputs": [],
   "source": [
    "def run_singlelayer_analysis(dataset, activation_extractor, num_subsets, frac):\n",
    "    num_layers = 1 # only take activations of best performing layer from each net\n",
    "    num_images = dataset.img_count\n",
    "\n",
    "    # get shapes of activation\n",
    "    dummy_image = next(iter(dataset))\n",
    "    net_activation = activation_extractor(dummy_image[0])\n",
    "    net_activation = OrderedDict(net_activation)\n",
    "    activation_shapes = taskonomy_activation_layer_shapes(net_activation)\n",
    "    \n",
    "    pat = Pattern_Generator(\n",
    "        num_subsets,\n",
    "        activation_shapes,\n",
    "        frac=frac\n",
    "        )\n",
    "\n",
    "    # layer x image x subset\n",
    "    integration = np.full([num_layers,num_images,num_subsets], np.nan, dtype=np.float64)\n",
    "    cnt = 0\n",
    "\n",
    "    # iterate image set\n",
    "    for img_id, (img_full, img_v1, img_v2) in enumerate(iter(dataset)):\n",
    "        if cnt % 30 == 0: print(cnt, end= ' ')\n",
    "        cnt=cnt+1\n",
    "        \n",
    "        act_full = Activation_Pattern(activation_extractor(img_full))\n",
    "        act_v1 = Activation_Pattern(activation_extractor(img_v1))\n",
    "        act_v2 = Activation_Pattern(activation_extractor(img_v2))\n",
    "        act_avg = Activation_Pattern.average(act_v1, act_v2)\n",
    "\n",
    "        # iterate node subsets\n",
    "        for subset_num in range(num_subsets):\n",
    "            subset_mask = pat.get_subset_pattern(subset_num)\n",
    "            \n",
    "            subset_act_full = act_full[subset_mask]\n",
    "            subset_act_avg = act_avg[subset_mask]\n",
    "\n",
    "            # calculate integration and store it\n",
    "            subset_integration = Activation_Pattern.calculate_integration_coeff(subset_act_full, subset_act_avg)\n",
    "            integration[:,img_id, subset_num] = subset_integration\n",
    "    \n",
    "    ns = NetworkScorer(activation_shapes)\n",
    "    ns.map_back_scores(integration, pat)\n",
    "\n",
    "    return integration, ns"
   ]
  },
  {
   "cell_type": "code",
   "execution_count": null,
   "metadata": {},
   "outputs": [],
   "source": [
    "num_subsets = 10000\n",
    "# run analysis for semantic\n",
    "dataset = ImageDataset(os.path.join(DATA_PATH, \"places1\", best_semantic.scale))\n",
    "\n",
    "integration_semantic_frac01, ns_semantic_frac01 = run_singlelayer_analysis(\n",
    "    dataset,\n",
    "    activation_extractor_semantic,\n",
    "    num_subsets,\n",
    "    frac=0.01\n",
    "    )\n",
    "\n",
    "integration_semantic_frac10, ns_semantic_frac10 = run_singlelayer_analysis(\n",
    "    dataset,\n",
    "    activation_extractor_semantic,\n",
    "    num_subsets,\n",
    "    frac=0.10\n",
    "    )\n",
    "\n",
    "integration_semantic_frac90, ns_semantic_frac90= run_singlelayer_analysis(\n",
    "    dataset,\n",
    "    activation_extractor_semantic,\n",
    "    num_subsets,\n",
    "    frac=0.90\n",
    "    )"
   ]
  },
  {
   "cell_type": "code",
   "execution_count": null,
   "metadata": {},
   "outputs": [],
   "source": [
    "integration_semantic_frac01.shape, ns_semantic_frac01.scores['layer3.4.conv2'].shape"
   ]
  },
  {
   "cell_type": "code",
   "execution_count": null,
   "metadata": {},
   "outputs": [],
   "source": [
    "type(integration_semantic_frac01), type(ns_semantic_frac01.scores['layer3.4.conv2'])"
   ]
  },
  {
   "cell_type": "code",
   "execution_count": null,
   "metadata": {},
   "outputs": [],
   "source": [
    "num_subsets = 10000\n",
    "\n",
    "# run analysis for semantic\n",
    "dataset = ImageDataset(os.path.join(DATA_PATH, \"places1\", best_semantic.scale))\n",
    "\n",
    "integration_semantic_frac01, ns_semantic_frac01 = run_singlelayer_analysis(\n",
    "    dataset,\n",
    "    activation_extractor_semantic,\n",
    "    num_subsets,\n",
    "    frac=0.01\n",
    "    )\n",
    "\n",
    "integration_semantic_frac10, ns_semantic_frac10 = run_singlelayer_analysis(\n",
    "    dataset,\n",
    "    activation_extractor_semantic,\n",
    "    num_subsets,\n",
    "    frac=0.10\n",
    "    )\n",
    "\n",
    "integration_semantic_frac90, ns_semantic_frac90= run_singlelayer_analysis(\n",
    "    dataset,\n",
    "    activation_extractor_semantic,\n",
    "    num_subsets,\n",
    "    frac=0.90\n",
    "    )\n",
    "\n",
    "# run analysis for 2d\n",
    "dataset = ImageDataset(os.path.join(DATA_PATH, \"places1\", best_2d.scale))\n",
    "\n",
    "integration_2d_frac01, ns_2d_frac01 = run_singlelayer_analysis(\n",
    "    dataset,\n",
    "    activation_extractor_2d,\n",
    "    num_subsets,\n",
    "    frac=0.01\n",
    "    )\n",
    "\n",
    "integration_2d_frac10, ns_2d_frac10 = run_singlelayer_analysis(\n",
    "    dataset,\n",
    "    activation_extractor_2d,\n",
    "    num_subsets,\n",
    "    frac=0.10\n",
    "    )\n",
    "\n",
    "integration_2d_frac90, ns_2d_frac90= run_singlelayer_analysis(\n",
    "    dataset,\n",
    "    activation_extractor_2d,\n",
    "    num_subsets,\n",
    "    frac=0.90\n",
    "    )\n",
    "\n",
    "# run analysis for 3d\n",
    "dataset = ImageDataset(os.path.join(DATA_PATH, \"places1\", best_3d.scale))\n",
    "\n",
    "integration_3d_frac01, ns_3d_frac01 = run_singlelayer_analysis(\n",
    "    dataset,\n",
    "    activation_extractor_3d,\n",
    "    num_subsets,\n",
    "    frac=0.01\n",
    "    )\n",
    "\n",
    "integration_3d_frac10, ns_3d_frac10 = run_singlelayer_analysis(\n",
    "    dataset,\n",
    "    activation_extractor_3d,\n",
    "    num_subsets,\n",
    "    frac=0.10\n",
    "    )\n",
    "\n",
    "integration_3d_frac90, ns_3d_frac90= run_singlelayer_analysis(\n",
    "    dataset,\n",
    "    activation_extractor_3d,\n",
    "    num_subsets,\n",
    "    frac=0.90\n",
    "    )"
   ]
  },
  {
   "cell_type": "markdown",
   "metadata": {},
   "source": [
    "### save results"
   ]
  },
  {
   "cell_type": "code",
   "execution_count": null,
   "metadata": {},
   "outputs": [],
   "source": [
    "FOLDER_SINGLELAYER_ANALYSIS = './analysis results singlelayer'"
   ]
  },
  {
   "cell_type": "code",
   "execution_count": null,
   "metadata": {},
   "outputs": [],
   "source": [
    "from itertools import product\n",
    "files_i = [\"integration\"+netclass+fracsize+\".npy\"\n",
    "           for netclass, fracsize\n",
    "           in product([\"_semantic\",\"_2d\",\"_3d\"], [\"_frac01\",\"_frac10\",\"_frac90\"])]\n",
    "files_i"
   ]
  },
  {
   "cell_type": "code",
   "execution_count": null,
   "metadata": {},
   "outputs": [],
   "source": [
    "files_n = [\"integration\"+netclass+fracsize+\".pkl\"\n",
    "           for netclass, fracsize\n",
    "           in product([\"_semantic\",\"_2d\",\"_3d\"], [\"_frac01\",\"_frac10\",\"_frac90\"])]\n",
    "files_n"
   ]
  },
  {
   "cell_type": "code",
   "execution_count": null,
   "metadata": {},
   "outputs": [],
   "source": [
    "arrays_integration = [integration_semantic_frac01, integration_semantic_frac10, integration_semantic_frac90,\n",
    "                      integration_2d_frac01, integration_2d_frac10, integration_2d_frac90,\n",
    "                      integration_3d_frac01, integration_3d_frac10, integration_3d_frac90]\n",
    "\n",
    "objects_nodescoring = [ns_semantic_frac01, ns_semantic_frac10, ns_semantic_frac90,\n",
    "                       ns_2d_frac01, ns_2d_frac10, ns_2d_frac90,\n",
    "                       ns_3d_frac01, ns_3d_frac10, ns_3d_frac90]"
   ]
  },
  {
   "cell_type": "code",
   "execution_count": null,
   "metadata": {},
   "outputs": [],
   "source": [
    "for file_i, file_n, array_i, array_n in zip(files_i, files_n, arrays_integration, objects_nodescoring):\n",
    "    with open(os.path.join(FOLDER_SINGLELAYER_ANALYSIS, file_i), \"wb\") as f1:\n",
    "        np.save(f1, array_i)\n",
    "    \n",
    "    with open(os.path.join(FOLDER_SINGLELAYER_ANALYSIS, file_n), \"wb\") as f2:\n",
    "        pickle.dump(array_n, f2)\n"
   ]
  },
  {
   "cell_type": "markdown",
   "metadata": {},
   "source": [
    "### load results"
   ]
  },
  {
   "cell_type": "markdown",
   "metadata": {},
   "source": [
    "## (old) manipulating integratability and watch response of network\n"
   ]
  },
  {
   "cell_type": "markdown",
   "metadata": {},
   "source": [
    "\n",
    "gradually perform image transformations shown to break integration to:\n",
    "- test where in the network integration takes place\n",
    "- test whether different manipulations break different clusters first\n",
    "\n",
    "\n",
    "\n",
    "Do integration beauty scoring with node pools sweeping along 3D axis\n",
    "- full width 2D layer pools along all three axis\n",
    "- 3D cubic pool along all three axis (vary in size)"
   ]
  },
  {
   "cell_type": "markdown",
   "metadata": {},
   "source": [
    "permutation test for integration: generate permutation distribution by calculating integration at each location in the layer to random input. input real image, calculate clusters of significant integration."
   ]
  },
  {
   "cell_type": "markdown",
   "metadata": {},
   "source": [
    "Do semantic / 2d / 3d nets integrate different features (semantic vs structural) or are they essentially integrating the same features but in a different way ?"
   ]
  },
  {
   "cell_type": "markdown",
   "metadata": {},
   "source": [
    "Do different manipulations break integration in different ways ?\n",
    "Look at:\n",
    "    a) How much manipulation does is need to break integration ?\n",
    "    b) In which networks / layers / scales / datasets is integration broken in which order ?\n",
    "    c) Which image's integration is broken first ?\n",
    "\n",
    "\n",
    "Collect different ways of manipulating images to break integration.\n",
    "    - Do these\n",
    "    a) all break integration the same way\n",
    "    b) cluster into groups in the way in which they break integration\n"
   ]
  },
  {
   "cell_type": "markdown",
   "metadata": {},
   "source": [
    "### pixelated images"
   ]
  },
  {
   "cell_type": "code",
   "execution_count": null,
   "metadata": {},
   "outputs": [],
   "source": [
    "dataset = ImageDataset(os.path.join(DATA_PATH, \"places1\", best_semantic.scale))\n",
    "it_dataset = iter(dataset)\n",
    "\n",
    "im = next(it_dataset)[0].squeeze()\n",
    "im2 = next(it_dataset)[2].squeeze()"
   ]
  },
  {
   "cell_type": "code",
   "execution_count": null,
   "metadata": {},
   "outputs": [],
   "source": [
    "im.min(), im.max(), im2.min(), im2.max()"
   ]
  },
  {
   "cell_type": "code",
   "execution_count": null,
   "metadata": {},
   "outputs": [],
   "source": [
    "im = im + im.min().abs()\n",
    "im = im / im.max()\n",
    "#d2 = 1-d2\n",
    "im.min(), im.max()"
   ]
  },
  {
   "cell_type": "code",
   "execution_count": null,
   "metadata": {},
   "outputs": [],
   "source": [
    "plt.imshow(im.permute(1,2,0))"
   ]
  },
  {
   "cell_type": "code",
   "execution_count": null,
   "metadata": {},
   "outputs": [],
   "source": [
    "im2"
   ]
  },
  {
   "cell_type": "code",
   "execution_count": null,
   "metadata": {},
   "outputs": [],
   "source": [
    "# take a fraction of the pixels on the 256x256 grid and permute them\n",
    "pix_degree = 0.5"
   ]
  },
  {
   "cell_type": "code",
   "execution_count": null,
   "metadata": {},
   "outputs": [],
   "source": [
    "mask_pix = torch.rand((256,256)) < pix_degree\n",
    "mask_original = ~mask_pix\n",
    "\n",
    "# number of pixels that are pixeled, this is not exactly the pix degree due to randomness\n",
    "n_pix = im[:,mask_pix].shape[1] \n"
   ]
  },
  {
   "cell_type": "code",
   "execution_count": null,
   "metadata": {},
   "outputs": [],
   "source": [
    "pix_im = torch.full_like(im, np.nan)\n",
    "\n",
    "# non-pixeled part\n",
    "pix_im[:,mask_original] = im[:,mask_original]\n",
    "\n",
    "# pixeled part\n",
    "pix_im[:,mask_pix] = im[:,mask_pix][:,torch.randperm(n_pix)]"
   ]
  },
  {
   "cell_type": "code",
   "execution_count": null,
   "metadata": {},
   "outputs": [],
   "source": [
    "def pixelate_image(im, pix_degree: float):\n",
    "    \"\"\" Pixelate a 256x256 image\"\"\"\n",
    "    mask_pix = torch.rand((256,256)) < pix_degree\n",
    "    mask_original = ~mask_pix\n",
    "\n",
    "    # number of pixels that are pixeled, this is not exactly the pix degree due to randomness\n",
    "    n_pix = im[:,mask_pix].shape[1] \n",
    "\n",
    "    pix_im = torch.full_like(im, np.nan)\n",
    "\n",
    "    # non-pixeled part\n",
    "    pix_im[:,mask_original] = im[:,mask_original]\n",
    "\n",
    "    # pixeled part\n",
    "    pix_im[:,mask_pix] = im[:,mask_pix][:,torch.randperm(n_pix)]\n",
    "\n",
    "    return pix_im\n"
   ]
  },
  {
   "cell_type": "code",
   "execution_count": null,
   "metadata": {},
   "outputs": [],
   "source": [
    "def img_print(im):\n",
    "    im = im + im.min().abs()\n",
    "    im = im / im.max()\n",
    "    plt.imshow(im.permute(1,2,0))"
   ]
  },
  {
   "cell_type": "code",
   "execution_count": null,
   "metadata": {},
   "outputs": [],
   "source": [
    "img_print(pixelate_image(im, 0.01))"
   ]
  },
  {
   "cell_type": "code",
   "execution_count": null,
   "metadata": {},
   "outputs": [],
   "source": [
    "# TODO: since at 0.25 theres already a strong (subjective) visual disturbance,\n",
    "# maybe apply a logarithmic scale with image pixelation"
   ]
  },
  {
   "cell_type": "code",
   "execution_count": null,
   "metadata": {},
   "outputs": [],
   "source": [
    "# TODO: as annother gradual transformation, implement a gradual low-pass filter"
   ]
  },
  {
   "cell_type": "markdown",
   "metadata": {},
   "source": [
    "### imageversions"
   ]
  },
  {
   "cell_type": "code",
   "execution_count": null,
   "metadata": {},
   "outputs": [],
   "source": [
    "256 / 32"
   ]
  },
  {
   "cell_type": "code",
   "execution_count": null,
   "metadata": {},
   "outputs": [],
   "source": [
    "im.dtype"
   ]
  },
  {
   "cell_type": "code",
   "execution_count": null,
   "metadata": {},
   "outputs": [],
   "source": [
    "torch.tensor(127/127.5-1, dtype=torch.float32)"
   ]
  },
  {
   "cell_type": "code",
   "execution_count": null,
   "metadata": {},
   "outputs": [],
   "source": [
    "torch.tensor([[1,0],[0,1]]).repeat_interleave(2,dim=0).repeat_interleave(2,dim=1)"
   ]
  },
  {
   "cell_type": "code",
   "execution_count": null,
   "metadata": {},
   "outputs": [],
   "source": [
    "def create_checkerboard(scale, size=256):\n",
    "    msc = torch.tensor([[1, 0] * (scale//2), [0, 1] * (scale//2)] * (scale//2))\n",
    "    return msc.repeat_interleave(size//scale, dim=0).repeat_interleave(size//scale, dim=1)"
   ]
  },
  {
   "cell_type": "code",
   "execution_count": null,
   "metadata": {},
   "outputs": [],
   "source": [
    "create_checkerboard(64).shape"
   ]
  },
  {
   "cell_type": "markdown",
   "metadata": {},
   "source": [
    "### get activations for pixelated images"
   ]
  },
  {
   "cell_type": "code",
   "execution_count": null,
   "metadata": {},
   "outputs": [],
   "source": [
    "act_full "
   ]
  },
  {
   "cell_type": "code",
   "execution_count": null,
   "metadata": {},
   "outputs": [],
   "source": [
    "activation_extractor_semantic().keys()"
   ]
  },
  {
   "cell_type": "code",
   "execution_count": null,
   "metadata": {},
   "outputs": [],
   "source": [
    "activation_extractor_semantic(torch.rand_like(dummy_image[0]))['layer3.4.conv2'].shape"
   ]
  },
  {
   "cell_type": "markdown",
   "metadata": {},
   "source": [
    "###  get distribution of integration / ib-correlation of random images"
   ]
  },
  {
   "cell_type": "code",
   "execution_count": null,
   "metadata": {},
   "outputs": [],
   "source": [
    "dummy_image[1]"
   ]
  },
  {
   "cell_type": "code",
   "execution_count": null,
   "metadata": {},
   "outputs": [],
   "source": [
    "# for each image\n",
    "ac = activation_extractor_semantic(torch.rand_like(dummy_image[0]))['layer3.4.conv2']\n",
    "ac = ac.squeeze()\n",
    "ac.shape"
   ]
  },
  {
   "cell_type": "markdown",
   "metadata": {},
   "source": [
    "### get previous one at each location"
   ]
  },
  {
   "cell_type": "code",
   "execution_count": null,
   "metadata": {},
   "outputs": [],
   "source": [
    "for l1, l2 in zip(ac_full, ac_avg):\n",
    "    pass"
   ]
  },
  {
   "cell_type": "code",
   "execution_count": null,
   "metadata": {},
   "outputs": [],
   "source": [
    "l1.shape"
   ]
  },
  {
   "cell_type": "markdown",
   "metadata": {},
   "source": [
    "### visual inspection\n",
    "are there maybe any clusters of integration to random images, already revealing a integration structure in the network"
   ]
  },
  {
   "cell_type": "markdown",
   "metadata": {},
   "source": [
    "### get activation of actual image"
   ]
  },
  {
   "cell_type": "markdown",
   "metadata": {},
   "source": [
    "### test where there are significant clusters of integration"
   ]
  }
 ],
 "metadata": {
  "kernelspec": {
   "display_name": "PytorchEnv",
   "language": "python",
   "name": "python3"
  },
  "language_info": {
   "codemirror_mode": {
    "name": "ipython",
    "version": 3
   },
   "file_extension": ".py",
   "mimetype": "text/x-python",
   "name": "python",
   "nbconvert_exporter": "python",
   "pygments_lexer": "ipython3",
   "version": "3.8.19"
  }
 },
 "nbformat": 4,
 "nbformat_minor": 2
}
