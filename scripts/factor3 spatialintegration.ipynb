{
 "cells": [
  {
   "cell_type": "code",
   "execution_count": 100,
   "metadata": {},
   "outputs": [],
   "source": [
    "# python\n",
    "import os, pickle\n",
    "from collections import OrderedDict\n",
    "from pathlib import Path\n",
    "\n",
    "# stats\n",
    "import numpy as np\n",
    "import pandas as pd\n",
    "from scipy.stats import pearsonr\n",
    "\n",
    "\n",
    "# plot\n",
    "import seaborn as sns\n",
    "import matplotlib.pyplot as plt\n",
    "from matplotlib.backends.backend_pdf import PdfPages\n",
    "\n",
    "# neural networks\n",
    "import torch, torch.utils.model_zoo  # required to load nets\n",
    "from torchvision.models.feature_extraction import (\n",
    "    get_graph_node_names,\n",
    "    create_feature_extractor,\n",
    ")\n",
    "\n",
    "# thesis library\n",
    "from lib.functions_scripting import *\n",
    "from lib.functions_base_analysis import *\n",
    "from lib.functions_second_analysis import *\n",
    "\n",
    "from lib.ImageDataset import ImageDataset\n",
    "from lib.NetworkScorer import NetworkScorer\n",
    "from lib.PatternGenerator import Pattern_Generator\n",
    "from lib.ActivationPattern import Activation_Pattern\n",
    "from lib.transforms import VisualPriorRepresentation\n",
    "from lib.PatternGeneratorSearchlight import PatternGeneratorSearchlight\n",
    "\n",
    "\n",
    "# storing a NetworkScorer object for saving backprojected scores\n",
    "# TODO needs to be adapted when analysing multiple nets\n",
    "BACKPROJECTED_SCORES_FOLDER = \"./backprojected_scores\"\n",
    "\n",
    "PATH_SING_NET_RDMS = os.path.join(PATH_RESULTS, \"spatial integration\", \"single network rdms\")\n",
    "PATH_SUBSETDATA = os.path.join(PATH_RESULTS, \"spatial integration\", \"subsetdata\")\n",
    "\n",
    "beauty_ratings = load_ratings(PATH_RATINGS)"
   ]
  },
  {
   "cell_type": "code",
   "execution_count": 101,
   "metadata": {},
   "outputs": [],
   "source": [
    "_models = MODEL_NAMES\n",
    "_studies = STUDY_NAMES\n",
    "_datasets = DATASET_NAMES\n",
    "_scales = SCALE_NAMES"
   ]
  },
  {
   "cell_type": "code",
   "execution_count": 118,
   "metadata": {},
   "outputs": [],
   "source": [
    "# select broadly predictive parameters\n",
    "# subselect models that have significant predictions across scales (except32)\n",
    "models_to_remove = set(\n",
    "    [\n",
    "        \"edge_texture\",\n",
    "        \"fixated_pose\",\n",
    "        \"keypoints2d\",\n",
    "        \"segment_semantic\",\n",
    "        \"edge_occlusion\",\n",
    "        \"point_matching\",\n",
    "        \"jigsaw\",\n",
    "        \"inpainting\",\n",
    "        \"class_object\",\n",
    "        \"denoising\",\n",
    "        \"depth_euclidean\",\n",
    "    ]\n",
    ")\n",
    "\n",
    "_models = list(set(MODEL_NAMES).difference(models_to_remove))\n",
    "_studies = STUDY_NAMES\n",
    "_datasets = DATASET_NAMES\n",
    "_scales = SCALE_NAMES[:4]"
   ]
  },
  {
   "cell_type": "markdown",
   "metadata": {},
   "source": [
    "Do for each studys:\n",
    "\n",
    "1. For every network: RDM (imageXimage) of searchlight integration scoring. Best ibcorr-performing layer in study.\n",
    "\n",
    "3. netXnet RDM of RDMs from (1)"
   ]
  },
  {
   "cell_type": "markdown",
   "metadata": {},
   "source": [
    "# analysis"
   ]
  },
  {
   "cell_type": "markdown",
   "metadata": {},
   "source": [
    "## old version"
   ]
  },
  {
   "cell_type": "markdown",
   "metadata": {},
   "source": [
    "### functions"
   ]
  },
  {
   "cell_type": "code",
   "execution_count": null,
   "metadata": {},
   "outputs": [],
   "source": [
    "def load_ibcorr_for_spatialanalysis(mo, sc):\n",
    "    \"\"\" load ibcorr for one net\"\"\"\n",
    "    l = []\n",
    "    for st in STUDY_NAMES:\n",
    "        d = pd.read_csv(os.path.join(PATH_IB_CORRELATIONS, mo, st, sc, 'ib_correlations.csv'), header=None)\n",
    "        d.insert(0, 'study', st)\n",
    "        d = d.reset_index().rename(columns={\"index\":\"layer\", 0:\"ibcorr\"})\n",
    "        l.append(d)\n",
    "    return pd.concat(l).reset_index(drop=True)"
   ]
  },
  {
   "cell_type": "code",
   "execution_count": null,
   "metadata": {},
   "outputs": [],
   "source": [
    "def run_spatialintegration_analysis_bestlayer(mo, st, sc):\n",
    "    # setup best-layer activation extractor\n",
    "    df_ibcorr = load_ibcorr_for_spatialanalysis(mo, sc)\n",
    "    best_ibcorr = (df_ibcorr\n",
    "                   .iloc[df_ibcorr.groupby('study').ibcorr.idxmax(),:]\n",
    "                   .set_index('study'))\n",
    "    idx = best_ibcorr.loc[st].layer.astype(int)\n",
    "    activation_extractor, layername = setup_singlelayer(mo, idx)\n",
    "\n",
    "    # setup Pattern Generator\n",
    "    dataset = ImageDataset(os.path.join(PATH_IMAGES, study2dataset(st), sc))\n",
    "    dummy_image = next(iter(dataset))\n",
    "    net_activation = activation_extractor(dummy_image[0])\n",
    "    activation_shape = taskonomy_activation_layer_shapes(net_activation)\n",
    "    activation_shape = torch.Size(d for d in activation_shape[layername] if d != 1)\n",
    "    pat = PatternGeneratorSearchlight(activation_shape, layername)\n",
    "    \n",
    "    # setup storing results\n",
    "    # layer x image x subset\n",
    "    num_layers = 1\n",
    "    num_images = dataset.img_count\n",
    "    num_subsets = pat.num_subsets\n",
    "    integration = np.full([num_layers,num_images,num_subsets], np.nan, dtype=np.float64)\n",
    "\n",
    "    # run analysis\n",
    "    #cnt = 0\n",
    "    for img_id, (img_full, img_v1, img_v2) in enumerate(iter(dataset)):\n",
    "        #if cnt % 30 == 0: print(cnt, end= ' ')\n",
    "        #cnt=cnt+1\n",
    "        \n",
    "        # activations as tensors\n",
    "        act_full = activation_extractor(img_full)[layername].squeeze()\n",
    "        act_v1 = activation_extractor(img_v1)[layername].squeeze()\n",
    "        act_v2 = activation_extractor(img_v2)[layername].squeeze()\n",
    "        act_avg = (act_v1 + act_v2) / 2.\n",
    "\n",
    "        # iterate 3D positions\n",
    "        pat_it = iter(pat)\n",
    "        for subset_num, roi_mask in pat_it:\n",
    "            \n",
    "            subset_act_full = act_full[roi_mask]\n",
    "            subset_act_avg = act_avg[roi_mask]\n",
    "\n",
    "            # calculate integration and store it\n",
    "            subset_integration = pearsonr(subset_act_full.flatten(), subset_act_avg.flatten())[0]\n",
    "            integration[:,img_id, subset_num] = subset_integration\n",
    "\n",
    "    return integration"
   ]
  },
  {
   "cell_type": "markdown",
   "metadata": {},
   "source": [
    "### functions testing"
   ]
  },
  {
   "cell_type": "code",
   "execution_count": null,
   "metadata": {},
   "outputs": [],
   "source": [
    "mo = 'depth_euclidean'\n",
    "st = STUDY_NAMES[0]"
   ]
  },
  {
   "cell_type": "code",
   "execution_count": null,
   "metadata": {},
   "outputs": [],
   "source": [
    "# load data\n",
    "def load_ibcorr(mo, sc = SCALE_NAME):\n",
    "    \"\"\" load ibcorr for one net\"\"\"\n",
    "    l = []\n",
    "    for st in STUDY_NAMES:\n",
    "        d = pd.read_csv(os.path.join(PATH_IB_CORRELATIONS, mo, st, sc, 'ib_correlations.csv'), header=None)\n",
    "        d.insert(0, 'study', st)\n",
    "        d = d.reset_index().rename(columns={\"index\":\"layer\", 0:\"ibcorr\"})\n",
    "        l.append(d)\n",
    "    return pd.concat(l).reset_index(drop=True)\n",
    "\n",
    "df_ibcorr = load_ibcorr(mo)\n",
    "df_ibcorr\n",
    "\n",
    "# visualize this: add lineplot for ibcorr of 4 studies for per net\n",
    "best_ibcorr = df_ibcorr.iloc[df_ibcorr.groupby('study').ibcorr.idxmax(),:].set_index('study')\n",
    "best_ibcorr"
   ]
  },
  {
   "cell_type": "code",
   "execution_count": null,
   "metadata": {},
   "outputs": [],
   "source": [
    "#setup nets for extracting activations from best layer\n",
    "def setup_singlelayer(model_name: str, layer_idx: int):\n",
    "    \"\"\" Setup activation extractor for a single layer of a tasnomomy network\n",
    "    \"\"\"\n",
    "    VisualPriorRepresentation._load_unloaded_nets([model_name])\n",
    "    net = VisualPriorRepresentation.feature_task_to_net[model_name]\n",
    "\n",
    "    _, eval_nodes = get_graph_node_names(net)\n",
    "    return_nodes = {node:node for node in eval_nodes if \"conv\" in node or 'fc' in node}\n",
    "    \n",
    "    layer_name = list(return_nodes.keys())[layer_idx]\n",
    "    return create_feature_extractor(net, return_nodes={layer_name:layer_name}), layer_name\n",
    "\n",
    "idx = best_ibcorr.loc[st].layer.astype(int)\n",
    "activation_extractor, layername = setup_singlelayer(mo, idx)\n",
    "layername"
   ]
  },
  {
   "cell_type": "code",
   "execution_count": null,
   "metadata": {},
   "outputs": [],
   "source": [
    "# load net and activation shape (of best layer)\n",
    "dataset = ImageDataset(os.path.join(PATH_IMAGES, study2dataset(st), SCALE_NAME))\n",
    "dummy_image = next(iter(dataset))\n",
    "net_activation = activation_extractor(dummy_image[0])\n",
    "activation_shape = taskonomy_activation_layer_shapes(net_activation)\n",
    "activation_shape = torch.Size(d for d in activation_shape[layername] if d != 1)\n",
    "\n",
    "pat = PatternGeneratorSearchlight(activation_shape, layername)"
   ]
  },
  {
   "cell_type": "code",
   "execution_count": null,
   "metadata": {},
   "outputs": [],
   "source": [
    "# layer x image x subset\n",
    "num_layers = 1\n",
    "num_images = dataset.img_count\n",
    "num_subsets = pat.num_subsets\n",
    "integration = np.full([num_layers,num_images,num_subsets], np.nan, dtype=np.float64)\n",
    "\n",
    "# run analysis\n",
    "cnt = 0\n",
    "\n",
    "for img_id, (img_full, img_v1, img_v2) in enumerate(iter(dataset)):\n",
    "    if cnt % 30 == 0: print(cnt, end= ' ')\n",
    "    cnt=cnt+1\n",
    "    \n",
    "    # activations as tensors\n",
    "    act_full = activation_extractor(img_full)[layername].squeeze()\n",
    "    act_v1 = activation_extractor(img_v1)[layername].squeeze()\n",
    "    act_v2 = activation_extractor(img_v2)[layername].squeeze()\n",
    "    act_avg = (act_v1 + act_v2) / 2.\n",
    "\n",
    "    # iterate 3D positions in layer\n",
    "    pat_it = iter(pat)\n",
    "    for subset_num, roi_mask in pat_it:\n",
    "        \n",
    "        subset_act_full = act_full[roi_mask]\n",
    "        subset_act_avg = act_avg[roi_mask]\n",
    "\n",
    "        # calculate integration and store it\n",
    "        subset_integration = pearsonr(subset_act_full.flatten(), subset_act_avg.flatten())[0]\n",
    "        integration[:,img_id, subset_num] = subset_integration"
   ]
  },
  {
   "cell_type": "code",
   "execution_count": null,
   "metadata": {},
   "outputs": [],
   "source": [
    "with open(os.path.join(PATH_RESULTS, RESULTS_SEMANTIC_PLACES1, \"semantic_integration.npy\"), 'rb') as f:\n",
    "    integration = np.load(f)"
   ]
  },
  {
   "cell_type": "code",
   "execution_count": null,
   "metadata": {},
   "outputs": [],
   "source": [
    "# load beauty ratings\n",
    "beauty_ratings = pd.read_csv(os.path.join(PATH_RATINGS, study2behaviour(st)), header=None).mean(axis=1)\n",
    "\n",
    "# correlate integration with beauty\n",
    "scores = correlate_integration_beauty(integration, beauty_ratings)\n",
    "\n",
    "# convert integration back to 3D layer space\n",
    "ns = NetworkScorer({layername:activation_shape})\n",
    "ns.map_back_scores(scores, pat)"
   ]
  },
  {
   "cell_type": "markdown",
   "metadata": {},
   "source": [
    "### execution"
   ]
  },
  {
   "cell_type": "code",
   "execution_count": null,
   "metadata": {},
   "outputs": [],
   "source": [
    "# run analysis\n",
    "# TODO: change to save as hdf5\n",
    "_study = \"complexity order\"\n",
    "_scale = \"scale4\"\n",
    "\n",
    "\n",
    "for mo in MODEL_NAMES:\n",
    "    print(mo)\n",
    "    integration_subsets = run_spatialintegration_analysis_bestlayer(mo, _study, _scale)\n",
    "    integration = pd.DataFrame(integration_subsets.squeeze().T)\n",
    "    integration.to_csv(\n",
    "        os.path.join(\n",
    "            PATH_RESULTS,\n",
    "            \"spatial integration\",\n",
    "            _scale,\n",
    "            _study + \" subsetdata\",\n",
    "            mo + \".csv\",\n",
    "        )\n",
    "    )"
   ]
  },
  {
   "cell_type": "code",
   "execution_count": null,
   "metadata": {},
   "outputs": [],
   "source": [
    "# multiprocessing code"
   ]
  },
  {
   "cell_type": "code",
   "execution_count": null,
   "metadata": {},
   "outputs": [],
   "source": [
    "# from multiprocessing import Pool\n",
    "# with Pool() as pool:\n",
    "#     l1 = pool.starmap(run_spatialintegration_analysis_bestlayer, zip(MODEL_NAMES[5:], [\"short presentation\"] * len(MODEL_NAMES[5:]), [\"scale4\"] * len(MODEL_NAMES[5:]))   )\n",
    "\n",
    "#d1 = {k: d1[k] for k in _models}\n",
    "\n",
    "# for mo, data in l1:\n",
    "#     df = pd.DataFrame(data.squeeze().T)\n",
    "#     calculate_rdm(df)\n",
    "#     df.to_csv(os.path.join(PATH_RESULTS, \"spatial integration\", \"scale4\", \"study1\", mo + \".csv\"))\n"
   ]
  },
  {
   "cell_type": "markdown",
   "metadata": {},
   "source": [
    "## faster version"
   ]
  },
  {
   "cell_type": "markdown",
   "metadata": {},
   "source": [
    "### functions"
   ]
  },
  {
   "cell_type": "code",
   "execution_count": null,
   "metadata": {},
   "outputs": [],
   "source": [
    "def run_spatialintegration_analysis_bestlayer(mo, st, sc, layer_idx):\n",
    "    # setup best-layer activation extractor\n",
    "    activation_extractor, layername = setup_singlelayer(mo, layer_idx)\n",
    "\n",
    "    dataset = ImageDataset(os.path.join(PATH_IMAGES, study2dataset(st), sc))\n",
    "\n",
    "    # init PatternGenerator with activation shape of example image\n",
    "    pat = PatternGeneratorSearchlight(\n",
    "        list(activation_extractor(next(iter(dataset))[0]).values())[0].squeeze().shape,\n",
    "        layername,\n",
    "    )\n",
    "\n",
    "    num_layers, num_images, num_subsets = 1, dataset.img_count, pat.num_subsets\n",
    "    integration = np.full(\n",
    "        [num_layers, num_images, num_subsets], np.nan, dtype=np.float64\n",
    "    )\n",
    "\n",
    "    for img_id, (img_full, img_v1, img_v2) in enumerate(iter(dataset)):\n",
    "        # activations as tensors\n",
    "        act_full = activation_extractor(img_full)[layername].squeeze()\n",
    "        act_v1 = activation_extractor(img_v1)[layername].squeeze()\n",
    "        act_v2 = activation_extractor(img_v2)[layername].squeeze()\n",
    "        act_avg = (act_v1 + act_v2) / 2.0\n",
    "\n",
    "        # iterate 3D positions\n",
    "        pat_it = iter(pat)\n",
    "        for subset_num, roi_mask in pat_it:\n",
    "            subset_act_full = act_full[roi_mask]\n",
    "            subset_act_avg = act_avg[roi_mask]\n",
    "            # calculate integration and store it\n",
    "            subset_integration = pearsonr(\n",
    "                subset_act_full.flatten(), subset_act_avg.flatten()\n",
    "            )[0]\n",
    "            integration[:, img_id, subset_num] = subset_integration\n",
    "\n",
    "    return integration"
   ]
  },
  {
   "cell_type": "markdown",
   "metadata": {},
   "source": [
    "### functions testing"
   ]
  },
  {
   "cell_type": "code",
   "execution_count": 5,
   "metadata": {},
   "outputs": [],
   "source": [
    "mo = \"depth_euclidean\"\n",
    "st = \"short presentation\"\n",
    "sc = \"scale4\""
   ]
  },
  {
   "cell_type": "code",
   "execution_count": 57,
   "metadata": {},
   "outputs": [],
   "source": [
    "dfibcorr = load_ibcorr(PATH_IBCORR)"
   ]
  },
  {
   "cell_type": "code",
   "execution_count": 96,
   "metadata": {},
   "outputs": [],
   "source": [
    "bestlayers = (\n",
    "    dfibcorr.loc[(_models, st, sc, slice(None))]\n",
    "    .droplevel([\"study\", \"scale\"])\n",
    "    .groupby(\"model\")\n",
    "    .idxmax()\n",
    "    .ibcorr.map(lambda x: x[1])\n",
    "    .loc[_models]\n",
    ")"
   ]
  },
  {
   "cell_type": "code",
   "execution_count": 94,
   "metadata": {},
   "outputs": [
    {
     "data": {
      "text/plain": [
       "['egomotion',\n",
       " 'segment_unsup25d',\n",
       " 'room_layout',\n",
       " 'autoencoding',\n",
       " 'segment_unsup2d',\n",
       " 'reshading',\n",
       " 'nonfixated_pose',\n",
       " 'keypoints3d',\n",
       " 'curvature',\n",
       " 'normal',\n",
       " 'class_scene',\n",
       " 'vanishing_point']"
      ]
     },
     "execution_count": 94,
     "metadata": {},
     "output_type": "execute_result"
    }
   ],
   "source": [
    "_models"
   ]
  },
  {
   "cell_type": "code",
   "execution_count": 99,
   "metadata": {},
   "outputs": [
    {
     "data": {
      "text/plain": [
       "model\n",
       "egomotion           33\n",
       "segment_unsup25d    36\n",
       "room_layout         41\n",
       "autoencoding        41\n",
       "segment_unsup2d     41\n",
       "reshading           38\n",
       "nonfixated_pose     27\n",
       "keypoints3d         41\n",
       "curvature           32\n",
       "normal              20\n",
       "class_scene         41\n",
       "vanishing_point     28\n",
       "Name: ibcorr, dtype: int64"
      ]
     },
     "execution_count": 99,
     "metadata": {},
     "output_type": "execute_result"
    }
   ],
   "source": [
    "bestlayers"
   ]
  },
  {
   "cell_type": "code",
   "execution_count": 52,
   "metadata": {},
   "outputs": [],
   "source": [
    "#layer_idx = dfibcorr.loc[(slice(None), st,  sc, slice(None))]#.idxmax()[0]"
   ]
  },
  {
   "cell_type": "code",
   "execution_count": 53,
   "metadata": {},
   "outputs": [],
   "source": [
    "activation_extractor, layername = setup_singlelayer(mo, layer_idx)"
   ]
  },
  {
   "cell_type": "code",
   "execution_count": 54,
   "metadata": {},
   "outputs": [],
   "source": [
    "dataset = ImageDataset(os.path.join(PATH_IMAGES, study2dataset(st), sc))"
   ]
  },
  {
   "cell_type": "code",
   "execution_count": 55,
   "metadata": {},
   "outputs": [],
   "source": [
    "# init PatternGenerator with activation shape of example image\n",
    "pat = PatternGeneratorSearchlight(\n",
    "    list(activation_extractor(next(iter(dataset))[0]).values())[0].squeeze().shape,\n",
    "    layername,\n",
    ")"
   ]
  },
  {
   "cell_type": "code",
   "execution_count": 56,
   "metadata": {},
   "outputs": [],
   "source": [
    "# layer x image x subset\n",
    "num_layers, num_images, num_subsets = 1, dataset.img_count, pat.num_subsets\n",
    "integration = np.full([num_layers, num_images, num_subsets], np.nan, dtype=np.float64)"
   ]
  },
  {
   "cell_type": "code",
   "execution_count": null,
   "metadata": {},
   "outputs": [],
   "source": [
    "# run analysis\n",
    "for img_id, (img_full, img_v1, img_v2) in enumerate(iter(dataset)):\n",
    "\n",
    "    # activations as tensors\n",
    "    act_full = activation_extractor(img_full)[layername].squeeze()\n",
    "    act_v1 = activation_extractor(img_v1)[layername].squeeze()\n",
    "    act_v2 = activation_extractor(img_v2)[layername].squeeze()\n",
    "    act_avg = (act_v1 + act_v2) / 2.\n",
    "\n",
    "    # iterate 3D positions in layer\n",
    "    pat_it = iter(pat)\n",
    "    for subset_num, roi_mask in pat_it:\n",
    "        \n",
    "        subset_act_full = act_full[roi_mask]\n",
    "        subset_act_avg = act_avg[roi_mask]\n",
    "\n",
    "        # calculate integration and store it\n",
    "        subset_integration = pearsonr(subset_act_full.flatten(), subset_act_avg.flatten())[0]\n",
    "        integration[:,img_id, subset_num] = subset_integration"
   ]
  },
  {
   "cell_type": "code",
   "execution_count": null,
   "metadata": {},
   "outputs": [],
   "source": [
    "# run analysis\n",
    "# TODO: change to save as hdf5\n",
    "\n",
    "\n",
    "for mo in MODEL_NAMES:\n",
    "    print(mo)\n",
    "    integration_subsets = run_spatialintegration_analysis_bestlayer(mo, _study, _scale)\n",
    "    integration = pd.DataFrame(integration_subsets.squeeze().T)\n",
    "    integration.to_hdf(\n",
    "        os.path.join(\n",
    "            PATH_RESULTS,\n",
    "            \"spatial integration\",\n",
    "            _scale,\n",
    "            _study + \" subsetdata\",\n",
    "            mo + \".csv\",\n",
    "        )\n",
    "    )"
   ]
  },
  {
   "cell_type": "code",
   "execution_count": null,
   "metadata": {},
   "outputs": [],
   "source": [
    "# with open(os.path.join(PATH_RESULTS, RESULTS_SEMANTIC_PLACES1, \"semantic_integration.npy\"), 'rb') as f:\n",
    "#     integration = np.load(f)"
   ]
  },
  {
   "cell_type": "code",
   "execution_count": null,
   "metadata": {},
   "outputs": [],
   "source": [
    "# load beauty ratings\n",
    "beauty_ratings = pd.read_csv(os.path.join(PATH_RATINGS, study2behaviour(st)), header=None).mean(axis=1)\n",
    "\n",
    "# correlate integration with beauty\n",
    "scores = correlate_integration_beauty(integration, beauty_ratings)\n",
    "\n",
    "# convert integration back to 3D layer space\n",
    "ns = NetworkScorer({layername:activation_shape})\n",
    "ns.map_back_scores(scores, pat)"
   ]
  },
  {
   "cell_type": "code",
   "execution_count": null,
   "metadata": {},
   "outputs": [],
   "source": [
    "from multiprocessing import Pool\n",
    "\n",
    "with Pool() as pool:\n",
    "    l1 = pool.starmap(\n",
    "        run_spatialintegration_analysis_bestlayer,\n",
    "        zip(\n",
    "            _models,\n",
    "            [\"short presentation\"] * len(_models),\n",
    "            [\"scale4\"] * len(_models),\n",
    "        ),\n",
    "    )\n",
    "d1 = {k: d1[k] for k in _models}\n",
    "\n"
   ]
  },
  {
   "cell_type": "code",
   "execution_count": null,
   "metadata": {},
   "outputs": [],
   "source": [
    "for mo, data in l1:\n",
    "    df = pd.DataFrame(data.squeeze().T)\n",
    "    calculate_rdm(df)\n",
    "    df.to_csv(\n",
    "        os.path.join(\n",
    "            PATH_RESULTS, \"spatial integration\", \"scale4\", \"study1\", mo + \".csv\"\n",
    "        )\n",
    "    )"
   ]
  },
  {
   "cell_type": "code",
   "execution_count": null,
   "metadata": {},
   "outputs": [],
   "source": []
  },
  {
   "cell_type": "code",
   "execution_count": null,
   "metadata": {},
   "outputs": [],
   "source": []
  },
  {
   "cell_type": "code",
   "execution_count": null,
   "metadata": {},
   "outputs": [],
   "source": []
  },
  {
   "cell_type": "code",
   "execution_count": null,
   "metadata": {},
   "outputs": [],
   "source": []
  },
  {
   "cell_type": "code",
   "execution_count": null,
   "metadata": {},
   "outputs": [],
   "source": []
  },
  {
   "cell_type": "code",
   "execution_count": null,
   "metadata": {},
   "outputs": [],
   "source": []
  },
  {
   "cell_type": "code",
   "execution_count": null,
   "metadata": {},
   "outputs": [],
   "source": []
  },
  {
   "cell_type": "code",
   "execution_count": null,
   "metadata": {},
   "outputs": [],
   "source": []
  },
  {
   "cell_type": "code",
   "execution_count": null,
   "metadata": {},
   "outputs": [],
   "source": []
  },
  {
   "cell_type": "code",
   "execution_count": null,
   "metadata": {},
   "outputs": [],
   "source": []
  },
  {
   "cell_type": "code",
   "execution_count": null,
   "metadata": {},
   "outputs": [],
   "source": []
  },
  {
   "cell_type": "code",
   "execution_count": null,
   "metadata": {},
   "outputs": [],
   "source": []
  },
  {
   "cell_type": "code",
   "execution_count": null,
   "metadata": {},
   "outputs": [],
   "source": []
  },
  {
   "cell_type": "code",
   "execution_count": null,
   "metadata": {},
   "outputs": [],
   "source": []
  },
  {
   "cell_type": "markdown",
   "metadata": {},
   "source": [
    "# network imageXimage RDMs\n",
    "representing spatial structure in common space across networks"
   ]
  },
  {
   "cell_type": "code",
   "execution_count": null,
   "metadata": {},
   "outputs": [],
   "source": [
    "# calculate network RDMs from subsetdata"
   ]
  },
  {
   "cell_type": "code",
   "execution_count": 73,
   "metadata": {},
   "outputs": [],
   "source": [
    "dfspi_rdms = dfspi.groupby(\"model\").corr().groupby(\"model\").apply(set_diagonal_to_zero)"
   ]
  },
  {
   "cell_type": "code",
   "execution_count": 6,
   "metadata": {},
   "outputs": [],
   "source": [
    "# save network RDMs as hdf"
   ]
  },
  {
   "cell_type": "code",
   "execution_count": null,
   "metadata": {},
   "outputs": [],
   "source": []
  },
  {
   "cell_type": "code",
   "execution_count": null,
   "metadata": {},
   "outputs": [],
   "source": [
    "# load network RDMs from hdf"
   ]
  },
  {
   "cell_type": "code",
   "execution_count": null,
   "metadata": {},
   "outputs": [],
   "source": [
    "dfspi_rdms = pd.read_hdf(\n",
    "    os.path.join(\n",
    "        PATH_RESULTS,\n",
    "        \"spatial integration\",\n",
    "        \"single network rdms\",\n",
    "        \"scale4 study1 allnets.h5\",\n",
    "    ),\n",
    "    key=\"dfspi_rdms\",\n",
    ")"
   ]
  },
  {
   "cell_type": "code",
   "execution_count": 101,
   "metadata": {},
   "outputs": [],
   "source": [
    "# dfspi_rdms.to_hdf(\n",
    "#     os.path.join(\n",
    "#         PATH_RESULTS,\n",
    "#         \"spatial integration\",\n",
    "#         _scale,\n",
    "#         \"rdms \" + _study + \" allnets.h5\",\n",
    "#     ),\n",
    "#     key=\"dfspi_rdms\",\n",
    "# )"
   ]
  },
  {
   "cell_type": "markdown",
   "metadata": {},
   "source": [
    "# predictorRDM\n",
    "\n",
    "\"how\"\n",
    "\"where\" or alternatively \"what\",  which is the same because its spatial integration. Check for correlation between the what (represented by the integration ratings)."
   ]
  },
  {
   "cell_type": "code",
   "execution_count": 102,
   "metadata": {},
   "outputs": [],
   "source": [
    "dl = []\n",
    "for filename in os.listdir(PATH_SING_NET_RDMS):\n",
    "    scale, study, _ = Path(filename).stem.split()\n",
    "    study = studyname(study)\n",
    "    data = (\n",
    "        pd.read_hdf(os.path.join(PATH_SING_NET_RDMS, filename))\n",
    "        .assign(study=study, scale=scale)\n",
    "        .set_index([\"study\", \"scale\"], append=True)\n",
    "        .reorder_levels([\"study\", \"scale\", \"model\", \"img\"])\n",
    "    )\n",
    "    dl.append(data)\n",
    "\n",
    "dfspi_rdms = pd.concat(dl)"
   ]
  },
  {
   "cell_type": "code",
   "execution_count": 149,
   "metadata": {},
   "outputs": [
    {
     "data": {
      "text/plain": [
       "<matplotlib.axes._subplots.AxesSubplot at 0x77a98d736ca0>"
      ]
     },
     "execution_count": 149,
     "metadata": {},
     "output_type": "execute_result"
    },
    {
     "data": {
      "image/png": "[encoded data removed]",
      "text/plain": [
       "<Figure size 432x288 with 2 Axes>"
      ]
     },
     "metadata": {
      "needs_background": "light"
     },
     "output_type": "display_data"
    }
   ],
   "source": [
    "g_studyscale = dfspi_rdms.groupby([\"study\", \"scale\"])\n",
    "l = []\n",
    "for gk in g_studyscale.groups.keys():\n",
    "    gss = g_studyscale.get_group(gk).groupby(\"model\")\n",
    "\n",
    "    rdm = pd.DataFrame(0, index=_models, columns=_models)\n",
    "    for mo1, mo2 in combinations(gss.groups.keys(), 2):\n",
    "        c = correlate_rdms(gss.get_group(mo1), gss.get_group(mo2))[0]\n",
    "        rdm.loc[mo1, mo2], rdm.loc[mo2, mo1] = c, c\n",
    "    rdm = rdm.assign(study=gk[0], scale=gk[1]).set_index([\"study\",\"scale\"], append=True).reorder_levels([\"study\",\"scale\",None])\n",
    "    l.append(rdm)\n",
    "\n",
    "predictor_rdm_3 = pd.concat(l)\n",
    "sns.heatmap(predictor_rdm_3.loc[(\"short presentation\",\"scale4\")])"
   ]
  },
  {
   "cell_type": "code",
   "execution_count": 153,
   "metadata": {},
   "outputs": [],
   "source": [
    "predictor_rdm_3.to_hdf(\n",
    "    os.path.join(PATH_RESULTS, \"spatial integration\", \"predictor3 bestpredlayer.hd5\"),\n",
    "    key=\"predictor_rdm_3\",\n",
    ")"
   ]
  },
  {
   "cell_type": "code",
   "execution_count": null,
   "metadata": {},
   "outputs": [],
   "source": [
    "# predictor_rdm_3 = pd.DataFrame(0, index=_models, columns=_models)\n",
    "# g = dfspi_rdms.groupby(\"model\")\n",
    "\n",
    "# for gk1, gk2 in combinations(g.groups.keys(), 2):\n",
    "#     c = correlate_rdms(g.get_group(gk1), g.get_group(gk2))[0]\n",
    "#     predictor_rdm_3.loc[gk1, gk2], predictor_rdm_3.loc[gk2, gk1] = c, c"
   ]
  },
  {
   "cell_type": "markdown",
   "metadata": {},
   "source": [
    "# integration is localized"
   ]
  },
  {
   "cell_type": "markdown",
   "metadata": {},
   "source": [
    "## calculate subset integrations"
   ]
  },
  {
   "cell_type": "code",
   "execution_count": 139,
   "metadata": {},
   "outputs": [],
   "source": [
    "# correlate local integration with beauty"
   ]
  },
  {
   "cell_type": "code",
   "execution_count": null,
   "metadata": {},
   "outputs": [],
   "source": [
    "dfsubsets  = pd.read_hdf(os.path.join(PATH_SUBSETDATA, \"scale4 study3 allnets.h5\"))\n",
    "dfsubsets = dfsubsets.loc[_models]"
   ]
  },
  {
   "cell_type": "code",
   "execution_count": 155,
   "metadata": {},
   "outputs": [],
   "source": [
    "# correlate integration with beauty"
   ]
  },
  {
   "cell_type": "code",
   "execution_count": 298,
   "metadata": {},
   "outputs": [],
   "source": [
    "subset_correlations = (\n",
    "    dfsubsets.loc[_models]\n",
    "    .apply(\n",
    "        lambda r: pd.Series(spearmanr(r, beauty_ratings[\"study3_places2.csv\"])), axis=1\n",
    "    )\n",
    "    .rename({0: \"corr\", 1: \"pvalue\"}, axis=1)\n",
    ")"
   ]
  },
  {
   "cell_type": "code",
   "execution_count": null,
   "metadata": {},
   "outputs": [],
   "source": [
    "# in the previous analysis, there conversion from correlation to integration is missing\n",
    "subset_correlations[\"corr\"] = -subset_correlations[\"corr\"]"
   ]
  },
  {
   "cell_type": "code",
   "execution_count": null,
   "metadata": {},
   "outputs": [],
   "source": [
    "# save\n",
    "subset_correlations.to_hdf(\n",
    "    os.path.join(\n",
    "        PATH_RESULTS, \"spatial integration\", \"subset correlations\", \"study3 scale4 topnets.h5\"\n",
    "    ),\n",
    "    key=\"subset correlations\",\n",
    ")"
   ]
  },
  {
   "cell_type": "code",
   "execution_count": null,
   "metadata": {},
   "outputs": [],
   "source": [
    "# load\n",
    "subset_correlations = pd.read_hdf(\n",
    "    os.path.join(\n",
    "        PATH_RESULTS, \"spatial integration\", \"subset correlations\", \"study3 scale4.h5\"\n",
    "    ),\n",
    "    key=\"subset correlations\",\n",
    ")"
   ]
  },
  {
   "cell_type": "code",
   "execution_count": 329,
   "metadata": {},
   "outputs": [],
   "source": [
    "# get mask for significant subsets\n",
    "subset_significance = subset_correlations.pvalue.groupby(\"model\").apply(\n",
    "    lambda g: g < 0.05 / len(g)\n",
    ")"
   ]
  },
  {
   "cell_type": "markdown",
   "metadata": {},
   "source": [
    "## "
   ]
  },
  {
   "cell_type": "markdown",
   "metadata": {},
   "source": [
    "## ammount of highly predictive subsets"
   ]
  },
  {
   "cell_type": "code",
   "execution_count": 349,
   "metadata": {},
   "outputs": [],
   "source": [
    "subset_significance_ratio = subset_significance.groupby(\"model\").sum()/subset_significance.groupby(\"model\").count()"
   ]
  },
  {
   "cell_type": "code",
   "execution_count": 391,
   "metadata": {},
   "outputs": [
    {
     "data": {
      "text/plain": [
       "<matplotlib.axes._subplots.AxesSubplot at 0x7684367f8d90>"
      ]
     },
     "execution_count": 391,
     "metadata": {},
     "output_type": "execute_result"
    },
    {
     "data": {
      "image/png": "[encoded data removed]",
      "text/plain": [
       "<Figure size 432x288 with 1 Axes>"
      ]
     },
     "metadata": {
      "needs_background": "light"
     },
     "output_type": "display_data"
    }
   ],
   "source": [
    "subset_significance_ratio[_models_ordered[::-1]].plot.barh()"
   ]
  },
  {
   "cell_type": "code",
   "execution_count": null,
   "metadata": {},
   "outputs": [],
   "source": []
  },
  {
   "cell_type": "code",
   "execution_count": 214,
   "metadata": {},
   "outputs": [],
   "source": [
    "dfibc = load_ibcorr(PATH_IBCORR)"
   ]
  },
  {
   "cell_type": "code",
   "execution_count": 231,
   "metadata": {},
   "outputs": [
    {
     "data": {
      "text/plain": [
       "ibcorr    0.280207\n",
       "dtype: float64"
      ]
     },
     "execution_count": 231,
     "metadata": {},
     "output_type": "execute_result"
    }
   ],
   "source": [
    "dfibc.loc[\"egomotion\"].max()"
   ]
  },
  {
   "cell_type": "code",
   "execution_count": 198,
   "metadata": {},
   "outputs": [
    {
     "data": {
      "text/plain": [
       "(array([35444., 13524., 10288.,  8950.,  7925.,  7147.,  6598.,  6285.,\n",
       "         6040.,  5604.,  5505.,  5455.,  5080.,  5113.,  4999.,  4829.,\n",
       "         4634.,  4601.,  4667.,  4468.,  4419.,  4374.,  4298.,  4349.,\n",
       "         4378.,  4244.,  4254.,  4306.,  4235.,  4299.]),\n",
       " array([1.30591236e-09, 3.33330132e-02, 6.66660252e-02, 9.99990371e-02,\n",
       "        1.33332049e-01, 1.66665061e-01, 1.99998073e-01, 2.33331085e-01,\n",
       "        2.66664097e-01, 2.99997109e-01, 3.33330121e-01, 3.66663133e-01,\n",
       "        3.99996145e-01, 4.33329157e-01, 4.66662168e-01, 4.99995180e-01,\n",
       "        5.33328192e-01, 5.66661204e-01, 5.99994216e-01, 6.33327228e-01,\n",
       "        6.66660240e-01, 6.99993252e-01, 7.33326264e-01, 7.66659276e-01,\n",
       "        7.99992288e-01, 8.33325300e-01, 8.66658312e-01, 8.99991324e-01,\n",
       "        9.33324336e-01, 9.66657348e-01, 9.99990360e-01]),\n",
       " <a list of 30 Patch objects>)"
      ]
     },
     "execution_count": 198,
     "metadata": {},
     "output_type": "execute_result"
    },
    {
     "data": {
      "image/png": "[encoded data removed]",
      "text/plain": [
       "<Figure size 432x288 with 1 Axes>"
      ]
     },
     "metadata": {
      "needs_background": "light"
     },
     "output_type": "display_data"
    }
   ],
   "source": [
    "plt.hist(subset_pvalues, bins=30)"
   ]
  },
  {
   "cell_type": "code",
   "execution_count": 222,
   "metadata": {},
   "outputs": [
    {
     "data": {
      "text/plain": [
       "-0.37171644559671185"
      ]
     },
     "execution_count": 222,
     "metadata": {},
     "output_type": "execute_result"
    }
   ],
   "source": [
    "subset_correlations.min()"
   ]
  },
  {
   "cell_type": "code",
   "execution_count": 240,
   "metadata": {},
   "outputs": [
    {
     "data": {
      "text/plain": [
       "(array([6.0000e+00, 1.4000e+01, 3.3000e+01, 8.4000e+01, 2.3900e+02,\n",
       "        5.1000e+02, 1.0990e+03, 2.0220e+03, 3.6950e+03, 5.9610e+03,\n",
       "        8.9980e+03, 1.2356e+04, 1.5745e+04, 1.8657e+04, 2.0398e+04,\n",
       "        2.1018e+04, 1.9999e+04, 1.8110e+04, 1.4976e+04, 1.1961e+04,\n",
       "        8.9520e+03, 6.1800e+03, 4.0640e+03, 2.5340e+03, 1.4040e+03,\n",
       "        7.6600e+02, 3.7200e+02, 1.2200e+02, 3.2000e+01, 5.0000e+00]),\n",
       " array([-0.2874613 , -0.26548871, -0.24351612, -0.22154353, -0.19957094,\n",
       "        -0.17759834, -0.15562575, -0.13365316, -0.11168057, -0.08970798,\n",
       "        -0.06773539, -0.04576279, -0.0237902 , -0.00181761,  0.02015498,\n",
       "         0.04212757,  0.06410016,  0.08607276,  0.10804535,  0.13001794,\n",
       "         0.15199053,  0.17396312,  0.19593571,  0.2179083 ,  0.2398809 ,\n",
       "         0.26185349,  0.28382608,  0.30579867,  0.32777126,  0.34974385,\n",
       "         0.37171645]),\n",
       " <a list of 30 Patch objects>)"
      ]
     },
     "execution_count": 240,
     "metadata": {},
     "output_type": "execute_result"
    },
    {
     "data": {
      "image/png": "[encoded data removed]",
      "text/plain": [
       "<Figure size 432x288 with 1 Axes>"
      ]
     },
     "metadata": {
      "needs_background": "light"
     },
     "output_type": "display_data"
    }
   ],
   "source": [
    "plt.hist(subset_correlations, bins=30)"
   ]
  },
  {
   "cell_type": "code",
   "execution_count": 184,
   "metadata": {},
   "outputs": [
    {
     "data": {
      "text/html": [
       "<div>\n",
       "<style scoped>\n",
       "    .dataframe tbody tr th:only-of-type {\n",
       "        vertical-align: middle;\n",
       "    }\n",
       "\n",
       "    .dataframe tbody tr th {\n",
       "        vertical-align: top;\n",
       "    }\n",
       "\n",
       "    .dataframe thead th {\n",
       "        text-align: right;\n",
       "    }\n",
       "</style>\n",
       "<table border=\"1\" class=\"dataframe\">\n",
       "  <thead>\n",
       "    <tr style=\"text-align: right;\">\n",
       "      <th></th>\n",
       "      <th>img</th>\n",
       "      <th>0</th>\n",
       "      <th>1</th>\n",
       "      <th>2</th>\n",
       "      <th>3</th>\n",
       "      <th>4</th>\n",
       "      <th>5</th>\n",
       "      <th>6</th>\n",
       "      <th>7</th>\n",
       "      <th>8</th>\n",
       "      <th>9</th>\n",
       "      <th>...</th>\n",
       "      <th>240</th>\n",
       "      <th>241</th>\n",
       "      <th>242</th>\n",
       "      <th>243</th>\n",
       "      <th>244</th>\n",
       "      <th>245</th>\n",
       "      <th>246</th>\n",
       "      <th>247</th>\n",
       "      <th>248</th>\n",
       "      <th>249</th>\n",
       "    </tr>\n",
       "    <tr>\n",
       "      <th>model</th>\n",
       "      <th>subset</th>\n",
       "      <th></th>\n",
       "      <th></th>\n",
       "      <th></th>\n",
       "      <th></th>\n",
       "      <th></th>\n",
       "      <th></th>\n",
       "      <th></th>\n",
       "      <th></th>\n",
       "      <th></th>\n",
       "      <th></th>\n",
       "      <th></th>\n",
       "      <th></th>\n",
       "      <th></th>\n",
       "      <th></th>\n",
       "      <th></th>\n",
       "      <th></th>\n",
       "      <th></th>\n",
       "      <th></th>\n",
       "      <th></th>\n",
       "      <th></th>\n",
       "      <th></th>\n",
       "    </tr>\n",
       "  </thead>\n",
       "  <tbody>\n",
       "    <tr>\n",
       "      <th rowspan=\"5\" valign=\"top\">egomotion</th>\n",
       "      <th>0</th>\n",
       "      <td>0.603744</td>\n",
       "      <td>0.917207</td>\n",
       "      <td>0.825212</td>\n",
       "      <td>0.865489</td>\n",
       "      <td>0.918121</td>\n",
       "      <td>0.673406</td>\n",
       "      <td>0.806713</td>\n",
       "      <td>0.944173</td>\n",
       "      <td>0.912249</td>\n",
       "      <td>0.949425</td>\n",
       "      <td>...</td>\n",
       "      <td>0.883219</td>\n",
       "      <td>0.854184</td>\n",
       "      <td>0.850368</td>\n",
       "      <td>0.793333</td>\n",
       "      <td>0.770813</td>\n",
       "      <td>0.902353</td>\n",
       "      <td>0.753249</td>\n",
       "      <td>0.843254</td>\n",
       "      <td>0.814011</td>\n",
       "      <td>0.875362</td>\n",
       "    </tr>\n",
       "    <tr>\n",
       "      <th>1</th>\n",
       "      <td>0.527896</td>\n",
       "      <td>0.917872</td>\n",
       "      <td>0.822127</td>\n",
       "      <td>0.718432</td>\n",
       "      <td>0.920906</td>\n",
       "      <td>0.472498</td>\n",
       "      <td>0.791616</td>\n",
       "      <td>0.931354</td>\n",
       "      <td>0.912808</td>\n",
       "      <td>0.967113</td>\n",
       "      <td>...</td>\n",
       "      <td>0.880776</td>\n",
       "      <td>0.851531</td>\n",
       "      <td>0.837919</td>\n",
       "      <td>0.845884</td>\n",
       "      <td>0.719607</td>\n",
       "      <td>0.927914</td>\n",
       "      <td>0.746068</td>\n",
       "      <td>0.842261</td>\n",
       "      <td>0.825238</td>\n",
       "      <td>0.924056</td>\n",
       "    </tr>\n",
       "    <tr>\n",
       "      <th>2</th>\n",
       "      <td>0.563145</td>\n",
       "      <td>0.846228</td>\n",
       "      <td>0.750251</td>\n",
       "      <td>0.544910</td>\n",
       "      <td>0.878911</td>\n",
       "      <td>0.217383</td>\n",
       "      <td>0.726642</td>\n",
       "      <td>0.899066</td>\n",
       "      <td>0.805003</td>\n",
       "      <td>0.956848</td>\n",
       "      <td>...</td>\n",
       "      <td>0.747578</td>\n",
       "      <td>0.839476</td>\n",
       "      <td>0.787121</td>\n",
       "      <td>0.775324</td>\n",
       "      <td>0.537744</td>\n",
       "      <td>0.830850</td>\n",
       "      <td>0.803228</td>\n",
       "      <td>0.797157</td>\n",
       "      <td>0.922412</td>\n",
       "      <td>0.923613</td>\n",
       "    </tr>\n",
       "    <tr>\n",
       "      <th>3</th>\n",
       "      <td>0.518675</td>\n",
       "      <td>0.743995</td>\n",
       "      <td>0.781328</td>\n",
       "      <td>0.425208</td>\n",
       "      <td>0.802014</td>\n",
       "      <td>0.201387</td>\n",
       "      <td>0.643263</td>\n",
       "      <td>0.911048</td>\n",
       "      <td>0.786959</td>\n",
       "      <td>0.913275</td>\n",
       "      <td>...</td>\n",
       "      <td>0.584412</td>\n",
       "      <td>0.639613</td>\n",
       "      <td>0.683113</td>\n",
       "      <td>0.621065</td>\n",
       "      <td>0.504808</td>\n",
       "      <td>0.670064</td>\n",
       "      <td>0.801418</td>\n",
       "      <td>0.696031</td>\n",
       "      <td>0.805329</td>\n",
       "      <td>0.929239</td>\n",
       "    </tr>\n",
       "    <tr>\n",
       "      <th>4</th>\n",
       "      <td>0.578422</td>\n",
       "      <td>0.706773</td>\n",
       "      <td>0.742795</td>\n",
       "      <td>0.460547</td>\n",
       "      <td>0.758257</td>\n",
       "      <td>0.346483</td>\n",
       "      <td>0.466192</td>\n",
       "      <td>0.909069</td>\n",
       "      <td>0.852502</td>\n",
       "      <td>0.896828</td>\n",
       "      <td>...</td>\n",
       "      <td>0.436454</td>\n",
       "      <td>0.627098</td>\n",
       "      <td>0.713952</td>\n",
       "      <td>0.598257</td>\n",
       "      <td>0.642385</td>\n",
       "      <td>0.652298</td>\n",
       "      <td>0.714602</td>\n",
       "      <td>0.694149</td>\n",
       "      <td>0.788172</td>\n",
       "      <td>0.908034</td>\n",
       "    </tr>\n",
       "    <tr>\n",
       "      <th>...</th>\n",
       "      <th>...</th>\n",
       "      <td>...</td>\n",
       "      <td>...</td>\n",
       "      <td>...</td>\n",
       "      <td>...</td>\n",
       "      <td>...</td>\n",
       "      <td>...</td>\n",
       "      <td>...</td>\n",
       "      <td>...</td>\n",
       "      <td>...</td>\n",
       "      <td>...</td>\n",
       "      <td>...</td>\n",
       "      <td>...</td>\n",
       "      <td>...</td>\n",
       "      <td>...</td>\n",
       "      <td>...</td>\n",
       "      <td>...</td>\n",
       "      <td>...</td>\n",
       "      <td>...</td>\n",
       "      <td>...</td>\n",
       "      <td>...</td>\n",
       "      <td>...</td>\n",
       "    </tr>\n",
       "    <tr>\n",
       "      <th rowspan=\"5\" valign=\"top\">vanishing_point</th>\n",
       "      <th>458995</th>\n",
       "      <td>0.966616</td>\n",
       "      <td>0.984790</td>\n",
       "      <td>0.913157</td>\n",
       "      <td>0.932328</td>\n",
       "      <td>0.946020</td>\n",
       "      <td>0.955108</td>\n",
       "      <td>0.921301</td>\n",
       "      <td>0.964382</td>\n",
       "      <td>0.988867</td>\n",
       "      <td>0.965531</td>\n",
       "      <td>...</td>\n",
       "      <td>0.962564</td>\n",
       "      <td>0.990404</td>\n",
       "      <td>0.967665</td>\n",
       "      <td>0.916177</td>\n",
       "      <td>0.995669</td>\n",
       "      <td>0.873883</td>\n",
       "      <td>0.947622</td>\n",
       "      <td>0.915865</td>\n",
       "      <td>0.989526</td>\n",
       "      <td>0.988970</td>\n",
       "    </tr>\n",
       "    <tr>\n",
       "      <th>458996</th>\n",
       "      <td>0.972539</td>\n",
       "      <td>0.971489</td>\n",
       "      <td>0.935610</td>\n",
       "      <td>0.952384</td>\n",
       "      <td>0.918089</td>\n",
       "      <td>0.974982</td>\n",
       "      <td>0.950474</td>\n",
       "      <td>0.973141</td>\n",
       "      <td>0.994043</td>\n",
       "      <td>0.988312</td>\n",
       "      <td>...</td>\n",
       "      <td>0.975817</td>\n",
       "      <td>0.990710</td>\n",
       "      <td>0.974301</td>\n",
       "      <td>0.926695</td>\n",
       "      <td>0.996197</td>\n",
       "      <td>0.960470</td>\n",
       "      <td>0.987119</td>\n",
       "      <td>0.928176</td>\n",
       "      <td>0.993778</td>\n",
       "      <td>0.987207</td>\n",
       "    </tr>\n",
       "    <tr>\n",
       "      <th>458997</th>\n",
       "      <td>0.984675</td>\n",
       "      <td>0.952212</td>\n",
       "      <td>0.949832</td>\n",
       "      <td>0.967259</td>\n",
       "      <td>0.962476</td>\n",
       "      <td>0.975972</td>\n",
       "      <td>0.963548</td>\n",
       "      <td>0.969693</td>\n",
       "      <td>0.995452</td>\n",
       "      <td>0.989029</td>\n",
       "      <td>...</td>\n",
       "      <td>0.964605</td>\n",
       "      <td>0.984803</td>\n",
       "      <td>0.980956</td>\n",
       "      <td>0.953046</td>\n",
       "      <td>0.995485</td>\n",
       "      <td>0.967906</td>\n",
       "      <td>0.995386</td>\n",
       "      <td>0.962817</td>\n",
       "      <td>0.994707</td>\n",
       "      <td>0.979939</td>\n",
       "    </tr>\n",
       "    <tr>\n",
       "      <th>458998</th>\n",
       "      <td>0.987483</td>\n",
       "      <td>0.963276</td>\n",
       "      <td>0.955898</td>\n",
       "      <td>0.962167</td>\n",
       "      <td>0.976404</td>\n",
       "      <td>0.971472</td>\n",
       "      <td>0.974942</td>\n",
       "      <td>0.964084</td>\n",
       "      <td>0.996680</td>\n",
       "      <td>0.981334</td>\n",
       "      <td>...</td>\n",
       "      <td>0.958391</td>\n",
       "      <td>0.990193</td>\n",
       "      <td>0.960826</td>\n",
       "      <td>0.972956</td>\n",
       "      <td>0.994445</td>\n",
       "      <td>0.976276</td>\n",
       "      <td>0.997313</td>\n",
       "      <td>0.974758</td>\n",
       "      <td>0.994247</td>\n",
       "      <td>0.973021</td>\n",
       "    </tr>\n",
       "    <tr>\n",
       "      <th>458999</th>\n",
       "      <td>0.991647</td>\n",
       "      <td>0.971452</td>\n",
       "      <td>0.972419</td>\n",
       "      <td>0.962378</td>\n",
       "      <td>0.990026</td>\n",
       "      <td>0.948769</td>\n",
       "      <td>0.983766</td>\n",
       "      <td>0.959346</td>\n",
       "      <td>0.997884</td>\n",
       "      <td>0.981200</td>\n",
       "      <td>...</td>\n",
       "      <td>0.960346</td>\n",
       "      <td>0.995075</td>\n",
       "      <td>0.937427</td>\n",
       "      <td>0.979051</td>\n",
       "      <td>0.994680</td>\n",
       "      <td>0.967343</td>\n",
       "      <td>0.998076</td>\n",
       "      <td>0.979888</td>\n",
       "      <td>0.993061</td>\n",
       "      <td>0.967474</td>\n",
       "    </tr>\n",
       "  </tbody>\n",
       "</table>\n",
       "<p>1558560 rows × 250 columns</p>\n",
       "</div>"
      ],
      "text/plain": [
       "img                            0         1         2         3         4  \\\n",
       "model           subset                                                     \n",
       "egomotion       0       0.603744  0.917207  0.825212  0.865489  0.918121   \n",
       "                1       0.527896  0.917872  0.822127  0.718432  0.920906   \n",
       "                2       0.563145  0.846228  0.750251  0.544910  0.878911   \n",
       "                3       0.518675  0.743995  0.781328  0.425208  0.802014   \n",
       "                4       0.578422  0.706773  0.742795  0.460547  0.758257   \n",
       "...                          ...       ...       ...       ...       ...   \n",
       "vanishing_point 458995  0.966616  0.984790  0.913157  0.932328  0.946020   \n",
       "                458996  0.972539  0.971489  0.935610  0.952384  0.918089   \n",
       "                458997  0.984675  0.952212  0.949832  0.967259  0.962476   \n",
       "                458998  0.987483  0.963276  0.955898  0.962167  0.976404   \n",
       "                458999  0.991647  0.971452  0.972419  0.962378  0.990026   \n",
       "\n",
       "img                            5         6         7         8         9  ...  \\\n",
       "model           subset                                                    ...   \n",
       "egomotion       0       0.673406  0.806713  0.944173  0.912249  0.949425  ...   \n",
       "                1       0.472498  0.791616  0.931354  0.912808  0.967113  ...   \n",
       "                2       0.217383  0.726642  0.899066  0.805003  0.956848  ...   \n",
       "                3       0.201387  0.643263  0.911048  0.786959  0.913275  ...   \n",
       "                4       0.346483  0.466192  0.909069  0.852502  0.896828  ...   \n",
       "...                          ...       ...       ...       ...       ...  ...   \n",
       "vanishing_point 458995  0.955108  0.921301  0.964382  0.988867  0.965531  ...   \n",
       "                458996  0.974982  0.950474  0.973141  0.994043  0.988312  ...   \n",
       "                458997  0.975972  0.963548  0.969693  0.995452  0.989029  ...   \n",
       "                458998  0.971472  0.974942  0.964084  0.996680  0.981334  ...   \n",
       "                458999  0.948769  0.983766  0.959346  0.997884  0.981200  ...   \n",
       "\n",
       "img                          240       241       242       243       244  \\\n",
       "model           subset                                                     \n",
       "egomotion       0       0.883219  0.854184  0.850368  0.793333  0.770813   \n",
       "                1       0.880776  0.851531  0.837919  0.845884  0.719607   \n",
       "                2       0.747578  0.839476  0.787121  0.775324  0.537744   \n",
       "                3       0.584412  0.639613  0.683113  0.621065  0.504808   \n",
       "                4       0.436454  0.627098  0.713952  0.598257  0.642385   \n",
       "...                          ...       ...       ...       ...       ...   \n",
       "vanishing_point 458995  0.962564  0.990404  0.967665  0.916177  0.995669   \n",
       "                458996  0.975817  0.990710  0.974301  0.926695  0.996197   \n",
       "                458997  0.964605  0.984803  0.980956  0.953046  0.995485   \n",
       "                458998  0.958391  0.990193  0.960826  0.972956  0.994445   \n",
       "                458999  0.960346  0.995075  0.937427  0.979051  0.994680   \n",
       "\n",
       "img                          245       246       247       248       249  \n",
       "model           subset                                                    \n",
       "egomotion       0       0.902353  0.753249  0.843254  0.814011  0.875362  \n",
       "                1       0.927914  0.746068  0.842261  0.825238  0.924056  \n",
       "                2       0.830850  0.803228  0.797157  0.922412  0.923613  \n",
       "                3       0.670064  0.801418  0.696031  0.805329  0.929239  \n",
       "                4       0.652298  0.714602  0.694149  0.788172  0.908034  \n",
       "...                          ...       ...       ...       ...       ...  \n",
       "vanishing_point 458995  0.873883  0.947622  0.915865  0.989526  0.988970  \n",
       "                458996  0.960470  0.987119  0.928176  0.993778  0.987207  \n",
       "                458997  0.967906  0.995386  0.962817  0.994707  0.979939  \n",
       "                458998  0.976276  0.997313  0.974758  0.994247  0.973021  \n",
       "                458999  0.967343  0.998076  0.979888  0.993061  0.967474  \n",
       "\n",
       "[1558560 rows x 250 columns]"
      ]
     },
     "execution_count": 184,
     "metadata": {},
     "output_type": "execute_result"
    }
   ],
   "source": [
    "dfsubsets"
   ]
  },
  {
   "cell_type": "code",
   "execution_count": 193,
   "metadata": {},
   "outputs": [
    {
     "data": {
      "text/plain": [
       "<matplotlib.axes._subplots.AxesSubplot at 0x76898841c760>"
      ]
     },
     "execution_count": 193,
     "metadata": {},
     "output_type": "execute_result"
    },
    {
     "data": {
      "image/png": "[encoded data removed]",
      "text/plain": [
       "<Figure size 432x288 with 1 Axes>"
      ]
     },
     "metadata": {
      "needs_background": "light"
     },
     "output_type": "display_data"
    }
   ],
   "source": [
    "dfsubsets.loc[(_models[6], slice(None))].mean(axis=1).plot.hist(bins=40)"
   ]
  },
  {
   "cell_type": "code",
   "execution_count": null,
   "metadata": {},
   "outputs": [],
   "source": [
    "# convert integration back to 3D layer space\n",
    "ns = NetworkScorer({layername:activation_shape})\n",
    "ns.map_back_scores(scores, pat)"
   ]
  },
  {
   "cell_type": "code",
   "execution_count": null,
   "metadata": {},
   "outputs": [],
   "source": [
    "# visualize node score distribution"
   ]
  },
  {
   "cell_type": "code",
   "execution_count": null,
   "metadata": {},
   "outputs": [],
   "source": []
  },
  {
   "cell_type": "code",
   "execution_count": null,
   "metadata": {},
   "outputs": [],
   "source": [
    "# visualize within layer heatmaps\n",
    "\n",
    "# exemplars"
   ]
  },
  {
   "cell_type": "code",
   "execution_count": null,
   "metadata": {},
   "outputs": [],
   "source": [
    "# spatial correlation per image per net, correlate these netXnet\n",
    "# test if integration scores are still correlating to beauty"
   ]
  },
  {
   "cell_type": "markdown",
   "metadata": {},
   "source": [
    "# old version: searchlight scoring best predicting nets\n",
    "\n",
    "Representative net from each category:\n",
    "\n",
    "semantic:   segment semantic \\\n",
    "2D:         segment unsup 2d \\\n",
    "3D:         depth euclidean\n",
    "\n",
    "> from each class of networks take the one layer with highest integration beauty score across networks\n"
   ]
  },
  {
   "cell_type": "code",
   "execution_count": null,
   "metadata": {},
   "outputs": [],
   "source": [
    "# load integration-beauty correlation for 3 nets\n",
    "SCALE_NAME = \"scale4\"\n",
    "MODEL_SEMANTIC = \"segment_semantic\"\n",
    "MODEL_2D = \"segment_unsup2d\"\n",
    "MODEL_3D = \"depth_euclidean\"\n",
    "\n",
    "\n",
    "def load_ibcorr(m):\n",
    "    l = []\n",
    "    for s in STUDY_NAMES:\n",
    "        d = pd.read_csv(os.path.join(PATH_IB_CORRELATIONS, m, s, SCALE_NAME, 'ib_correlations.csv'), header=None)\n",
    "        d.insert(0, 'study', s)\n",
    "        d = d.reset_index().rename(columns={\"index\":\"layer\", 0:\"ibcorr\"})\n",
    "        l.append(d)\n",
    "    \n",
    "    return pd.concat(l).reset_index(drop=True)\n",
    "\n",
    "df_segment_semantic = load_ibcorr(MODEL_SEMANTIC)\n",
    "df_segment_unsup2d = load_ibcorr(MODEL_2D)\n",
    "df_depth_euclidean = load_ibcorr(MODEL_3D)"
   ]
  },
  {
   "cell_type": "code",
   "execution_count": null,
   "metadata": {},
   "outputs": [],
   "source": [
    "# find layers with highest integration-beauty correlation\n",
    "# get scale and layer num of layer with highest correlation\n",
    "best_semantic = df_segment_semantic.iloc[df_segment_semantic.ibcorr.idxmax(),:]\n",
    "best_2d = df_segment_unsup2d.iloc[df_segment_unsup2d.ibcorr.idxmax(),:]\n",
    "best_3d = df_depth_euclidean.iloc[df_depth_euclidean.ibcorr.idxmax(),:]\n",
    "print(best_semantic)\n",
    "print(best_2d)\n",
    "print(best_3d)"
   ]
  },
  {
   "cell_type": "code",
   "execution_count": null,
   "metadata": {},
   "outputs": [],
   "source": [
    "#setup nets for extracting activations from best layer\n",
    "def setup_singlelayer(model_name: str, layer_idx: int):\n",
    "    \"\"\" Setup activation extractor for a single layer of a tasnomomy network\n",
    "    \"\"\"\n",
    "    VisualPriorRepresentation._load_unloaded_nets([model_name])\n",
    "    net = VisualPriorRepresentation.feature_task_to_net[model_name]\n",
    "\n",
    "    _, eval_nodes = get_graph_node_names(net)\n",
    "    return_nodes = {node:node for node in eval_nodes if \"conv\" in node or 'fc' in node}\n",
    "    \n",
    "    layer_name = list(return_nodes.keys())[layer_idx]\n",
    "    return create_feature_extractor(net, return_nodes={layer_name:layer_name}), layer_name\n",
    "\n",
    "activation_extractor_semantic, layername_best_semantic = setup_singlelayer(MODEL_SEMANTIC, best_semantic.layer)\n",
    "activation_extractor_2d, layername_best_2d = setup_singlelayer(MODEL_2D, best_2d.layer)\n",
    "activation_extractor_3d, layername_best_3d = setup_singlelayer(MODEL_3D, best_3d.layer)"
   ]
  },
  {
   "cell_type": "markdown",
   "metadata": {},
   "source": [
    "Do integration beauty scoring with node pools sweeping along 3D axis\n",
    "- full width 2D layer pools along all three axis\n",
    "- 3D cubic pool along all three axis (vary in size)\n",
    "\n",
    "Effectively just need to change the PatternGenerator, and switch from iterating subset num to iterating the pattern generator"
   ]
  },
  {
   "cell_type": "code",
   "execution_count": null,
   "metadata": {},
   "outputs": [],
   "source": [
    "RESULTS_SEMANTIC_PLACES1 = './searchlight/singlelayer'"
   ]
  },
  {
   "cell_type": "markdown",
   "metadata": {},
   "source": [
    "### semantic net\n",
    "\n",
    "semantic, places1, best layer"
   ]
  },
  {
   "cell_type": "markdown",
   "metadata": {},
   "source": [
    "### load images & activation shape (semantic) "
   ]
  },
  {
   "cell_type": "code",
   "execution_count": null,
   "metadata": {},
   "outputs": [],
   "source": [
    "dataset = ImageDataset(os.path.join(PATH_IMAGES, \"places1\", best_semantic.scale))\n",
    "\n",
    "num_images = dataset.img_count\n",
    "\n",
    "# activation shape as Dict\n",
    "dummy_image = next(iter(dataset))\n",
    "net_activation = activation_extractor_semantic(dummy_image[0])\n",
    "net_activation = OrderedDict(net_activation)\n",
    "activation_shapes = taskonomy_activation_layer_shapes(net_activation)\n",
    "\n",
    "# activation shape as Tensor\n",
    "activation_shape_semantic = list(activation_shapes.values())[0][1:]"
   ]
  },
  {
   "cell_type": "markdown",
   "metadata": {},
   "source": [
    "### single image(s)\n",
    "\n",
    "can only map back integration-beauty score for whole dataset, however, its possible, that in every image something different gets integrated, therefore it wouldn't make sense to map back a score for the whole dataset to individual nodes.\n",
    "\n",
    "Since we know that (at least some) integration, and subsets integration, is meaningfull, we map back integration of individual images onto individual nodes, without correlating this integration with beauty."
   ]
  },
  {
   "cell_type": "code",
   "execution_count": null,
   "metadata": {},
   "outputs": [],
   "source": [
    "# --- SETUP VARIABLES ---\n",
    "pat_s = PatternGeneratorSearchlight(\n",
    "    activation_shape_semantic,\n",
    "    layername_best_semantic\n",
    "    )\n",
    "\n",
    "num_layers = 1 # only take activations of best performing layer from each net\n",
    "num_images = 1\n",
    "num_subsets = pat_s.num_subsets\n",
    "\n",
    "# layer x image x subset\n",
    "integration = np.full([num_layers, num_images, num_subsets], np.nan, dtype=np.float64)\n",
    "cnt = 0\n",
    "\n",
    "    \n",
    "# load single image\n",
    "img_id = 0\n",
    "img_full, img_v1, img_v2 = next(iter(dataset))\n",
    "\n",
    "# --- ANALYSIS ---\n",
    "\n",
    "act_full = activation_extractor_semantic(img_full)[layername_best_semantic].squeeze()\n",
    "act_v1 = activation_extractor_semantic(img_v1)[layername_best_semantic].squeeze()\n",
    "act_v2 = activation_extractor_semantic(img_v2)[layername_best_semantic].squeeze()\n",
    "act_avg = (act_v1 + act_v2) / 2.\n",
    "\n",
    "# iterate 3D positions\n",
    "pat_it = iter(pat_s)\n",
    "for subset_num, roi_mask in pat_it:\n",
    "    \n",
    "    subset_act_full = act_full[roi_mask]\n",
    "    subset_act_avg = act_avg[roi_mask]\n",
    "\n",
    "    # calculate integration and store it\n",
    "    subset_integration = -pearsonr(subset_act_full.flatten(), subset_act_avg.flatten())[0]\n",
    "    integration[:,img_id, subset_num] = subset_integration"
   ]
  },
  {
   "cell_type": "code",
   "execution_count": null,
   "metadata": {},
   "outputs": [],
   "source": [
    "integration = integration.squeeze(0)\n",
    "integration.shape"
   ]
  },
  {
   "cell_type": "code",
   "execution_count": null,
   "metadata": {},
   "outputs": [],
   "source": [
    "activation_shapes['layer3.4.conv2'] = activation_shape_semantic\n",
    "ns = NetworkScorer(activation_shapes)\n",
    "ns.map_back_scores(integration, pat_s)\n"
   ]
  },
  {
   "cell_type": "markdown",
   "metadata": {},
   "source": [
    "### score all images"
   ]
  },
  {
   "cell_type": "code",
   "execution_count": null,
   "metadata": {},
   "outputs": [],
   "source": [
    "# layer x image x subset\n",
    "integration = np.full([num_layers,num_images,num_subsets], np.nan, dtype=np.float64)\n",
    "cnt = 0\n",
    "\n",
    "# iterate image set\n",
    "for img_id, (img_full, img_v1, img_v2) in enumerate(iter(dataset)):\n",
    "    if cnt % 30 == 0: print(cnt, end= ' ')\n",
    "    cnt=cnt+1\n",
    "    \n",
    "    # activations as tensors\n",
    "    act_full = activation_extractor_semantic(img_full)[layername_best_semantic].squeeze()\n",
    "    act_v1 = activation_extractor_semantic(img_v1)[layername_best_semantic].squeeze()\n",
    "    act_v2 = activation_extractor_semantic(img_v2)[layername_best_semantic].squeeze()\n",
    "    act_avg = (act_v1 + act_v2) / 2.\n",
    "\n",
    "    # iterate 3D positions in layer\n",
    "    pat_it = iter(pat_s)\n",
    "\n",
    "    for subset_num, roi_mask in pat_it:\n",
    "        \n",
    "        subset_act_full = act_full[roi_mask]\n",
    "        subset_act_avg = act_avg[roi_mask]\n",
    "\n",
    "        # calculate integration and store it\n",
    "        subset_integration = pearsonr(subset_act_full.flatten(), subset_act_avg.flatten())[0]\n",
    "        integration[:,img_id, subset_num] = subset_integration"
   ]
  },
  {
   "cell_type": "code",
   "execution_count": null,
   "metadata": {},
   "outputs": [],
   "source": [
    "with open(os.path.join(PATH_RESULTS, RESULTS_SEMANTIC_PLACES1, \"semantic_integration.npy\"), \"wb\") as f:\n",
    "    np.save(f, integration)"
   ]
  },
  {
   "cell_type": "code",
   "execution_count": null,
   "metadata": {},
   "outputs": [],
   "source": [
    "with open(os.path.join(PATH_RESULTS, RESULTS_SEMANTIC_PLACES1, \"semantic_integration.npy\"), 'rb') as f:\n",
    "    integration = np.load(f)"
   ]
  },
  {
   "cell_type": "code",
   "execution_count": null,
   "metadata": {},
   "outputs": [],
   "source": [
    "integration.shape"
   ]
  },
  {
   "cell_type": "code",
   "execution_count": null,
   "metadata": {},
   "outputs": [],
   "source": [
    "# load beauty ratings\n",
    "beauty_ratings = ImageDataset(\n",
    "    os.path.join(DATA_PATH, DATASET_NAMES[0], SCALE_NAMES[0]),\n",
    "    beauty_ratings_path='behavior/ratings_study1.csv').beauty_ratings\n",
    "\n",
    "# correlate integration with beauty\n",
    "scores = correlate_integration_beauty(integration, beauty_ratings)"
   ]
  },
  {
   "cell_type": "code",
   "execution_count": null,
   "metadata": {},
   "outputs": [],
   "source": [
    "# convert integration back to 3D layer space\n",
    "activation_shapes['layer3.4.conv2'] = activation_shape_semantic\n",
    "ns = NetworkScorer(activation_shapes)\n",
    "ns.map_back_scores(scores, pat_s)"
   ]
  },
  {
   "cell_type": "markdown",
   "metadata": {},
   "source": [
    "## Visualize spatial integration"
   ]
  },
  {
   "cell_type": "markdown",
   "metadata": {},
   "source": [
    "## score distribution"
   ]
  },
  {
   "cell_type": "code",
   "execution_count": null,
   "metadata": {},
   "outputs": [],
   "source": [
    "# TODO plot all heatmaps with the same absoloute color scale\n",
    "with PdfPages('integration heatmap semantic img0.pdf') as pdf:\n",
    "    for vertical_slice in ns.scores[layername_best_semantic].squeeze():\n",
    "        sns.heatmap(vertical_slice)\n",
    "        pdf.savefig()\n",
    "        plt.close() "
   ]
  },
  {
   "cell_type": "code",
   "execution_count": null,
   "metadata": {},
   "outputs": [],
   "source": [
    "t = ns.scores[layername_best_semantic]\n",
    "t.min(), t.max()"
   ]
  },
  {
   "cell_type": "code",
   "execution_count": null,
   "metadata": {},
   "outputs": [],
   "source": [
    "t = t.flatten()\n",
    "num_bins = 30\n",
    "hist = torch.histc(t, bins=num_bins, min=torch.min(t).item(), max=torch.max(t).item())\n",
    "\n",
    "# Define the edges of the bins\n",
    "bin_edges = torch.linspace(torch.min(t).item(), torch.max(t).item(), steps=num_bins + 1)\n",
    "\n",
    "# Plot the histogram using Matplotlib\n",
    "plt.figure(figsize=(8, 6))\n",
    "plt.hist(t.numpy(), bins=bin_edges.numpy(), edgecolor='black')\n",
    "plt.title('Histogram of Tensor Values')\n",
    "plt.xlabel('Value')\n",
    "plt.ylabel('Frequency')\n",
    "plt.show()\n"
   ]
  },
  {
   "cell_type": "markdown",
   "metadata": {},
   "source": [
    "## Integration heatmap"
   ]
  },
  {
   "cell_type": "code",
   "execution_count": null,
   "metadata": {},
   "outputs": [],
   "source": [
    "inte = ns.scores[layername_best_semantic].squeeze()\n",
    "\n",
    "# plot only highest integrating nodes\n",
    "with PdfPages('integration heatmap semantic img0 best.pdf') as pdf:\n",
    "    for vertical_slice in inte:\n",
    "        sns.heatmap(vertical_slice)\n",
    "        pdf.savefig()\n",
    "        plt.close() "
   ]
  },
  {
   "cell_type": "markdown",
   "metadata": {},
   "source": [
    "## Permutation testing\n",
    "\n",
    "Repeat analysis for randomly shuffeled integration values"
   ]
  },
  {
   "cell_type": "code",
   "execution_count": null,
   "metadata": {},
   "outputs": [],
   "source": [
    "\n",
    "integration = integration.squeeze(0)\n",
    "integration.shape"
   ]
  },
  {
   "cell_type": "code",
   "execution_count": null,
   "metadata": {},
   "outputs": [],
   "source": [
    "integration_pt = torch.tensor(integration)"
   ]
  },
  {
   "cell_type": "code",
   "execution_count": null,
   "metadata": {},
   "outputs": [],
   "source": [
    "integration_pt.nelement()"
   ]
  },
  {
   "cell_type": "code",
   "execution_count": null,
   "metadata": {},
   "outputs": [],
   "source": [
    "integration_randomized = integration_pt[torch.randperm(integration_pt.nelement())]"
   ]
  },
  {
   "cell_type": "code",
   "execution_count": null,
   "metadata": {},
   "outputs": [],
   "source": [
    "integration.shape"
   ]
  },
  {
   "cell_type": "code",
   "execution_count": null,
   "metadata": {},
   "outputs": [],
   "source": [
    "integration_randomized.shape"
   ]
  },
  {
   "cell_type": "code",
   "execution_count": null,
   "metadata": {},
   "outputs": [],
   "source": [
    "ns = NetworkScorer(activation_shapes)\n",
    "ns.map_back_scores(integration_randomized.unsqueeze(0), pat_s)\n"
   ]
  },
  {
   "cell_type": "code",
   "execution_count": null,
   "metadata": {},
   "outputs": [],
   "source": [
    "# plot random pattern heatmaps for visual comparison\n",
    "# TODO generate permutation distribution\n",
    "with PdfPages('integration heatmap random scores.pdf') as pdf:\n",
    "    for vertical_slice in ns.scores[layername_best_semantic]:\n",
    "        sns.heatmap(vertical_slice)\n",
    "        pdf.savefig()\n",
    "        plt.close() "
   ]
  },
  {
   "cell_type": "code",
   "execution_count": null,
   "metadata": {},
   "outputs": [],
   "source": [
    "activation_shapes[\"layer2.3.conv1\"]"
   ]
  },
  {
   "cell_type": "markdown",
   "metadata": {},
   "source": [
    "# Are integration beauty scores meaningfull ?"
   ]
  },
  {
   "cell_type": "markdown",
   "metadata": {},
   "source": [
    "- Do the top nodes integration predict beauty better than the bottom nodes (or any other random 10%) ? \\\n",
    "- Use spatially coherent subsets to calculate scores."
   ]
  },
  {
   "cell_type": "markdown",
   "metadata": {},
   "source": [
    "# random pattern scoring"
   ]
  },
  {
   "cell_type": "code",
   "execution_count": null,
   "metadata": {},
   "outputs": [],
   "source": [
    "def run_singlelayer_analysis(dataset, activation_extractor, num_subsets, frac):\n",
    "    num_layers = 1 # only take activations of best performing layer from each net\n",
    "    num_images = dataset.img_count\n",
    "\n",
    "    # get shapes of activation\n",
    "    dummy_image = next(iter(dataset))\n",
    "    net_activation = activation_extractor(dummy_image[0])\n",
    "    net_activation = OrderedDict(net_activation)\n",
    "    activation_shapes = taskonomy_activation_layer_shapes(net_activation)\n",
    "    \n",
    "    pat = Pattern_Generator(\n",
    "        num_subsets,\n",
    "        activation_shapes,\n",
    "        frac=frac\n",
    "        )\n",
    "\n",
    "    # layer x image x subset\n",
    "    integration = np.full([num_layers,num_images,num_subsets], np.nan, dtype=np.float64)\n",
    "    cnt = 0\n",
    "\n",
    "    # iterate image set\n",
    "    for img_id, (img_full, img_v1, img_v2) in enumerate(iter(dataset)):\n",
    "        if cnt % 30 == 0: print(cnt, end= ' ')\n",
    "        cnt=cnt+1\n",
    "        \n",
    "        act_full = Activation_Pattern(activation_extractor(img_full))\n",
    "        act_v1 = Activation_Pattern(activation_extractor(img_v1))\n",
    "        act_v2 = Activation_Pattern(activation_extractor(img_v2))\n",
    "        act_avg = Activation_Pattern.average(act_v1, act_v2)\n",
    "\n",
    "        # iterate node subsets\n",
    "        for subset_num in range(num_subsets):\n",
    "            subset_mask = pat.get_subset_pattern(subset_num)\n",
    "            \n",
    "            subset_act_full = act_full[subset_mask]\n",
    "            subset_act_avg = act_avg[subset_mask]\n",
    "\n",
    "            # calculate integration and store it\n",
    "            subset_integration = Activation_Pattern.calculate_integration_coeff(subset_act_full, subset_act_avg)\n",
    "            integration[:,img_id, subset_num] = subset_integration\n",
    "    \n",
    "    ns = NetworkScorer(activation_shapes)\n",
    "    ns.map_back_scores(integration, pat)\n",
    "\n",
    "    return integration, ns"
   ]
  },
  {
   "cell_type": "code",
   "execution_count": null,
   "metadata": {},
   "outputs": [],
   "source": [
    "num_subsets = 10000\n",
    "# run analysis for semantic\n",
    "dataset = ImageDataset(os.path.join(DATA_PATH, \"places1\", best_semantic.scale))\n",
    "\n",
    "integration_semantic_frac01, ns_semantic_frac01 = run_singlelayer_analysis(\n",
    "    dataset,\n",
    "    activation_extractor_semantic,\n",
    "    num_subsets,\n",
    "    frac=0.01\n",
    "    )\n",
    "\n",
    "integration_semantic_frac10, ns_semantic_frac10 = run_singlelayer_analysis(\n",
    "    dataset,\n",
    "    activation_extractor_semantic,\n",
    "    num_subsets,\n",
    "    frac=0.10\n",
    "    )\n",
    "\n",
    "integration_semantic_frac90, ns_semantic_frac90= run_singlelayer_analysis(\n",
    "    dataset,\n",
    "    activation_extractor_semantic,\n",
    "    num_subsets,\n",
    "    frac=0.90\n",
    "    )"
   ]
  },
  {
   "cell_type": "code",
   "execution_count": null,
   "metadata": {},
   "outputs": [],
   "source": [
    "integration_semantic_frac01.shape, ns_semantic_frac01.scores['layer3.4.conv2'].shape"
   ]
  },
  {
   "cell_type": "code",
   "execution_count": null,
   "metadata": {},
   "outputs": [],
   "source": [
    "type(integration_semantic_frac01), type(ns_semantic_frac01.scores['layer3.4.conv2'])"
   ]
  },
  {
   "cell_type": "code",
   "execution_count": null,
   "metadata": {},
   "outputs": [],
   "source": [
    "num_subsets = 10000\n",
    "\n",
    "# run analysis for semantic\n",
    "dataset = ImageDataset(os.path.join(DATA_PATH, \"places1\", best_semantic.scale))\n",
    "\n",
    "integration_semantic_frac01, ns_semantic_frac01 = run_singlelayer_analysis(\n",
    "    dataset,\n",
    "    activation_extractor_semantic,\n",
    "    num_subsets,\n",
    "    frac=0.01\n",
    "    )\n",
    "\n",
    "integration_semantic_frac10, ns_semantic_frac10 = run_singlelayer_analysis(\n",
    "    dataset,\n",
    "    activation_extractor_semantic,\n",
    "    num_subsets,\n",
    "    frac=0.10\n",
    "    )\n",
    "\n",
    "integration_semantic_frac90, ns_semantic_frac90= run_singlelayer_analysis(\n",
    "    dataset,\n",
    "    activation_extractor_semantic,\n",
    "    num_subsets,\n",
    "    frac=0.90\n",
    "    )\n",
    "\n",
    "# run analysis for 2d\n",
    "dataset = ImageDataset(os.path.join(DATA_PATH, \"places1\", best_2d.scale))\n",
    "\n",
    "integration_2d_frac01, ns_2d_frac01 = run_singlelayer_analysis(\n",
    "    dataset,\n",
    "    activation_extractor_2d,\n",
    "    num_subsets,\n",
    "    frac=0.01\n",
    "    )\n",
    "\n",
    "integration_2d_frac10, ns_2d_frac10 = run_singlelayer_analysis(\n",
    "    dataset,\n",
    "    activation_extractor_2d,\n",
    "    num_subsets,\n",
    "    frac=0.10\n",
    "    )\n",
    "\n",
    "integration_2d_frac90, ns_2d_frac90= run_singlelayer_analysis(\n",
    "    dataset,\n",
    "    activation_extractor_2d,\n",
    "    num_subsets,\n",
    "    frac=0.90\n",
    "    )\n",
    "\n",
    "# run analysis for 3d\n",
    "dataset = ImageDataset(os.path.join(DATA_PATH, \"places1\", best_3d.scale))\n",
    "\n",
    "integration_3d_frac01, ns_3d_frac01 = run_singlelayer_analysis(\n",
    "    dataset,\n",
    "    activation_extractor_3d,\n",
    "    num_subsets,\n",
    "    frac=0.01\n",
    "    )\n",
    "\n",
    "integration_3d_frac10, ns_3d_frac10 = run_singlelayer_analysis(\n",
    "    dataset,\n",
    "    activation_extractor_3d,\n",
    "    num_subsets,\n",
    "    frac=0.10\n",
    "    )\n",
    "\n",
    "integration_3d_frac90, ns_3d_frac90= run_singlelayer_analysis(\n",
    "    dataset,\n",
    "    activation_extractor_3d,\n",
    "    num_subsets,\n",
    "    frac=0.90\n",
    "    )"
   ]
  },
  {
   "cell_type": "markdown",
   "metadata": {},
   "source": [
    "### save results"
   ]
  },
  {
   "cell_type": "code",
   "execution_count": null,
   "metadata": {},
   "outputs": [],
   "source": [
    "FOLDER_SINGLELAYER_ANALYSIS = './analysis results singlelayer'"
   ]
  },
  {
   "cell_type": "code",
   "execution_count": null,
   "metadata": {},
   "outputs": [],
   "source": [
    "from itertools import product\n",
    "files_i = [\"integration\"+netclass+fracsize+\".npy\"\n",
    "           for netclass, fracsize\n",
    "           in product([\"_semantic\",\"_2d\",\"_3d\"], [\"_frac01\",\"_frac10\",\"_frac90\"])]\n",
    "files_i"
   ]
  },
  {
   "cell_type": "code",
   "execution_count": null,
   "metadata": {},
   "outputs": [],
   "source": [
    "files_n = [\"integration\"+netclass+fracsize+\".pkl\"\n",
    "           for netclass, fracsize\n",
    "           in product([\"_semantic\",\"_2d\",\"_3d\"], [\"_frac01\",\"_frac10\",\"_frac90\"])]\n",
    "files_n"
   ]
  },
  {
   "cell_type": "code",
   "execution_count": null,
   "metadata": {},
   "outputs": [],
   "source": [
    "arrays_integration = [integration_semantic_frac01, integration_semantic_frac10, integration_semantic_frac90,\n",
    "                      integration_2d_frac01, integration_2d_frac10, integration_2d_frac90,\n",
    "                      integration_3d_frac01, integration_3d_frac10, integration_3d_frac90]\n",
    "\n",
    "objects_nodescoring = [ns_semantic_frac01, ns_semantic_frac10, ns_semantic_frac90,\n",
    "                       ns_2d_frac01, ns_2d_frac10, ns_2d_frac90,\n",
    "                       ns_3d_frac01, ns_3d_frac10, ns_3d_frac90]"
   ]
  },
  {
   "cell_type": "code",
   "execution_count": null,
   "metadata": {},
   "outputs": [],
   "source": [
    "for file_i, file_n, array_i, array_n in zip(files_i, files_n, arrays_integration, objects_nodescoring):\n",
    "    with open(os.path.join(FOLDER_SINGLELAYER_ANALYSIS, file_i), \"wb\") as f1:\n",
    "        np.save(f1, array_i)\n",
    "    \n",
    "    with open(os.path.join(FOLDER_SINGLELAYER_ANALYSIS, file_n), \"wb\") as f2:\n",
    "        pickle.dump(array_n, f2)\n"
   ]
  },
  {
   "cell_type": "markdown",
   "metadata": {},
   "source": [
    "### load results"
   ]
  },
  {
   "cell_type": "markdown",
   "metadata": {},
   "source": [
    "# manipulating integratability and watch response of network\n"
   ]
  },
  {
   "cell_type": "markdown",
   "metadata": {},
   "source": [
    "\n",
    "gradually perform image transformations shown to break integration to:\n",
    "- test where in the network integration takes place\n",
    "- test whether different manipulations break different clusters first\n",
    "\n",
    "\n",
    "\n",
    "Do integration beauty scoring with node pools sweeping along 3D axis\n",
    "- full width 2D layer pools along all three axis\n",
    "- 3D cubic pool along all three axis (vary in size)"
   ]
  },
  {
   "cell_type": "markdown",
   "metadata": {},
   "source": [
    "permutation test for integration: generate permutation distribution by calculating integration at each location in the layer to random input. input real image, calculate clusters of significant integration."
   ]
  },
  {
   "cell_type": "markdown",
   "metadata": {},
   "source": [
    "Do semantic / 2d / 3d nets integrate different features (semantic vs structural) or are they essentially integrating the same features but in a different way ?"
   ]
  },
  {
   "cell_type": "markdown",
   "metadata": {},
   "source": [
    "Do different manipulations break integration in different ways ?\n",
    "Look at:\n",
    "    a) How much manipulation does is need to break integration ?\n",
    "    b) In which networks / layers / scales / datasets is integration broken in which order ?\n",
    "    c) Which image's integration is broken first ?\n",
    "\n",
    "\n",
    "Collect different ways of manipulating images to break integration.\n",
    "    - Do these\n",
    "    a) all break integration the same way\n",
    "    b) cluster into groups in the way in which they break integration\n"
   ]
  },
  {
   "cell_type": "markdown",
   "metadata": {},
   "source": [
    "### pixelated images"
   ]
  },
  {
   "cell_type": "code",
   "execution_count": null,
   "metadata": {},
   "outputs": [],
   "source": [
    "dataset = ImageDataset(os.path.join(DATA_PATH, \"places1\", best_semantic.scale))\n",
    "it_dataset = iter(dataset)\n",
    "\n",
    "im = next(it_dataset)[0].squeeze()\n",
    "im2 = next(it_dataset)[2].squeeze()"
   ]
  },
  {
   "cell_type": "code",
   "execution_count": null,
   "metadata": {},
   "outputs": [],
   "source": [
    "im.min(), im.max(), im2.min(), im2.max()"
   ]
  },
  {
   "cell_type": "code",
   "execution_count": null,
   "metadata": {},
   "outputs": [],
   "source": [
    "im = im + im.min().abs()\n",
    "im = im / im.max()\n",
    "#d2 = 1-d2\n",
    "im.min(), im.max()"
   ]
  },
  {
   "cell_type": "code",
   "execution_count": null,
   "metadata": {},
   "outputs": [],
   "source": [
    "plt.imshow(im.permute(1,2,0))"
   ]
  },
  {
   "cell_type": "code",
   "execution_count": null,
   "metadata": {},
   "outputs": [],
   "source": [
    "# take a fraction of the pixels on the 256x256 grid and permute them\n",
    "pix_degree = 0.5"
   ]
  },
  {
   "cell_type": "code",
   "execution_count": null,
   "metadata": {},
   "outputs": [],
   "source": [
    "mask_pix = torch.rand((256,256)) < pix_degree\n",
    "mask_original = ~mask_pix\n",
    "\n",
    "# number of pixels that are pixeled, this is not exactly the pix degree due to randomness\n",
    "n_pix = im[:,mask_pix].shape[1] \n"
   ]
  },
  {
   "cell_type": "code",
   "execution_count": null,
   "metadata": {},
   "outputs": [],
   "source": [
    "pix_im = torch.full_like(im, np.nan)\n",
    "\n",
    "# non-pixeled part\n",
    "pix_im[:,mask_original] = im[:,mask_original]\n",
    "\n",
    "# pixeled part\n",
    "pix_im[:,mask_pix] = im[:,mask_pix][:,torch.randperm(n_pix)]"
   ]
  },
  {
   "cell_type": "code",
   "execution_count": null,
   "metadata": {},
   "outputs": [],
   "source": [
    "def pixelate_image(im, pix_degree: float):\n",
    "    \"\"\" Pixelate a 256x256 image\"\"\"\n",
    "    mask_pix = torch.rand((256,256)) < pix_degree\n",
    "    mask_original = ~mask_pix\n",
    "\n",
    "    # number of pixels that are pixeled, this is not exactly the pix degree due to randomness\n",
    "    n_pix = im[:,mask_pix].shape[1] \n",
    "\n",
    "    pix_im = torch.full_like(im, np.nan)\n",
    "\n",
    "    # non-pixeled part\n",
    "    pix_im[:,mask_original] = im[:,mask_original]\n",
    "\n",
    "    # pixeled part\n",
    "    pix_im[:,mask_pix] = im[:,mask_pix][:,torch.randperm(n_pix)]\n",
    "\n",
    "    return pix_im\n"
   ]
  },
  {
   "cell_type": "code",
   "execution_count": null,
   "metadata": {},
   "outputs": [],
   "source": [
    "def img_print(im):\n",
    "    im = im + im.min().abs()\n",
    "    im = im / im.max()\n",
    "    plt.imshow(im.permute(1,2,0))"
   ]
  },
  {
   "cell_type": "code",
   "execution_count": null,
   "metadata": {},
   "outputs": [],
   "source": [
    "img_print(pixelate_image(im, 0.01))"
   ]
  },
  {
   "cell_type": "code",
   "execution_count": null,
   "metadata": {},
   "outputs": [],
   "source": [
    "# TODO: since at 0.25 theres already a strong (subjective) visual disturbance,\n",
    "# maybe apply a logarithmic scale with image pixelation"
   ]
  },
  {
   "cell_type": "code",
   "execution_count": null,
   "metadata": {},
   "outputs": [],
   "source": [
    "# TODO: as annother gradual transformation, implement a gradual low-pass filter"
   ]
  },
  {
   "cell_type": "markdown",
   "metadata": {},
   "source": [
    "### imageversions"
   ]
  },
  {
   "cell_type": "code",
   "execution_count": null,
   "metadata": {},
   "outputs": [],
   "source": [
    "torch.tensor(127/127.5-1, dtype=torch.float32)"
   ]
  },
  {
   "cell_type": "code",
   "execution_count": null,
   "metadata": {},
   "outputs": [],
   "source": [
    "torch.tensor([[1,0],[0,1]]).repeat_interleave(2,dim=0).repeat_interleave(2,dim=1)"
   ]
  },
  {
   "cell_type": "code",
   "execution_count": null,
   "metadata": {},
   "outputs": [],
   "source": [
    "def create_checkerboard(scale, size=256):\n",
    "    msc = torch.tensor([[1, 0] * (scale//2), [0, 1] * (scale//2)] * (scale//2))\n",
    "    return msc.repeat_interleave(size//scale, dim=0).repeat_interleave(size//scale, dim=1)"
   ]
  },
  {
   "cell_type": "code",
   "execution_count": null,
   "metadata": {},
   "outputs": [],
   "source": [
    "create_checkerboard(64).shape"
   ]
  },
  {
   "cell_type": "markdown",
   "metadata": {},
   "source": [
    "### get activations for pixelated images"
   ]
  },
  {
   "cell_type": "code",
   "execution_count": null,
   "metadata": {},
   "outputs": [],
   "source": [
    "act_full "
   ]
  },
  {
   "cell_type": "code",
   "execution_count": null,
   "metadata": {},
   "outputs": [],
   "source": [
    "activation_extractor_semantic().keys()"
   ]
  },
  {
   "cell_type": "code",
   "execution_count": null,
   "metadata": {},
   "outputs": [],
   "source": [
    "activation_extractor_semantic(torch.rand_like(dummy_image[0]))['layer3.4.conv2'].shape"
   ]
  },
  {
   "cell_type": "markdown",
   "metadata": {},
   "source": [
    "###  get distribution of integration / ib-correlation of random images"
   ]
  },
  {
   "cell_type": "code",
   "execution_count": null,
   "metadata": {},
   "outputs": [],
   "source": [
    "dummy_image[1]"
   ]
  },
  {
   "cell_type": "code",
   "execution_count": null,
   "metadata": {},
   "outputs": [],
   "source": [
    "# for each image\n",
    "ac = activation_extractor_semantic(torch.rand_like(dummy_image[0]))['layer3.4.conv2']\n",
    "ac = ac.squeeze()\n",
    "ac.shape"
   ]
  },
  {
   "cell_type": "markdown",
   "metadata": {},
   "source": [
    "### get previous one at each location"
   ]
  },
  {
   "cell_type": "code",
   "execution_count": null,
   "metadata": {},
   "outputs": [],
   "source": [
    "for l1, l2 in zip(ac_full, ac_avg):\n",
    "    pass"
   ]
  },
  {
   "cell_type": "code",
   "execution_count": null,
   "metadata": {},
   "outputs": [],
   "source": [
    "l1.shape"
   ]
  },
  {
   "cell_type": "markdown",
   "metadata": {},
   "source": [
    "### visual inspection\n",
    "are there maybe any clusters of integration to random images, already revealing a integration structure in the network"
   ]
  },
  {
   "cell_type": "markdown",
   "metadata": {},
   "source": [
    "### get activation of actual image"
   ]
  },
  {
   "cell_type": "markdown",
   "metadata": {},
   "source": [
    "### test where there are significant clusters of integration"
   ]
  }
 ],
 "metadata": {
  "kernelspec": {
   "display_name": "PytorchEnv",
   "language": "python",
   "name": "python3"
  },
  "language_info": {
   "codemirror_mode": {
    "name": "ipython",
    "version": 3
   },
   "file_extension": ".py",
   "mimetype": "text/x-python",
   "name": "python",
   "nbconvert_exporter": "python",
   "pygments_lexer": "ipython3",
   "version": "3.8.19"
  }
 },
 "nbformat": 4,
 "nbformat_minor": 2
}
