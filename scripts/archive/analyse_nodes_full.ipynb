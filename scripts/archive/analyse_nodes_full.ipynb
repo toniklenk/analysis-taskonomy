{
 "cells": [
  {
   "cell_type": "markdown",
   "metadata": {},
   "source": [
    "# analysis script: analyse_nodes\n",
    "calculates correlation of integration and beauty for subsets of DNN nodes and maps this score back onto the nodes of these indivifidual subsets.\n",
    "\n",
    "do this for hundrets/thousands of subsets."
   ]
  },
  {
   "cell_type": "code",
   "execution_count": 1,
   "metadata": {},
   "outputs": [],
   "source": [
    "import os\n",
    "import numpy as np\n",
    "import pandas as pd\n",
    "import pickle\n",
    "\n",
    "from collections import OrderedDict\n",
    "\n",
    "import matplotlib.pyplot as plt\n",
    "import seaborn as sns\n",
    "\n",
    "# modified visualpriors library\n",
    "from transforms import VisualPriorRepresentation\n",
    "\n",
    "from classes_analyse_nodes import (\n",
    "    ImageDataset,\n",
    "    Pattern_Generator,\n",
    "    Activation_Pattern,\n",
    "    NetworkScorer,\n",
    "    calculate_integration_coeff,\n",
    "    taskonomy_activation_layer_shapes,\n",
    "    correlate_integration_beauty,\n",
    "    )\n",
    "\n",
    "import torch\n",
    "import torch.utils.model_zoo # required to load nets\n",
    "from torchvision.models.feature_extraction import get_graph_node_names, create_feature_extractor\n",
    "\n",
    "from scipy.stats import pearsonr, spearmanr"
   ]
  },
  {
   "cell_type": "code",
   "execution_count": 2,
   "metadata": {},
   "outputs": [],
   "source": [
    "DATASET_NAMES = ('places1', 'places2', 'oasis')\n",
    "SCALE_NAMES = ('scale2','scale4','scale8','scale16','scale32')"
   ]
  },
  {
   "cell_type": "code",
   "execution_count": 3,
   "metadata": {},
   "outputs": [],
   "source": [
    "DATA_PATH = './data_256x256'\n",
    "BEHAVIOR_PATH = './behavior'\n",
    "RESULTS_PATH = './results_taskonomy'"
   ]
  },
  {
   "cell_type": "code",
   "execution_count": 4,
   "metadata": {},
   "outputs": [],
   "source": [
    "#VisualPrior.viable_feature_tasks\n",
    "MODEL_NAMES = ('autoencoding','depth_euclidean','jigsaw','reshading',\n",
    "               'edge_occlusion','keypoints2d','room_layout', #'colorization' currently not working\n",
    "               'curvature','edge_texture','keypoints3d','segment_unsup2d',\n",
    "               'class_object','egomotion','nonfixated_pose','segment_unsup25d',\n",
    "               'class_scene','fixated_pose','normal','segment_semantic',\n",
    "               'denoising','inpainting','point_matching','vanishing_point')"
   ]
  },
  {
   "cell_type": "code",
   "execution_count": 5,
   "metadata": {},
   "outputs": [],
   "source": [
    "IMAGE_TRANSFORMS = ('untransformed')"
   ]
  },
  {
   "cell_type": "code",
   "execution_count": 6,
   "metadata": {},
   "outputs": [],
   "source": [
    "# storing a NetworkScorer object for saving backprojected scores\n",
    "# TODO needs to be adapted when analysing multiple nets\n",
    "BACKPROJECTED_SCORES_FOLDER = './backprojected_scores'"
   ]
  },
  {
   "cell_type": "code",
   "execution_count": 7,
   "metadata": {},
   "outputs": [],
   "source": [
    "# TODO\n",
    "# include back projection into analysis loop directly so individual subset calculations can be run independently\n",
    "# and i can just let more subset calculations run whenevery i have time."
   ]
  },
  {
   "cell_type": "code",
   "execution_count": 8,
   "metadata": {},
   "outputs": [],
   "source": [
    "# run analysis\n",
    "# map back score into network scorere\n",
    "# save network scorer every 10 subsets\n",
    "# save how many subset iterations were added in a seperate file\n",
    "# optional: write script that allows saving on a button press and then saves latest progress"
   ]
  },
  {
   "cell_type": "code",
   "execution_count": 9,
   "metadata": {},
   "outputs": [],
   "source": [
    "#setup net\n",
    "model_name = MODEL_NAMES[9] #segment semantic\n",
    "VisualPriorRepresentation._load_unloaded_nets([model_name])\n",
    "net = VisualPriorRepresentation.feature_task_to_net[model_name]"
   ]
  },
  {
   "cell_type": "code",
   "execution_count": 10,
   "metadata": {},
   "outputs": [],
   "source": [
    "#setup activation extractor\n",
    "_, eval_nodes = get_graph_node_names(net)\n",
    "return_nodes = { node:node for node in eval_nodes if \"conv\" in node or 'fc' in node}\n",
    "activation_extractor = create_feature_extractor(net, return_nodes=return_nodes)"
   ]
  },
  {
   "cell_type": "code",
   "execution_count": 11,
   "metadata": {},
   "outputs": [],
   "source": [
    "# get shape of activation\n",
    "#dummy image\n",
    "dataset = ImageDataset(os.path.join(DATA_PATH, DATASET_NAMES[0], SCALE_NAMES[0]))\n",
    "dummy_image = next(iter(dataset))\n",
    "net_activation = activation_extractor(dummy_image[0])\n",
    "net_activation = OrderedDict(net_activation)\n",
    "# get activation shape\n",
    "activation_shapes = taskonomy_activation_layer_shapes(net_activation)"
   ]
  },
  {
   "cell_type": "code",
   "execution_count": 12,
   "metadata": {},
   "outputs": [],
   "source": [
    "# load beauty ratings\n",
    "beauty_ratings = ImageDataset(\n",
    "    os.path.join(DATA_PATH, DATASET_NAMES[0], SCALE_NAMES[0]),\n",
    "    beauty_ratings_path='behavior/ratings_study1.csv').beauty_ratings"
   ]
  },
  {
   "cell_type": "code",
   "execution_count": 13,
   "metadata": {},
   "outputs": [],
   "source": [
    "num_layers = activation_shapes.__len__()\n",
    "num_images = dataset.img_count"
   ]
  },
  {
   "cell_type": "code",
   "execution_count": 14,
   "metadata": {},
   "outputs": [],
   "source": [
    "# when running for the first time (for this DNN)\n",
    "ns = NetworkScorer(activation_shapes)"
   ]
  },
  {
   "cell_type": "markdown",
   "metadata": {},
   "source": [
    "# integration-beauty"
   ]
  },
  {
   "cell_type": "code",
   "execution_count": null,
   "metadata": {},
   "outputs": [],
   "source": [
    "subset_batch_size = 100"
   ]
  },
  {
   "cell_type": "code",
   "execution_count": null,
   "metadata": {},
   "outputs": [],
   "source": [
    "# when running not for the first time (for this DNN)\n",
    "# load existing scores from previously executet iterations\n",
    "iterations = [int(filename[len(\"iteration_\"):])\n",
    "              for filename in os.listdir(BACKPROJECTED_SCORES_FOLDER)]\n",
    "\n",
    "highest_iteration = max(iterations)\n",
    "\n",
    "ns = NetworkScorer.load(os.path.join(BACKPROJECTED_SCORES_FOLDER, \"iteration_\" + str(highest_iteration)))"
   ]
  },
  {
   "cell_type": "code",
   "execution_count": null,
   "metadata": {},
   "outputs": [],
   "source": [
    "while True:\n",
    "    cnt = 0\n",
    "\n",
    "    # new random subsets every time\n",
    "    pat = Pattern_Generator(\n",
    "        subset_batch_size,  \n",
    "        activation_shapes,\n",
    "        frac=0.01\n",
    "        )\n",
    "\n",
    "    # layer x image x subset\n",
    "    integration = np.full([num_layers,num_images,subset_batch_size], np.nan)\n",
    "    integration.shape\n",
    "\n",
    "\n",
    "    # iterate image set\n",
    "    for img_id, (img_full, img_v1, img_v2) in enumerate(iter(dataset)):\n",
    "        if cnt % 100 == 0: print(cnt, end=' ')\n",
    "        cnt=cnt+1\n",
    "        \n",
    "        act_full = Activation_Pattern(activation_extractor(img_full))\n",
    "        act_v1   = Activation_Pattern(activation_extractor(img_v1))\n",
    "        act_v2   = Activation_Pattern(activation_extractor(img_v2))\n",
    "        act_avg  = Activation_Pattern.average(act_v1, act_v2)\n",
    "\n",
    "        # iterate node subsets\n",
    "        for subset_num in range(subset_batch_size):\n",
    "            subset_mask = pat.get_subset_pattern(subset_num)\n",
    "            \n",
    "            subset_act_full = act_full[subset_mask]\n",
    "            subset_act_avg  = act_avg[subset_mask]\n",
    "\n",
    "            # calculate integration and store it\n",
    "            subset_integration = calculate_integration_coeff(subset_act_full, subset_act_avg)\n",
    "            integration[:,img_id, subset_num] = subset_integration\n",
    "    \n",
    "  \n",
    "    # score (correlate) integration-beauty\n",
    "    correlations = correlate_integration_beauty(integration, beauty_ratings)\n",
    "    scores = np.abs(correlations)\n",
    "\n",
    "    # map back scores onto nodes from this iteration of the dataset\n",
    "    ns.map_back_scores(scores, pat)\n",
    "\n",
    "    # save progress to disc at every iteration\n",
    "    dir=os.path.join(BACKPROJECTED_SCORES_FOLDER, \"iteration_\" + str(ns.subset_iterations_count))\n",
    "    os.mkdir(dir)\n",
    "    # save\n",
    "    ns.save(dir)\n",
    "    print()"
   ]
  },
  {
   "cell_type": "markdown",
   "metadata": {},
   "source": [
    "# individual images visual integration"
   ]
  },
  {
   "cell_type": "code",
   "execution_count": 14,
   "metadata": {},
   "outputs": [
    {
     "data": {
      "text/plain": [
       "(49, 250, 1000)"
      ]
     },
     "execution_count": 14,
     "metadata": {},
     "output_type": "execute_result"
    }
   ],
   "source": [
    "subset_batch_size = 1000\n",
    "\n",
    "# new random subsets every time\n",
    "pat = Pattern_Generator(\n",
    "    subset_batch_size,  \n",
    "    activation_shapes,\n",
    "    frac=0.01\n",
    "    )\n",
    "\n",
    "# layer x image x subset\n",
    "integration = np.full([num_layers,num_images,subset_batch_size], np.nan)\n",
    "integration.shape"
   ]
  },
  {
   "cell_type": "code",
   "execution_count": 15,
   "metadata": {},
   "outputs": [],
   "source": [
    "# iterate image set\n",
    "for img_id, (img_full, img_v1, img_v2) in enumerate(iter(dataset)):    \n",
    "    act_full = Activation_Pattern(activation_extractor(img_full))\n",
    "    act_v1   = Activation_Pattern(activation_extractor(img_v1))\n",
    "    act_v2   = Activation_Pattern(activation_extractor(img_v2))\n",
    "    act_avg  = Activation_Pattern.average(act_v1, act_v2)\n",
    "\n",
    "    # iterate node subsets\n",
    "    for subset_num in range(subset_batch_size):\n",
    "        subset_mask = pat.get_subset_pattern(subset_num)\n",
    "        \n",
    "        subset_act_full = act_full[subset_mask]\n",
    "        subset_act_avg  = act_avg[subset_mask]\n",
    "\n",
    "        # calculate integration and store it\n",
    "        subset_integration = calculate_integration_coeff(subset_act_full, subset_act_avg)\n",
    "        integration[:,img_id, subset_num] = subset_integration"
   ]
  },
  {
   "cell_type": "code",
   "execution_count": 18,
   "metadata": {},
   "outputs": [],
   "source": [
    "with open('./individual_image_analysis/taskonomy9.npy', 'wb') as file:\n",
    "    np.save(file, integration)"
   ]
  },
  {
   "cell_type": "code",
   "execution_count": 19,
   "metadata": {},
   "outputs": [],
   "source": [
    "with open('./individual_image_analysis/taskonomy18.npy', 'rb') as file:\n",
    "    btegration = np.load(file)"
   ]
  },
  {
   "cell_type": "code",
   "execution_count": 36,
   "metadata": {},
   "outputs": [
    {
     "data": {
      "text/plain": [
       "12250000"
      ]
     },
     "execution_count": 36,
     "metadata": {},
     "output_type": "execute_result"
    }
   ],
   "source": [
    "np.array(btegration.shape).cumprod()[-1]"
   ]
  },
  {
   "cell_type": "code",
   "execution_count": 20,
   "metadata": {},
   "outputs": [
    {
     "data": {
      "text/plain": [
       "0"
      ]
     },
     "execution_count": 20,
     "metadata": {},
     "output_type": "execute_result"
    }
   ],
   "source": [
    "(btegration == integration).sum()"
   ]
  },
  {
   "cell_type": "code",
   "execution_count": 22,
   "metadata": {},
   "outputs": [
    {
     "data": {
      "text/plain": [
       "(49, 250, 1000)"
      ]
     },
     "execution_count": 22,
     "metadata": {},
     "output_type": "execute_result"
    }
   ],
   "source": [
    "btegration.shape"
   ]
  },
  {
   "cell_type": "code",
   "execution_count": 24,
   "metadata": {},
   "outputs": [
    {
     "data": {
      "text/plain": [
       "1000"
      ]
     },
     "execution_count": 24,
     "metadata": {},
     "output_type": "execute_result"
    }
   ],
   "source": [
    "pat.num_subsets"
   ]
  },
  {
   "cell_type": "code",
   "execution_count": 32,
   "metadata": {},
   "outputs": [],
   "source": [
    "# map back scores for one image\n",
    "img_idx = 0\n",
    "image_scores = btegration[:,img_idx, :]\n",
    "\n",
    "ns_img = NetworkScorer(activation_shapes)\n",
    "ns_img.map_back_scores(image_scores, pat)"
   ]
  },
  {
   "cell_type": "code",
   "execution_count": 56,
   "metadata": {},
   "outputs": [
    {
     "data": {
      "text/plain": [
       "tensor([ -7.2637,  -6.5449,  -2.1384,  ...,  -9.4562, -10.1258,  -9.4717])"
      ]
     },
     "execution_count": 56,
     "metadata": {},
     "output_type": "execute_result"
    }
   ],
   "source": [
    "layernames = list(ns_img.scores.keys())\n",
    "ns_img.scores[layernames[35]].flatten()"
   ]
  },
  {
   "cell_type": "code",
   "execution_count": 55,
   "metadata": {},
   "outputs": [
    {
     "data": {
      "image/png": "[encoded data removed]",
      "text/plain": [
       "<Figure size 432x288 with 1 Axes>"
      ]
     },
     "metadata": {
      "needs_background": "light"
     },
     "output_type": "display_data"
    }
   ],
   "source": [
    "for i in [10, 20, 30, 40]:\n",
    "    plt.hist(ns_img.scores[list(ns_img.scores.keys())[i]].flatten(), bins=25, alpha = .25)"
   ]
  }
 ],
 "metadata": {
  "kernelspec": {
   "display_name": "PytorchEnv",
   "language": "python",
   "name": "python3"
  },
  "language_info": {
   "codemirror_mode": {
    "name": "ipython",
    "version": 3
   },
   "file_extension": ".py",
   "mimetype": "text/x-python",
   "name": "python",
   "nbconvert_exporter": "python",
   "pygments_lexer": "ipython3",
   "version": "3.8.19"
  }
 },
 "nbformat": 4,
 "nbformat_minor": 2
}
