{
 "cells": [
  {
   "cell_type": "markdown",
   "metadata": {},
   "source": [
    "# analyse back projected scores"
   ]
  },
  {
   "cell_type": "code",
   "execution_count": 1,
   "metadata": {},
   "outputs": [],
   "source": [
    "import os\n",
    "import numpy as np\n",
    "import pandas as pd\n",
    "import pickle\n",
    "\n",
    "from collections import OrderedDict\n",
    "\n",
    "import matplotlib.pyplot as plt\n",
    "import seaborn as sns\n",
    "\n",
    "# modified visualpriors library\n",
    "from transforms import VisualPriorRepresentation\n",
    "\n",
    "from classes_analyse_nodes import (\n",
    "    ImageDataset,\n",
    "    Pattern_Generator,\n",
    "    Activation_Pattern,\n",
    "    NetworkScorer,\n",
    "    calculate_integration_coeff,\n",
    "    taskonomy_activation_layer_shapes,\n",
    "    correlate_integration_beauty,\n",
    "    )\n",
    "\n",
    "import torch\n",
    "import torch.utils.model_zoo # required to load nets\n",
    "from torchvision.models.feature_extraction import get_graph_node_names, create_feature_extractor\n",
    "\n",
    "from scipy.stats import pearsonr, spearmanr"
   ]
  },
  {
   "cell_type": "markdown",
   "metadata": {},
   "source": [
    "# import scores"
   ]
  },
  {
   "cell_type": "code",
   "execution_count": 2,
   "metadata": {},
   "outputs": [],
   "source": [
    "BACKPROJECTED_SCORES_FOLDER = './backprojected_scores_frac33'"
   ]
  },
  {
   "cell_type": "code",
   "execution_count": 3,
   "metadata": {},
   "outputs": [],
   "source": [
    "# when running not for the first time (for this DNN)\n",
    "# load existing scores from previously executet iterations\n",
    "iterations = [int(filename[len(\"iteration_\"):])\n",
    "              for filename in os.listdir(BACKPROJECTED_SCORES_FOLDER)]\n",
    "\n",
    "highest_iteration = max(iterations)\n",
    "\n",
    "highest_iteration = 1600\n",
    "\n",
    "ns = NetworkScorer.load(os.path.join(BACKPROJECTED_SCORES_FOLDER, \"iteration_\" + str(highest_iteration)))"
   ]
  },
  {
   "cell_type": "code",
   "execution_count": 4,
   "metadata": {},
   "outputs": [
    {
     "data": {
      "text/plain": [
       "1600"
      ]
     },
     "execution_count": 4,
     "metadata": {},
     "output_type": "execute_result"
    }
   ],
   "source": [
    "ns.subset_iterations_count"
   ]
  },
  {
   "cell_type": "markdown",
   "metadata": {},
   "source": [
    "## look at score distributions"
   ]
  },
  {
   "cell_type": "code",
   "execution_count": 5,
   "metadata": {},
   "outputs": [
    {
     "data": {
      "text/plain": [
       "tensor(1.)"
      ]
     },
     "execution_count": 5,
     "metadata": {},
     "output_type": "execute_result"
    }
   ],
   "source": [
    "mask = ns.scores['conv1'].flatten() != 0\n",
    "mask.sum() /  mask.shape[0]"
   ]
  },
  {
   "cell_type": "code",
   "execution_count": 6,
   "metadata": {},
   "outputs": [
    {
     "data": {
      "text/plain": [
       "'layer3.4.conv2'"
      ]
     },
     "execution_count": 6,
     "metadata": {},
     "output_type": "execute_result"
    }
   ],
   "source": [
    "list(ns.scores.keys())[35]"
   ]
  },
  {
   "cell_type": "code",
   "execution_count": 70,
   "metadata": {},
   "outputs": [
    {
     "data": {
      "image/png": "[encoded data removed]",
      "text/plain": [
       "<Figure size 432x288 with 1 Axes>"
      ]
     },
     "metadata": {
      "needs_background": "light"
     },
     "output_type": "display_data"
    }
   ],
   "source": [
    "for i in [10, 20, 30, 40]:\n",
    "    plt.hist(ns.scores[list(ns.scores.keys())[i]].flatten(), bins=40, alpha = .25)"
   ]
  },
  {
   "cell_type": "code",
   "execution_count": null,
   "metadata": {},
   "outputs": [],
   "source": [
    "scs = ns.scores['conv1'].flatten()[mask]"
   ]
  },
  {
   "cell_type": "code",
   "execution_count": null,
   "metadata": {},
   "outputs": [],
   "source": [
    "scs = scs[:,np.newaxis]"
   ]
  },
  {
   "cell_type": "code",
   "execution_count": null,
   "metadata": {},
   "outputs": [],
   "source": [
    "scs.max()"
   ]
  },
  {
   "cell_type": "code",
   "execution_count": null,
   "metadata": {},
   "outputs": [],
   "source": [
    "SCORE_HIST_PLOT_FOLDER = './score_hists'"
   ]
  },
  {
   "cell_type": "code",
   "execution_count": null,
   "metadata": {},
   "outputs": [],
   "source": [
    "for layer_name, layer_scores in ns.scores.items():\n",
    "    mask = layer_scores.flatten() != 0\n",
    "    plt.hist(layer_scores.flatten()[mask], bins=35)\n",
    "    plt.savefig(os.path.join(SCORE_HIST_PLOT_FOLDER, layer_name + '.png'))\n",
    "    plt.close()"
   ]
  },
  {
   "cell_type": "code",
   "execution_count": null,
   "metadata": {},
   "outputs": [],
   "source": [
    "len(list(ns.scores.keys()))"
   ]
  },
  {
   "cell_type": "markdown",
   "metadata": {},
   "source": [
    "## are there the same nodes across datasets relevant ?\n",
    "this would mean that specific areas in the network are more relevant for integration than others ?\n",
    "\n",
    "the correlation between the layer activations in itself varies quite little (add plots to prove this). meaning that holistic processing has specific or nuanced effects. \n",
    "\n",
    "That little variation in the correlation between full and mean activation correlates well with beauty."
   ]
  },
  {
   "cell_type": "markdown",
   "metadata": {},
   "source": [
    "## Daniels idea: Wäre es eine Alternative, erstmal die Integration Values über die Layers in einem Netzwerk miteinander zu korrelieren? \n",
    "#rest der idee in der Mail"
   ]
  },
  {
   "cell_type": "markdown",
   "metadata": {},
   "source": [
    "## use most important nodes to sort images\n",
    "perform PCA of images in activation space of most important nodes"
   ]
  },
  {
   "cell_type": "markdown",
   "metadata": {},
   "source": [
    "## compare between networks\n",
    "distribution of scores between layers\n",
    "\n",
    "most important nodes\n",
    "\n"
   ]
  },
  {
   "cell_type": "markdown",
   "metadata": {},
   "source": [
    "## \"behavioural\" relevance of network nodes\n",
    "replace weights of most important nodes with random weights and look at performance of network in:\n",
    "- predicting beauty\n",
    "- performing their respective task"
   ]
  },
  {
   "cell_type": "markdown",
   "metadata": {},
   "source": [
    "## image features relevant to nodes\n",
    "which features of the image do importand nodes look at, idea: jumple images and look at how response of important nodes changes in comparison to average change in node acivation in network"
   ]
  },
  {
   "cell_type": "markdown",
   "metadata": {},
   "source": [
    "## compare results to results of random scores backprojected onto nodes\n",
    "or some other random baseline"
   ]
  }
 ],
 "metadata": {
  "kernelspec": {
   "display_name": "PytorchEnv",
   "language": "python",
   "name": "python3"
  },
  "language_info": {
   "codemirror_mode": {
    "name": "ipython",
    "version": 3
   },
   "file_extension": ".py",
   "mimetype": "text/x-python",
   "name": "python",
   "nbconvert_exporter": "python",
   "pygments_lexer": "ipython3",
   "version": "3.8.19"
  }
 },
 "nbformat": 4,
 "nbformat_minor": 2
}
